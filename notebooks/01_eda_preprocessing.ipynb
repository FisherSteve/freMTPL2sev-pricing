{
 "cells": [
  {
   "cell_type": "code",
   "execution_count": 16,
   "id": "fa0464ef-8e98-4327-bd42-3457d56acab5",
   "metadata": {},
   "outputs": [
    {
     "name": "stdout",
     "output_type": "stream",
     "text": [
      "policy shape: (678013, 12) \n",
      "\n",
      "claims shape: (26639, 2) \n",
      "\n",
      "policy cols: ['IDpol', 'ClaimNb', 'Exposure', 'VehPower', 'VehAge', 'DrivAge', 'BonusMalus', 'VehBrand', 'VehGas', 'Area', 'Density', 'Region'] \n",
      "\n",
      "claims cols: ['IDpol', 'ClaimAmount'] \n",
      "\n",
      "   IDpol  ClaimNb  Exposure  VehPower  VehAge  DrivAge  BonusMalus VehBrand  \\\n",
      "0    1.0        1      0.10         5       0       55          50      B12   \n",
      "1    3.0        1      0.77         5       0       55          50      B12   \n",
      "2    5.0        1      0.75         6       2       52          50      B12   \n",
      "\n",
      "    VehGas Area  Density       Region  \n",
      "0  Regular    D     1217  Rhone-Alpes  \n",
      "1  Regular    D     1217  Rhone-Alpes  \n",
      "2   Diesel    B       54     Picardie        IDpol  ClaimAmount\n",
      "0     1552       995.20\n",
      "1  1010996      1128.12\n",
      "2  4024277      1851.11\n"
     ]
    }
   ],
   "source": [
    "import pandas as pd\n",
    "import numpy as np\n",
    "\n",
    "POLICY_CSV = \"../data/raw/freMTPL2freq.csv\"  # IDpol, ClaimNb, Exposure, VehPower, VehAge, DrivAge, BonusMalus, VehBrand, VehGas, Area, Density, Region\n",
    "\n",
    "CLAIMS_CSV = \"../data/raw/freMTPL2sev.csv\"   # IDpol, ClaimAmount\n",
    "\n",
    "def read_any_csv(path):\n",
    "    \n",
    "    return pd.read_csv(path, sep=None, engine=\"python\")\n",
    "\n",
    "pol = read_any_csv(POLICY_CSV)\n",
    "clm = read_any_csv(CLAIMS_CSV)\n",
    "\n",
    "print(\"policy shape:\", pol.shape, '\\n')\n",
    "print(\"claims shape:\", clm.shape, '\\n')\n",
    "print(\"policy cols:\", list(pol.columns), '\\n')\n",
    "print(\"claims cols:\", list(clm.columns), '\\n')\n",
    "\n",
    "print(pol.head(3), \n",
    "      clm.head(3))\n",
    "\n"
   ]
  },
  {
   "cell_type": "code",
   "execution_count": 14,
   "id": "683bd4f4-ebf7-4295-b941-04eb8c86e855",
   "metadata": {},
   "outputs": [
    {
     "name": "stdout",
     "output_type": "stream",
     "text": [
      "<class 'pandas.core.frame.DataFrame'>\n",
      "RangeIndex: 678013 entries, 0 to 678012\n",
      "Data columns (total 12 columns):\n",
      " #   Column      Non-Null Count   Dtype  \n",
      "---  ------      --------------   -----  \n",
      " 0   IDpol       678013 non-null  float64\n",
      " 1   ClaimNb     678013 non-null  int64  \n",
      " 2   Exposure    678013 non-null  float64\n",
      " 3   VehPower    678013 non-null  int64  \n",
      " 4   VehAge      678013 non-null  int64  \n",
      " 5   DrivAge     678013 non-null  int64  \n",
      " 6   BonusMalus  678013 non-null  int64  \n",
      " 7   VehBrand    678013 non-null  object \n",
      " 8   VehGas      678013 non-null  object \n",
      " 9   Area        678013 non-null  object \n",
      " 10  Density     678013 non-null  int64  \n",
      " 11  Region      678013 non-null  object \n",
      "dtypes: float64(2), int64(6), object(4)\n",
      "memory usage: 62.1+ MB\n"
     ]
    }
   ],
   "source": [
    "pol.info()"
   ]
  },
  {
   "cell_type": "code",
   "execution_count": 17,
   "id": "488ff876-410f-4220-9fd0-ed0877dd048a",
   "metadata": {},
   "outputs": [
    {
     "name": "stdout",
     "output_type": "stream",
     "text": [
      "größte Abweichung von einer ganzen Zahl: 0.0\n",
      "IDpol           Int64\n",
      "ClaimNb         Int64\n",
      "Exposure      float64\n",
      "VehPower        int64\n",
      "VehAge          int64\n",
      "DrivAge         int64\n",
      "BonusMalus      int64\n",
      "VehBrand       object\n",
      "VehGas         object\n",
      "Area           object\n",
      "Density         int64\n",
      "Region         object\n",
      "dtype: object\n"
     ]
    },
    {
     "data": {
      "text/html": [
       "<div>\n",
       "<style scoped>\n",
       "    .dataframe tbody tr th:only-of-type {\n",
       "        vertical-align: middle;\n",
       "    }\n",
       "\n",
       "    .dataframe tbody tr th {\n",
       "        vertical-align: top;\n",
       "    }\n",
       "\n",
       "    .dataframe thead th {\n",
       "        text-align: right;\n",
       "    }\n",
       "</style>\n",
       "<table border=\"1\" class=\"dataframe\">\n",
       "  <thead>\n",
       "    <tr style=\"text-align: right;\">\n",
       "      <th></th>\n",
       "      <th>IDpol</th>\n",
       "      <th>ClaimNb</th>\n",
       "      <th>Exposure</th>\n",
       "      <th>VehPower</th>\n",
       "      <th>VehAge</th>\n",
       "      <th>DrivAge</th>\n",
       "      <th>BonusMalus</th>\n",
       "      <th>VehBrand</th>\n",
       "      <th>VehGas</th>\n",
       "      <th>Area</th>\n",
       "      <th>Density</th>\n",
       "      <th>Region</th>\n",
       "    </tr>\n",
       "  </thead>\n",
       "  <tbody>\n",
       "    <tr>\n",
       "      <th>0</th>\n",
       "      <td>1</td>\n",
       "      <td>1</td>\n",
       "      <td>0.10</td>\n",
       "      <td>5</td>\n",
       "      <td>0</td>\n",
       "      <td>55</td>\n",
       "      <td>50</td>\n",
       "      <td>B12</td>\n",
       "      <td>Regular</td>\n",
       "      <td>D</td>\n",
       "      <td>1217</td>\n",
       "      <td>Rhone-Alpes</td>\n",
       "    </tr>\n",
       "    <tr>\n",
       "      <th>1</th>\n",
       "      <td>3</td>\n",
       "      <td>1</td>\n",
       "      <td>0.77</td>\n",
       "      <td>5</td>\n",
       "      <td>0</td>\n",
       "      <td>55</td>\n",
       "      <td>50</td>\n",
       "      <td>B12</td>\n",
       "      <td>Regular</td>\n",
       "      <td>D</td>\n",
       "      <td>1217</td>\n",
       "      <td>Rhone-Alpes</td>\n",
       "    </tr>\n",
       "    <tr>\n",
       "      <th>2</th>\n",
       "      <td>5</td>\n",
       "      <td>1</td>\n",
       "      <td>0.75</td>\n",
       "      <td>6</td>\n",
       "      <td>2</td>\n",
       "      <td>52</td>\n",
       "      <td>50</td>\n",
       "      <td>B12</td>\n",
       "      <td>Diesel</td>\n",
       "      <td>B</td>\n",
       "      <td>54</td>\n",
       "      <td>Picardie</td>\n",
       "    </tr>\n",
       "  </tbody>\n",
       "</table>\n",
       "</div>"
      ],
      "text/plain": [
       "   IDpol  ClaimNb  Exposure  VehPower  VehAge  DrivAge  BonusMalus VehBrand  \\\n",
       "0      1        1      0.10         5       0       55          50      B12   \n",
       "1      3        1      0.77         5       0       55          50      B12   \n",
       "2      5        1      0.75         6       2       52          50      B12   \n",
       "\n",
       "    VehGas Area  Density       Region  \n",
       "0  Regular    D     1217  Rhone-Alpes  \n",
       "1  Regular    D     1217  Rhone-Alpes  \n",
       "2   Diesel    B       54     Picardie  "
      ]
     },
     "execution_count": 17,
     "metadata": {},
     "output_type": "execute_result"
    }
   ],
   "source": [
    "# 1) Prüfen, ob die float-IDs wirklich \"ganzzahlig\" \n",
    "diff = np.abs(pol[\"IDpol\"] - np.round(pol[\"IDpol\"]))\n",
    "max_diff = diff.max()\n",
    "print(\"größte Abweichung von einer ganzen Zahl:\", max_diff)\n",
    "\n",
    "if max_diff > 0:\n",
    "    # Zeig ein paar problematische IDs\n",
    "    offenders = pol.loc[diff > 0, \"IDpol\"].head(10).tolist()\n",
    "    raise ValueError(f\"IDpol enthält Nicht-Integer-Werte, Beispiele: {offenders}\")\n",
    "\n",
    "# 2) Wenn integer-tauglich: sauber nach 'Int64' (nullable Integer) casten\n",
    "pol[\"IDpol\"] = np.round(pol[\"IDpol\"]).astype(\"Int64\")\n",
    "pol[\"ClaimNb\"] = pd.to_numeric(pol[\"ClaimNb\"], errors=\"raise\").astype(\"Int64\")\n",
    "pol[\"Exposure\"] = pd.to_numeric(pol[\"Exposure\"], errors=\"raise\").astype(\"float\")\n",
    "\n",
    "print(pol.dtypes)\n",
    "pol.head(3)"
   ]
  },
  {
   "cell_type": "code",
   "execution_count": 18,
   "id": "5773dcb8-cb60-452d-b7cb-bcdc3680dba0",
   "metadata": {},
   "outputs": [
    {
     "data": {
      "text/plain": [
       "{'Exposure<0': 0, 'ClaimNb<0': 0, 'ClaimNb_not_integer': 0}"
      ]
     },
     "execution_count": 18,
     "metadata": {},
     "output_type": "execute_result"
    }
   ],
   "source": [
    "# 1) Objektspalten zu Kategorien (RAM sparen, schnellere .groupby/.merge)\n",
    "for c in [\"VehBrand\", \"VehGas\", \"Area\", \"Region\"]:\n",
    "    if c in pol.columns:\n",
    "        pol[c] = pol[c].astype(\"category\")\n",
    "\n",
    "# 2) Weitere numerische Spalten sauber typisieren (lassen wir bewusst als signed ints/floats)\n",
    "for c in [\"VehPower\", \"VehAge\", \"DrivAge\", \"BonusMalus\", \"Density\"]:\n",
    "    if c in pol.columns:\n",
    "        pol[c] = pd.to_numeric(pol[c], errors=\"raise\")\n",
    "\n",
    "# 3) Harte Plausibilitäten (nur zählen, nicht crashen)\n",
    "issues = {\n",
    "    \"Exposure<0\": int((pol[\"Exposure\"] < 0).sum()),\n",
    "    \"ClaimNb<0\": int((pol[\"ClaimNb\"] < 0).sum()),\n",
    "    \"ClaimNb_not_integer\": int(((pol[\"ClaimNb\"].astype(\"float\") % 1) != 0).sum()),\n",
    "}\n",
    "issues\n"
   ]
  },
  {
   "cell_type": "code",
   "execution_count": 19,
   "id": "d0527d96-af0c-46ae-b184-f481c9cf4729",
   "metadata": {},
   "outputs": [
    {
     "name": "stdout",
     "output_type": "stream",
     "text": [
      "<class 'pandas.core.frame.DataFrame'>\n",
      "RangeIndex: 678013 entries, 0 to 678012\n",
      "Data columns (total 12 columns):\n",
      " #   Column      Non-Null Count   Dtype   \n",
      "---  ------      --------------   -----   \n",
      " 0   IDpol       678013 non-null  Int64   \n",
      " 1   ClaimNb     678013 non-null  Int64   \n",
      " 2   Exposure    678013 non-null  float64 \n",
      " 3   VehPower    678013 non-null  int64   \n",
      " 4   VehAge      678013 non-null  int64   \n",
      " 5   DrivAge     678013 non-null  int64   \n",
      " 6   BonusMalus  678013 non-null  int64   \n",
      " 7   VehBrand    678013 non-null  category\n",
      " 8   VehGas      678013 non-null  category\n",
      " 9   Area        678013 non-null  category\n",
      " 10  Density     678013 non-null  int64   \n",
      " 11  Region      678013 non-null  category\n",
      "dtypes: Int64(2), category(4), float64(1), int64(5)\n",
      "memory usage: 45.3 MB\n",
      "gespeichert: data/work/freMTPL2freq_clean.parquet\n"
     ]
    }
   ],
   "source": [
    "pol.info(memory_usage=\"deep\")\n",
    "\n",
    "import os\n",
    "os.makedirs(\"data/work\", exist_ok=True)\n",
    "pol.to_parquet(\"data/work/freMTPL2freq_clean.parquet\", index=False)\n",
    "print(\"gespeichert: data/work/freMTPL2freq_clean.parquet\")\n"
   ]
  },
  {
   "cell_type": "code",
   "execution_count": 25,
   "id": "2c6eea21-8546-48c8-a6cd-9463c5a6c3e6",
   "metadata": {},
   "outputs": [
    {
     "name": "stdout",
     "output_type": "stream",
     "text": [
      "sev: größte Abweichung von einer ganzen Zahl: 0\n"
     ]
    },
    {
     "data": {
      "text/plain": [
       "{'ClaimAmount<0': 0, 'IDpol_NA': 0, 'ClaimAmount_NA': 0}"
      ]
     },
     "execution_count": 25,
     "metadata": {},
     "output_type": "execute_result"
    }
   ],
   "source": [
    "# 1) IDpol integer-tauglich?\n",
    "diff = np.abs(clm[\"IDpol\"] - np.round(clm[\"IDpol\"]))\n",
    "max_diff = diff.max()\n",
    "print(\"clm: größte Abweichung von einer ganzen Zahl:\", max_diff)\n",
    "if max_diff > 0:\n",
    "    offenders = clm.loc[diff > 0, \"IDpol\"].head(10).tolist()\n",
    "    raise ValueError(f\"sev.IDpol enthält Nicht-Integer-Werte, Beispiele: {offenders}\")\n",
    "\n",
    "clm[\"IDpol\"] = np.round(clm[\"IDpol\"]).astype(\"Int64\")\n",
    "\n",
    "# 2) ClaimAmount robust numerisch (NA erlaubt)\n",
    "clm[\"ClaimAmount\"] = pd.to_numeric(clm[\"ClaimAmount\"], errors=\"coerce\").astype(\"float\")\n",
    "\n",
    "# 3) Basiskontrollen\n",
    "issues_clm = {\n",
    "    \"ClaimAmount<0\": int((clm[\"ClaimAmount\"] < 0).sum()),\n",
    "    \"IDpol_NA\": int(clm[\"IDpol\"].isna().sum()),\n",
    "    \"ClaimAmount_NA\": int(clm[\"ClaimAmount\"].isna().sum()),\n",
    "}\n",
    "issues_clm\n"
   ]
  },
  {
   "cell_type": "code",
   "execution_count": 27,
   "id": "252d0214-dd81-4bcd-9000-76365efbe1eb",
   "metadata": {},
   "outputs": [
    {
     "name": "stdout",
     "output_type": "stream",
     "text": [
      "gespeichert: data/work/freMTPL2sev_clean.parquet\n"
     ]
    }
   ],
   "source": [
    "clm.to_parquet(\"data/work/freMTPL2sev_clean.parquet\", index=False)\n",
    "print(\"gespeichert: data/work/freMTPL2sev_clean.parquet\")"
   ]
  },
  {
   "cell_type": "code",
   "execution_count": 37,
   "id": "ec1146bc-3061-4901-8171-522728c0b75c",
   "metadata": {},
   "outputs": [
    {
     "data": {
      "text/plain": [
       "((678013, 12),\n",
       " (26639, 2),\n",
       " ['IDpol',\n",
       "  'ClaimNb',\n",
       "  'Exposure',\n",
       "  'VehPower',\n",
       "  'VehAge',\n",
       "  'DrivAge',\n",
       "  'BonusMalus',\n",
       "  'VehBrand',\n",
       "  'VehGas',\n",
       "  'Area',\n",
       "  'Density',\n",
       "  'Region'],\n",
       " ['IDpol', 'ClaimAmount'])"
      ]
     },
     "execution_count": 37,
     "metadata": {},
     "output_type": "execute_result"
    }
   ],
   "source": [
    "FREQ_PARQ = \"../data/work/freMTPL2freq_clean.parquet\"\n",
    "CLAIM_PARQ = \"../data/work/freMTPL2sev_clean.parquet\"\n",
    "\n",
    "freq = pd.read_parquet(FREQ_PARQ)\n",
    "clm = pd.read_parquet(CLAIM_PARQ)\n",
    "\n",
    "freq.shape, clm.shape, list(freq.columns), list(clm.columns)"
   ]
  },
  {
   "cell_type": "code",
   "execution_count": 40,
   "id": "b869d00c-744c-4f9d-ace8-c8cd91beab63",
   "metadata": {},
   "outputs": [
    {
     "data": {
      "text/plain": [
       "np.int64(3068)"
      ]
     },
     "execution_count": 40,
     "metadata": {},
     "output_type": "execute_result"
    }
   ],
   "source": [
    "dup_clm = clm[\"IDpol\"].duplicated(keep=False).sum()\n",
    "dup_clm #3068 doppelte IDpol bei claims > aggregieren\n"
   ]
  },
  {
   "cell_type": "code",
   "execution_count": 42,
   "id": "1d5fb631-5484-4352-8f4e-331455fb0754",
   "metadata": {},
   "outputs": [
    {
     "data": {
      "text/plain": [
       "(24950, 2)"
      ]
     },
     "execution_count": 42,
     "metadata": {},
     "output_type": "execute_result"
    }
   ],
   "source": [
    "clm_agg = clm.groupby(\"IDpol\", as_index=False)[\"ClaimAmount\"].sum()\n",
    "clm_agg.shape\n"
   ]
  },
  {
   "cell_type": "code",
   "execution_count": 51,
   "id": "8300a94f-41e4-496a-a26b-206700e4cf55",
   "metadata": {},
   "outputs": [
    {
     "data": {
      "text/plain": [
       "((678013, 13),\n",
       " IDpol          0\n",
       " ClaimNb        0\n",
       " Exposure       0\n",
       " VehPower       0\n",
       " VehAge         0\n",
       " DrivAge        0\n",
       " BonusMalus     0\n",
       " VehBrand       0\n",
       " VehGas         0\n",
       " Area           0\n",
       " Density        0\n",
       " Region         0\n",
       " ClaimAmount    0\n",
       " dtype: int64)"
      ]
     },
     "execution_count": 51,
     "metadata": {},
     "output_type": "execute_result"
    }
   ],
   "source": [
    "#left join \n",
    "\n",
    "df = freq.merge(clm_agg, on=\"IDpol\", how=\"left\", validate=\"one_to_one\")\n",
    "\n",
    "if \"ClaimAmount\" in df:\n",
    "    df[\"ClaimAmount\"] = df[\"ClaimAmount\"].fillna(0.0)\n",
    "\n",
    "\n",
    "df.shape, df.isna().sum().sort_values(ascending=False)"
   ]
  },
  {
   "cell_type": "code",
   "execution_count": 52,
   "id": "2daf3907-06ac-4128-830d-84fda50235e9",
   "metadata": {},
   "outputs": [
    {
     "data": {
      "text/plain": [
       "{'N': 678013,\n",
       " 'ClaimNb>4_count': 9,\n",
       " 'ClaimNb>4_pct': 1.3274081765393879e-05,\n",
       " 'Exposure>1_count': 1224,\n",
       " 'Exposure>1_pct': 0.0018052751200935675,\n",
       " 'DrivAge>90_count': 401,\n",
       " 'DrivAge>90_pct': 0.0005914340875469939,\n",
       " 'VehAge>40_count': 230,\n",
       " 'VehAge>40_pct': 0.00033922653400451024}"
      ]
     },
     "execution_count": 52,
     "metadata": {},
     "output_type": "execute_result"
    }
   ],
   "source": [
    "N = len(df)\n",
    "\n",
    "tail = {\n",
    "    \"N\": N,\n",
    "    \"ClaimNb>4_count\": int((df[\"ClaimNb\"] > 4).sum()),\n",
    "    \"ClaimNb>4_pct\": float((df[\"ClaimNb\"] > 4).mean()),\n",
    "    \"Exposure>1_count\": int((df[\"Exposure\"] > 1).sum()),\n",
    "    \"Exposure>1_pct\": float((df[\"Exposure\"] > 1).mean()),\n",
    "    \"DrivAge>90_count\": int((df[\"DrivAge\"] > 90).sum()),\n",
    "    \"DrivAge>90_pct\": float((df[\"DrivAge\"] > 90).mean()),\n",
    "    \"VehAge>40_count\": int((df[\"VehAge\"] > 40).sum()),\n",
    "    \"VehAge>40_pct\": float((df[\"VehAge\"] > 40).mean()),\n",
    "}\n",
    "tail"
   ]
  },
  {
   "cell_type": "code",
   "execution_count": 53,
   "id": "305636d6-66f5-4dbe-af70-20fda46c6d10",
   "metadata": {},
   "outputs": [
    {
     "name": "stdout",
     "output_type": "stream",
     "text": [
      "ClaimNb (Top Werte):\n",
      " ClaimNb\n",
      "16        1\n",
      "11        3\n",
      "9         1\n",
      "8         1\n",
      "6         1\n",
      "5         2\n",
      "4         7\n",
      "3        82\n",
      "2      1784\n",
      "1     32178\n",
      "Name: count, dtype: Int64 \n",
      "\n",
      "Exposure-Stats:\n",
      " count    678013.000000\n",
      "mean          0.528750\n",
      "std           0.364442\n",
      "min           0.002732\n",
      "50%           0.490000\n",
      "75%           0.990000\n",
      "90%           1.000000\n",
      "95%           1.000000\n",
      "99%           1.000000\n",
      "max           2.010000\n",
      "Name: Exposure, dtype: float64 \n",
      "\n",
      "DrivAge-Stats:\n",
      " count    678013.000000\n",
      "mean         45.499122\n",
      "std          14.137444\n",
      "min          18.000000\n",
      "50%          44.000000\n",
      "75%          55.000000\n",
      "90%          65.000000\n",
      "95%          72.000000\n",
      "99%          80.000000\n",
      "max         100.000000\n",
      "Name: DrivAge, dtype: float64 \n",
      "\n",
      "VehAge-Stats:\n",
      " count    678013.000000\n",
      "mean          7.044265\n",
      "std           5.666232\n",
      "min           0.000000\n",
      "50%           6.000000\n",
      "75%          11.000000\n",
      "90%          15.000000\n",
      "95%          17.000000\n",
      "99%          21.000000\n",
      "max         100.000000\n",
      "Name: VehAge, dtype: float64 \n",
      "\n"
     ]
    }
   ],
   "source": [
    "# ClaimNb: oberes Ende der Skala\n",
    "claimnb_top = df[\"ClaimNb\"].value_counts().sort_index(ascending=False).head(10)\n",
    "print(\"ClaimNb (Top Werte):\\n\", claimnb_top, \"\\n\")\n",
    "\n",
    "# Exposure: Quantile + Max\n",
    "exp_stats = df[\"Exposure\"].describe(percentiles=[0.5, 0.75, 0.9, 0.95, 0.99])\n",
    "print(\"Exposure-Stats:\\n\", exp_stats, \"\\n\")\n",
    "\n",
    "# DrivAge/VehAge: Quantile + Max\n",
    "driv_stats = df[\"DrivAge\"].describe(percentiles=[0.5, 0.75, 0.9, 0.95, 0.99])\n",
    "veh_stats  = df[\"VehAge\"].describe(percentiles=[0.5, 0.75, 0.9, 0.95, 0.99])\n",
    "print(\"DrivAge-Stats:\\n\", driv_stats, \"\\n\")\n",
    "print(\"VehAge-Stats:\\n\",  veh_stats,  \"\\n\")\n"
   ]
  },
  {
   "cell_type": "code",
   "execution_count": 54,
   "id": "02b18b7d-bfb8-4725-b111-8fbf333a9db9",
   "metadata": {},
   "outputs": [
    {
     "name": "stdout",
     "output_type": "stream",
     "text": [
      "Exposure > 1 – Details:\n",
      " count    1224.000000\n",
      "mean        1.113840\n",
      "std         0.159296\n",
      "min         1.010000\n",
      "50%         1.040000\n",
      "95%         1.460000\n",
      "99%         1.803900\n",
      "max         2.010000\n",
      "Name: Exposure, dtype: float64\n"
     ]
    }
   ],
   "source": [
    "if (df[\"Exposure\"] > 1).any():\n",
    "    over1 = df.loc[df[\"Exposure\"] > 1, \"Exposure\"].describe(percentiles=[0.95, 0.99])\n",
    "    print(\"Exposure > 1 – Details:\\n\", over1)\n",
    "else:\n",
    "    print(\"Keine Exposure-Werte > 1 gefunden.\")\n"
   ]
  },
  {
   "cell_type": "code",
   "execution_count": 64,
   "id": "352e5601-5dc0-4713-afb7-512c21d7c5e6",
   "metadata": {},
   "outputs": [],
   "source": [
    "#kappung wie in Schelldorfer & Wüthrich (2019)\n",
    "\n",
    "\n",
    "df_cap = df.copy()\n",
    "\n",
    "# ClaimNb <= 4\n",
    "if \"ClaimNb\" in df_cap:\n",
    "    df_cap[\"ClaimNb\"] = np.minimum(df_cap[\"ClaimNb\"], 4)\n",
    "\n",
    "# Exposure <= 1\n",
    "if \"Exposure\" in df_cap:\n",
    "    df_cap[\"Exposure\"] = np.minimum(df_cap[\"Exposure\"], 1.0)\n",
    "\n",
    "# DrivAge <= 90, VehAge <= 40\n",
    "if \"DrivAge\" in df_cap:\n",
    "    df_cap[\"DrivAge\"] = np.minimum(df_cap[\"DrivAge\"], 90)\n",
    "if \"VehAge\" in df_cap:\n",
    "    df_cap[\"VehAge\"] = np.minimum(df_cap[\"VehAge\"], 40)\n"
   ]
  },
  {
   "cell_type": "code",
   "execution_count": 57,
   "id": "997c2fdf-cae0-447e-9b75-d694cf0aec40",
   "metadata": {},
   "outputs": [
    {
     "data": {
      "text/plain": [
       "{'ClaimNb_changed': 9,\n",
       " 'ClaimNb_max_after': 4.0,\n",
       " 'ClaimNb_max_before': 16.0,\n",
       " 'Exposure_changed': 1224,\n",
       " 'Exposure_max_after': 1.0,\n",
       " 'Exposure_max_before': 2.01,\n",
       " 'DrivAge_changed': 401,\n",
       " 'DrivAge_max_after': 90.0,\n",
       " 'DrivAge_max_before': 100.0,\n",
       " 'VehAge_changed': 230,\n",
       " 'VehAge_max_after': 40.0,\n",
       " 'VehAge_max_before': 100.0}"
      ]
     },
     "execution_count": 57,
     "metadata": {},
     "output_type": "execute_result"
    }
   ],
   "source": [
    "#sanity check\n",
    "\n",
    "changed_counts = {}\n",
    "\n",
    "#  vergleichen gegen das ursprüngliche df (\n",
    "for col, cap in [(\"ClaimNb\", 4), (\"Exposure\", 1.0), (\"DrivAge\", 90), (\"VehAge\", 40)]:\n",
    "    if col in df_cap and col in df:\n",
    "        changed_counts[f\"{col}_changed\"] = int((df_cap[col] != df[col]).sum())\n",
    "        changed_counts[f\"{col}_max_after\"] = float(df_cap[col].max())\n",
    "        changed_counts[f\"{col}_max_before\"] = float(df[col].max())\n",
    "changed_counts\n"
   ]
  },
  {
   "cell_type": "code",
   "execution_count": 58,
   "id": "d1aa104d-bcb7-430d-a1b8-df0bda1e31a8",
   "metadata": {},
   "outputs": [
    {
     "data": {
      "text/plain": [
       "'gespeichert: data/work/freMTPL2_joined_capped.parquet'"
      ]
     },
     "execution_count": 58,
     "metadata": {},
     "output_type": "execute_result"
    }
   ],
   "source": [
    "df_cap.to_parquet(\"../data/work/freMTPL2_joined_capped.parquet\", index=False)\n",
    "\"gespeichert: data/work/freMTPL2_joined_capped.parquet\"\n"
   ]
  }
 ],
 "metadata": {
  "kernelspec": {
   "display_name": "Python 3.11 (freMTPL2sev)",
   "language": "python",
   "name": "fremtpl2sev"
  },
  "language_info": {
   "codemirror_mode": {
    "name": "ipython",
    "version": 3
   },
   "file_extension": ".py",
   "mimetype": "text/x-python",
   "name": "python",
   "nbconvert_exporter": "python",
   "pygments_lexer": "ipython3",
   "version": "3.11.13"
  }
 },
 "nbformat": 4,
 "nbformat_minor": 5
}
