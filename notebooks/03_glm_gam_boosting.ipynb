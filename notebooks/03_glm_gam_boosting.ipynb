{
 "cells": [
  {
   "cell_type": "code",
   "execution_count": 1,
   "id": "5d15ed5c-6917-461a-8979-cc4a0b9dc83b",
   "metadata": {},
   "outputs": [
    {
     "data": {
      "text/html": [
       "<div>\n",
       "<style scoped>\n",
       "    .dataframe tbody tr th:only-of-type {\n",
       "        vertical-align: middle;\n",
       "    }\n",
       "\n",
       "    .dataframe tbody tr th {\n",
       "        vertical-align: top;\n",
       "    }\n",
       "\n",
       "    .dataframe thead th {\n",
       "        text-align: right;\n",
       "    }\n",
       "</style>\n",
       "<table border=\"1\" class=\"dataframe\">\n",
       "  <thead>\n",
       "    <tr style=\"text-align: right;\">\n",
       "      <th></th>\n",
       "      <th>IDpol</th>\n",
       "      <th>Exposure</th>\n",
       "      <th>VehPower</th>\n",
       "      <th>VehAge</th>\n",
       "      <th>DrivAge</th>\n",
       "      <th>BonusMalus</th>\n",
       "      <th>VehBrand</th>\n",
       "      <th>VehGas</th>\n",
       "      <th>Area</th>\n",
       "      <th>Density</th>\n",
       "      <th>Region</th>\n",
       "      <th>ClaimNb</th>\n",
       "    </tr>\n",
       "  </thead>\n",
       "  <tbody>\n",
       "    <tr>\n",
       "      <th>0</th>\n",
       "      <td>1</td>\n",
       "      <td>0.10</td>\n",
       "      <td>5</td>\n",
       "      <td>0</td>\n",
       "      <td>55</td>\n",
       "      <td>50</td>\n",
       "      <td>B12</td>\n",
       "      <td>Regular</td>\n",
       "      <td>D</td>\n",
       "      <td>1217</td>\n",
       "      <td>Rhone-Alpes</td>\n",
       "      <td>0</td>\n",
       "    </tr>\n",
       "    <tr>\n",
       "      <th>1</th>\n",
       "      <td>3</td>\n",
       "      <td>0.77</td>\n",
       "      <td>5</td>\n",
       "      <td>0</td>\n",
       "      <td>55</td>\n",
       "      <td>50</td>\n",
       "      <td>B12</td>\n",
       "      <td>Regular</td>\n",
       "      <td>D</td>\n",
       "      <td>1217</td>\n",
       "      <td>Rhone-Alpes</td>\n",
       "      <td>0</td>\n",
       "    </tr>\n",
       "    <tr>\n",
       "      <th>2</th>\n",
       "      <td>5</td>\n",
       "      <td>0.75</td>\n",
       "      <td>6</td>\n",
       "      <td>2</td>\n",
       "      <td>52</td>\n",
       "      <td>50</td>\n",
       "      <td>B12</td>\n",
       "      <td>Diesel</td>\n",
       "      <td>B</td>\n",
       "      <td>54</td>\n",
       "      <td>Picardie</td>\n",
       "      <td>0</td>\n",
       "    </tr>\n",
       "    <tr>\n",
       "      <th>3</th>\n",
       "      <td>10</td>\n",
       "      <td>0.09</td>\n",
       "      <td>7</td>\n",
       "      <td>0</td>\n",
       "      <td>46</td>\n",
       "      <td>50</td>\n",
       "      <td>B12</td>\n",
       "      <td>Diesel</td>\n",
       "      <td>B</td>\n",
       "      <td>76</td>\n",
       "      <td>Aquitaine</td>\n",
       "      <td>0</td>\n",
       "    </tr>\n",
       "    <tr>\n",
       "      <th>4</th>\n",
       "      <td>11</td>\n",
       "      <td>0.84</td>\n",
       "      <td>7</td>\n",
       "      <td>0</td>\n",
       "      <td>46</td>\n",
       "      <td>50</td>\n",
       "      <td>B12</td>\n",
       "      <td>Diesel</td>\n",
       "      <td>B</td>\n",
       "      <td>76</td>\n",
       "      <td>Aquitaine</td>\n",
       "      <td>0</td>\n",
       "    </tr>\n",
       "  </tbody>\n",
       "</table>\n",
       "</div>"
      ],
      "text/plain": [
       "   IDpol  Exposure  VehPower  VehAge  DrivAge  BonusMalus VehBrand   VehGas  \\\n",
       "0      1      0.10         5       0       55          50      B12  Regular   \n",
       "1      3      0.77         5       0       55          50      B12  Regular   \n",
       "2      5      0.75         6       2       52          50      B12   Diesel   \n",
       "3     10      0.09         7       0       46          50      B12   Diesel   \n",
       "4     11      0.84         7       0       46          50      B12   Diesel   \n",
       "\n",
       "  Area  Density       Region  ClaimNb  \n",
       "0    D     1217  Rhone-Alpes        0  \n",
       "1    D     1217  Rhone-Alpes        0  \n",
       "2    B       54     Picardie        0  \n",
       "3    B       76    Aquitaine        0  \n",
       "4    B       76    Aquitaine        0  "
      ]
     },
     "execution_count": 1,
     "metadata": {},
     "output_type": "execute_result"
    }
   ],
   "source": [
    "import sys, os, numpy as np, pandas as pd\n",
    "sys.path.append(os.path.abspath(os.path.join(os.getcwd(), \"..\", \"src\")))\n",
    "from metrics import pdw, pdw2, cf2, make_folds\n",
    "from features_glm import build_glm_features\n",
    "\n",
    "df = pd.read_parquet(\"../data/work/freMTPL2_joined_capped.parquet\").copy()\n",
    "df.head()\n",
    "#df_glm = build_glm_features(df)\n"
   ]
  },
  {
   "cell_type": "code",
   "execution_count": 2,
   "id": "51d90393-4e00-4c3a-8724-8b73d30feea1",
   "metadata": {},
   "outputs": [
    {
     "data": {
      "text/html": [
       "<div>\n",
       "<style scoped>\n",
       "    .dataframe tbody tr th:only-of-type {\n",
       "        vertical-align: middle;\n",
       "    }\n",
       "\n",
       "    .dataframe tbody tr th {\n",
       "        vertical-align: top;\n",
       "    }\n",
       "\n",
       "    .dataframe thead th {\n",
       "        text-align: right;\n",
       "    }\n",
       "</style>\n",
       "<table border=\"1\" class=\"dataframe\">\n",
       "  <thead>\n",
       "    <tr style=\"text-align: right;\">\n",
       "      <th></th>\n",
       "      <th>IDpol</th>\n",
       "      <th>Exposure</th>\n",
       "      <th>VehPower</th>\n",
       "      <th>VehAge</th>\n",
       "      <th>DrivAge</th>\n",
       "      <th>BonusMalus</th>\n",
       "      <th>VehBrand</th>\n",
       "      <th>VehGas</th>\n",
       "      <th>Area</th>\n",
       "      <th>Density</th>\n",
       "      <th>Region</th>\n",
       "      <th>ClaimNb</th>\n",
       "      <th>AreaGLM</th>\n",
       "      <th>VehPowerGLM</th>\n",
       "      <th>VehAgeGLM</th>\n",
       "      <th>DrivAgeGLM</th>\n",
       "      <th>BonusMalusGLM</th>\n",
       "      <th>DensityGLM</th>\n",
       "    </tr>\n",
       "  </thead>\n",
       "  <tbody>\n",
       "    <tr>\n",
       "      <th>0</th>\n",
       "      <td>1</td>\n",
       "      <td>0.10</td>\n",
       "      <td>5</td>\n",
       "      <td>0</td>\n",
       "      <td>55</td>\n",
       "      <td>50</td>\n",
       "      <td>B12</td>\n",
       "      <td>Regular</td>\n",
       "      <td>D</td>\n",
       "      <td>1217</td>\n",
       "      <td>Rhone-Alpes</td>\n",
       "      <td>0</td>\n",
       "      <td>4</td>\n",
       "      <td>5</td>\n",
       "      <td>1</td>\n",
       "      <td>6</td>\n",
       "      <td>50</td>\n",
       "      <td>7.104144</td>\n",
       "    </tr>\n",
       "    <tr>\n",
       "      <th>1</th>\n",
       "      <td>3</td>\n",
       "      <td>0.77</td>\n",
       "      <td>5</td>\n",
       "      <td>0</td>\n",
       "      <td>55</td>\n",
       "      <td>50</td>\n",
       "      <td>B12</td>\n",
       "      <td>Regular</td>\n",
       "      <td>D</td>\n",
       "      <td>1217</td>\n",
       "      <td>Rhone-Alpes</td>\n",
       "      <td>0</td>\n",
       "      <td>4</td>\n",
       "      <td>5</td>\n",
       "      <td>1</td>\n",
       "      <td>6</td>\n",
       "      <td>50</td>\n",
       "      <td>7.104144</td>\n",
       "    </tr>\n",
       "    <tr>\n",
       "      <th>2</th>\n",
       "      <td>5</td>\n",
       "      <td>0.75</td>\n",
       "      <td>6</td>\n",
       "      <td>2</td>\n",
       "      <td>52</td>\n",
       "      <td>50</td>\n",
       "      <td>B12</td>\n",
       "      <td>Diesel</td>\n",
       "      <td>B</td>\n",
       "      <td>54</td>\n",
       "      <td>Picardie</td>\n",
       "      <td>0</td>\n",
       "      <td>2</td>\n",
       "      <td>6</td>\n",
       "      <td>2</td>\n",
       "      <td>6</td>\n",
       "      <td>50</td>\n",
       "      <td>3.988984</td>\n",
       "    </tr>\n",
       "    <tr>\n",
       "      <th>3</th>\n",
       "      <td>10</td>\n",
       "      <td>0.09</td>\n",
       "      <td>7</td>\n",
       "      <td>0</td>\n",
       "      <td>46</td>\n",
       "      <td>50</td>\n",
       "      <td>B12</td>\n",
       "      <td>Diesel</td>\n",
       "      <td>B</td>\n",
       "      <td>76</td>\n",
       "      <td>Aquitaine</td>\n",
       "      <td>0</td>\n",
       "      <td>2</td>\n",
       "      <td>7</td>\n",
       "      <td>1</td>\n",
       "      <td>5</td>\n",
       "      <td>50</td>\n",
       "      <td>4.330733</td>\n",
       "    </tr>\n",
       "    <tr>\n",
       "      <th>4</th>\n",
       "      <td>11</td>\n",
       "      <td>0.84</td>\n",
       "      <td>7</td>\n",
       "      <td>0</td>\n",
       "      <td>46</td>\n",
       "      <td>50</td>\n",
       "      <td>B12</td>\n",
       "      <td>Diesel</td>\n",
       "      <td>B</td>\n",
       "      <td>76</td>\n",
       "      <td>Aquitaine</td>\n",
       "      <td>0</td>\n",
       "      <td>2</td>\n",
       "      <td>7</td>\n",
       "      <td>1</td>\n",
       "      <td>5</td>\n",
       "      <td>50</td>\n",
       "      <td>4.330733</td>\n",
       "    </tr>\n",
       "  </tbody>\n",
       "</table>\n",
       "</div>"
      ],
      "text/plain": [
       "   IDpol  Exposure  VehPower  VehAge  DrivAge  BonusMalus VehBrand   VehGas  \\\n",
       "0      1      0.10         5       0       55          50      B12  Regular   \n",
       "1      3      0.77         5       0       55          50      B12  Regular   \n",
       "2      5      0.75         6       2       52          50      B12   Diesel   \n",
       "3     10      0.09         7       0       46          50      B12   Diesel   \n",
       "4     11      0.84         7       0       46          50      B12   Diesel   \n",
       "\n",
       "  Area  Density       Region  ClaimNb  AreaGLM VehPowerGLM VehAgeGLM  \\\n",
       "0    D     1217  Rhone-Alpes        0        4           5         1   \n",
       "1    D     1217  Rhone-Alpes        0        4           5         1   \n",
       "2    B       54     Picardie        0        2           6         2   \n",
       "3    B       76    Aquitaine        0        2           7         1   \n",
       "4    B       76    Aquitaine        0        2           7         1   \n",
       "\n",
       "  DrivAgeGLM  BonusMalusGLM  DensityGLM  \n",
       "0          6             50    7.104144  \n",
       "1          6             50    7.104144  \n",
       "2          6             50    3.988984  \n",
       "3          5             50    4.330733  \n",
       "4          5             50    4.330733  "
      ]
     },
     "execution_count": 2,
     "metadata": {},
     "output_type": "execute_result"
    }
   ],
   "source": [
    "df_glm = build_glm_features(df)\n",
    "df_glm.head()"
   ]
  },
  {
   "cell_type": "code",
   "execution_count": 3,
   "id": "15a34ac7-4411-46aa-bd6a-afefaf944473",
   "metadata": {},
   "outputs": [
    {
     "name": "stdout",
     "output_type": "stream",
     "text": [
      "Overall freq: 0.07368 | Baseline region: Centre\n",
      "Claim Frequency (Actual) Learn/Test: 7.37% / 7.38%\n",
      "Poisson Deviance INT, Learn/Test: 31.14% / 31.26%\n"
     ]
    }
   ],
   "source": [
    "# Region als Kategorie + Baseline nach größter Exposure\n",
    "df_glm[\"Region\"] = df_glm[\"Region\"].astype(\"category\")\n",
    "\n",
    "overall_freq = df_glm[\"ClaimNb\"].sum() / df_glm[\"Exposure\"].sum()\n",
    "reg = (df_glm.groupby(\"Region\", observed=True)\n",
    "       .agg(expo=(\"Exposure\",\"sum\"), claims=(\"ClaimNb\",\"sum\"))\n",
    "       .assign(freq=lambda x: x[\"claims\"]/x[\"expo\"])\n",
    "       .sort_values(\"expo\", ascending=False))\n",
    "baseline_region = reg.index[0]\n",
    "print(f\"Overall freq: {overall_freq:.5f} | Baseline region: {baseline_region}\")\n",
    "\n",
    "# AreaGLM numerisch (nur für Replikation des R-Setups)\n",
    "area_cat = df_glm[\"Area\"].astype(\"category\")\n",
    "cats = sorted(area_cat.cat.categories)               # deterministische Reihenfolge\n",
    "df_glm[\"AreaGLM\"] = area_cat.cat.set_categories(cats, ordered=True).cat.codes + 1  # 1..K\n",
    "\n",
    "# Folds (5, Seed=42), Fold 5 = Test\n",
    "if \"fold\" not in df_glm.columns:\n",
    "    df_glm[\"fold\"] = make_folds(len(df_glm), k=5, seed=42)\n",
    "learn = df_glm[df_glm[\"fold\"] != 5].copy()\n",
    "test  = df_glm[df_glm[\"fold\"] == 5].copy()\n",
    "\n",
    "print(cf2(\"Claim Frequency (Actual) Learn/Test\",\n",
    "          learn[\"ClaimNb\"], learn[\"Exposure\"],\n",
    "          test[\"ClaimNb\"],  test[\"Exposure\"]))\n",
    "\n",
    "cf = learn[\"ClaimNb\"].sum() / learn[\"Exposure\"].sum()\n",
    "learn_pred = cf * learn[\"Exposure\"]\n",
    "test_pred  = cf * test[\"Exposure\"]\n",
    "\n",
    "print(pdw2(\"Poisson Deviance INT\",\n",
    "           learn_pred, learn[\"ClaimNb\"], learn[\"Exposure\"],\n",
    "           test_pred,  test[\"ClaimNb\"],  test[\"Exposure\"]))"
   ]
  },
  {
   "cell_type": "code",
   "execution_count": 4,
   "id": "cdb0d4f7-a1cf-477f-b972-d00ef6beb01e",
   "metadata": {},
   "outputs": [
    {
     "name": "stdout",
     "output_type": "stream",
     "text": [
      "                 Generalized Linear Model Regression Results                  \n",
      "==============================================================================\n",
      "Dep. Variable:                ClaimNb   No. Observations:               542741\n",
      "Model:                            GLM   Df Residuals:                   542693\n",
      "Model Family:                 Poisson   Df Model:                           47\n",
      "Link Function:                    Log   Scale:                          1.0000\n",
      "Method:                          IRLS   Log-Likelihood:                -85960.\n",
      "Date:                Thu, 04 Sep 2025   Deviance:                   1.3129e+05\n",
      "Time:                        18:36:41   Pearson chi2:                 9.34e+05\n",
      "No. Iterations:                     7   Pseudo R-squ. (CS):            0.01100\n",
      "Covariance Type:            nonrobust                                         \n",
      "===========================================================================================================================================\n",
      "                                                                              coef    std err          z      P>|z|      [0.025      0.975]\n",
      "-------------------------------------------------------------------------------------------------------------------------------------------\n",
      "Intercept                                                                  -4.4952      0.047    -94.961      0.000      -4.588      -4.402\n",
      "C(VehPowerGLM)[T.5]                                                         0.0410      0.024      1.681      0.093      -0.007       0.089\n",
      "C(VehPowerGLM)[T.6]                                                         0.0787      0.024      3.302      0.001       0.032       0.125\n",
      "C(VehPowerGLM)[T.7]                                                         0.0660      0.024      2.788      0.005       0.020       0.112\n",
      "C(VehPowerGLM)[T.8]                                                         0.0840      0.034      2.488      0.013       0.018       0.150\n",
      "C(VehPowerGLM)[T.9]                                                         0.2355      0.026      8.886      0.000       0.184       0.287\n",
      "C(VehAgeGLM, Treatment(reference='2'))[T.1]                                -0.0208      0.034     -0.606      0.544      -0.088       0.046\n",
      "C(VehAgeGLM, Treatment(reference='2'))[T.3]                                -0.1864      0.016    -11.431      0.000      -0.218      -0.154\n",
      "C(DrivAgeGLM, Treatment(reference='5'))[T.1]                                0.1042      0.050      2.091      0.037       0.007       0.202\n",
      "C(DrivAgeGLM, Treatment(reference='5'))[T.2]                               -0.3396      0.033    -10.312      0.000      -0.404      -0.275\n",
      "C(DrivAgeGLM, Treatment(reference='5'))[T.3]                               -0.4640      0.028    -16.535      0.000      -0.519      -0.409\n",
      "C(DrivAgeGLM, Treatment(reference='5'))[T.4]                               -0.2841      0.020    -13.964      0.000      -0.324      -0.244\n",
      "C(DrivAgeGLM, Treatment(reference='5'))[T.6]                               -0.0807      0.019     -4.279      0.000      -0.118      -0.044\n",
      "C(DrivAgeGLM, Treatment(reference='5'))[T.7]                               -0.0788      0.031     -2.514      0.012      -0.140      -0.017\n",
      "C(VehBrand)[T.B10]                                                          0.0041      0.044      0.094      0.925      -0.083       0.091\n",
      "C(VehBrand)[T.B11]                                                          0.1613      0.047      3.431      0.001       0.069       0.254\n",
      "C(VehBrand)[T.B12]                                                         -0.2582      0.024    -10.572      0.000      -0.306      -0.210\n",
      "C(VehBrand)[T.B13]                                                          0.0504      0.050      1.007      0.314      -0.048       0.149\n",
      "C(VehBrand)[T.B14]                                                         -0.2339      0.101     -2.312      0.021      -0.432      -0.036\n",
      "C(VehBrand)[T.B2]                                                          -0.0078      0.019     -0.404      0.686      -0.046       0.030\n",
      "C(VehBrand)[T.B3]                                                           0.0417      0.027      1.557      0.119      -0.011       0.094\n",
      "C(VehBrand)[T.B4]                                                           0.0266      0.037      0.724      0.469      -0.045       0.098\n",
      "C(VehBrand)[T.B5]                                                           0.0713      0.031      2.301      0.021       0.011       0.132\n",
      "C(VehBrand)[T.B6]                                                           0.0476      0.034      1.382      0.167      -0.020       0.115\n",
      "C(VehGas)[T.Regular]                                                       -0.1694      0.015    -11.358      0.000      -0.199      -0.140\n",
      "C(Region, Treatment(reference='Centre'))[T.Alsace]                         -0.0005      0.117     -0.004      0.997      -0.229       0.228\n",
      "C(Region, Treatment(reference='Centre'))[T.Aquitaine]                       0.0753      0.037      2.014      0.044       0.002       0.149\n",
      "C(Region, Treatment(reference='Centre'))[T.Auvergne]                       -0.0773      0.098     -0.792      0.429      -0.269       0.114\n",
      "C(Region, Treatment(reference='Centre'))[T.Basse-Normandie]                -0.0362      0.055     -0.658      0.510      -0.144       0.072\n",
      "C(Region, Treatment(reference='Centre'))[T.Bourgogne]                       0.0341      0.061      0.555      0.579      -0.086       0.155\n",
      "C(Region, Treatment(reference='Centre'))[T.Bretagne]                       -0.0118      0.030     -0.399      0.690      -0.070       0.046\n",
      "C(Region, Treatment(reference='Centre'))[T.Champagne-Ardenne]              -0.0145      0.130     -0.111      0.912      -0.270       0.241\n",
      "C(Region, Treatment(reference='Centre'))[T.Corse]                           0.1246      0.098      1.265      0.206      -0.068       0.317\n",
      "C(Region, Treatment(reference='Centre'))[T.Franche-Comte]                  -0.0321      0.180     -0.178      0.859      -0.385       0.321\n",
      "C(Region, Treatment(reference='Centre'))[T.Haute-Normandie]                -0.0327      0.077     -0.423      0.672      -0.184       0.119\n",
      "C(Region, Treatment(reference='Centre'))[T.Ile-de-France]                  -0.0269      0.031     -0.870      0.384      -0.088       0.034\n",
      "C(Region, Treatment(reference='Centre'))[T.Languedoc-Roussillon]            0.0096      0.038      0.253      0.800      -0.065       0.084\n",
      "C(Region, Treatment(reference='Centre'))[T.Limousin]                        0.3413      0.081      4.229      0.000       0.183       0.499\n",
      "C(Region, Treatment(reference='Centre'))[T.Midi-Pyrenees]                  -0.2316      0.061     -3.820      0.000      -0.350      -0.113\n",
      "C(Region, Treatment(reference='Centre'))[T.Nord-Pas-de-Calais]             -0.0288      0.034     -0.849      0.396      -0.095       0.038\n",
      "C(Region, Treatment(reference='Centre'))[T.Pays-de-la-Loire]                0.0004      0.032      0.012      0.990      -0.062       0.063\n",
      "C(Region, Treatment(reference='Centre'))[T.Picardie]                        0.1333      0.065      2.042      0.041       0.005       0.261\n",
      "C(Region, Treatment(reference='Centre'))[T.Poitou-Charentes]                0.0611      0.042      1.466      0.143      -0.021       0.143\n",
      "C(Region, Treatment(reference='Centre'))[T.Provence-Alpes-Cotes-D'Azur]     0.1064      0.027      3.979      0.000       0.054       0.159\n",
      "C(Region, Treatment(reference='Centre'))[T.Rhone-Alpes]                     0.1827      0.024      7.705      0.000       0.136       0.229\n",
      "BonusMalusGLM                                                               0.0273      0.000     66.648      0.000       0.026       0.028\n",
      "DensityGLM                                                                  0.0521      0.016      3.296      0.001       0.021       0.083\n",
      "AreaGLM                                                                     0.0349      0.021      1.639      0.101      -0.007       0.077\n",
      "===========================================================================================================================================\n"
     ]
    }
   ],
   "source": [
    "import statsmodels.formula.api as smf\n",
    "from statsmodels.genmod import families\n",
    "\n",
    "formula = (\n",
    "    \"ClaimNb ~ \"\n",
    "    \"C(VehPowerGLM) + C(VehAgeGLM, Treatment(reference='2')) \"\n",
    "    \"+ C(DrivAgeGLM, Treatment(reference='5')) \"\n",
    "    \"+ BonusMalusGLM + C(VehBrand) + C(VehGas) + DensityGLM \"\n",
    "    f\"+ C(Region, Treatment(reference='{baseline_region}')) \"\n",
    "    \"+ AreaGLM\"   \n",
    ")\n",
    "\n",
    "glm1 = smf.glm(\n",
    "    formula=formula,\n",
    "    data=learn,\n",
    "    family=families.Poisson(),\n",
    "    offset=np.log(learn[\"Exposure\"])\n",
    ").fit()\n",
    "\n",
    "print(glm1.summary())\n"
   ]
  },
  {
   "cell_type": "code",
   "execution_count": 5,
   "id": "cb990f36-8166-4b59-ac2e-5bf57bc6c361",
   "metadata": {},
   "outputs": [
    {
     "name": "stdout",
     "output_type": "stream",
     "text": [
      "Poisson Deviance GLM1, Learn/Test: 29.54% / 29.55%\n",
      "Claim Frequency GLM1, Test-Sample, Actual/Predicted: 7.38% / 7.36%\n"
     ]
    }
   ],
   "source": [
    "# Learn: fittedvalues enthalten Offset bereits\n",
    "learn_pred = glm1.fittedvalues\n",
    "\n",
    "# Test: Offset explizit mitgeben\n",
    "test_pred = glm1.predict(test, offset=np.log(test[\"Exposure\"]))\n",
    "\n",
    "print(pdw2(\"Poisson Deviance GLM1\",\n",
    "           learn_pred, learn[\"ClaimNb\"], learn[\"Exposure\"],\n",
    "           test_pred,  test[\"ClaimNb\"],  test[\"Exposure\"]))\n",
    "\n",
    "print(cf2(\"Claim Frequency GLM1, Test-Sample, Actual/Predicted\",\n",
    "          test[\"ClaimNb\"], test[\"Exposure\"],\n",
    "          test_pred,      test[\"Exposure\"]))\n"
   ]
  },
  {
   "cell_type": "code",
   "execution_count": 6,
   "id": "36af9cb4-2139-46d9-a0bb-38e54d40bf7b",
   "metadata": {},
   "outputs": [
    {
     "data": {
      "image/png": "[encoded data removed]",
      "text/plain": [
       "<Figure size 640x480 with 1 Axes>"
      ]
     },
     "metadata": {},
     "output_type": "display_data"
    }
   ],
   "source": [
    "import matplotlib.pyplot as plt\n",
    "\n",
    "\n",
    "test = df_glm[df_glm[\"fold\"]==5].copy()\n",
    "# Vorhergesagte Counts aus GLM1:\n",
    "test_pred = glm1.predict(test, offset=np.log(test[\"Exposure\"]))\n",
    "\n",
    "# Predicted rate = μ / Exposure\n",
    "pred_rate = test_pred / test[\"Exposure\"]\n",
    "\n",
    "# Dezile bilden\n",
    "dec = pd.qcut(pred_rate, q=10, duplicates=\"drop\")\n",
    "cal = (pd.DataFrame({\n",
    "        \"decile\": dec,\n",
    "        \"expo\": test[\"Exposure\"].to_numpy(),\n",
    "        \"claims\": test[\"ClaimNb\"].to_numpy(),\n",
    "        \"pred\": test_pred.to_numpy()\n",
    "      })\n",
    "      .groupby(\"decile\",observed=False)\n",
    "      .agg(expo=(\"expo\",\"sum\"), claims=(\"claims\",\"sum\"), pred=(\"pred\",\"sum\"))\n",
    "      .assign(obs_rate=lambda d: d[\"claims\"]/d[\"expo\"],\n",
    "              pred_rate=lambda d: d[\"pred\"]/d[\"expo\"])\n",
    "      .reset_index())\n",
    "\n",
    "plt.figure()\n",
    "plt.plot(range(1, len(cal)+1), cal[\"obs_rate\"], marker=\"o\", label=\"Observed\")\n",
    "plt.plot(range(1, len(cal)+1), cal[\"pred_rate\"], marker=\"s\", label=\"Predicted\")\n",
    "plt.xlabel(\"Decile of predicted rate (low → high)\")\n",
    "plt.ylabel(\"Claim rate (claims per exposure)\")\n",
    "plt.title(\"Calibration (reliability) — GLM1 (Test)\")\n",
    "plt.legend()\n",
    "plt.tight_layout()\n",
    "plt.show()\n"
   ]
  },
  {
   "cell_type": "code",
   "execution_count": 7,
   "id": "cf3d01c6-9848-4049-9a6e-9abe6ab50f11",
   "metadata": {},
   "outputs": [
    {
     "name": "stdout",
     "output_type": "stream",
     "text": [
      "Test PDW — GLM1 (AreaGLM numeric): 29.55%\n",
      "Test PDW — GLM1 (C(Area) categorical): 29.55%\n",
      "ΔPDW (categorical - numeric): +0.00 pp\n"
     ]
    }
   ],
   "source": [
    "import statsmodels.formula.api as smf\n",
    "from statsmodels.genmod import families\n",
    "from metrics import pdw\n",
    "\n",
    "# 1) Modell mit AreaGLM : Test-PDW als Referenz\n",
    "test_pred_glm1 = glm1.predict(test, offset=np.log(test[\"Exposure\"]))\n",
    "pdw_glm1_test = pdw(test_pred_glm1, test[\"ClaimNb\"], test[\"Exposure\"])\n",
    "\n",
    "# 2) Gleiches Modell, aber Area als Kategorie \n",
    "formula_area_cat = (\n",
    "    \"ClaimNb ~ \"\n",
    "    \"C(VehPowerGLM) + C(VehAgeGLM, Treatment(reference='2')) \"\n",
    "    \"+ C(DrivAgeGLM, Treatment(reference='5')) \"\n",
    "    \"+ BonusMalusGLM + C(VehBrand) + C(VehGas) + DensityGLM \"\n",
    "    f\"+ C(Region, Treatment(reference='{baseline_region}')) \"\n",
    "    \"+ C(Area)\"  \n",
    ")\n",
    "\n",
    "glm1_areaC = smf.glm(formula=formula_area_cat, data=learn,\n",
    "                     family=families.Poisson(),\n",
    "                     offset=np.log(learn[\"Exposure\"])).fit()\n",
    "\n",
    "test_pred_areaC = glm1_areaC.predict(test, offset=np.log(test[\"Exposure\"]))\n",
    "pdw_areaC_test = pdw(test_pred_areaC, test[\"ClaimNb\"], test[\"Exposure\"])\n",
    "\n",
    "print(f\"Test PDW — GLM1 (AreaGLM numeric): {pdw_glm1_test:.2f}%\")\n",
    "print(f\"Test PDW — GLM1 (C(Area) categorical): {pdw_areaC_test:.2f}%\")\n",
    "print(f\"ΔPDW (categorical - numeric): {pdw_areaC_test - pdw_glm1_test:+.2f} pp\")\n"
   ]
  },
  {
   "cell_type": "code",
   "execution_count": 8,
   "id": "90304eee-36cd-4cdb-8458-6e476cd181c9",
   "metadata": {},
   "outputs": [
    {
     "name": "stdout",
     "output_type": "stream",
     "text": [
      "LR stat = 6.045, df = 4, p = 0.1958\n",
      "AIC  numeric = 172016.0 | categorical = 172018.0 | del AIC = +1.955\n",
      "BIC  numeric = -7034633.9 | categorical = -7034587.2\n"
     ]
    },
    {
     "name": "stderr",
     "output_type": "stream",
     "text": [
      "/home/stephan/projects/freMTPL2sev-pricing/.venv/lib/python3.11/site-packages/statsmodels/genmod/generalized_linear_model.py:1923: FutureWarning: The bic value is computed using the deviance formula. After 0.13 this will change to the log-likelihood based formula. This change has no impact on the relative rank of models compared using BIC. You can directly access the log-likelihood version using the `bic_llf` attribute. You can suppress this message by calling statsmodels.genmod.generalized_linear_model.SET_USE_BIC_LLF with True to get the LLF-based version now or False to retainthe deviance version.\n",
      "  warnings.warn(\n"
     ]
    }
   ],
   "source": [
    "from scipy.stats import chi2\n",
    "\n",
    "# Zahl der Area-Stufen (für DF-Differenz)\n",
    "n_levels_area = df_glm[\"Area\"].astype(\"category\").cat.categories.size\n",
    "df_diff = (n_levels_area - 1) - 1  # (K-1) Dummies vs. 1 Numerik\n",
    "\n",
    "LR = 2.0 * (glm1_areaC.llf - glm1.llf)\n",
    "pval = 1.0 - chi2.cdf(LR, df_diff)\n",
    "\n",
    "print(f\"LR stat = {LR:.3f}, df = {df_diff}, p = {pval:.4g}\")\n",
    "print(f\"AIC  numeric = {glm1.aic:.1f} | categorical = {glm1_areaC.aic:.1f} | del AIC = {glm1_areaC.aic - glm1.aic:+.3f}\")\n",
    "print(f\"BIC  numeric = {glm1.bic if hasattr(glm1,'bic') else float('nan'):.1f} \"\n",
    "      f\"| categorical = {glm1_areaC.bic if hasattr(glm1_areaC,'bic') else float('nan'):.1f}\")\n"
   ]
  },
  {
   "cell_type": "markdown",
   "id": "0893ce7a-da0b-4118-b3aa-d53020d942b3",
   "metadata": {},
   "source": [
    "## GLM1 – Kurzbericht\n",
    "**Setup.**  \n",
    "Poisson-GLM für `ClaimNb` mit **$\\log(\\text{Exposure})$** als **Offset**.\n",
    "Features gemäß Schelldorfer & Wüthrich (2019):  \n",
    "- $VehPowerGLM$, $VehAgeGLM$, $DrivAgeGLM$, $BonusMalusGLM$  \n",
    "- $VehBrand$, $VehGas$, $DensityGLM$, $Region$ (Baseline: *Centre*)  \n",
    "- $AreaGLM$ (numerisch)  \n",
    "\n",
    "Split: 5 Folds mit Seed 42; **Fold 5 = Test (~20%)**.\n",
    "\n",
    "---\n",
    "\n",
    "**Baselines.**\n",
    "- Overall frequency (Portfolio): **0.10061**  \n",
    "- Claim Frequency (Actual) Learn/Test: **10.07 % / 10.03 %**  \n",
    "- **INT** (Intercept-only): Poisson-Deviance Learn/Test **36.92 % / 36.90 %**\n",
    "\n",
    "---\n",
    "\n",
    "**GLM1 (klassenbasiert, wie Quelle).**\n",
    "- Poisson-Deviance Learn/Test: **35.37 % / 35.31 %**  \n",
    "  → Verbesserung ggü. INT um **≈ 1.6 Prozentpunkte** im Test.  \n",
    "- Claim Frequency (Test, Actual/Predicted): **10.03 % / 10.06 %**  \n",
    "  → **Niveau-kalibriert**.\n",
    "\n",
    "---\n",
    "\n",
    "**Kalibrierung.**  \n",
    "Wir bilden Dezile nach **vorhergesagter Rate** und vergleichen je Dezil\n",
    "\n",
    "$$\n",
    "\\text{obs\\_rate} = \\frac{\\sum \\text{Claims}}{\\sum \\text{Exposure}}, \\qquad\n",
    "\\text{pred\\_rate} = \\frac{\\sum \\hat\\mu}{\\sum \\text{Exposure}}.\n",
    "$$\n",
    "\n",
    "Beobachtete und vorhergesagte Raten liegen je Dezil **nahe beieinander**.  \n",
    "Systematische Abweichungen deuten auf fehlende Nichtlinearität oder Interaktionen hin (→ Splines/GAM, Interaktionsterme).\n",
    "\n",
    "---\n",
    "\n",
    "**Area-Kodierung (Sanity).**  \n",
    "Vergleich $AreaGLM$ (numerisch) vs. $C(Area)$ (Dummy-kodiert):\n",
    "\n",
    "- Test-PDW: **35.31 % vs. 35.31 %** ($\\Delta = 0.00$ pp)  \n",
    "- LR-Test: $\\chi^2 = 7.241$, df = 4, $p = 0.124$ → *kein signifikanter Gewinn* durch $C(Area)$  \n",
    "- AIC: minimal besser mit numerischer Area (ΔAIC ≈ +0.76 zugunsten numerisch)\n",
    "\n",
    "**Fazit:** In diesem Setup trägt $Area$ kaum etwas bei. \n",
    "Wir behalten $AreaGLM$.  \n",
    "\n",
    "\n",
    "---\n",
    "\n"
   ]
  },
  {
   "cell_type": "code",
   "execution_count": 9,
   "id": "8df393d2-4683-488a-8e97-f6dad47fc9cf",
   "metadata": {},
   "outputs": [],
   "source": [
    "###GLM2 setup\n",
    "\n",
    "for part in (learn, test):\n",
    "    part[\"log_DrivAge\"] = np.log(part[\"DrivAge\"].astype(float))\n",
    "    part[\"DrivAge2\"] = part[\"DrivAge\"].astype(float)**2\n",
    "    part[\"DrivAge3\"] = part[\"DrivAge\"].astype(float)**3\n",
    "    part[\"DrivAge4\"] = part[\"DrivAge\"].astype(float)**4"
   ]
  },
  {
   "cell_type": "code",
   "execution_count": 10,
   "id": "82db7d14-08ee-49d5-81ba-445d3dd2c0f3",
   "metadata": {},
   "outputs": [
    {
     "name": "stdout",
     "output_type": "stream",
     "text": [
      "                 Generalized Linear Model Regression Results                  \n",
      "==============================================================================\n",
      "Dep. Variable:                ClaimNb   No. Observations:               542741\n",
      "Model:                            GLM   Df Residuals:                   542695\n",
      "Model Family:                 Poisson   Df Model:                           45\n",
      "Link Function:                    Log   Scale:                          1.0000\n",
      "Method:                          IRLS   Log-Likelihood:                -85931.\n",
      "Date:                Thu, 04 Sep 2025   Deviance:                   1.3124e+05\n",
      "Time:                        18:37:07   Pearson chi2:                 9.32e+05\n",
      "No. Iterations:                     7   Pseudo R-squ. (CS):            0.01110\n",
      "Covariance Type:            nonrobust                                         \n",
      "===========================================================================================================================================\n",
      "                                                                              coef    std err          z      P>|z|      [0.025      0.975]\n",
      "-------------------------------------------------------------------------------------------------------------------------------------------\n",
      "Intercept                                                                  75.1460      6.899     10.892      0.000      61.624      88.668\n",
      "C(VehPowerGLM)[T.5]                                                         0.0422      0.024      1.732      0.083      -0.006       0.090\n",
      "C(VehPowerGLM)[T.6]                                                         0.0807      0.024      3.383      0.001       0.034       0.127\n",
      "C(VehPowerGLM)[T.7]                                                         0.0655      0.024      2.767      0.006       0.019       0.112\n",
      "C(VehPowerGLM)[T.8]                                                         0.0810      0.034      2.401      0.016       0.015       0.147\n",
      "C(VehPowerGLM)[T.9]                                                         0.2340      0.026      8.832      0.000       0.182       0.286\n",
      "C(VehAgeGLM, Treatment(reference='2'))[T.1]                                -0.0206      0.034     -0.602      0.547      -0.088       0.047\n",
      "C(VehAgeGLM, Treatment(reference='2'))[T.3]                                -0.1906      0.016    -11.682      0.000      -0.223      -0.159\n",
      "C(VehBrand)[T.B10]                                                          0.0029      0.044      0.066      0.947      -0.084       0.090\n",
      "C(VehBrand)[T.B11]                                                          0.1623      0.047      3.451      0.001       0.070       0.255\n",
      "C(VehBrand)[T.B12]                                                         -0.2557      0.024    -10.469      0.000      -0.304      -0.208\n",
      "C(VehBrand)[T.B13]                                                          0.0467      0.050      0.932      0.351      -0.051       0.145\n",
      "C(VehBrand)[T.B14]                                                         -0.2339      0.101     -2.311      0.021      -0.432      -0.036\n",
      "C(VehBrand)[T.B2]                                                          -0.0068      0.019     -0.352      0.725      -0.045       0.031\n",
      "C(VehBrand)[T.B3]                                                           0.0425      0.027      1.586      0.113      -0.010       0.095\n",
      "C(VehBrand)[T.B4]                                                           0.0260      0.037      0.710      0.478      -0.046       0.098\n",
      "C(VehBrand)[T.B5]                                                           0.0713      0.031      2.301      0.021       0.011       0.132\n",
      "C(VehBrand)[T.B6]                                                           0.0483      0.034      1.402      0.161      -0.019       0.116\n",
      "C(VehGas)[T.Regular]                                                       -0.1685      0.015    -11.285      0.000      -0.198      -0.139\n",
      "C(Region, Treatment(reference='Centre'))[T.Alsace]                          0.0041      0.117      0.035      0.972      -0.225       0.233\n",
      "C(Region, Treatment(reference='Centre'))[T.Aquitaine]                       0.0772      0.037      2.065      0.039       0.004       0.151\n",
      "C(Region, Treatment(reference='Centre'))[T.Auvergne]                       -0.0731      0.098     -0.749      0.454      -0.264       0.118\n",
      "C(Region, Treatment(reference='Centre'))[T.Basse-Normandie]                -0.0356      0.055     -0.648      0.517      -0.143       0.072\n",
      "C(Region, Treatment(reference='Centre'))[T.Bourgogne]                       0.0339      0.061      0.552      0.581      -0.087       0.154\n",
      "C(Region, Treatment(reference='Centre'))[T.Bretagne]                       -0.0104      0.030     -0.349      0.727      -0.068       0.048\n",
      "C(Region, Treatment(reference='Centre'))[T.Champagne-Ardenne]              -0.0074      0.130     -0.057      0.955      -0.263       0.248\n",
      "C(Region, Treatment(reference='Centre'))[T.Corse]                           0.1287      0.098      1.308      0.191      -0.064       0.322\n",
      "C(Region, Treatment(reference='Centre'))[T.Franche-Comte]                  -0.0287      0.180     -0.159      0.874      -0.382       0.325\n",
      "C(Region, Treatment(reference='Centre'))[T.Haute-Normandie]                -0.0319      0.077     -0.413      0.680      -0.184       0.120\n",
      "C(Region, Treatment(reference='Centre'))[T.Ile-de-France]                  -0.0272      0.031     -0.878      0.380      -0.088       0.034\n",
      "C(Region, Treatment(reference='Centre'))[T.Languedoc-Roussillon]            0.0083      0.038      0.218      0.828      -0.066       0.083\n",
      "C(Region, Treatment(reference='Centre'))[T.Limousin]                        0.3406      0.081      4.220      0.000       0.182       0.499\n",
      "C(Region, Treatment(reference='Centre'))[T.Midi-Pyrenees]                  -0.2297      0.061     -3.788      0.000      -0.348      -0.111\n",
      "C(Region, Treatment(reference='Centre'))[T.Nord-Pas-de-Calais]             -0.0229      0.034     -0.675      0.500      -0.089       0.044\n",
      "C(Region, Treatment(reference='Centre'))[T.Pays-de-la-Loire]               -0.0019      0.032     -0.060      0.952      -0.065       0.061\n",
      "C(Region, Treatment(reference='Centre'))[T.Picardie]                        0.1386      0.065      2.123      0.034       0.011       0.267\n",
      "C(Region, Treatment(reference='Centre'))[T.Poitou-Charentes]                0.0609      0.042      1.461      0.144      -0.021       0.143\n",
      "C(Region, Treatment(reference='Centre'))[T.Provence-Alpes-Cotes-D'Azur]     0.1060      0.027      3.965      0.000       0.054       0.158\n",
      "C(Region, Treatment(reference='Centre'))[T.Rhone-Alpes]                     0.1815      0.024      7.652      0.000       0.135       0.228\n",
      "BonusMalusGLM                                                               0.0275      0.000     66.711      0.000       0.027       0.028\n",
      "DensityGLM                                                                  0.0521      0.016      3.291      0.001       0.021       0.083\n",
      "AreaGLM                                                                     0.0348      0.021      1.634      0.102      -0.007       0.076\n",
      "DrivAge                                                                     3.8011      0.400      9.498      0.000       3.017       4.586\n",
      "log_DrivAge                                                               -45.7863      4.225    -10.836      0.000     -54.068     -37.505\n",
      "DrivAge2                                                                   -0.0543      0.007     -8.084      0.000      -0.067      -0.041\n",
      "DrivAge3                                                                    0.0004   6.35e-05      6.754      0.000       0.000       0.001\n",
      "DrivAge4                                                                -1.347e-06   2.42e-07     -5.568      0.000   -1.82e-06   -8.73e-07\n",
      "===========================================================================================================================================\n"
     ]
    }
   ],
   "source": [
    "baseline_region = \"Centre\"\n",
    "\n",
    "formula_glm2 = (\n",
    "    \"ClaimNb ~ \"\n",
    "    \"C(VehPowerGLM)\"\n",
    "    \" + C(VehAgeGLM, Treatment(reference='2'))\"\n",
    "    \" + BonusMalusGLM\"\n",
    "    \" + C(VehBrand) + C(VehGas)\"\n",
    "    \" + DensityGLM\"\n",
    "    f\" + C(Region, Treatment(reference='{baseline_region}'))\"\n",
    "    \" + AreaGLM\"\n",
    "    \" + DrivAge + log_DrivAge + DrivAge2 + DrivAge3 + DrivAge4\"\n",
    ")\n",
    "\n",
    "glm2 = smf.glm(\n",
    "    formula=formula_glm2,\n",
    "    data=learn,\n",
    "    family=families.Poisson(),\n",
    "    offset=np.log(learn[\"Exposure\"])\n",
    ").fit()\n",
    "\n",
    "print(glm2.summary())  "
   ]
  },
  {
   "cell_type": "code",
   "execution_count": 11,
   "id": "9ee4bc7d-9b11-4848-8add-1de81706654d",
   "metadata": {},
   "outputs": [
    {
     "name": "stdout",
     "output_type": "stream",
     "text": [
      "Poisson Deviance GLM1, Learn/Test: 29.54% / 29.55%\n",
      "Poisson Deviance GLM2, Learn/Test: 29.53% / 29.52%\n",
      "Claim Frequency GLM2, Test (Actual/Predicted): 7.38% / 7.36%\n",
      "PDW(Test) INT=31.26% | GLM1=29.55% | GLM2=29.52% | Δ(GLM2-GLM1)=-0.03 pp\n"
     ]
    }
   ],
   "source": [
    "# GLM2: Learn/Test-Predictions\n",
    "learn_pred_glm2 = glm2.fittedvalues\n",
    "test_pred_glm2  = glm2.predict(test, offset=np.log(test[\"Exposure\"]))\n",
    "\n",
    "# INT-Baseline (wie zuvor)\n",
    "cf = learn[\"ClaimNb\"].sum() / learn[\"Exposure\"].sum()\n",
    "test_pred_int = cf * test[\"Exposure\"]\n",
    "test_pred_glm1 = glm1.predict(test, offset=np.log(test[\"Exposure\"]))\n",
    "\n",
    "# PDW/CF report\n",
    "print(pdw2(\"Poisson Deviance GLM1\",\n",
    "           glm1.fittedvalues, learn[\"ClaimNb\"], learn[\"Exposure\"],\n",
    "           test_pred_glm1,  test[\"ClaimNb\"],  test[\"Exposure\"]))\n",
    "\n",
    "print(pdw2(\"Poisson Deviance GLM2\",\n",
    "           learn_pred_glm2, learn[\"ClaimNb\"], learn[\"Exposure\"],\n",
    "           test_pred_glm2,  test[\"ClaimNb\"],  test[\"Exposure\"]))\n",
    "\n",
    "print(cf2(\"Claim Frequency GLM2, Test (Actual/Predicted)\",\n",
    "          test[\"ClaimNb\"], test[\"Exposure\"],\n",
    "          test_pred_glm2,  test[\"Exposure\"]))\n",
    "\n",
    "# Verbesserung gg. INT (auf Test)\n",
    "pdw_int  = pdw(test_pred_int,  test[\"ClaimNb\"], test[\"Exposure\"])\n",
    "pdw_g1   = pdw(test_pred_glm1, test[\"ClaimNb\"], test[\"Exposure\"])\n",
    "pdw_g2   = pdw(test_pred_glm2, test[\"ClaimNb\"], test[\"Exposure\"])\n",
    "\n",
    "print(f\"PDW(Test) INT={pdw_int:.2f}% | GLM1={pdw_g1:.2f}% | GLM2={pdw_g2:.2f}% \"\n",
    "      f\"| Δ(GLM2-GLM1)={pdw_g2 - pdw_g1:+.2f} pp\")"
   ]
  },
  {
   "cell_type": "markdown",
   "id": "ff31360d-274b-4e32-af42-1318d27d456d",
   "metadata": {},
   "source": [
    "## GLM2 – Kurzfazit & Vergleich zu GLM1\n",
    "\n",
    "**Setup.** Wie GLM1 (Poisson mit Offset $\\log(\\text{Exposure})$), zusätzlich kontinuierliche Terme für $DrivAge$:  \n",
    "$\\log(DrivAge),\\ DrivAge^2,\\ DrivAge^3,\\ DrivAge^4$.\n",
    "\n",
    "**Ergebnisse.**\n",
    "- **Poisson-Deviance (Learn/Test):**  \n",
    "  GLM1 **35.37 % / 35.31 %**  \n",
    "  GLM2 **35.36 % / 35.29 %**  $\\Rightarrow$ **$\\Delta$ Test = −0.03 pp** (minimal besser)\n",
    "- **Claim Frequency (Test, Actual/Pred):** **10.03 % / 10.06 %**\n",
    "- **vs. INT (Test PDW 36.90 %)**: beide klar besser; GLM2 nur **marginal** besser als GLM1.\n",
    "\n",
    "**Interpretation.** Kontinuierliche Form von $DrivAge$ bringt **sehr kleinen** Gewinn.  \n",
    "\n",
    "\n"
   ]
  },
  {
   "cell_type": "code",
   "execution_count": 12,
   "id": "40f04c9f-d726-46a9-a83c-c63d19c52e47",
   "metadata": {
    "scrolled": true
   },
   "outputs": [
    {
     "name": "stderr",
     "output_type": "stream",
     "text": [
      "Iteration 0: |                                                                                                                                                                                         | 0/? [s/it, gradient norm=2.888437605802083e-17]\n"
     ]
    },
    {
     "name": "stdout",
     "output_type": "stream",
     "text": [
      "alpha=5.490e-01, time=0.08s, n_iter=0\n"
     ]
    },
    {
     "name": "stderr",
     "output_type": "stream",
     "text": [
      "Iteration 1:  61%|█████████████████████████████████████████████████████████████████████████████████████████████████████████▌                                                                   | 1.22/2.0 [0.12s/it, gradient norm=0.000596108610502624]\n"
     ]
    },
    {
     "name": "stdout",
     "output_type": "stream",
     "text": [
      "alpha=4.344e-01, time=0.34s, n_iter=2\n"
     ]
    },
    {
     "name": "stderr",
     "output_type": "stream",
     "text": [
      "Iteration 1:  54%|████████████████████████████████████████████████████████████████████████████████████████████                                                                                | 1.07/2.0 [0.23s/it, gradient norm=0.0008521741085901903]\n"
     ]
    },
    {
     "name": "stdout",
     "output_type": "stream",
     "text": [
      "alpha=3.437e-01, time=0.46s, n_iter=2\n"
     ]
    },
    {
     "name": "stderr",
     "output_type": "stream",
     "text": [
      "Iteration 1:  67%|██████████████████████████████████████████████████████████████████████████████████████████████████████████████████▌                                                        | 1.34/2.0 [0.15s/it, gradient norm=0.00045612222825317406]\n"
     ]
    },
    {
     "name": "stdout",
     "output_type": "stream",
     "text": [
      "alpha=2.720e-01, time=0.34s, n_iter=2\n"
     ]
    },
    {
     "name": "stderr",
     "output_type": "stream",
     "text": [
      "Iteration 1:  80%|███████████████████████████████████████████████████████████████████████████████████████████████████████████████████████████████████████▉                                   | 1.59/2.0 [0.15s/it, gradient norm=0.00025734585832667533]\n"
     ]
    },
    {
     "name": "stdout",
     "output_type": "stream",
     "text": [
      "alpha=2.152e-01, time=0.36s, n_iter=2\n"
     ]
    },
    {
     "name": "stderr",
     "output_type": "stream",
     "text": [
      "Iteration 1:  91%|███████████████████████████████████████████████████████████████████████████████████████████████████████████████████████████████████████████████████████████▌               | 1.82/2.0 [0.15s/it, gradient norm=0.00014969112428193162]\n"
     ]
    },
    {
     "name": "stdout",
     "output_type": "stream",
     "text": [
      "alpha=1.703e-01, time=0.49s, n_iter=2\n"
     ]
    },
    {
     "name": "stderr",
     "output_type": "stream",
     "text": [
      "Iteration 0:  30%|███████████████████████████████████████████████████▉                                                                                                                         | 0.6/2.0 [0.09s/it, gradient norm=0.0025076080032061395]\n"
     ]
    },
    {
     "name": "stdout",
     "output_type": "stream",
     "text": [
      "alpha=1.347e-01, time=0.33s, n_iter=1\n"
     ]
    },
    {
     "name": "stderr",
     "output_type": "stream",
     "text": [
      "Iteration 0:  36%|█████████████████████████████████████████████████████████████                                                                                                               | 0.71/2.0 [0.09s/it, gradient norm=0.0019487920975752163]\n"
     ]
    },
    {
     "name": "stdout",
     "output_type": "stream",
     "text": [
      "alpha=1.066e-01, time=0.30s, n_iter=1\n"
     ]
    },
    {
     "name": "stderr",
     "output_type": "stream",
     "text": [
      "Iteration 0:  40%|█████████████████████████████████████████████████████████████████████▋                                                                                                      | 0.81/2.0 [0.11s/it, gradient norm=0.0015503847543599993]\n"
     ]
    },
    {
     "name": "stdout",
     "output_type": "stream",
     "text": [
      "alpha=8.434e-02, time=0.24s, n_iter=1\n"
     ]
    },
    {
     "name": "stderr",
     "output_type": "stream",
     "text": [
      "Iteration 0:  46%|██████████████████████████████████████████████████████████████████████████████▎                                                                                             | 0.91/2.0 [0.09s/it, gradient norm=0.0012299144395119513]\n"
     ]
    },
    {
     "name": "stdout",
     "output_type": "stream",
     "text": [
      "alpha=6.673e-02, time=0.22s, n_iter=1\n"
     ]
    },
    {
     "name": "stderr",
     "output_type": "stream",
     "text": [
      "Iteration 0:   1%|█▋                                                                                                                                                                           | 0.01/1.0 [0.09s/it, gradient norm=0.000975214458400543]\n"
     ]
    },
    {
     "name": "stdout",
     "output_type": "stream",
     "text": [
      "alpha=5.280e-02, time=0.23s, n_iter=1\n"
     ]
    },
    {
     "name": "stderr",
     "output_type": "stream",
     "text": [
      "Iteration 0:  11%|██████████████████▉                                                                                                                                                         | 0.11/1.0 [0.09s/it, gradient norm=0.0007729048510844076]\n"
     ]
    },
    {
     "name": "stdout",
     "output_type": "stream",
     "text": [
      "alpha=4.178e-02, time=0.25s, n_iter=1\n"
     ]
    },
    {
     "name": "stderr",
     "output_type": "stream",
     "text": [
      "Iteration 0:  21%|████████████████████████████████████                                                                                                                                        | 0.21/1.0 [0.11s/it, gradient norm=0.0006137755121482647]\n"
     ]
    },
    {
     "name": "stdout",
     "output_type": "stream",
     "text": [
      "alpha=3.306e-02, time=0.39s, n_iter=1\n"
     ]
    },
    {
     "name": "stderr",
     "output_type": "stream",
     "text": [
      "Iteration 0:  31%|█████████████████████████████████████████████████████                                                                                                                      | 0.31/1.0 [0.10s/it, gradient norm=0.00048623821403944497]\n"
     ]
    },
    {
     "name": "stdout",
     "output_type": "stream",
     "text": [
      "alpha=2.616e-02, time=0.27s, n_iter=1\n"
     ]
    },
    {
     "name": "stderr",
     "output_type": "stream",
     "text": [
      "Iteration 0:  41%|██████████████████████████████████████████████████████████████████████                                                                                                     | 0.41/1.0 [0.09s/it, gradient norm=0.00038509704151149296]\n"
     ]
    },
    {
     "name": "stdout",
     "output_type": "stream",
     "text": [
      "alpha=2.069e-02, time=0.26s, n_iter=1\n"
     ]
    },
    {
     "name": "stderr",
     "output_type": "stream",
     "text": [
      "Iteration 0:  40%|█████████████████████████████████████████████████████████████████████▋                                                                                                      | 0.81/2.0 [0.10s/it, gradient norm=0.0015369590494681254]\n"
     ]
    },
    {
     "name": "stdout",
     "output_type": "stream",
     "text": [
      "alpha=1.637e-02, time=0.26s, n_iter=1\n"
     ]
    },
    {
     "name": "stderr",
     "output_type": "stream",
     "text": [
      "Iteration 0:  34%|██████████████████████████████████████████████████████████▍                                                                                                                 | 0.68/2.0 [0.09s/it, gradient norm=0.0020704293086009585]\n"
     ]
    },
    {
     "name": "stdout",
     "output_type": "stream",
     "text": [
      "alpha=1.296e-02, time=0.23s, n_iter=1\n"
     ]
    },
    {
     "name": "stderr",
     "output_type": "stream",
     "text": [
      "Iteration 0:  39%|███████████████████████████████████████████████████████████████████▍                                                                                                         | 0.78/2.0 [0.10s/it, gradient norm=0.001643995950186444]\n"
     ]
    },
    {
     "name": "stdout",
     "output_type": "stream",
     "text": [
      "alpha=1.025e-02, time=0.23s, n_iter=1\n"
     ]
    },
    {
     "name": "stderr",
     "output_type": "stream",
     "text": [
      "Iteration 0:  44%|████████████████████████████████████████████████████████████████████████████▉                                                                                                | 0.89/2.0 [0.09s/it, gradient norm=0.001299545586440351]\n"
     ]
    },
    {
     "name": "stdout",
     "output_type": "stream",
     "text": [
      "alpha=8.111e-03, time=0.22s, n_iter=1\n"
     ]
    },
    {
     "name": "stderr",
     "output_type": "stream",
     "text": [
      "Iteration 0:  50%|█████████████████████████████████████████████████████████████████████████████████████▏                                                                                      | 0.99/2.0 [0.11s/it, gradient norm=0.0010271219499454446]\n"
     ]
    },
    {
     "name": "stdout",
     "output_type": "stream",
     "text": [
      "alpha=6.418e-03, time=0.27s, n_iter=1\n"
     ]
    },
    {
     "name": "stderr",
     "output_type": "stream",
     "text": [
      "Iteration 0:   9%|███████████████▍                                                                                                                                                            | 0.09/1.0 [0.10s/it, gradient norm=0.0008120008480523251]\n"
     ]
    },
    {
     "name": "stdout",
     "output_type": "stream",
     "text": [
      "alpha=5.078e-03, time=0.27s, n_iter=1\n"
     ]
    },
    {
     "name": "stderr",
     "output_type": "stream",
     "text": [
      "Iteration 0:  19%|████████████████████████████████▋                                                                                                                                           | 0.19/1.0 [0.18s/it, gradient norm=0.0006420543985727492]\n"
     ]
    },
    {
     "name": "stdout",
     "output_type": "stream",
     "text": [
      "alpha=4.018e-03, time=0.32s, n_iter=1\n"
     ]
    },
    {
     "name": "stderr",
     "output_type": "stream",
     "text": [
      "Iteration 0:  27%|██████████████████████████████████████████████▍                                                                                                                             | 0.27/1.0 [0.09s/it, gradient norm=0.0005378634093154669]\n"
     ]
    },
    {
     "name": "stdout",
     "output_type": "stream",
     "text": [
      "alpha=3.179e-03, time=0.22s, n_iter=1\n"
     ]
    },
    {
     "name": "stderr",
     "output_type": "stream",
     "text": [
      "Iteration 0:  25%|███████████████████████████████████████████▌                                                                                                                                  | 0.5/2.0 [0.09s/it, gradient norm=0.003135255601162795]\n"
     ]
    },
    {
     "name": "stdout",
     "output_type": "stream",
     "text": [
      "alpha=2.515e-03, time=0.31s, n_iter=1\n"
     ]
    },
    {
     "name": "stderr",
     "output_type": "stream",
     "text": [
      "Iteration 0:  22%|██████████████████████████████████████▋                                                                                                                                     | 0.45/2.0 [0.08s/it, gradient norm=0.0035412338122640013]\n"
     ]
    },
    {
     "name": "stdout",
     "output_type": "stream",
     "text": [
      "alpha=1.990e-03, time=0.49s, n_iter=1\n"
     ]
    },
    {
     "name": "stderr",
     "output_type": "stream",
     "text": [
      "Iteration 0:  12%|███████████████████▉                                                                                                                                                         | 0.23/2.0 [0.10s/it, gradient norm=0.005879080335589719]\n"
     ]
    },
    {
     "name": "stdout",
     "output_type": "stream",
     "text": [
      "alpha=1.575e-03, time=0.32s, n_iter=1\n"
     ]
    },
    {
     "name": "stderr",
     "output_type": "stream",
     "text": [
      "Iteration 1:  93%|███████████████████████████████████████████████████████████████████████████████████████████████████████████████████████████████████████████████████████████████            | 1.86/2.0 [0.22s/it, gradient norm=0.00013951649044311032]\n"
     ]
    },
    {
     "name": "stdout",
     "output_type": "stream",
     "text": [
      "alpha=1.246e-03, time=0.64s, n_iter=2\n"
     ]
    },
    {
     "name": "stderr",
     "output_type": "stream",
     "text": [
      "Iteration 1:  94%|████████████████████████████████████████████████████████████████████████████████████████████████████████████████████████████████████████████████████████████████▋          | 1.88/2.0 [0.23s/it, gradient norm=0.00013105637699555652]\n"
     ]
    },
    {
     "name": "stdout",
     "output_type": "stream",
     "text": [
      "alpha=9.859e-04, time=0.54s, n_iter=2\n"
     ]
    },
    {
     "name": "stderr",
     "output_type": "stream",
     "text": [
      "Iteration 0:  11%|███████████████████                                                                                                                                                          | 0.22/2.0 [0.24s/it, gradient norm=0.006038364424111223]\n"
     ]
    },
    {
     "name": "stdout",
     "output_type": "stream",
     "text": [
      "alpha=7.801e-04, time=0.46s, n_iter=1\n"
     ]
    },
    {
     "name": "stderr",
     "output_type": "stream",
     "text": [
      "Iteration 0:  15%|██████████████████████████                                                                                                                                                    | 0.3/2.0 [0.09s/it, gradient norm=0.005052463723925278]\n"
     ]
    },
    {
     "name": "stdout",
     "output_type": "stream",
     "text": [
      "alpha=6.172e-04, time=0.31s, n_iter=1\n"
     ]
    },
    {
     "name": "stderr",
     "output_type": "stream",
     "text": [
      "Iteration 0:  15%|██████████████████████████                                                                                                                                                    | 0.3/2.0 [0.08s/it, gradient norm=0.004995634341433687]\n"
     ]
    },
    {
     "name": "stdout",
     "output_type": "stream",
     "text": [
      "alpha=4.884e-04, time=0.32s, n_iter=1\n"
     ]
    },
    {
     "name": "stderr",
     "output_type": "stream",
     "text": [
      "Iteration 0:  20%|██████████████████████████████████▊                                                                                                                                           | 0.4/2.0 [0.10s/it, gradient norm=0.003993172403949485]\n"
     ]
    },
    {
     "name": "stdout",
     "output_type": "stream",
     "text": [
      "alpha=3.864e-04, time=0.43s, n_iter=1\n"
     ]
    },
    {
     "name": "stderr",
     "output_type": "stream",
     "text": [
      "Iteration 0:  19%|████████████████████████████████▊                                                                                                                                            | 0.38/2.0 [0.09s/it, gradient norm=0.004172549640392849]\n"
     ]
    },
    {
     "name": "stdout",
     "output_type": "stream",
     "text": [
      "alpha=3.057e-04, time=0.44s, n_iter=1\n"
     ]
    },
    {
     "name": "stderr",
     "output_type": "stream",
     "text": [
      "Iteration 0:  18%|███████████████████████████████▏                                                                                                                                             | 0.36/2.0 [0.15s/it, gradient norm=0.004341213436516462]\n"
     ]
    },
    {
     "name": "stdout",
     "output_type": "stream",
     "text": [
      "alpha=2.419e-04, time=0.46s, n_iter=1\n"
     ]
    },
    {
     "name": "stderr",
     "output_type": "stream",
     "text": [
      "Iteration 0:  21%|████████████████████████████████████▎                                                                                                                                        | 0.42/2.0 [0.16s/it, gradient norm=0.003788565051809457]\n"
     ]
    },
    {
     "name": "stdout",
     "output_type": "stream",
     "text": [
      "alpha=1.914e-04, time=0.45s, n_iter=1\n"
     ]
    },
    {
     "name": "stderr",
     "output_type": "stream",
     "text": [
      "Iteration 0:  24%|██████████████████████████████████████████▏                                                                                                                                 | 0.49/2.0 [0.08s/it, gradient norm=0.0032438008772935254]\n"
     ]
    },
    {
     "name": "stdout",
     "output_type": "stream",
     "text": [
      "alpha=1.515e-04, time=0.44s, n_iter=1\n"
     ]
    },
    {
     "name": "stderr",
     "output_type": "stream",
     "text": [
      "Iteration 0:  26%|█████████████████████████████████████████████▌                                                                                                                              | 0.53/2.0 [0.09s/it, gradient norm=0.0029225186407814486]\n"
     ]
    },
    {
     "name": "stdout",
     "output_type": "stream",
     "text": [
      "alpha=1.198e-04, time=0.43s, n_iter=1\n"
     ]
    },
    {
     "name": "stderr",
     "output_type": "stream",
     "text": [
      "Iteration 0:  27%|██████████████████████████████████████████████▋                                                                                                                              | 0.54/2.0 [0.17s/it, gradient norm=0.002883736789327475]\n"
     ]
    },
    {
     "name": "stdout",
     "output_type": "stream",
     "text": [
      "alpha=9.482e-05, time=0.44s, n_iter=1\n"
     ]
    },
    {
     "name": "stderr",
     "output_type": "stream",
     "text": [
      "Iteration 0:  28%|████████████████████████████████████████████████▍                                                                                                                            | 0.56/2.0 [0.15s/it, gradient norm=0.002778806901608288]\n"
     ]
    },
    {
     "name": "stdout",
     "output_type": "stream",
     "text": [
      "alpha=7.502e-05, time=0.46s, n_iter=1\n"
     ]
    },
    {
     "name": "stderr",
     "output_type": "stream",
     "text": [
      "Iteration 0:  32%|██████████████████████████████████████████████████████▏                                                                                                                     | 0.63/2.0 [0.20s/it, gradient norm=0.0023456369315865335]\n"
     ]
    },
    {
     "name": "stdout",
     "output_type": "stream",
     "text": [
      "alpha=5.936e-05, time=0.60s, n_iter=1\n"
     ]
    },
    {
     "name": "stderr",
     "output_type": "stream",
     "text": [
      "Iteration 0:  34%|███████████████████████████████████████████████████████████▎                                                                                                                | 0.69/2.0 [0.18s/it, gradient norm=0.0020306840578319715]\n"
     ]
    },
    {
     "name": "stdout",
     "output_type": "stream",
     "text": [
      "alpha=4.697e-05, time=0.58s, n_iter=1\n"
     ]
    },
    {
     "name": "stderr",
     "output_type": "stream",
     "text": [
      "Iteration 0:  38%|█████████████████████████████████████████████████████████████████▋                                                                                                           | 0.76/2.0 [0.17s/it, gradient norm=0.001732893655747639]\n"
     ]
    },
    {
     "name": "stdout",
     "output_type": "stream",
     "text": [
      "alpha=3.716e-05, time=0.46s, n_iter=1\n"
     ]
    },
    {
     "name": "stderr",
     "output_type": "stream",
     "text": [
      "Iteration 0:  42%|████████████████████████████████████████████████████████████████████████▏                                                                                                   | 0.84/2.0 [0.15s/it, gradient norm=0.0014467038570721348]\n"
     ]
    },
    {
     "name": "stdout",
     "output_type": "stream",
     "text": [
      "alpha=2.940e-05, time=0.49s, n_iter=1\n"
     ]
    },
    {
     "name": "stderr",
     "output_type": "stream",
     "text": [
      "Iteration 0:  45%|█████████████████████████████████████████████████████████████████████████████▊                                                                                               | 0.9/2.0 [0.21s/it, gradient norm=0.0012654037540548871]\n"
     ]
    },
    {
     "name": "stdout",
     "output_type": "stream",
     "text": [
      "alpha=2.327e-05, time=0.59s, n_iter=1\n"
     ]
    },
    {
     "name": "stderr",
     "output_type": "stream",
     "text": [
      "Iteration 0:  50%|█████████████████████████████████████████████████████████████████████████████████████▋                                                                                       | 0.99/2.0 [0.16s/it, gradient norm=0.001032441703379805]\n"
     ]
    },
    {
     "name": "stdout",
     "output_type": "stream",
     "text": [
      "alpha=1.841e-05, time=0.47s, n_iter=1\n"
     ]
    },
    {
     "name": "stderr",
     "output_type": "stream",
     "text": [
      "Iteration 0:   7%|████████████                                                                                                                                                                | 0.07/1.0 [0.17s/it, gradient norm=0.0008439312309464721]\n"
     ]
    },
    {
     "name": "stdout",
     "output_type": "stream",
     "text": [
      "alpha=1.457e-05, time=0.55s, n_iter=1\n"
     ]
    },
    {
     "name": "stderr",
     "output_type": "stream",
     "text": [
      "Iteration 0:  13%|██████████████████████▎                                                                                                                                                     | 0.13/1.0 [0.21s/it, gradient norm=0.0007453239952526396]\n"
     ]
    },
    {
     "name": "stdout",
     "output_type": "stream",
     "text": [
      "alpha=1.152e-05, time=0.56s, n_iter=1\n"
     ]
    },
    {
     "name": "stderr",
     "output_type": "stream",
     "text": [
      "Iteration 0:  23%|███████████████████████████████████████▌                                                                                                                                    | 0.23/1.0 [0.16s/it, gradient norm=0.0005923990675799504]\n"
     ]
    },
    {
     "name": "stdout",
     "output_type": "stream",
     "text": [
      "alpha=9.119e-06, time=0.50s, n_iter=1\n"
     ]
    },
    {
     "name": "stderr",
     "output_type": "stream",
     "text": [
      "Iteration 0:  33%|████████████████████████████████████████████████████████▊                                                                                                                   | 0.33/1.0 [0.14s/it, gradient norm=0.0004704342809939732]\n"
     ]
    },
    {
     "name": "stdout",
     "output_type": "stream",
     "text": [
      "alpha=7.215e-06, time=0.47s, n_iter=1\n"
     ]
    },
    {
     "name": "stderr",
     "output_type": "stream",
     "text": [
      "Iteration 0:  41%|██████████████████████████████████████████████████████████████████████▌                                                                                                     | 0.41/1.0 [0.14s/it, gradient norm=0.0003875968856097145]\n"
     ]
    },
    {
     "name": "stdout",
     "output_type": "stream",
     "text": [
      "alpha=5.709e-06, time=0.53s, n_iter=1\n"
     ]
    },
    {
     "name": "stderr",
     "output_type": "stream",
     "text": [
      "Iteration 0:  49%|████████████████████████████████████████████████████████████████████████████████████▎                                                                                       | 0.49/1.0 [0.19s/it, gradient norm=0.0003263853015000561]\n"
     ]
    },
    {
     "name": "stdout",
     "output_type": "stream",
     "text": [
      "alpha=4.517e-06, time=0.51s, n_iter=1\n"
     ]
    },
    {
     "name": "stderr",
     "output_type": "stream",
     "text": [
      "Iteration 0:  59%|████████████████████████████████████████████████████████████████████████████████████████████████████▉                                                                      | 0.59/1.0 [0.14s/it, gradient norm=0.00025806970176620926]\n"
     ]
    },
    {
     "name": "stdout",
     "output_type": "stream",
     "text": [
      "alpha=3.574e-06, time=0.47s, n_iter=1\n"
     ]
    },
    {
     "name": "stderr",
     "output_type": "stream",
     "text": [
      "Iteration 0:  69%|█████████████████████████████████████████████████████████████████████████████████████████████████████████████████████▉                                                     | 0.69/1.0 [0.16s/it, gradient norm=0.00020407959683331427]\n"
     ]
    },
    {
     "name": "stdout",
     "output_type": "stream",
     "text": [
      "alpha=2.828e-06, time=0.64s, n_iter=1\n"
     ]
    },
    {
     "name": "stderr",
     "output_type": "stream",
     "text": [
      "Iteration 0:  77%|███████████████████████████████████████████████████████████████████████████████████████████████████████████████████████████████████▋                                       | 0.77/1.0 [0.16s/it, gradient norm=0.00016930726886013345]\n"
     ]
    },
    {
     "name": "stdout",
     "output_type": "stream",
     "text": [
      "alpha=2.237e-06, time=0.54s, n_iter=1\n"
     ]
    },
    {
     "name": "stderr",
     "output_type": "stream",
     "text": [
      "Iteration 0:  85%|█████████████████████████████████████████████████████████████████████████████████████████████████████████████████████████████████████████████████▎                         | 0.85/1.0 [0.21s/it, gradient norm=0.00014219290611798723]\n"
     ]
    },
    {
     "name": "stdout",
     "output_type": "stream",
     "text": [
      "alpha=1.770e-06, time=0.58s, n_iter=1\n"
     ]
    },
    {
     "name": "stderr",
     "output_type": "stream",
     "text": [
      "Iteration 0:  93%|███████████████████████████████████████████████████████████████████████████████████████████████████████████████████████████████████████████████████████████████            | 0.93/1.0 [0.16s/it, gradient norm=0.00011750340856359707]\n"
     ]
    },
    {
     "name": "stdout",
     "output_type": "stream",
     "text": [
      "alpha=1.401e-06, time=0.60s, n_iter=1\n"
     ]
    },
    {
     "name": "stderr",
     "output_type": "stream",
     "text": [
      "Iteration 0: |                                                                                                                                                                                      | 0/-0.0 [s/it, gradient norm=9.402627618392353e-05]\n"
     ]
    },
    {
     "name": "stdout",
     "output_type": "stream",
     "text": [
      "alpha=1.108e-06, time=0.18s, n_iter=0\n"
     ]
    },
    {
     "name": "stderr",
     "output_type": "stream",
     "text": [
      "Iteration 0:  80%|█████████████████████████████████████████████████████████████████████████████████████████████████████████████████████████████████████████▌                                  | 0.8/1.0 [0.22s/it, gradient norm=0.00015985411872410283]\n"
     ]
    },
    {
     "name": "stdout",
     "output_type": "stream",
     "text": [
      "alpha=8.770e-07, time=0.60s, n_iter=1\n"
     ]
    },
    {
     "name": "stderr",
     "output_type": "stream",
     "text": [
      "Iteration 0: |                                                                                                                                                                                      | 0/-0.0 [s/it, gradient norm=6.469490526019466e-05]\n"
     ]
    },
    {
     "name": "stdout",
     "output_type": "stream",
     "text": [
      "alpha=6.939e-07, time=0.17s, n_iter=0\n"
     ]
    },
    {
     "name": "stderr",
     "output_type": "stream",
     "text": [
      "Iteration 0:  98%|███████████████████████████████████████████████████████████████████████████████████████████████████████████████████████████████████████████████████████████████████████▌   | 0.98/1.0 [0.16s/it, gradient norm=0.00010576597664979984]\n"
     ]
    },
    {
     "name": "stdout",
     "output_type": "stream",
     "text": [
      "alpha=5.490e-07, time=0.57s, n_iter=1\n"
     ]
    },
    {
     "name": "stderr",
     "output_type": "stream",
     "text": [
      "Iteration 0: |                                                                                                                                                                                        | 0/? [s/it, gradient norm=1.7929500427833948e-17]\n"
     ]
    },
    {
     "name": "stdout",
     "output_type": "stream",
     "text": [
      "alpha=5.490e-01, time=0.08s, n_iter=0\n"
     ]
    },
    {
     "name": "stderr",
     "output_type": "stream",
     "text": [
      "Iteration 1:  46%|████████████████████████████████████████████████████████████████████████████████                                                                                              | 0.92/2.0 [0.27s/it, gradient norm=0.00119926391377932]\n"
     ]
    },
    {
     "name": "stdout",
     "output_type": "stream",
     "text": [
      "alpha=4.344e-01, time=0.51s, n_iter=2\n"
     ]
    },
    {
     "name": "stderr",
     "output_type": "stream",
     "text": [
      "Iteration 1:  55%|███████████████████████████████████████████████████████████████████████████████████████████████▏                                                                             | 1.1/2.0 [0.22s/it, gradient norm=0.0007932002256793637]\n"
     ]
    },
    {
     "name": "stdout",
     "output_type": "stream",
     "text": [
      "alpha=3.437e-01, time=0.53s, n_iter=2\n"
     ]
    },
    {
     "name": "stderr",
     "output_type": "stream",
     "text": [
      "Iteration 1:  68%|██████████████████████████████████████████████████████████████████████████████████████████████████████████████████████▌                                                      | 1.37/2.0 [0.16s/it, gradient norm=0.000430603404983806]\n"
     ]
    },
    {
     "name": "stdout",
     "output_type": "stream",
     "text": [
      "alpha=2.720e-01, time=0.51s, n_iter=2\n"
     ]
    },
    {
     "name": "stderr",
     "output_type": "stream",
     "text": [
      "Iteration 1:  80%|██████████████████████████████████████████████████████████████████████████████████████████████████████████████████████████████████████████▍                                 | 1.61/2.0 [0.16s/it, gradient norm=0.0002442161547375816]\n"
     ]
    },
    {
     "name": "stdout",
     "output_type": "stream",
     "text": [
      "alpha=2.152e-01, time=0.48s, n_iter=2\n"
     ]
    },
    {
     "name": "stderr",
     "output_type": "stream",
     "text": [
      "Iteration 1:  92%|███████████████████████████████████████████████████████████████████████████████████████████████████████████████████████████████████████████████████████████████             | 1.85/2.0 [0.15s/it, gradient norm=0.0001425972097512464]\n"
     ]
    },
    {
     "name": "stdout",
     "output_type": "stream",
     "text": [
      "alpha=1.703e-01, time=0.48s, n_iter=2\n"
     ]
    },
    {
     "name": "stderr",
     "output_type": "stream",
     "text": [
      "Iteration 0:  30%|███████████████████████████████████████████████████▉                                                                                                                         | 0.6/2.0 [0.09s/it, gradient norm=0.0024926429929926323]\n"
     ]
    },
    {
     "name": "stdout",
     "output_type": "stream",
     "text": [
      "alpha=1.347e-01, time=0.31s, n_iter=1\n"
     ]
    },
    {
     "name": "stderr",
     "output_type": "stream",
     "text": [
      "Iteration 0:  36%|█████████████████████████████████████████████████████████████                                                                                                               | 0.71/2.0 [0.09s/it, gradient norm=0.0019376036909458934]\n"
     ]
    },
    {
     "name": "stdout",
     "output_type": "stream",
     "text": [
      "alpha=1.066e-01, time=0.23s, n_iter=1\n"
     ]
    },
    {
     "name": "stderr",
     "output_type": "stream",
     "text": [
      "Iteration 0:  40%|█████████████████████████████████████████████████████████████████████▋                                                                                                      | 0.81/2.0 [0.10s/it, gradient norm=0.0015412513490749272]\n"
     ]
    },
    {
     "name": "stdout",
     "output_type": "stream",
     "text": [
      "alpha=8.434e-02, time=0.24s, n_iter=1\n"
     ]
    },
    {
     "name": "stderr",
     "output_type": "stream",
     "text": [
      "Iteration 0:  46%|██████████████████████████████████████████████████████████████████████████████▎                                                                                             | 0.91/2.0 [0.10s/it, gradient norm=0.0012226575317946446]\n"
     ]
    },
    {
     "name": "stdout",
     "output_type": "stream",
     "text": [
      "alpha=6.673e-02, time=0.26s, n_iter=1\n"
     ]
    },
    {
     "name": "stderr",
     "output_type": "stream",
     "text": [
      "Iteration 0:   1%|█▋                                                                                                                                                                          | 0.01/1.0 [0.09s/it, gradient norm=0.0009694466795053344]\n"
     ]
    },
    {
     "name": "stdout",
     "output_type": "stream",
     "text": [
      "alpha=5.280e-02, time=0.23s, n_iter=1\n"
     ]
    },
    {
     "name": "stderr",
     "output_type": "stream",
     "text": [
      "Iteration 0:  11%|██████████████████▉                                                                                                                                                         | 0.11/1.0 [0.09s/it, gradient norm=0.0007683258381129503]\n"
     ]
    },
    {
     "name": "stdout",
     "output_type": "stream",
     "text": [
      "alpha=4.178e-02, time=0.31s, n_iter=1\n"
     ]
    },
    {
     "name": "stderr",
     "output_type": "stream",
     "text": [
      "Iteration 0:  21%|████████████████████████████████████▎                                                                                                                                        | 0.21/1.0 [0.11s/it, gradient norm=0.000610263525273017]\n"
     ]
    },
    {
     "name": "stdout",
     "output_type": "stream",
     "text": [
      "alpha=3.306e-02, time=0.41s, n_iter=1\n"
     ]
    },
    {
     "name": "stderr",
     "output_type": "stream",
     "text": [
      "Iteration 0:  32%|██████████████████████████████████████████████████████▋                                                                                                                    | 0.32/1.0 [0.17s/it, gradient norm=0.00048345382595993343]\n"
     ]
    },
    {
     "name": "stdout",
     "output_type": "stream",
     "text": [
      "alpha=2.616e-02, time=0.28s, n_iter=1\n"
     ]
    },
    {
     "name": "stderr",
     "output_type": "stream",
     "text": [
      "Iteration 0:  42%|████████████████████████████████████████████████████████████████████████▏                                                                                                   | 0.42/1.0 [0.07s/it, gradient norm=0.0003828898630401273]\n"
     ]
    },
    {
     "name": "stdout",
     "output_type": "stream",
     "text": [
      "alpha=2.069e-02, time=0.20s, n_iter=1\n"
     ]
    },
    {
     "name": "stderr",
     "output_type": "stream",
     "text": [
      "Iteration 0:  41%|██████████████████████████████████████████████████████████████████████▉                                                                                                      | 0.82/2.0 [0.03s/it, gradient norm=0.001504684568728135]\n"
     ]
    },
    {
     "name": "stdout",
     "output_type": "stream",
     "text": [
      "alpha=1.637e-02, time=0.20s, n_iter=1\n"
     ]
    },
    {
     "name": "stderr",
     "output_type": "stream",
     "text": [
      "Iteration 0:  34%|██████████████████████████████████████████████████████████▍                                                                                                                 | 0.68/2.0 [0.12s/it, gradient norm=0.0020729882101491117]\n"
     ]
    },
    {
     "name": "stdout",
     "output_type": "stream",
     "text": [
      "alpha=1.296e-02, time=0.25s, n_iter=1\n"
     ]
    },
    {
     "name": "stderr",
     "output_type": "stream",
     "text": [
      "Iteration 0:  39%|███████████████████████████████████████████████████████████████████                                                                                                         | 0.78/2.0 [0.09s/it, gradient norm=0.0016451858832425424]\n"
     ]
    },
    {
     "name": "stdout",
     "output_type": "stream",
     "text": [
      "alpha=1.025e-02, time=0.31s, n_iter=1\n"
     ]
    },
    {
     "name": "stderr",
     "output_type": "stream",
     "text": [
      "Iteration 0:  44%|████████████████████████████████████████████████████████████████████████████▉                                                                                                | 0.89/2.0 [0.09s/it, gradient norm=0.001300709654910897]\n"
     ]
    },
    {
     "name": "stdout",
     "output_type": "stream",
     "text": [
      "alpha=8.111e-03, time=0.40s, n_iter=1\n"
     ]
    },
    {
     "name": "stderr",
     "output_type": "stream",
     "text": [
      "Iteration 0:  50%|█████████████████████████████████████████████████████████████████████████████████████▏                                                                                      | 0.99/2.0 [0.09s/it, gradient norm=0.0010281919943711491]\n"
     ]
    },
    {
     "name": "stdout",
     "output_type": "stream",
     "text": [
      "alpha=6.418e-03, time=0.21s, n_iter=1\n"
     ]
    },
    {
     "name": "stderr",
     "output_type": "stream",
     "text": [
      "Iteration 0:   9%|███████████████▍                                                                                                                                                            | 0.09/1.0 [0.09s/it, gradient norm=0.0008129419733146403]\n"
     ]
    },
    {
     "name": "stdout",
     "output_type": "stream",
     "text": [
      "alpha=5.078e-03, time=0.23s, n_iter=1\n"
     ]
    },
    {
     "name": "stderr",
     "output_type": "stream",
     "text": [
      "Iteration 0:  19%|████████████████████████████████▊                                                                                                                                            | 0.19/1.0 [0.10s/it, gradient norm=0.000642858461253963]\n"
     ]
    },
    {
     "name": "stdout",
     "output_type": "stream",
     "text": [
      "alpha=4.018e-03, time=0.23s, n_iter=1\n"
     ]
    },
    {
     "name": "stderr",
     "output_type": "stream",
     "text": [
      "Iteration 0:  29%|█████████████████████████████████████████████████▉                                                                                                                          | 0.29/1.0 [0.09s/it, gradient norm=0.0005084233253257713]\n"
     ]
    },
    {
     "name": "stdout",
     "output_type": "stream",
     "text": [
      "alpha=3.179e-03, time=0.24s, n_iter=1\n"
     ]
    },
    {
     "name": "stderr",
     "output_type": "stream",
     "text": [
      "Iteration 0:  28%|█████████████████████████████████████████████████                                                                                                                           | 0.57/2.0 [0.09s/it, gradient norm=0.0027172028984603497]\n"
     ]
    },
    {
     "name": "stdout",
     "output_type": "stream",
     "text": [
      "alpha=2.515e-03, time=0.43s, n_iter=1\n"
     ]
    },
    {
     "name": "stderr",
     "output_type": "stream",
     "text": [
      "Iteration 0:  18%|███████████████████████████████▏                                                                                                                                             | 0.36/2.0 [0.10s/it, gradient norm=0.004355015306318155]\n"
     ]
    },
    {
     "name": "stdout",
     "output_type": "stream",
     "text": [
      "alpha=1.990e-03, time=0.31s, n_iter=1\n"
     ]
    },
    {
     "name": "stderr",
     "output_type": "stream",
     "text": [
      "Iteration 1:  90%|██████████████████████████████████████████████████████████████████████████████████████████████████████████████████████████████████████████████████████████▊                 | 1.8/2.0 [0.20s/it, gradient norm=0.00015857399062224115]\n"
     ]
    },
    {
     "name": "stdout",
     "output_type": "stream",
     "text": [
      "alpha=1.575e-03, time=0.43s, n_iter=2\n"
     ]
    },
    {
     "name": "stderr",
     "output_type": "stream",
     "text": [
      "Iteration 1:  89%|████████████████████████████████████████████████████████████████████████████████████████████████████████████████████████████████████████████████████████▏                  | 1.78/2.0 [0.33s/it, gradient norm=0.00016765217700099187]\n"
     ]
    },
    {
     "name": "stdout",
     "output_type": "stream",
     "text": [
      "alpha=1.246e-03, time=0.58s, n_iter=2\n"
     ]
    },
    {
     "name": "stderr",
     "output_type": "stream",
     "text": [
      "Iteration 1:  92%|████████████████████████████████████████████████████████████████████████████████████████████████████████████████████████████████████████████████████████████▍              | 1.83/2.0 [0.22s/it, gradient norm=0.00014813521063241147]\n"
     ]
    },
    {
     "name": "stdout",
     "output_type": "stream",
     "text": [
      "alpha=9.859e-04, time=0.69s, n_iter=2\n"
     ]
    },
    {
     "name": "stderr",
     "output_type": "stream",
     "text": [
      "Iteration 0:  10%|████████████████▍                                                                                                                                                            | 0.19/2.0 [0.17s/it, gradient norm=0.006423515202895982]\n"
     ]
    },
    {
     "name": "stdout",
     "output_type": "stream",
     "text": [
      "alpha=7.801e-04, time=0.41s, n_iter=1\n"
     ]
    },
    {
     "name": "stderr",
     "output_type": "stream",
     "text": [
      "Iteration 0:  12%|████████████████████▊                                                                                                                                                        | 0.24/2.0 [0.15s/it, gradient norm=0.005750663607457314]\n"
     ]
    },
    {
     "name": "stdout",
     "output_type": "stream",
     "text": [
      "alpha=6.172e-04, time=0.40s, n_iter=1\n"
     ]
    },
    {
     "name": "stderr",
     "output_type": "stream",
     "text": [
      "Iteration 0:  14%|█████████████████████████                                                                                                                                                    | 0.29/2.0 [0.18s/it, gradient norm=0.005184665447340833]\n"
     ]
    },
    {
     "name": "stdout",
     "output_type": "stream",
     "text": [
      "alpha=4.884e-04, time=0.46s, n_iter=1\n"
     ]
    },
    {
     "name": "stderr",
     "output_type": "stream",
     "text": [
      "Iteration 0:  18%|███████████████████████████████▏                                                                                                                                             | 0.36/2.0 [0.16s/it, gradient norm=0.004340331107474423]\n"
     ]
    },
    {
     "name": "stdout",
     "output_type": "stream",
     "text": [
      "alpha=3.864e-04, time=0.39s, n_iter=1\n"
     ]
    },
    {
     "name": "stderr",
     "output_type": "stream",
     "text": [
      "Iteration 0:  20%|███████████████████████████████████▍                                                                                                                                         | 0.41/2.0 [0.16s/it, gradient norm=0.003930383274711197]\n"
     ]
    },
    {
     "name": "stdout",
     "output_type": "stream",
     "text": [
      "alpha=3.057e-04, time=0.46s, n_iter=1\n"
     ]
    },
    {
     "name": "stderr",
     "output_type": "stream",
     "text": [
      "Iteration 0:  20%|██████████████████████████████████▌                                                                                                                                          | 0.4/2.0 [0.16s/it, gradient norm=0.0040080514732678185]\n"
     ]
    },
    {
     "name": "stdout",
     "output_type": "stream",
     "text": [
      "alpha=2.419e-04, time=0.48s, n_iter=1\n"
     ]
    },
    {
     "name": "stderr",
     "output_type": "stream",
     "text": [
      "Iteration 0:  22%|█████████████████████████████████████▊                                                                                                                                      | 0.44/2.0 [0.20s/it, gradient norm=0.0036297333938962503]\n"
     ]
    },
    {
     "name": "stdout",
     "output_type": "stream",
     "text": [
      "alpha=1.914e-04, time=0.45s, n_iter=1\n"
     ]
    },
    {
     "name": "stderr",
     "output_type": "stream",
     "text": [
      "Iteration 0:  23%|███████████████████████████████████████▌                                                                                                                                    | 0.46/2.0 [0.15s/it, gradient norm=0.0034351592347691066]\n"
     ]
    },
    {
     "name": "stdout",
     "output_type": "stream",
     "text": [
      "alpha=1.515e-04, time=0.44s, n_iter=1\n"
     ]
    },
    {
     "name": "stderr",
     "output_type": "stream",
     "text": [
      "Iteration 0:  24%|██████████████████████████████████████████▏                                                                                                                                 | 0.49/2.0 [0.14s/it, gradient norm=0.0032050870641182534]\n"
     ]
    },
    {
     "name": "stdout",
     "output_type": "stream",
     "text": [
      "alpha=1.198e-04, time=0.51s, n_iter=1\n"
     ]
    },
    {
     "name": "stderr",
     "output_type": "stream",
     "text": [
      "Iteration 0:  28%|███████████████████████████████████████████████▎                                                                                                                            | 0.55/2.0 [0.16s/it, gradient norm=0.0027880838056446038]\n"
     ]
    },
    {
     "name": "stdout",
     "output_type": "stream",
     "text": [
      "alpha=9.482e-05, time=0.37s, n_iter=1\n"
     ]
    },
    {
     "name": "stderr",
     "output_type": "stream",
     "text": [
      "Iteration 0:  28%|███████████████████████████████████████████████▌                                                                                                                             | 0.55/2.0 [0.21s/it, gradient norm=0.002786290023605569]\n"
     ]
    },
    {
     "name": "stdout",
     "output_type": "stream",
     "text": [
      "alpha=7.502e-05, time=0.53s, n_iter=1\n"
     ]
    },
    {
     "name": "stderr",
     "output_type": "stream",
     "text": [
      "Iteration 0:  30%|███████████████████████████████████████████████████▋                                                                                                                           | 0.59/2.0 [0.09s/it, gradient norm=0.0025650755475283]\n"
     ]
    },
    {
     "name": "stdout",
     "output_type": "stream",
     "text": [
      "alpha=5.936e-05, time=0.42s, n_iter=1\n"
     ]
    },
    {
     "name": "stderr",
     "output_type": "stream",
     "text": [
      "Iteration 0:  34%|███████████████████████████████████████████████████████████▎                                                                                                                | 0.69/2.0 [0.21s/it, gradient norm=0.0020353392206335637]\n"
     ]
    },
    {
     "name": "stdout",
     "output_type": "stream",
     "text": [
      "alpha=4.697e-05, time=0.48s, n_iter=1\n"
     ]
    },
    {
     "name": "stderr",
     "output_type": "stream",
     "text": [
      "Iteration 0:  38%|█████████████████████████████████████████████████████████████████▋                                                                                                           | 0.76/2.0 [0.08s/it, gradient norm=0.001719728166143953]\n"
     ]
    },
    {
     "name": "stdout",
     "output_type": "stream",
     "text": [
      "alpha=3.716e-05, time=0.49s, n_iter=1\n"
     ]
    },
    {
     "name": "stderr",
     "output_type": "stream",
     "text": [
      "Iteration 0:  43%|█████████████████████████████████████████████████████████████████████████▉                                                                                                  | 0.86/2.0 [0.19s/it, gradient norm=0.0013857656062011357]\n"
     ]
    },
    {
     "name": "stdout",
     "output_type": "stream",
     "text": [
      "alpha=2.940e-05, time=0.49s, n_iter=1\n"
     ]
    },
    {
     "name": "stderr",
     "output_type": "stream",
     "text": [
      "Iteration 0:  47%|████████████████████████████████████████████████████████████████████████████████▊                                                                                           | 0.94/2.0 [0.10s/it, gradient norm=0.0011455290029030551]\n"
     ]
    },
    {
     "name": "stdout",
     "output_type": "stream",
     "text": [
      "alpha=2.327e-05, time=0.40s, n_iter=1\n"
     ]
    },
    {
     "name": "stderr",
     "output_type": "stream",
     "text": [
      "Iteration 0:   3%|█████▏                                                                                                                                                                      | 0.03/1.0 [0.10s/it, gradient norm=0.0009313682168011482]\n"
     ]
    },
    {
     "name": "stdout",
     "output_type": "stream",
     "text": [
      "alpha=1.841e-05, time=0.41s, n_iter=1\n"
     ]
    },
    {
     "name": "stderr",
     "output_type": "stream",
     "text": [
      "Iteration 0:  10%|█████████████████▎                                                                                                                                                           | 0.1/1.0 [0.03s/it, gradient norm=0.0007885207307820107]\n"
     ]
    },
    {
     "name": "stdout",
     "output_type": "stream",
     "text": [
      "alpha=1.457e-05, time=0.45s, n_iter=1\n"
     ]
    },
    {
     "name": "stderr",
     "output_type": "stream",
     "text": [
      "Iteration 0:  13%|██████████████████████▎                                                                                                                                                     | 0.13/1.0 [0.08s/it, gradient norm=0.0007430984910845554]\n"
     ]
    },
    {
     "name": "stdout",
     "output_type": "stream",
     "text": [
      "alpha=1.152e-05, time=0.38s, n_iter=1\n"
     ]
    },
    {
     "name": "stderr",
     "output_type": "stream",
     "text": [
      "Iteration 0:  21%|████████████████████████████████████▎                                                                                                                                        | 0.21/1.0 [0.08s/it, gradient norm=0.000614522491262051]\n"
     ]
    },
    {
     "name": "stdout",
     "output_type": "stream",
     "text": [
      "alpha=9.119e-06, time=0.34s, n_iter=1\n"
     ]
    },
    {
     "name": "stderr",
     "output_type": "stream",
     "text": [
      "Iteration 0:  30%|███████████████████████████████████████████████████▉                                                                                                                         | 0.3/1.0 [0.09s/it, gradient norm=0.0005003522228871337]\n"
     ]
    },
    {
     "name": "stdout",
     "output_type": "stream",
     "text": [
      "alpha=7.215e-06, time=0.34s, n_iter=1\n"
     ]
    },
    {
     "name": "stderr",
     "output_type": "stream",
     "text": [
      "Iteration 0:  38%|█████████████████████████████████████████████████████████████████▋                                                                                                           | 0.38/1.0 [0.10s/it, gradient norm=0.000414477292906615]\n"
     ]
    },
    {
     "name": "stdout",
     "output_type": "stream",
     "text": [
      "alpha=5.709e-06, time=0.36s, n_iter=1\n"
     ]
    },
    {
     "name": "stderr",
     "output_type": "stream",
     "text": [
      "Iteration 0:  47%|████████████████████████████████████████████████████████████████████████████████▊                                                                                           | 0.47/1.0 [0.10s/it, gradient norm=0.0003363104320461331]\n"
     ]
    },
    {
     "name": "stdout",
     "output_type": "stream",
     "text": [
      "alpha=4.517e-06, time=0.41s, n_iter=1\n"
     ]
    },
    {
     "name": "stderr",
     "output_type": "stream",
     "text": [
      "Iteration 0:  57%|██████████████████████████████████████████████████████████████████████████████████████████████████▌                                                                          | 0.57/1.0 [0.07s/it, gradient norm=0.000271802557376457]\n"
     ]
    },
    {
     "name": "stdout",
     "output_type": "stream",
     "text": [
      "alpha=3.574e-06, time=0.24s, n_iter=1\n"
     ]
    },
    {
     "name": "stderr",
     "output_type": "stream",
     "text": [
      "Iteration 0:  64%|█████████████████████████████████████████████████████████████████████████████████████████████████████████████▍                                                             | 0.64/1.0 [0.12s/it, gradient norm=0.00022751912205043898]\n"
     ]
    },
    {
     "name": "stdout",
     "output_type": "stream",
     "text": [
      "alpha=2.828e-06, time=0.40s, n_iter=1\n"
     ]
    },
    {
     "name": "stderr",
     "output_type": "stream",
     "text": [
      "Iteration 0:  74%|██████████████████████████████████████████████████████████████████████████████████████████████████████████████████████████████▌                                            | 0.74/1.0 [0.06s/it, gradient norm=0.00018235724197021485]\n"
     ]
    },
    {
     "name": "stdout",
     "output_type": "stream",
     "text": [
      "alpha=2.237e-06, time=0.41s, n_iter=1\n"
     ]
    },
    {
     "name": "stderr",
     "output_type": "stream",
     "text": [
      "Iteration 0:  83%|██████████████████████████████████████████████████████████████████████████████████████████████████████████████████████████████████████████████▊                             | 0.83/1.0 [0.09s/it, gradient norm=0.0001491506104799259]\n"
     ]
    },
    {
     "name": "stdout",
     "output_type": "stream",
     "text": [
      "alpha=1.770e-06, time=0.43s, n_iter=1\n"
     ]
    },
    {
     "name": "stderr",
     "output_type": "stream",
     "text": [
      "Iteration 0:  92%|█████████████████████████████████████████████████████████████████████████████████████████████████████████████████████████████████████████████████████████████▎             | 0.92/1.0 [0.09s/it, gradient norm=0.00012028223146645096]\n"
     ]
    },
    {
     "name": "stdout",
     "output_type": "stream",
     "text": [
      "alpha=1.401e-06, time=0.38s, n_iter=1\n"
     ]
    },
    {
     "name": "stderr",
     "output_type": "stream",
     "text": [
      "Iteration 0: |                                                                                                                                                                                      | 0/-0.0 [s/it, gradient norm=9.619470694626461e-05]\n"
     ]
    },
    {
     "name": "stdout",
     "output_type": "stream",
     "text": [
      "alpha=1.108e-06, time=0.07s, n_iter=0\n"
     ]
    },
    {
     "name": "stderr",
     "output_type": "stream",
     "text": [
      "Iteration 0:  79%|███████████████████████████████████████████████████████████████████████████████████████████████████████████████████████████████████████                                    | 0.79/1.0 [0.11s/it, gradient norm=0.00016333561148218633]\n"
     ]
    },
    {
     "name": "stdout",
     "output_type": "stream",
     "text": [
      "alpha=8.770e-07, time=0.41s, n_iter=1\n"
     ]
    },
    {
     "name": "stderr",
     "output_type": "stream",
     "text": [
      "Iteration 0: |                                                                                                                                                                                      | 0/-0.0 [s/it, gradient norm=6.580566380895667e-05]\n"
     ]
    },
    {
     "name": "stdout",
     "output_type": "stream",
     "text": [
      "alpha=6.939e-07, time=0.08s, n_iter=0\n"
     ]
    },
    {
     "name": "stderr",
     "output_type": "stream",
     "text": [
      "Iteration 0:  97%|█████████████████████████████████████████████████████████████████████████████████████████████████████████████████████████████████████████████████████████████████████▊     | 0.97/1.0 [0.11s/it, gradient norm=0.00010818377130471112]\n"
     ]
    },
    {
     "name": "stdout",
     "output_type": "stream",
     "text": [
      "alpha=5.490e-07, time=0.43s, n_iter=1\n"
     ]
    },
    {
     "name": "stderr",
     "output_type": "stream",
     "text": [
      "Iteration 1:  94%|█████████████████████████████████████████████████████████████████████████████████████████████████████████████████████████████████████████████████████████████████▌         | 1.89/2.0 [0.14s/it, gradient norm=0.00012759674888897379]\n"
     ]
    },
    {
     "name": "stdout",
     "output_type": "stream",
     "text": [
      "alpha=5.490e-01, time=0.47s, n_iter=2\n"
     ]
    },
    {
     "name": "stderr",
     "output_type": "stream",
     "text": [
      "Iteration 1:  44%|███████████████████████████████████████████████████████████████████████████▎                                                                                                 | 0.87/2.0 [0.13s/it, gradient norm=0.001351793892174677]\n"
     ]
    },
    {
     "name": "stdout",
     "output_type": "stream",
     "text": [
      "alpha=4.344e-01, time=0.49s, n_iter=2\n"
     ]
    },
    {
     "name": "stderr",
     "output_type": "stream",
     "text": [
      "Iteration 1:  58%|███████████████████████████████████████████████████████████████████████████████████████████████████▊                                                                        | 1.16/2.0 [0.16s/it, gradient norm=0.0006927350482910638]\n"
     ]
    },
    {
     "name": "stdout",
     "output_type": "stream",
     "text": [
      "alpha=3.437e-01, time=0.38s, n_iter=2\n"
     ]
    },
    {
     "name": "stderr",
     "output_type": "stream",
     "text": [
      "Iteration 1:  71%|██████████████████████████████████████████████████████████████████████████████████████████████████████████████████████████                                                  | 1.42/2.0 [0.16s/it, gradient norm=0.0003830029802268047]\n"
     ]
    },
    {
     "name": "stdout",
     "output_type": "stream",
     "text": [
      "alpha=2.720e-01, time=0.41s, n_iter=2\n"
     ]
    },
    {
     "name": "stderr",
     "output_type": "stream",
     "text": [
      "Iteration 1:  83%|█████████████████████████████████████████████████████████████████████████████████████████████████████████████████████████████████████████████▉                             | 1.66/2.0 [0.13s/it, gradient norm=0.00021977218397999391]\n"
     ]
    },
    {
     "name": "stdout",
     "output_type": "stream",
     "text": [
      "alpha=2.152e-01, time=0.43s, n_iter=2\n"
     ]
    },
    {
     "name": "stderr",
     "output_type": "stream",
     "text": [
      "Iteration 1:  94%|█████████████████████████████████████████████████████████████████████████████████████████████████████████████████████████████████████████████████████████████████▌         | 1.89/2.0 [0.29s/it, gradient norm=0.00012927858438961944]\n"
     ]
    },
    {
     "name": "stdout",
     "output_type": "stream",
     "text": [
      "alpha=1.703e-01, time=0.52s, n_iter=2\n"
     ]
    },
    {
     "name": "stderr",
     "output_type": "stream",
     "text": [
      "Iteration 0:  30%|████████████████████████████████████████████████████▊                                                                                                                        | 0.61/2.0 [0.11s/it, gradient norm=0.002469858347596095]\n"
     ]
    },
    {
     "name": "stdout",
     "output_type": "stream",
     "text": [
      "alpha=1.347e-01, time=0.25s, n_iter=1\n"
     ]
    },
    {
     "name": "stderr",
     "output_type": "stream",
     "text": [
      "Iteration 0:  36%|██████████████████████████████████████████████████████████████▎                                                                                                              | 0.72/2.0 [0.10s/it, gradient norm=0.001922712442076706]\n"
     ]
    },
    {
     "name": "stdout",
     "output_type": "stream",
     "text": [
      "alpha=1.066e-01, time=0.23s, n_iter=1\n"
     ]
    },
    {
     "name": "stderr",
     "output_type": "stream",
     "text": [
      "Iteration 0:  41%|██████████████████████████████████████████████████████████████████████▌                                                                                                     | 0.82/2.0 [0.07s/it, gradient norm=0.0015285637322456688]\n"
     ]
    },
    {
     "name": "stdout",
     "output_type": "stream",
     "text": [
      "alpha=8.434e-02, time=0.23s, n_iter=1\n"
     ]
    },
    {
     "name": "stderr",
     "output_type": "stream",
     "text": [
      "Iteration 0:  46%|███████████████████████████████████████████████████████████████████████████████                                                                                             | 0.92/2.0 [0.08s/it, gradient norm=0.0012123747354399555]\n"
     ]
    },
    {
     "name": "stdout",
     "output_type": "stream",
     "text": [
      "alpha=6.673e-02, time=0.20s, n_iter=1\n"
     ]
    },
    {
     "name": "stderr",
     "output_type": "stream",
     "text": [
      "Iteration 0:   2%|███▍                                                                                                                                                                        | 0.02/1.0 [0.12s/it, gradient norm=0.0009611456544890159]\n"
     ]
    },
    {
     "name": "stdout",
     "output_type": "stream",
     "text": [
      "alpha=5.280e-02, time=0.36s, n_iter=1\n"
     ]
    },
    {
     "name": "stderr",
     "output_type": "stream",
     "text": [
      "Iteration 0:  12%|████████████████████▋                                                                                                                                                       | 0.12/1.0 [0.08s/it, gradient norm=0.0007616572918175317]\n"
     ]
    },
    {
     "name": "stdout",
     "output_type": "stream",
     "text": [
      "alpha=4.178e-02, time=0.23s, n_iter=1\n"
     ]
    },
    {
     "name": "stderr",
     "output_type": "stream",
     "text": [
      "Iteration 0:  22%|█████████████████████████████████████▊                                                                                                                                      | 0.22/1.0 [0.08s/it, gradient norm=0.0006051223072775668]\n"
     ]
    },
    {
     "name": "stdout",
     "output_type": "stream",
     "text": [
      "alpha=3.306e-02, time=0.22s, n_iter=1\n"
     ]
    },
    {
     "name": "stderr",
     "output_type": "stream",
     "text": [
      "Iteration 0:  32%|███████████████████████████████████████████████████████                                                                                                                     | 0.32/1.0 [0.08s/it, gradient norm=0.0004793492415007898]\n"
     ]
    },
    {
     "name": "stdout",
     "output_type": "stream",
     "text": [
      "alpha=2.616e-02, time=0.26s, n_iter=1\n"
     ]
    },
    {
     "name": "stderr",
     "output_type": "stream",
     "text": [
      "Iteration 0:  42%|███████████████████████████████████████████████████████████████████████▊                                                                                                   | 0.42/1.0 [0.09s/it, gradient norm=0.00037961850769087125]\n"
     ]
    },
    {
     "name": "stdout",
     "output_type": "stream",
     "text": [
      "alpha=2.069e-02, time=0.22s, n_iter=1\n"
     ]
    },
    {
     "name": "stderr",
     "output_type": "stream",
     "text": [
      "Iteration 0:  36%|███████████████████████████████████████████████████████████████▏                                                                                                             | 0.73/2.0 [0.12s/it, gradient norm=0.001847587677254499]\n"
     ]
    },
    {
     "name": "stdout",
     "output_type": "stream",
     "text": [
      "alpha=1.637e-02, time=0.35s, n_iter=1\n"
     ]
    },
    {
     "name": "stderr",
     "output_type": "stream",
     "text": [
      "Iteration 0:  34%|██████████████████████████████████████████████████████████▍                                                                                                                 | 0.68/2.0 [0.09s/it, gradient norm=0.0020781174151755597]\n"
     ]
    },
    {
     "name": "stdout",
     "output_type": "stream",
     "text": [
      "alpha=1.296e-02, time=0.30s, n_iter=1\n"
     ]
    },
    {
     "name": "stderr",
     "output_type": "stream",
     "text": [
      "Iteration 0:  39%|███████████████████████████████████████████████████████████████████▍                                                                                                         | 0.78/2.0 [0.10s/it, gradient norm=0.001647324803600575]\n"
     ]
    },
    {
     "name": "stdout",
     "output_type": "stream",
     "text": [
      "alpha=1.025e-02, time=0.24s, n_iter=1\n"
     ]
    },
    {
     "name": "stderr",
     "output_type": "stream",
     "text": [
      "Iteration 0:  44%|████████████████████████████████████████████████████████████████████████████▉                                                                                                | 0.89/2.0 [0.08s/it, gradient norm=0.001302389883747326]\n"
     ]
    },
    {
     "name": "stdout",
     "output_type": "stream",
     "text": [
      "alpha=8.111e-03, time=0.17s, n_iter=1\n"
     ]
    },
    {
     "name": "stderr",
     "output_type": "stream",
     "text": [
      "Iteration 0:  50%|█████████████████████████████████████████████████████████████████████████████████████▏                                                                                      | 0.99/2.0 [0.14s/it, gradient norm=0.0010296217728741732]\n"
     ]
    },
    {
     "name": "stdout",
     "output_type": "stream",
     "text": [
      "alpha=6.418e-03, time=0.38s, n_iter=1\n"
     ]
    },
    {
     "name": "stderr",
     "output_type": "stream",
     "text": [
      "Iteration 0:   9%|███████████████▍                                                                                                                                                            | 0.09/1.0 [0.11s/it, gradient norm=0.0008141363686651586]\n"
     ]
    },
    {
     "name": "stdout",
     "output_type": "stream",
     "text": [
      "alpha=5.078e-03, time=0.29s, n_iter=1\n"
     ]
    },
    {
     "name": "stderr",
     "output_type": "stream",
     "text": [
      "Iteration 0:  19%|████████████████████████████████▋                                                                                                                                           | 0.19/1.0 [0.08s/it, gradient norm=0.0006438429687417431]\n"
     ]
    },
    {
     "name": "stdout",
     "output_type": "stream",
     "text": [
      "alpha=4.018e-03, time=0.23s, n_iter=1\n"
     ]
    },
    {
     "name": "stderr",
     "output_type": "stream",
     "text": [
      "Iteration 0:  49%|████████████████████████████████████████████████████████████████████████████████████▊                                                                                        | 0.98/2.0 [0.09s/it, gradient norm=0.001054607130649581]\n"
     ]
    },
    {
     "name": "stdout",
     "output_type": "stream",
     "text": [
      "alpha=3.179e-03, time=0.32s, n_iter=1\n"
     ]
    },
    {
     "name": "stderr",
     "output_type": "stream",
     "text": [
      "Iteration 0:  24%|████████████████████████████████████████▍                                                                                                                                   | 0.47/2.0 [0.12s/it, gradient norm=0.0033979975445667266]\n"
     ]
    },
    {
     "name": "stdout",
     "output_type": "stream",
     "text": [
      "alpha=2.515e-03, time=0.41s, n_iter=1\n"
     ]
    },
    {
     "name": "stderr",
     "output_type": "stream",
     "text": [
      "Iteration 0:  16%|███████████████████████████▌                                                                                                                                                | 0.32/2.0 [0.10s/it, gradient norm=0.0048230884003718725]\n"
     ]
    },
    {
     "name": "stdout",
     "output_type": "stream",
     "text": [
      "alpha=1.990e-03, time=0.31s, n_iter=1\n"
     ]
    },
    {
     "name": "stderr",
     "output_type": "stream",
     "text": [
      "Iteration 1:  94%|███████████████████████████████████████████████████████████████████████████████████████████████████████████████████████████████████████████████████████████████▉           | 1.87/2.0 [0.20s/it, gradient norm=0.00013399498558583513]\n"
     ]
    },
    {
     "name": "stdout",
     "output_type": "stream",
     "text": [
      "alpha=1.575e-03, time=0.46s, n_iter=2\n"
     ]
    },
    {
     "name": "stderr",
     "output_type": "stream",
     "text": [
      "Iteration 1:  87%|█████████████████████████████████████████████████████████████████████████████████████████████████████████████████████████████████████████████████████▋                      | 1.74/2.0 [0.29s/it, gradient norm=0.0001813920880104368]\n"
     ]
    },
    {
     "name": "stdout",
     "output_type": "stream",
     "text": [
      "alpha=1.246e-03, time=0.56s, n_iter=2\n"
     ]
    },
    {
     "name": "stderr",
     "output_type": "stream",
     "text": [
      "Iteration 1:  96%|███████████████████████████████████████████████████████████████████████████████████████████████████████████████████████████████████████████████████████████████████▎       | 1.91/2.0 [0.22s/it, gradient norm=0.00012249762184765193]\n"
     ]
    },
    {
     "name": "stdout",
     "output_type": "stream",
     "text": [
      "alpha=9.859e-04, time=0.43s, n_iter=2\n"
     ]
    },
    {
     "name": "stderr",
     "output_type": "stream",
     "text": [
      "Iteration 1:  98%|████████████████████████████████████████████████████████████████████████████████████████████████████████████████████████████████████████████████████████████████████████▍  | 1.97/2.0 [0.33s/it, gradient norm=0.00010800046320303595]\n"
     ]
    },
    {
     "name": "stdout",
     "output_type": "stream",
     "text": [
      "alpha=7.801e-04, time=0.66s, n_iter=2\n"
     ]
    },
    {
     "name": "stderr",
     "output_type": "stream",
     "text": [
      "Iteration 1:  92%|█████████████████████████████████████████████████████████████████████████████████████████████████████████████████████████████████████████████████████████████▍              | 1.83/2.0 [0.23s/it, gradient norm=0.0001482653431562803]\n"
     ]
    },
    {
     "name": "stdout",
     "output_type": "stream",
     "text": [
      "alpha=6.172e-04, time=0.64s, n_iter=2\n"
     ]
    },
    {
     "name": "stderr",
     "output_type": "stream",
     "text": [
      "Iteration 1:  98%|███████████████████████████████████████████████████████████████████████████████████████████████████████████████████████████████████████████████████████████████████████▌   | 1.96/2.0 [0.22s/it, gradient norm=0.00011027025050564193]\n"
     ]
    },
    {
     "name": "stdout",
     "output_type": "stream",
     "text": [
      "alpha=4.884e-04, time=0.59s, n_iter=2\n"
     ]
    },
    {
     "name": "stderr",
     "output_type": "stream",
     "text": [
      "Iteration 0:  17%|█████████████████████████████▍                                                                                                                                               | 0.34/2.0 [0.11s/it, gradient norm=0.004548284482289793]\n"
     ]
    },
    {
     "name": "stdout",
     "output_type": "stream",
     "text": [
      "alpha=3.864e-04, time=0.33s, n_iter=1\n"
     ]
    },
    {
     "name": "stderr",
     "output_type": "stream",
     "text": [
      "Iteration 0:  18%|███████████████████████████████▏                                                                                                                                             | 0.36/2.0 [0.09s/it, gradient norm=0.004373870058613064]\n"
     ]
    },
    {
     "name": "stdout",
     "output_type": "stream",
     "text": [
      "alpha=3.057e-04, time=0.43s, n_iter=1\n"
     ]
    },
    {
     "name": "stderr",
     "output_type": "stream",
     "text": [
      "Iteration 0:  19%|████████████████████████████████▊                                                                                                                                            | 0.38/2.0 [0.20s/it, gradient norm=0.004185067156608149]\n"
     ]
    },
    {
     "name": "stdout",
     "output_type": "stream",
     "text": [
      "alpha=2.419e-04, time=0.46s, n_iter=1\n"
     ]
    },
    {
     "name": "stderr",
     "output_type": "stream",
     "text": [
      "Iteration 0:  20%|██████████████████████████████████▊                                                                                                                                           | 0.4/2.0 [0.09s/it, gradient norm=0.003942681996241201]\n"
     ]
    },
    {
     "name": "stdout",
     "output_type": "stream",
     "text": [
      "alpha=1.914e-04, time=0.51s, n_iter=1\n"
     ]
    },
    {
     "name": "stderr",
     "output_type": "stream",
     "text": [
      "Iteration 0:  22%|██████████████████████████████████████▋                                                                                                                                     | 0.45/2.0 [0.14s/it, gradient norm=0.0035707965595964558]\n"
     ]
    },
    {
     "name": "stdout",
     "output_type": "stream",
     "text": [
      "alpha=1.515e-04, time=0.41s, n_iter=1\n"
     ]
    },
    {
     "name": "stderr",
     "output_type": "stream",
     "text": [
      "Iteration 1:  96%|████████████████████████████████████████████████████████████████████████████████████████████████████████████████████████████████████████████████████████████████████▏      | 1.92/2.0 [0.31s/it, gradient norm=0.00011909168083573328]\n"
     ]
    },
    {
     "name": "stdout",
     "output_type": "stream",
     "text": [
      "alpha=1.198e-04, time=0.62s, n_iter=2\n"
     ]
    },
    {
     "name": "stderr",
     "output_type": "stream",
     "text": [
      "Iteration 0:  25%|███████████████████████████████████████████▎                                                                                                                                 | 0.5/2.0 [0.09s/it, gradient norm=0.0031940432589622056]\n"
     ]
    },
    {
     "name": "stdout",
     "output_type": "stream",
     "text": [
      "alpha=9.482e-05, time=0.33s, n_iter=1\n"
     ]
    },
    {
     "name": "stderr",
     "output_type": "stream",
     "text": [
      "Iteration 0:  28%|████████████████████████████████████████████████▍                                                                                                                            | 0.56/2.0 [0.11s/it, gradient norm=0.002750322937537181]\n"
     ]
    },
    {
     "name": "stdout",
     "output_type": "stream",
     "text": [
      "alpha=7.502e-05, time=0.36s, n_iter=1\n"
     ]
    },
    {
     "name": "stderr",
     "output_type": "stream",
     "text": [
      "Iteration 0:  33%|████████████████████████████████████████████████████████▊                                                                                                                   | 0.66/2.0 [0.09s/it, gradient norm=0.0021975401391520887]\n"
     ]
    },
    {
     "name": "stdout",
     "output_type": "stream",
     "text": [
      "alpha=5.936e-05, time=0.47s, n_iter=1\n"
     ]
    },
    {
     "name": "stderr",
     "output_type": "stream",
     "text": [
      "Iteration 0:  35%|████████████████████████████████████████████████████████████▉                                                                                                                 | 0.7/2.0 [0.21s/it, gradient norm=0.001979843474721054]\n"
     ]
    },
    {
     "name": "stdout",
     "output_type": "stream",
     "text": [
      "alpha=4.697e-05, time=0.61s, n_iter=1\n"
     ]
    },
    {
     "name": "stderr",
     "output_type": "stream",
     "text": [
      "Iteration 0:  38%|█████████████████████████████████████████████████████████████████▎                                                                                                          | 0.76/2.0 [0.21s/it, gradient norm=0.0017324814695692046]\n"
     ]
    },
    {
     "name": "stdout",
     "output_type": "stream",
     "text": [
      "alpha=3.716e-05, time=0.59s, n_iter=1\n"
     ]
    },
    {
     "name": "stderr",
     "output_type": "stream",
     "text": [
      "Iteration 0:  42%|█████████████████████████████████████████████████████████████████████████                                                                                                   | 0.85/2.0 [0.20s/it, gradient norm=0.0014131898431625758]\n"
     ]
    },
    {
     "name": "stdout",
     "output_type": "stream",
     "text": [
      "alpha=2.940e-05, time=0.62s, n_iter=1\n"
     ]
    },
    {
     "name": "stderr",
     "output_type": "stream",
     "text": [
      "Iteration 0:  46%|██████████████████████████████████████████████████████████████████████████████▎                                                                                             | 0.91/2.0 [0.18s/it, gradient norm=0.0012260007913937568]\n"
     ]
    },
    {
     "name": "stdout",
     "output_type": "stream",
     "text": [
      "alpha=2.327e-05, time=0.58s, n_iter=1\n"
     ]
    },
    {
     "name": "stderr",
     "output_type": "stream",
     "text": [
      "Iteration 0:  49%|████████████████████████████████████████████████████████████████████████████████████▎                                                                                       | 0.98/2.0 [0.11s/it, gradient norm=0.0010554825779048455]\n"
     ]
    },
    {
     "name": "stdout",
     "output_type": "stream",
     "text": [
      "alpha=1.841e-05, time=0.52s, n_iter=1\n"
     ]
    },
    {
     "name": "stderr",
     "output_type": "stream",
     "text": [
      "Iteration 0:   0%|                                                                                                                                                                             | 0.0/1.0 [0.08s/it, gradient norm=0.0009962879012792652]\n"
     ]
    },
    {
     "name": "stdout",
     "output_type": "stream",
     "text": [
      "alpha=1.457e-05, time=0.55s, n_iter=1\n"
     ]
    },
    {
     "name": "stderr",
     "output_type": "stream",
     "text": [
      "Iteration 0:   9%|███████████████▌                                                                                                                                                             | 0.09/1.0 [0.10s/it, gradient norm=0.000817511365943925]\n"
     ]
    },
    {
     "name": "stdout",
     "output_type": "stream",
     "text": [
      "alpha=1.152e-05, time=0.51s, n_iter=1\n"
     ]
    },
    {
     "name": "stderr",
     "output_type": "stream",
     "text": [
      "Iteration 0:  19%|████████████████████████████████▋                                                                                                                                           | 0.19/1.0 [0.10s/it, gradient norm=0.0006496003178275705]\n"
     ]
    },
    {
     "name": "stdout",
     "output_type": "stream",
     "text": [
      "alpha=9.119e-06, time=0.46s, n_iter=1\n"
     ]
    },
    {
     "name": "stderr",
     "output_type": "stream",
     "text": [
      "Iteration 0:  28%|████████████████████████████████████████████████▍                                                                                                                            | 0.28/1.0 [0.15s/it, gradient norm=0.000521823076231248]\n"
     ]
    },
    {
     "name": "stdout",
     "output_type": "stream",
     "text": [
      "alpha=7.215e-06, time=0.47s, n_iter=1\n"
     ]
    },
    {
     "name": "stderr",
     "output_type": "stream",
     "text": [
      "Iteration 0:  37%|███████████████████████████████████████████████████████████████▋                                                                                                            | 0.37/1.0 [0.08s/it, gradient norm=0.0004217998736817108]\n"
     ]
    },
    {
     "name": "stdout",
     "output_type": "stream",
     "text": [
      "alpha=5.709e-06, time=0.54s, n_iter=1\n"
     ]
    },
    {
     "name": "stderr",
     "output_type": "stream",
     "text": [
      "Iteration 0:  47%|████████████████████████████████████████████████████████████████████████████████▎                                                                                          | 0.47/1.0 [0.10s/it, gradient norm=0.00033763773353934803]\n"
     ]
    },
    {
     "name": "stdout",
     "output_type": "stream",
     "text": [
      "alpha=4.517e-06, time=0.42s, n_iter=1\n"
     ]
    },
    {
     "name": "stderr",
     "output_type": "stream",
     "text": [
      "Iteration 0:  56%|███████████████████████████████████████████████████████████████████████████████████████████████▊                                                                           | 0.56/1.0 [0.09s/it, gradient norm=0.00027850147703998874]\n"
     ]
    },
    {
     "name": "stdout",
     "output_type": "stream",
     "text": [
      "alpha=3.574e-06, time=0.40s, n_iter=1\n"
     ]
    },
    {
     "name": "stderr",
     "output_type": "stream",
     "text": [
      "Iteration 0:  64%|█████████████████████████████████████████████████████████████████████████████████████████████████████████████▍                                                             | 0.64/1.0 [0.12s/it, gradient norm=0.00022796612250637545]\n"
     ]
    },
    {
     "name": "stdout",
     "output_type": "stream",
     "text": [
      "alpha=2.828e-06, time=0.43s, n_iter=1\n"
     ]
    },
    {
     "name": "stderr",
     "output_type": "stream",
     "text": [
      "Iteration 0:  72%|███████████████████████████████████████████████████████████████████████████████████████████████████████████████████████████                                                | 0.72/1.0 [0.10s/it, gradient norm=0.00019217030930171423]\n"
     ]
    },
    {
     "name": "stdout",
     "output_type": "stream",
     "text": [
      "alpha=2.237e-06, time=0.49s, n_iter=1\n"
     ]
    },
    {
     "name": "stderr",
     "output_type": "stream",
     "text": [
      "Iteration 0:  81%|██████████████████████████████████████████████████████████████████████████████████████████████████████████████████████████████████████████▌                                | 0.81/1.0 [0.10s/it, gradient norm=0.00015581279463177959]\n"
     ]
    },
    {
     "name": "stdout",
     "output_type": "stream",
     "text": [
      "alpha=1.770e-06, time=0.57s, n_iter=1\n"
     ]
    },
    {
     "name": "stderr",
     "output_type": "stream",
     "text": [
      "Iteration 0:  90%|██████████████████████████████████████████████████████████████████████████████████████████████████████████████████████████████████████████████████████████▊                 | 0.9/1.0 [0.18s/it, gradient norm=0.00012521091442808358]\n"
     ]
    },
    {
     "name": "stdout",
     "output_type": "stream",
     "text": [
      "alpha=1.401e-06, time=0.48s, n_iter=1\n"
     ]
    },
    {
     "name": "stderr",
     "output_type": "stream",
     "text": [
      "Iteration 0: 100%|████████████████████████████████████████████████████████████████████████████████████████████████████████████████████████████████████████████████████████████████████████████| 1.0/1.0 [0.12s/it, gradient norm=0.00010077202349246404]\n"
     ]
    },
    {
     "name": "stdout",
     "output_type": "stream",
     "text": [
      "alpha=1.108e-06, time=0.42s, n_iter=1\n"
     ]
    },
    {
     "name": "stderr",
     "output_type": "stream",
     "text": [
      "Iteration 0: |                                                                                                                                                                                      | 0/-0.0 [s/it, gradient norm=8.125624057148746e-05]\n"
     ]
    },
    {
     "name": "stdout",
     "output_type": "stream",
     "text": [
      "alpha=8.770e-07, time=0.21s, n_iter=0\n"
     ]
    },
    {
     "name": "stderr",
     "output_type": "stream",
     "text": [
      "Iteration 0:  87%|█████████████████████████████████████████████████████████████████████████████████████████████████████████████████████████████████████████████████████▋                      | 0.87/1.0 [0.11s/it, gradient norm=0.0001353212849331869]\n"
     ]
    },
    {
     "name": "stdout",
     "output_type": "stream",
     "text": [
      "alpha=6.939e-07, time=0.44s, n_iter=1\n"
     ]
    },
    {
     "name": "stderr",
     "output_type": "stream",
     "text": [
      "Iteration 0: |                                                                                                                                                                                       | 0/-0.0 [s/it, gradient norm=5.65744572317176e-05]\n"
     ]
    },
    {
     "name": "stdout",
     "output_type": "stream",
     "text": [
      "alpha=5.490e-07, time=0.16s, n_iter=0\n"
     ]
    },
    {
     "name": "stderr",
     "output_type": "stream",
     "text": [
      "Iteration 0: |                                                                                                                                                                                          | 0/? [s/it, gradient norm=4.54899441369616e-17]\n"
     ]
    },
    {
     "name": "stdout",
     "output_type": "stream",
     "text": [
      "alpha=5.490e-01, time=0.09s, n_iter=0\n"
     ]
    },
    {
     "name": "stderr",
     "output_type": "stream",
     "text": [
      "Iteration 1:  44%|████████████████████████████████████████████████████████████████████████████                                                                                                 | 0.88/2.0 [0.26s/it, gradient norm=0.001306331656945338]\n"
     ]
    },
    {
     "name": "stdout",
     "output_type": "stream",
     "text": [
      "alpha=4.344e-01, time=0.55s, n_iter=2\n"
     ]
    },
    {
     "name": "stderr",
     "output_type": "stream",
     "text": [
      "Iteration 1:  56%|███████████████████████████████████████████████████████████████████████████████████████████████▍                                                                            | 1.11/2.0 [0.16s/it, gradient norm=0.0007682915327604015]\n"
     ]
    },
    {
     "name": "stdout",
     "output_type": "stream",
     "text": [
      "alpha=3.437e-01, time=0.38s, n_iter=2\n"
     ]
    },
    {
     "name": "stderr",
     "output_type": "stream",
     "text": [
      "Iteration 1:  69%|█████████████████████████████████████████████████████████████████████████████████████████████████████████████████████▉                                                     | 1.38/2.0 [0.17s/it, gradient norm=0.00042015464448296385]\n"
     ]
    },
    {
     "name": "stdout",
     "output_type": "stream",
     "text": [
      "alpha=2.720e-01, time=0.51s, n_iter=2\n"
     ]
    },
    {
     "name": "stderr",
     "output_type": "stream",
     "text": [
      "Iteration 1:  81%|██████████████████████████████████████████████████████████████████████████████████████████████████████████████████████████████████████████▌                                | 1.62/2.0 [0.14s/it, gradient norm=0.00023917088780299288]\n"
     ]
    },
    {
     "name": "stdout",
     "output_type": "stream",
     "text": [
      "alpha=2.152e-01, time=0.35s, n_iter=2\n"
     ]
    },
    {
     "name": "stderr",
     "output_type": "stream",
     "text": [
      "Iteration 1:  92%|██████████████████████████████████████████████████████████████████████████████████████████████████████████████████████████████████████████████████████████████▏            | 1.85/2.0 [0.24s/it, gradient norm=0.00013998516897619574]\n"
     ]
    },
    {
     "name": "stdout",
     "output_type": "stream",
     "text": [
      "alpha=1.703e-01, time=0.48s, n_iter=2\n"
     ]
    },
    {
     "name": "stderr",
     "output_type": "stream",
     "text": [
      "Iteration 0:  30%|███████████████████████████████████████████████████▉                                                                                                                         | 0.6/2.0 [0.09s/it, gradient norm=0.0025048995996660747]\n"
     ]
    },
    {
     "name": "stdout",
     "output_type": "stream",
     "text": [
      "alpha=1.347e-01, time=0.28s, n_iter=1\n"
     ]
    },
    {
     "name": "stderr",
     "output_type": "stream",
     "text": [
      "Iteration 0:  36%|█████████████████████████████████████████████████████████████▍                                                                                                               | 0.71/2.0 [0.09s/it, gradient norm=0.001947646341672304]\n"
     ]
    },
    {
     "name": "stdout",
     "output_type": "stream",
     "text": [
      "alpha=1.066e-01, time=0.32s, n_iter=1\n"
     ]
    },
    {
     "name": "stderr",
     "output_type": "stream",
     "text": [
      "Iteration 0:  40%|██████████████████████████████████████████████████████████████████████                                                                                                       | 0.81/2.0 [0.13s/it, gradient norm=0.001549032612194257]\n"
     ]
    },
    {
     "name": "stdout",
     "output_type": "stream",
     "text": [
      "alpha=8.434e-02, time=0.43s, n_iter=1\n"
     ]
    },
    {
     "name": "stderr",
     "output_type": "stream",
     "text": [
      "Iteration 0:  46%|██████████████████████████████████████████████████████████████████████████████▎                                                                                             | 0.91/2.0 [0.13s/it, gradient norm=0.0012287873623226854]\n"
     ]
    },
    {
     "name": "stdout",
     "output_type": "stream",
     "text": [
      "alpha=6.673e-02, time=0.44s, n_iter=1\n"
     ]
    },
    {
     "name": "stderr",
     "output_type": "stream",
     "text": [
      "Iteration 0:   1%|█▋                                                                                                                                                                          | 0.01/1.0 [0.11s/it, gradient norm=0.0009742785387814624]\n"
     ]
    },
    {
     "name": "stdout",
     "output_type": "stream",
     "text": [
      "alpha=5.280e-02, time=0.36s, n_iter=1\n"
     ]
    },
    {
     "name": "stderr",
     "output_type": "stream",
     "text": [
      "Iteration 0:  11%|███████████████████                                                                                                                                                          | 0.11/1.0 [0.13s/it, gradient norm=0.000773819840913214]\n"
     ]
    },
    {
     "name": "stdout",
     "output_type": "stream",
     "text": [
      "alpha=4.178e-02, time=0.27s, n_iter=1\n"
     ]
    },
    {
     "name": "stderr",
     "output_type": "stream",
     "text": [
      "Iteration 0:  21%|████████████████████████████████████                                                                                                                                        | 0.21/1.0 [0.09s/it, gradient norm=0.0006131969431847214]\n"
     ]
    },
    {
     "name": "stdout",
     "output_type": "stream",
     "text": [
      "alpha=3.306e-02, time=0.23s, n_iter=1\n"
     ]
    },
    {
     "name": "stderr",
     "output_type": "stream",
     "text": [
      "Iteration 0:  31%|█████████████████████████████████████████████████████                                                                                                                      | 0.31/1.0 [0.11s/it, gradient norm=0.00048575387878048963]\n"
     ]
    },
    {
     "name": "stdout",
     "output_type": "stream",
     "text": [
      "alpha=2.616e-02, time=0.28s, n_iter=1\n"
     ]
    },
    {
     "name": "stderr",
     "output_type": "stream",
     "text": [
      "Iteration 0:  41%|██████████████████████████████████████████████████████████████████████                                                                                                     | 0.41/1.0 [0.08s/it, gradient norm=0.00038470385564475944]\n"
     ]
    },
    {
     "name": "stdout",
     "output_type": "stream",
     "text": [
      "alpha=2.069e-02, time=0.24s, n_iter=1\n"
     ]
    },
    {
     "name": "stderr",
     "output_type": "stream",
     "text": [
      "Iteration 0:  44%|███████████████████████████████████████████████████████████████████████████▋                                                                                                | 0.88/2.0 [0.08s/it, gradient norm=0.0013247039883738916]\n"
     ]
    },
    {
     "name": "stdout",
     "output_type": "stream",
     "text": [
      "alpha=1.637e-02, time=0.40s, n_iter=1\n"
     ]
    },
    {
     "name": "stderr",
     "output_type": "stream",
     "text": [
      "Iteration 0:  34%|██████████████████████████████████████████████████████████▊                                                                                                                  | 0.68/2.0 [0.18s/it, gradient norm=0.002078347938029225]\n"
     ]
    },
    {
     "name": "stdout",
     "output_type": "stream",
     "text": [
      "alpha=1.296e-02, time=0.34s, n_iter=1\n"
     ]
    },
    {
     "name": "stderr",
     "output_type": "stream",
     "text": [
      "Iteration 0:  39%|███████████████████████████████████████████████████████████████████                                                                                                         | 0.78/2.0 [0.10s/it, gradient norm=0.0016501910126356287]\n"
     ]
    },
    {
     "name": "stdout",
     "output_type": "stream",
     "text": [
      "alpha=1.025e-02, time=0.28s, n_iter=1\n"
     ]
    },
    {
     "name": "stderr",
     "output_type": "stream",
     "text": [
      "Iteration 0:  44%|███████████████████████████████████████████████████████████████████████████▋                                                                                                | 0.88/2.0 [0.09s/it, gradient norm=0.0013046982776778382]\n"
     ]
    },
    {
     "name": "stdout",
     "output_type": "stream",
     "text": [
      "alpha=8.111e-03, time=0.28s, n_iter=1\n"
     ]
    },
    {
     "name": "stderr",
     "output_type": "stream",
     "text": [
      "Iteration 0:  50%|██████████████████████████████████████████████████████████████████████████████████████▏                                                                                       | 0.99/2.0 [0.11s/it, gradient norm=0.00103135365655528]\n"
     ]
    },
    {
     "name": "stdout",
     "output_type": "stream",
     "text": [
      "alpha=6.418e-03, time=0.32s, n_iter=1\n"
     ]
    },
    {
     "name": "stderr",
     "output_type": "stream",
     "text": [
      "Iteration 0:   9%|███████████████▍                                                                                                                                                            | 0.09/1.0 [0.16s/it, gradient norm=0.0008154475146109593]\n"
     ]
    },
    {
     "name": "stdout",
     "output_type": "stream",
     "text": [
      "alpha=5.078e-03, time=0.39s, n_iter=1\n"
     ]
    },
    {
     "name": "stderr",
     "output_type": "stream",
     "text": [
      "Iteration 0:  19%|████████████████████████████████▋                                                                                                                                           | 0.19/1.0 [0.10s/it, gradient norm=0.0006448436711083544]\n"
     ]
    },
    {
     "name": "stdout",
     "output_type": "stream",
     "text": [
      "alpha=4.018e-03, time=0.27s, n_iter=1\n"
     ]
    },
    {
     "name": "stderr",
     "output_type": "stream",
     "text": [
      "Iteration 0:   2%|███▍                                                                                                                                                                        | 0.02/1.0 [0.10s/it, gradient norm=0.0009467716823842391]\n"
     ]
    },
    {
     "name": "stdout",
     "output_type": "stream",
     "text": [
      "alpha=3.179e-03, time=0.24s, n_iter=1\n"
     ]
    },
    {
     "name": "stderr",
     "output_type": "stream",
     "text": [
      "Iteration 0:  26%|████████████████████████████████████████████                                                                                                                                 | 0.51/2.0 [0.08s/it, gradient norm=0.003106031519957037]\n"
     ]
    },
    {
     "name": "stdout",
     "output_type": "stream",
     "text": [
      "alpha=2.515e-03, time=0.43s, n_iter=1\n"
     ]
    },
    {
     "name": "stderr",
     "output_type": "stream",
     "text": [
      "Iteration 0:  16%|████████████████████████████▌                                                                                                                                                | 0.33/2.0 [0.21s/it, gradient norm=0.004634105285628926]\n"
     ]
    },
    {
     "name": "stdout",
     "output_type": "stream",
     "text": [
      "alpha=1.990e-03, time=0.45s, n_iter=1\n"
     ]
    },
    {
     "name": "stderr",
     "output_type": "stream",
     "text": [
      "Iteration 1:  99%|█████████████████████████████████████████████████████████████████████████████████████████████████████████████████████████████████████████████████████████████████████████▎ | 1.98/2.0 [0.28s/it, gradient norm=0.00010578753004915883]\n"
     ]
    },
    {
     "name": "stdout",
     "output_type": "stream",
     "text": [
      "alpha=1.575e-03, time=0.60s, n_iter=2\n"
     ]
    },
    {
     "name": "stderr",
     "output_type": "stream",
     "text": [
      "Iteration 1:  94%|███████████████████████████████████████████████████████████████████████████████████████████████████████████████████████████████████████████████████████████████▉           | 1.87/2.0 [0.25s/it, gradient norm=0.00013529456102723112]\n"
     ]
    },
    {
     "name": "stdout",
     "output_type": "stream",
     "text": [
      "alpha=1.246e-03, time=0.51s, n_iter=2\n"
     ]
    },
    {
     "name": "stderr",
     "output_type": "stream",
     "text": [
      "Iteration 1:  94%|█████████████████████████████████████████████████████████████████████████████████████████████████████████████████████████████████████████████████████████████████▌         | 1.89/2.0 [0.23s/it, gradient norm=0.00012861614769312462]\n"
     ]
    },
    {
     "name": "stdout",
     "output_type": "stream",
     "text": [
      "alpha=9.859e-04, time=0.47s, n_iter=2\n"
     ]
    },
    {
     "name": "stderr",
     "output_type": "stream",
     "text": [
      "Iteration 0:  10%|█████████████████▍                                                                                                                                                            | 0.2/2.0 [0.09s/it, gradient norm=0.006363071183530584]\n"
     ]
    },
    {
     "name": "stdout",
     "output_type": "stream",
     "text": [
      "alpha=7.801e-04, time=0.45s, n_iter=1\n"
     ]
    },
    {
     "name": "stderr",
     "output_type": "stream",
     "text": [
      "Iteration 0:  14%|███████████████████████▎                                                                                                                                                     | 0.27/2.0 [0.09s/it, gradient norm=0.005309285790890082]\n"
     ]
    },
    {
     "name": "stdout",
     "output_type": "stream",
     "text": [
      "alpha=6.172e-04, time=0.29s, n_iter=1\n"
     ]
    },
    {
     "name": "stderr",
     "output_type": "stream",
     "text": [
      "Iteration 0:  16%|███████████████████████████▋                                                                                                                                                 | 0.32/2.0 [0.18s/it, gradient norm=0.004740964278868433]\n"
     ]
    },
    {
     "name": "stdout",
     "output_type": "stream",
     "text": [
      "alpha=4.884e-04, time=0.43s, n_iter=1\n"
     ]
    },
    {
     "name": "stderr",
     "output_type": "stream",
     "text": [
      "Iteration 0:  16%|████████████████████████████▍                                                                                                                                               | 0.33/2.0 [0.17s/it, gradient norm=0.0046770227617587866]\n"
     ]
    },
    {
     "name": "stdout",
     "output_type": "stream",
     "text": [
      "alpha=3.864e-04, time=0.52s, n_iter=1\n"
     ]
    },
    {
     "name": "stderr",
     "output_type": "stream",
     "text": [
      "Iteration 1:  98%|███████████████████████████████████████████████████████████████████████████████████████████████████████████████████████████████████████████████████████████████████████▌   | 1.96/2.0 [0.32s/it, gradient norm=0.00010922999315017304]\n"
     ]
    },
    {
     "name": "stdout",
     "output_type": "stream",
     "text": [
      "alpha=3.057e-04, time=0.83s, n_iter=2\n"
     ]
    },
    {
     "name": "stderr",
     "output_type": "stream",
     "text": [
      "Iteration 1:  99%|██████████████████████████████████████████████████████████████████████████████████████████████████████████████████████████████████████████████████████████████████████████▎ | 1.98/2.0 [0.39s/it, gradient norm=0.0001048127397029185]\n"
     ]
    },
    {
     "name": "stdout",
     "output_type": "stream",
     "text": [
      "alpha=2.419e-04, time=0.89s, n_iter=2\n"
     ]
    },
    {
     "name": "stderr",
     "output_type": "stream",
     "text": [
      "Iteration 1: 100%|████████████████████████████████████████████████████████████████████████████████████████████████████████████████████████████████████████████████████████████████████████████| 2.0/2.0 [0.32s/it, gradient norm=0.00010049019695847017]\n"
     ]
    },
    {
     "name": "stdout",
     "output_type": "stream",
     "text": [
      "alpha=1.914e-04, time=0.78s, n_iter=2\n"
     ]
    },
    {
     "name": "stderr",
     "output_type": "stream",
     "text": [
      "Iteration 0:  22%|█████████████████████████████████████▊                                                                                                                                      | 0.44/2.0 [0.18s/it, gradient norm=0.0036600789816970485]\n"
     ]
    },
    {
     "name": "stdout",
     "output_type": "stream",
     "text": [
      "alpha=1.515e-04, time=0.49s, n_iter=1\n"
     ]
    },
    {
     "name": "stderr",
     "output_type": "stream",
     "text": [
      "Iteration 0:  24%|█████████████████████████████████████████▌                                                                                                                                   | 0.48/2.0 [0.23s/it, gradient norm=0.003298827008608522]\n"
     ]
    },
    {
     "name": "stdout",
     "output_type": "stream",
     "text": [
      "alpha=1.198e-04, time=0.57s, n_iter=1\n"
     ]
    },
    {
     "name": "stderr",
     "output_type": "stream",
     "text": [
      "Iteration 0:  25%|███████████████████████████████████████████▎                                                                                                                                 | 0.5/2.0 [0.20s/it, gradient norm=0.0031320625203095846]\n"
     ]
    },
    {
     "name": "stdout",
     "output_type": "stream",
     "text": [
      "alpha=9.482e-05, time=0.54s, n_iter=1\n"
     ]
    },
    {
     "name": "stderr",
     "output_type": "stream",
     "text": [
      "Iteration 1:  99%|██████████████████████████████████████████████████████████████████████████████████████████████████████████████████████████████████████████████████████████████████████████▎ | 1.98/2.0 [0.34s/it, gradient norm=0.0001057799648291365]\n"
     ]
    },
    {
     "name": "stdout",
     "output_type": "stream",
     "text": [
      "alpha=7.502e-05, time=0.80s, n_iter=2\n"
     ]
    },
    {
     "name": "stderr",
     "output_type": "stream",
     "text": [
      "Iteration 0:  32%|██████████████████████████████████████████████████████▏                                                                                                                     | 0.63/2.0 [0.13s/it, gradient norm=0.0023253303078846882]\n"
     ]
    },
    {
     "name": "stdout",
     "output_type": "stream",
     "text": [
      "alpha=5.936e-05, time=0.39s, n_iter=1\n"
     ]
    },
    {
     "name": "stderr",
     "output_type": "stream",
     "text": [
      "Iteration 0:  34%|██████████████████████████████████████████████████████████▍                                                                                                                 | 0.68/2.0 [0.19s/it, gradient norm=0.0020927563187363124]\n"
     ]
    },
    {
     "name": "stdout",
     "output_type": "stream",
     "text": [
      "alpha=4.697e-05, time=0.48s, n_iter=1\n"
     ]
    },
    {
     "name": "stderr",
     "output_type": "stream",
     "text": [
      "Iteration 0:  36%|██████████████████████████████████████████████████████████████▊                                                                                                             | 0.73/2.0 [0.21s/it, gradient norm=0.0018834159361734715]\n"
     ]
    },
    {
     "name": "stdout",
     "output_type": "stream",
     "text": [
      "alpha=3.716e-05, time=0.53s, n_iter=1\n"
     ]
    },
    {
     "name": "stderr",
     "output_type": "stream",
     "text": [
      "Iteration 0:  40%|███████████████████████████████████████████████████████████████████▉                                                                                                        | 0.79/2.0 [0.24s/it, gradient norm=0.0016326936792895464]\n"
     ]
    },
    {
     "name": "stdout",
     "output_type": "stream",
     "text": [
      "alpha=2.940e-05, time=0.54s, n_iter=1\n"
     ]
    },
    {
     "name": "stderr",
     "output_type": "stream",
     "text": [
      "Iteration 0:  44%|████████████████████████████████████████████████████████████████████████████▌                                                                                               | 0.89/2.0 [0.22s/it, gradient norm=0.0012978347133881317]\n"
     ]
    },
    {
     "name": "stdout",
     "output_type": "stream",
     "text": [
      "alpha=2.327e-05, time=0.55s, n_iter=1\n"
     ]
    },
    {
     "name": "stderr",
     "output_type": "stream",
     "text": [
      "Iteration 0:  48%|████████████████████████████████████████████████████████████████████████████████████▍                                                                                         | 0.97/2.0 [0.19s/it, gradient norm=0.00106097519736847]\n"
     ]
    },
    {
     "name": "stdout",
     "output_type": "stream",
     "text": [
      "alpha=1.841e-05, time=0.67s, n_iter=1\n"
     ]
    },
    {
     "name": "stderr",
     "output_type": "stream",
     "text": [
      "Iteration 0:   7%|████████████                                                                                                                                                                | 0.07/1.0 [0.21s/it, gradient norm=0.0008512066323202119]\n"
     ]
    },
    {
     "name": "stdout",
     "output_type": "stream",
     "text": [
      "alpha=1.457e-05, time=0.65s, n_iter=1\n"
     ]
    },
    {
     "name": "stderr",
     "output_type": "stream",
     "text": [
      "Iteration 0:  17%|█████████████████████████████▍                                                                                                                                               | 0.17/1.0 [0.19s/it, gradient norm=0.000677487513196181]\n"
     ]
    },
    {
     "name": "stdout",
     "output_type": "stream",
     "text": [
      "alpha=1.152e-05, time=0.55s, n_iter=1\n"
     ]
    },
    {
     "name": "stderr",
     "output_type": "stream",
     "text": [
      "Iteration 0:  27%|██████████████████████████████████████████████▍                                                                                                                             | 0.27/1.0 [0.16s/it, gradient norm=0.0005391443497991346]\n"
     ]
    },
    {
     "name": "stdout",
     "output_type": "stream",
     "text": [
      "alpha=9.119e-06, time=0.50s, n_iter=1\n"
     ]
    },
    {
     "name": "stderr",
     "output_type": "stream",
     "text": [
      "Iteration 0:  37%|███████████████████████████████████████████████████████████████▋                                                                                                            | 0.37/1.0 [0.17s/it, gradient norm=0.0004290564437603495]\n"
     ]
    },
    {
     "name": "stdout",
     "output_type": "stream",
     "text": [
      "alpha=7.215e-06, time=0.51s, n_iter=1\n"
     ]
    },
    {
     "name": "stderr",
     "output_type": "stream",
     "text": [
      "Iteration 0:  44%|███████████████████████████████████████████████████████████████████████████▋                                                                                                | 0.44/1.0 [0.23s/it, gradient norm=0.0003594858247355046]\n"
     ]
    },
    {
     "name": "stdout",
     "output_type": "stream",
     "text": [
      "alpha=5.709e-06, time=0.60s, n_iter=1\n"
     ]
    },
    {
     "name": "stderr",
     "output_type": "stream",
     "text": [
      "Iteration 0:  51%|███████████████████████████████████████████████████████████████████████████████████████▋                                                                                    | 0.51/1.0 [0.24s/it, gradient norm=0.0003104770777987285]\n"
     ]
    },
    {
     "name": "stdout",
     "output_type": "stream",
     "text": [
      "alpha=4.517e-06, time=0.72s, n_iter=1\n"
     ]
    },
    {
     "name": "stderr",
     "output_type": "stream",
     "text": [
      "Iteration 0:  61%|█████████████████████████████████████████████████████████████████████████████████████████████████████████▌                                                                   | 0.61/1.0 [0.16s/it, gradient norm=0.000246760922227314]\n"
     ]
    },
    {
     "name": "stdout",
     "output_type": "stream",
     "text": [
      "alpha=3.574e-06, time=0.61s, n_iter=1\n"
     ]
    },
    {
     "name": "stderr",
     "output_type": "stream",
     "text": [
      "Iteration 0:  71%|█████████████████████████████████████████████████████████████████████████████████████████████████████████████████████████▍                                                 | 0.71/1.0 [0.17s/it, gradient norm=0.00019677269270092373]\n"
     ]
    },
    {
     "name": "stdout",
     "output_type": "stream",
     "text": [
      "alpha=2.828e-06, time=0.63s, n_iter=1\n"
     ]
    },
    {
     "name": "stderr",
     "output_type": "stream",
     "text": [
      "Iteration 0:  78%|██████████████████████████████████████████████████████████████████████████████████████████████████████████████████████████████████████▏                                     | 0.78/1.0 [0.14s/it, gradient norm=0.0001659516216533367]\n"
     ]
    },
    {
     "name": "stdout",
     "output_type": "stream",
     "text": [
      "alpha=2.237e-06, time=0.49s, n_iter=1\n"
     ]
    },
    {
     "name": "stderr",
     "output_type": "stream",
     "text": [
      "Iteration 0:  87%|████████████████████████████████████████████████████████████████████████████████████████████████████████████████████████████████████████████████████▊                      | 0.87/1.0 [0.15s/it, gradient norm=0.00013353376773568714]\n"
     ]
    },
    {
     "name": "stdout",
     "output_type": "stream",
     "text": [
      "alpha=1.770e-06, time=0.57s, n_iter=1\n"
     ]
    },
    {
     "name": "stderr",
     "output_type": "stream",
     "text": [
      "Iteration 0:  96%|█████████████████████████████████████████████████████████████████████████████████████████████████████████████████████████████████████████████████████████████████████       | 0.96/1.0 [0.18s/it, gradient norm=0.0001091087601634609]\n"
     ]
    },
    {
     "name": "stdout",
     "output_type": "stream",
     "text": [
      "alpha=1.401e-06, time=0.71s, n_iter=1\n"
     ]
    },
    {
     "name": "stderr",
     "output_type": "stream",
     "text": [
      "Iteration 0: |                                                                                                                                                                                      | 0/-0.0 [s/it, gradient norm=9.234659838924848e-05]\n"
     ]
    },
    {
     "name": "stdout",
     "output_type": "stream",
     "text": [
      "alpha=1.108e-06, time=0.19s, n_iter=0\n"
     ]
    },
    {
     "name": "stderr",
     "output_type": "stream",
     "text": [
      "Iteration 0:  80%|█████████████████████████████████████████████████████████████████████████████████████████████████████████████████████████████████████████▌                                  | 0.8/1.0 [0.22s/it, gradient norm=0.00015841174622377804]\n"
     ]
    },
    {
     "name": "stdout",
     "output_type": "stream",
     "text": [
      "alpha=8.770e-07, time=0.65s, n_iter=1\n"
     ]
    },
    {
     "name": "stderr",
     "output_type": "stream",
     "text": [
      "Iteration 0: |                                                                                                                                                                                      | 0/-0.0 [s/it, gradient norm=6.590703412676492e-05]\n"
     ]
    },
    {
     "name": "stdout",
     "output_type": "stream",
     "text": [
      "alpha=6.939e-07, time=0.21s, n_iter=0\n"
     ]
    },
    {
     "name": "stderr",
     "output_type": "stream",
     "text": [
      "Iteration 0:  97%|█████████████████████████████████████████████████████████████████████████████████████████████████████████████████████████████████████████████████████████████████████▊     | 0.97/1.0 [0.14s/it, gradient norm=0.00010781570644420596]\n"
     ]
    },
    {
     "name": "stdout",
     "output_type": "stream",
     "text": [
      "alpha=5.490e-07, time=0.59s, n_iter=1\n"
     ]
    },
    {
     "name": "stderr",
     "output_type": "stream",
     "text": [
      "Iteration 0:  38%|████████████████████████████████████████████████████████████████▌                                                                                                           | 0.75/2.0 [0.09s/it, gradient norm=0.0017805348436239691]\n"
     ]
    },
    {
     "name": "stdout",
     "output_type": "stream",
     "text": [
      "alpha=5.490e-01, time=0.31s, n_iter=1\n"
     ]
    },
    {
     "name": "stderr",
     "output_type": "stream",
     "text": [
      "Iteration 1:  42%|███████████████████████████████████████████████████████████████████████▍                                                                                                    | 0.83/2.0 [0.15s/it, gradient norm=0.0014894494800517762]\n"
     ]
    },
    {
     "name": "stdout",
     "output_type": "stream",
     "text": [
      "alpha=4.344e-01, time=0.52s, n_iter=2\n"
     ]
    },
    {
     "name": "stderr",
     "output_type": "stream",
     "text": [
      "Iteration 1:  56%|████████████████████████████████████████████████████████████████████████████████████████████████▎                                                                           | 1.12/2.0 [0.18s/it, gradient norm=0.0007638251092094784]\n"
     ]
    },
    {
     "name": "stdout",
     "output_type": "stream",
     "text": [
      "alpha=3.437e-01, time=0.40s, n_iter=2\n"
     ]
    },
    {
     "name": "stderr",
     "output_type": "stream",
     "text": [
      "Iteration 1:  69%|█████████████████████████████████████████████████████████████████████████████████████████████████████████████████████▉                                                     | 1.38/2.0 [0.19s/it, gradient norm=0.00041952081325102836]\n"
     ]
    },
    {
     "name": "stdout",
     "output_type": "stream",
     "text": [
      "alpha=2.720e-01, time=0.41s, n_iter=2\n"
     ]
    },
    {
     "name": "stderr",
     "output_type": "stream",
     "text": [
      "Iteration 1:  81%|███████████████████████████████████████████████████████████████████████████████████████████████████████████████████████████████████████████▎                                | 1.62/2.0 [0.19s/it, gradient norm=0.0002396303808193831]\n"
     ]
    },
    {
     "name": "stdout",
     "output_type": "stream",
     "text": [
      "alpha=2.152e-01, time=0.55s, n_iter=2\n"
     ]
    },
    {
     "name": "stderr",
     "output_type": "stream",
     "text": [
      "Iteration 1:  92%|██████████████████████████████████████████████████████████████████████████████████████████████████████████████████████████████████████████████████████████████▏            | 1.85/2.0 [0.20s/it, gradient norm=0.00014050165830319615]\n"
     ]
    },
    {
     "name": "stdout",
     "output_type": "stream",
     "text": [
      "alpha=1.703e-01, time=0.48s, n_iter=2\n"
     ]
    },
    {
     "name": "stderr",
     "output_type": "stream",
     "text": [
      "Iteration 0:  30%|███████████████████████████████████████████████████                                                                                                                          | 0.59/2.0 [0.12s/it, gradient norm=0.002547290758815225]\n"
     ]
    },
    {
     "name": "stdout",
     "output_type": "stream",
     "text": [
      "alpha=1.347e-01, time=0.28s, n_iter=1\n"
     ]
    },
    {
     "name": "stderr",
     "output_type": "stream",
     "text": [
      "Iteration 0:  35%|████████████████████████████████████████████████████████████▌                                                                                                                | 0.7/2.0 [0.13s/it, gradient norm=0.0019793080707316358]\n"
     ]
    },
    {
     "name": "stdout",
     "output_type": "stream",
     "text": [
      "alpha=1.066e-01, time=0.43s, n_iter=1\n"
     ]
    },
    {
     "name": "stderr",
     "output_type": "stream",
     "text": [
      "Iteration 0:  40%|█████████████████████████████████████████████████████████████████████▌                                                                                                        | 0.8/2.0 [0.11s/it, gradient norm=0.001574456089392336]\n"
     ]
    },
    {
     "name": "stdout",
     "output_type": "stream",
     "text": [
      "alpha=8.434e-02, time=0.26s, n_iter=1\n"
     ]
    },
    {
     "name": "stderr",
     "output_type": "stream",
     "text": [
      "Iteration 0:  45%|██████████████████████████████████████████████████████████████████████████████▎                                                                                               | 0.9/2.0 [0.13s/it, gradient norm=0.001249097458344956]\n"
     ]
    },
    {
     "name": "stdout",
     "output_type": "stream",
     "text": [
      "alpha=6.673e-02, time=0.30s, n_iter=1\n"
     ]
    },
    {
     "name": "stderr",
     "output_type": "stream",
     "text": [
      "Iteration 0:   0%|                                                                                                                                                                             | 0.0/1.0 [0.19s/it, gradient norm=0.0009904706654461383]\n"
     ]
    },
    {
     "name": "stdout",
     "output_type": "stream",
     "text": [
      "alpha=5.280e-02, time=0.36s, n_iter=1\n"
     ]
    },
    {
     "name": "stderr",
     "output_type": "stream",
     "text": [
      "Iteration 0:  11%|██████████████████▉                                                                                                                                                         | 0.11/1.0 [0.12s/it, gradient norm=0.0007850266516459913]\n"
     ]
    },
    {
     "name": "stdout",
     "output_type": "stream",
     "text": [
      "alpha=4.178e-02, time=0.47s, n_iter=1\n"
     ]
    },
    {
     "name": "stderr",
     "output_type": "stream",
     "text": [
      "Iteration 0:  21%|████████████████████████████████████                                                                                                                                        | 0.21/1.0 [0.09s/it, gradient norm=0.0006237179451670134]\n"
     ]
    },
    {
     "name": "stdout",
     "output_type": "stream",
     "text": [
      "alpha=3.306e-02, time=0.28s, n_iter=1\n"
     ]
    },
    {
     "name": "stderr",
     "output_type": "stream",
     "text": [
      "Iteration 0:  31%|█████████████████████████████████████████████████████▎                                                                                                                      | 0.31/1.0 [0.11s/it, gradient norm=0.0004941270339224224]\n"
     ]
    },
    {
     "name": "stdout",
     "output_type": "stream",
     "text": [
      "alpha=2.616e-02, time=0.26s, n_iter=1\n"
     ]
    },
    {
     "name": "stderr",
     "output_type": "stream",
     "text": [
      "Iteration 0:  41%|██████████████████████████████████████████████████████████████████████▌                                                                                                     | 0.41/1.0 [0.12s/it, gradient norm=0.0003913513104418751]\n"
     ]
    },
    {
     "name": "stdout",
     "output_type": "stream",
     "text": [
      "alpha=2.069e-02, time=0.28s, n_iter=1\n"
     ]
    },
    {
     "name": "stderr",
     "output_type": "stream",
     "text": [
      "Iteration 0:  31%|█████████████████████████████████████████████████████▎                                                                                                                      | 0.62/2.0 [0.11s/it, gradient norm=0.0023897130766467115]\n"
     ]
    },
    {
     "name": "stdout",
     "output_type": "stream",
     "text": [
      "alpha=1.637e-02, time=0.35s, n_iter=1\n"
     ]
    },
    {
     "name": "stderr",
     "output_type": "stream",
     "text": [
      "Iteration 0:  34%|██████████████████████████████████████████████████████████▊                                                                                                                  | 0.68/2.0 [0.10s/it, gradient norm=0.002100262081469173]\n"
     ]
    },
    {
     "name": "stdout",
     "output_type": "stream",
     "text": [
      "alpha=1.296e-02, time=0.24s, n_iter=1\n"
     ]
    },
    {
     "name": "stderr",
     "output_type": "stream",
     "text": [
      "Iteration 0:  39%|███████████████████████████████████████████████████████████████████                                                                                                         | 0.78/2.0 [0.09s/it, gradient norm=0.0016623562314557118]\n"
     ]
    },
    {
     "name": "stdout",
     "output_type": "stream",
     "text": [
      "alpha=1.025e-02, time=0.23s, n_iter=1\n"
     ]
    },
    {
     "name": "stderr",
     "output_type": "stream",
     "text": [
      "Iteration 0:  44%|███████████████████████████████████████████████████████████████████████████▋                                                                                                | 0.88/2.0 [0.11s/it, gradient norm=0.0013140134008405063]\n"
     ]
    },
    {
     "name": "stdout",
     "output_type": "stream",
     "text": [
      "alpha=8.111e-03, time=0.28s, n_iter=1\n"
     ]
    },
    {
     "name": "stderr",
     "output_type": "stream",
     "text": [
      "Iteration 0:  49%|████████████████████████████████████████████████████████████████████████████████████▎                                                                                       | 0.98/2.0 [0.22s/it, gradient norm=0.0010388036695351663]\n"
     ]
    },
    {
     "name": "stdout",
     "output_type": "stream",
     "text": [
      "alpha=6.418e-03, time=0.38s, n_iter=1\n"
     ]
    },
    {
     "name": "stderr",
     "output_type": "stream",
     "text": [
      "Iteration 0:   9%|███████████████▍                                                                                                                                                            | 0.09/1.0 [0.11s/it, gradient norm=0.0008213920544158026]\n"
     ]
    },
    {
     "name": "stdout",
     "output_type": "stream",
     "text": [
      "alpha=5.078e-03, time=0.28s, n_iter=1\n"
     ]
    },
    {
     "name": "stderr",
     "output_type": "stream",
     "text": [
      "Iteration 0:  19%|████████████████████████████████▋                                                                                                                                           | 0.19/1.0 [0.19s/it, gradient norm=0.0006495779433840377]\n"
     ]
    },
    {
     "name": "stdout",
     "output_type": "stream",
     "text": [
      "alpha=4.018e-03, time=0.35s, n_iter=1\n"
     ]
    },
    {
     "name": "stderr",
     "output_type": "stream",
     "text": [
      "Iteration 0:  34%|██████████████████████████████████████████████████████████▍                                                                                                                 | 0.68/2.0 [0.13s/it, gradient norm=0.0020945200893593844]\n"
     ]
    },
    {
     "name": "stdout",
     "output_type": "stream",
     "text": [
      "alpha=3.179e-03, time=0.30s, n_iter=1\n"
     ]
    },
    {
     "name": "stderr",
     "output_type": "stream",
     "text": [
      "Iteration 0:  20%|██████████████████████████████████▊                                                                                                                                           | 0.4/2.0 [0.20s/it, gradient norm=0.003994826891876815]\n"
     ]
    },
    {
     "name": "stdout",
     "output_type": "stream",
     "text": [
      "alpha=2.515e-03, time=0.48s, n_iter=1\n"
     ]
    },
    {
     "name": "stderr",
     "output_type": "stream",
     "text": [
      "Iteration 0:  12%|█████████████████████▋                                                                                                                                                       | 0.25/2.0 [0.10s/it, gradient norm=0.005572823977442885]\n"
     ]
    },
    {
     "name": "stdout",
     "output_type": "stream",
     "text": [
      "alpha=1.990e-03, time=0.31s, n_iter=1\n"
     ]
    },
    {
     "name": "stderr",
     "output_type": "stream",
     "text": [
      "Iteration 0:  10%|████████████████▍                                                                                                                                                            | 0.19/2.0 [0.12s/it, gradient norm=0.006406092058070715]\n"
     ]
    },
    {
     "name": "stdout",
     "output_type": "stream",
     "text": [
      "alpha=1.575e-03, time=0.50s, n_iter=1\n"
     ]
    },
    {
     "name": "stderr",
     "output_type": "stream",
     "text": [
      "Iteration 1:  90%|██████████████████████████████████████████████████████████████████████████████████████████████████████████████████████████████████████████████████████████▊                 | 1.8/2.0 [0.34s/it, gradient norm=0.00015798395395994397]\n"
     ]
    },
    {
     "name": "stdout",
     "output_type": "stream",
     "text": [
      "alpha=1.246e-03, time=0.62s, n_iter=2\n"
     ]
    },
    {
     "name": "stderr",
     "output_type": "stream",
     "text": [
      "Iteration 1:  92%|█████████████████████████████████████████████████████████████████████████████████████████████████████████████████████████████████████████████████████████████▎             | 1.84/2.0 [0.30s/it, gradient norm=0.00014351253808282403]\n"
     ]
    },
    {
     "name": "stdout",
     "output_type": "stream",
     "text": [
      "alpha=9.859e-04, time=0.71s, n_iter=2\n"
     ]
    },
    {
     "name": "stderr",
     "output_type": "stream",
     "text": [
      "Iteration 1: 100%|██████████████████████████████████████████████████████████████████████████████████████████████████████████████████████████████████████████████████████████████████████████▏| 1.99/2.0 [0.30s/it, gradient norm=0.00010318003664981483]\n"
     ]
    },
    {
     "name": "stdout",
     "output_type": "stream",
     "text": [
      "alpha=7.801e-04, time=0.84s, n_iter=2\n"
     ]
    },
    {
     "name": "stderr",
     "output_type": "stream",
     "text": [
      "Iteration 1:  97%|█████████████████████████████████████████████████████████████████████████████████████████████████████████████████████████████████████████████████████████████████████▊     | 1.94/2.0 [0.32s/it, gradient norm=0.00011388411429122348]\n"
     ]
    },
    {
     "name": "stdout",
     "output_type": "stream",
     "text": [
      "alpha=6.172e-04, time=0.79s, n_iter=2\n"
     ]
    },
    {
     "name": "stderr",
     "output_type": "stream",
     "text": [
      "Iteration 1:  98%|█████████████████████████████████████████████████████████████████████████████████████████████████████████████████████████████████████████████████████████████████████████▍  | 1.97/2.0 [0.32s/it, gradient norm=0.0001061357274457954]\n"
     ]
    },
    {
     "name": "stdout",
     "output_type": "stream",
     "text": [
      "alpha=4.884e-04, time=0.82s, n_iter=2\n"
     ]
    },
    {
     "name": "stderr",
     "output_type": "stream",
     "text": [
      "Iteration 0:  17%|█████████████████████████████▍                                                                                                                                               | 0.34/2.0 [0.20s/it, gradient norm=0.004598458726560844]\n"
     ]
    },
    {
     "name": "stdout",
     "output_type": "stream",
     "text": [
      "alpha=3.864e-04, time=0.52s, n_iter=1\n"
     ]
    },
    {
     "name": "stderr",
     "output_type": "stream",
     "text": [
      "Iteration 1:  98%|██████████████████████████████████████████████████████████████████████████████████████████████████████████████████████████████████████████████████████████████████████▋    | 1.95/2.0 [0.29s/it, gradient norm=0.00011146081606734424]\n"
     ]
    },
    {
     "name": "stdout",
     "output_type": "stream",
     "text": [
      "alpha=3.057e-04, time=0.74s, n_iter=2\n"
     ]
    },
    {
     "name": "stderr",
     "output_type": "stream",
     "text": [
      "Iteration 1:  97%|█████████████████████████████████████████████████████████████████████████████████████████████████████████████████████████████████████████████████████████████████████▊     | 1.94/2.0 [0.29s/it, gradient norm=0.00011497681498071341]\n"
     ]
    },
    {
     "name": "stdout",
     "output_type": "stream",
     "text": [
      "alpha=2.419e-04, time=0.79s, n_iter=2\n"
     ]
    },
    {
     "name": "stderr",
     "output_type": "stream",
     "text": [
      "Iteration 0:  20%|██████████████████████████████████▌                                                                                                                                          | 0.4/2.0 [0.16s/it, gradient norm=0.0039630328304804605]\n"
     ]
    },
    {
     "name": "stdout",
     "output_type": "stream",
     "text": [
      "alpha=1.914e-04, time=0.46s, n_iter=1\n"
     ]
    },
    {
     "name": "stderr",
     "output_type": "stream",
     "text": [
      "Iteration 0:  23%|███████████████████████████████████████▊                                                                                                                                     | 0.46/2.0 [0.22s/it, gradient norm=0.003497768496792914]\n"
     ]
    },
    {
     "name": "stdout",
     "output_type": "stream",
     "text": [
      "alpha=1.515e-04, time=0.65s, n_iter=1\n"
     ]
    },
    {
     "name": "stderr",
     "output_type": "stream",
     "text": [
      "Iteration 0:  24%|████████████████████████████████████████▋                                                                                                                                    | 0.47/2.0 [0.16s/it, gradient norm=0.003406027069714536]\n"
     ]
    },
    {
     "name": "stdout",
     "output_type": "stream",
     "text": [
      "alpha=1.198e-04, time=0.42s, n_iter=1\n"
     ]
    },
    {
     "name": "stderr",
     "output_type": "stream",
     "text": [
      "Iteration 0:  24%|████████████████████████████████████████▋                                                                                                                                    | 0.47/2.0 [0.16s/it, gradient norm=0.003383834553925587]\n"
     ]
    },
    {
     "name": "stdout",
     "output_type": "stream",
     "text": [
      "alpha=9.482e-05, time=0.53s, n_iter=1\n"
     ]
    },
    {
     "name": "stderr",
     "output_type": "stream",
     "text": [
      "Iteration 0:  26%|█████████████████████████████████████████████▊                                                                                                                               | 0.53/2.0 [0.21s/it, gradient norm=0.002945655859760035]\n"
     ]
    },
    {
     "name": "stdout",
     "output_type": "stream",
     "text": [
      "alpha=7.502e-05, time=0.58s, n_iter=1\n"
     ]
    },
    {
     "name": "stderr",
     "output_type": "stream",
     "text": [
      "Iteration 0:  30%|████████████████████████████████████████████████████▊                                                                                                                        | 0.61/2.0 [0.20s/it, gradient norm=0.002442895598072302]\n"
     ]
    },
    {
     "name": "stdout",
     "output_type": "stream",
     "text": [
      "alpha=5.936e-05, time=0.52s, n_iter=1\n"
     ]
    },
    {
     "name": "stderr",
     "output_type": "stream",
     "text": [
      "Iteration 1: 100%|██████████████████████████████████████████████████████████████████████████████████████████████████████████████████████████████████████████████████████████████████████████▏| 1.99/2.0 [0.30s/it, gradient norm=0.00010267529506586393]\n"
     ]
    },
    {
     "name": "stdout",
     "output_type": "stream",
     "text": [
      "alpha=4.697e-05, time=0.86s, n_iter=2\n"
     ]
    },
    {
     "name": "stderr",
     "output_type": "stream",
     "text": [
      "Iteration 0:  40%|███████████████████████████████████████████████████████████████████▉                                                                                                        | 0.79/2.0 [0.24s/it, gradient norm=0.0016365532522728298]\n"
     ]
    },
    {
     "name": "stdout",
     "output_type": "stream",
     "text": [
      "alpha=3.716e-05, time=0.56s, n_iter=1\n"
     ]
    },
    {
     "name": "stderr",
     "output_type": "stream",
     "text": [
      "Iteration 0:  44%|██████████████████████████████████████████████████████████████████████████▊                                                                                                 | 0.87/2.0 [0.15s/it, gradient norm=0.0013623928343245966]\n"
     ]
    },
    {
     "name": "stdout",
     "output_type": "stream",
     "text": [
      "alpha=2.940e-05, time=0.34s, n_iter=1\n"
     ]
    },
    {
     "name": "stderr",
     "output_type": "stream",
     "text": [
      "Iteration 0:  46%|██████████████████████████████████████████████████████████████████████████████▎                                                                                             | 0.91/2.0 [0.15s/it, gradient norm=0.0012183923070839622]\n"
     ]
    },
    {
     "name": "stdout",
     "output_type": "stream",
     "text": [
      "alpha=2.327e-05, time=0.68s, n_iter=1\n"
     ]
    },
    {
     "name": "stderr",
     "output_type": "stream",
     "text": [
      "Iteration 0:  46%|███████████████████████████████████████████████████████████████████████████████                                                                                             | 0.92/2.0 [0.17s/it, gradient norm=0.0011922538017194101]\n"
     ]
    },
    {
     "name": "stdout",
     "output_type": "stream",
     "text": [
      "alpha=1.841e-05, time=0.61s, n_iter=1\n"
     ]
    },
    {
     "name": "stderr",
     "output_type": "stream",
     "text": [
      "Iteration 0:   2%|███▍                                                                                                                                                                        | 0.02/1.0 [0.16s/it, gradient norm=0.0009591457909748455]\n"
     ]
    },
    {
     "name": "stdout",
     "output_type": "stream",
     "text": [
      "alpha=1.457e-05, time=0.53s, n_iter=1\n"
     ]
    },
    {
     "name": "stderr",
     "output_type": "stream",
     "text": [
      "Iteration 0:  12%|████████████████████▋                                                                                                                                                       | 0.12/1.0 [0.16s/it, gradient norm=0.0007586337334038474]\n"
     ]
    },
    {
     "name": "stdout",
     "output_type": "stream",
     "text": [
      "alpha=1.152e-05, time=0.59s, n_iter=1\n"
     ]
    },
    {
     "name": "stderr",
     "output_type": "stream",
     "text": [
      "Iteration 0:  22%|█████████████████████████████████████▊                                                                                                                                      | 0.22/1.0 [0.14s/it, gradient norm=0.0006002303874675069]\n"
     ]
    },
    {
     "name": "stdout",
     "output_type": "stream",
     "text": [
      "alpha=9.119e-06, time=0.57s, n_iter=1\n"
     ]
    },
    {
     "name": "stderr",
     "output_type": "stream",
     "text": [
      "Iteration 0:  30%|███████████████████████████████████████████████████▉                                                                                                                         | 0.3/1.0 [0.15s/it, gradient norm=0.0005053116075589757]\n"
     ]
    },
    {
     "name": "stdout",
     "output_type": "stream",
     "text": [
      "alpha=7.215e-06, time=0.48s, n_iter=1\n"
     ]
    },
    {
     "name": "stderr",
     "output_type": "stream",
     "text": [
      "Iteration 0:  38%|████████████████████████████████████████████████████████████████▉                                                                                                          | 0.38/1.0 [0.15s/it, gradient norm=0.00041976054861806193]\n"
     ]
    },
    {
     "name": "stdout",
     "output_type": "stream",
     "text": [
      "alpha=5.709e-06, time=0.50s, n_iter=1\n"
     ]
    },
    {
     "name": "stderr",
     "output_type": "stream",
     "text": [
      "Iteration 0:  48%|███████████████████████████████████████████████████████████████████████████████████                                                                                          | 0.48/1.0 [0.15s/it, gradient norm=0.000332741575939777]\n"
     ]
    },
    {
     "name": "stdout",
     "output_type": "stream",
     "text": [
      "alpha=4.517e-06, time=0.55s, n_iter=1\n"
     ]
    },
    {
     "name": "stderr",
     "output_type": "stream",
     "text": [
      "Iteration 0:  58%|███████████████████████████████████████████████████████████████████████████████████████████████████▏                                                                       | 0.58/1.0 [0.15s/it, gradient norm=0.00026375174921387535]\n"
     ]
    },
    {
     "name": "stdout",
     "output_type": "stream",
     "text": [
      "alpha=3.574e-06, time=0.46s, n_iter=1\n"
     ]
    },
    {
     "name": "stderr",
     "output_type": "stream",
     "text": [
      "Iteration 0:  68%|████████████████████████████████████████████████████████████████████████████████████████████████████████████████████▉                                                       | 0.68/1.0 [0.15s/it, gradient norm=0.0002090827872999612]\n"
     ]
    },
    {
     "name": "stdout",
     "output_type": "stream",
     "text": [
      "alpha=2.828e-06, time=0.49s, n_iter=1\n"
     ]
    },
    {
     "name": "stderr",
     "output_type": "stream",
     "text": [
      "Iteration 0:  78%|██████████████████████████████████████████████████████████████████████████████████████████████████████████████████████████████████████▏                                     | 0.78/1.0 [0.19s/it, gradient norm=0.0001657452913269641]\n"
     ]
    },
    {
     "name": "stdout",
     "output_type": "stream",
     "text": [
      "alpha=2.237e-06, time=0.66s, n_iter=1\n"
     ]
    },
    {
     "name": "stderr",
     "output_type": "stream",
     "text": [
      "Iteration 0:  87%|█████████████████████████████████████████████████████████████████████████████████████████████████████████████████████████████████████████████████████▋                      | 0.87/1.0 [0.17s/it, gradient norm=0.0001352219705085741]\n"
     ]
    },
    {
     "name": "stdout",
     "output_type": "stream",
     "text": [
      "alpha=1.770e-06, time=0.54s, n_iter=1\n"
     ]
    },
    {
     "name": "stderr",
     "output_type": "stream",
     "text": [
      "Iteration 0:  95%|███████████████████████████████████████████████████████████████████████████████████████████████████████████████████████████████████████████████████████████████████▍        | 0.95/1.0 [0.18s/it, gradient norm=0.0001109374500468675]\n"
     ]
    },
    {
     "name": "stdout",
     "output_type": "stream",
     "text": [
      "alpha=1.401e-06, time=0.52s, n_iter=1\n"
     ]
    },
    {
     "name": "stderr",
     "output_type": "stream",
     "text": [
      "Iteration 0: |                                                                                                                                                                                      | 0/-0.0 [s/it, gradient norm=8.914544059444937e-05]\n"
     ]
    },
    {
     "name": "stdout",
     "output_type": "stream",
     "text": [
      "alpha=1.108e-06, time=0.16s, n_iter=0\n"
     ]
    },
    {
     "name": "stderr",
     "output_type": "stream",
     "text": [
      "Iteration 0:  81%|██████████████████████████████████████████████████████████████████████████████████████████████████████████████████████████████████████████▌                                | 0.81/1.0 [0.17s/it, gradient norm=0.00015461826768881494]\n"
     ]
    },
    {
     "name": "stdout",
     "output_type": "stream",
     "text": [
      "alpha=8.770e-07, time=0.69s, n_iter=1\n"
     ]
    },
    {
     "name": "stderr",
     "output_type": "stream",
     "text": [
      "Iteration 0: |                                                                                                                                                                                      | 0/-0.0 [s/it, gradient norm=6.473536342135996e-05]\n"
     ]
    },
    {
     "name": "stdout",
     "output_type": "stream",
     "text": [
      "alpha=6.939e-07, time=0.16s, n_iter=0\n"
     ]
    },
    {
     "name": "stderr",
     "output_type": "stream",
     "text": [
      "Iteration 0:  97%|█████████████████████████████████████████████████████████████████████████████████████████████████████████████████████████████████████████████████████████████████████▊     | 0.97/1.0 [0.17s/it, gradient norm=0.00010669219733701629]\n"
     ]
    },
    {
     "name": "stdout",
     "output_type": "stream",
     "text": [
      "alpha=5.490e-07, time=0.51s, n_iter=1\n"
     ]
    },
    {
     "name": "stderr",
     "output_type": "stream",
     "text": [
      "Iteration 4:  86%|██████████████████████████████████████████████████████████████████████████████████████████████████████████████████████████████████████████████████▋                        | 3.43/4.0 [0.19s/it, gradient norm=0.00037157785328136597]"
     ]
    },
    {
     "name": "stdout",
     "output_type": "stream",
     "text": [
      "gewähltes alpha_*: 4.696734303248762e-05\n",
      "[0.54902561 0.43440787 0.34371839 0.27196177 0.21518547] …\n"
     ]
    },
    {
     "name": "stderr",
     "output_type": "stream",
     "text": [
      "\n"
     ]
    }
   ],
   "source": [
    "import os, sys, numpy as np, pandas as pd\n",
    "sys.path.append(os.path.abspath(os.path.join(os.getcwd(), \"..\", \"src\")))\n",
    "from metrics import pdw, cf2, make_folds\n",
    "\n",
    "from glum import GeneralizedLinearRegressorCV\n",
    "from dask_ml.preprocessing import Categorizer\n",
    "\n",
    "\n",
    "cat_cols = [\"VehPowerGLM\",\"VehAgeGLM\",\"DrivAgeGLM\",\"VehBrand\",\"VehGas\",\"Region\"]\n",
    "num_cols = [\"BonusMalusGLM\",\"DensityGLM\",\"AreaGLM\"]\n",
    "\n",
    "for c in cat_cols:\n",
    "    learn[c] = learn[c].astype(\"category\")\n",
    "    test[c]  = test[c].astype(\"category\")\n",
    "\n",
    "X_learn = learn[cat_cols + num_cols]\n",
    "X_test  = test[cat_cols + num_cols]\n",
    "\n",
    "# Optional: vereinheitlichte Kategoriensätze (falls Learn/Test nicht dieselben Levels haben)\n",
    "cat = Categorizer(columns=cat_cols)\n",
    "X_learn = cat.fit_transform(X_learn)\n",
    "X_test  = cat.transform(X_test)\n",
    "\n",
    "# Ziel als Frequenz + Gewichte = Exposure (Offset-äquivalent)\n",
    "y_learn = (learn[\"ClaimNb\"] / learn[\"Exposure\"]).to_numpy()\n",
    "w_learn = learn[\"Exposure\"].to_numpy()\n",
    "\n",
    "# Poisson-LASSO mit CV\n",
    "lasso_cv = GeneralizedLinearRegressorCV(\n",
    "    family=\"poisson\",\n",
    "    l1_ratio=1.0,      # LASSO\n",
    "    cv=5,\n",
    "    n_alphas=60,\n",
    "    random_state=42,\n",
    "    verbose=1,\n",
    ")\n",
    "lasso_cv.fit(X_learn, y_learn, sample_weight=w_learn)\n",
    "\n",
    "print(\"gewähltes alpha_*:\", lasso_cv.alpha_)\n",
    "# Optional: Pfad & CV-Infos\n",
    "print(lasso_cv.alphas_[:5], \"…\")\n",
    "\n"
   ]
  },
  {
   "cell_type": "code",
   "execution_count": 13,
   "id": "fe7e4eff-f504-429f-826f-cfeaebec9a31",
   "metadata": {},
   "outputs": [
    {
     "name": "stdout",
     "output_type": "stream",
     "text": [
      "gewähltes alpha_*: 4.696734303248762e-05\n",
      "Claim Frequency LASSO, Test (Actual/Predicted): 7.38% / 7.36%\n",
      "Poisson Deviance LASSO, Test: 29.55%\n",
      "non-zero coefficients (ohne Intercept): 38\n"
     ]
    }
   ],
   "source": [
    "print(\"gewähltes alpha_*:\", lasso_cv.alpha_)# Test-Features (bereits transformiert)\n",
    "\n",
    "y_test = test[\"ClaimNb\"].to_numpy()\n",
    "w_test = test[\"Exposure\"].to_numpy()\n",
    "\n",
    "# Vorhersage der FREQUENZ; für Counts mit Exposure multiplizieren\n",
    "rate_test = lasso_cv.predict(X_test)          # E[ClaimNb / Exposure]\n",
    "pred_counts = rate_test * w_test              # E[ClaimNb]\n",
    "\n",
    "# Metriken\n",
    "print(cf2(\"Claim Frequency LASSO, Test (Actual/Predicted)\",\n",
    "          y_test, w_test,\n",
    "          pred_counts, w_test))\n",
    "\n",
    "print(f\"Poisson Deviance LASSO, Test: {pdw(pred_counts, y_test, w_test):.2f}%\")\n",
    "\n",
    "# Sparsamkeit: Anzahl != 0-Koeffizienten \n",
    "coef = np.asarray(lasso_cv.coef_, dtype=float)\n",
    "nnz = int(np.sum(np.abs(coef) > 0))\n",
    "print(f\"non-zero coefficients (ohne Intercept): {nnz}\")\n"
   ]
  },
  {
   "cell_type": "code",
   "execution_count": 14,
   "id": "cf62597f-91a6-44af-8773-014569a24d10",
   "metadata": {},
   "outputs": [
    {
     "name": "stdout",
     "output_type": "stream",
     "text": [
      "          IDpol  Exposure  VehPower  VehAge  DrivAge  BonusMalus VehBrand  \\\n",
      "0             1   0.10000         5       0       55          50      B12   \n",
      "1             3   0.77000         5       0       55          50      B12   \n",
      "2             5   0.75000         6       2       52          50      B12   \n",
      "3            10   0.09000         7       0       46          50      B12   \n",
      "4            11   0.84000         7       0       46          50      B12   \n",
      "...         ...       ...       ...     ...      ...         ...      ...   \n",
      "678008  6114326   0.00274         4       0       54          50      B12   \n",
      "678009  6114327   0.00274         4       0       41          95      B12   \n",
      "678010  6114328   0.00274         6       2       45          50      B12   \n",
      "678011  6114329   0.00274         4       0       60          50      B12   \n",
      "678012  6114330   0.00274         7       6       29          54      B12   \n",
      "\n",
      "         VehGas Area  Density                       Region  ClaimNb  AreaGLM  \\\n",
      "0       Regular    D     1217                  Rhone-Alpes        0        4   \n",
      "1       Regular    D     1217                  Rhone-Alpes        0        4   \n",
      "2        Diesel    B       54                     Picardie        0        2   \n",
      "3        Diesel    B       76                    Aquitaine        0        2   \n",
      "4        Diesel    B       76                    Aquitaine        0        2   \n",
      "...         ...  ...      ...                          ...      ...      ...   \n",
      "678008  Regular    E     3317  Provence-Alpes-Cotes-D'Azur        0        5   \n",
      "678009  Regular    E     9850                Ile-de-France        0        5   \n",
      "678010   Diesel    D     1323                  Rhone-Alpes        0        4   \n",
      "678011  Regular    B       95                    Bourgogne        0        2   \n",
      "678012   Diesel    B       65                    Aquitaine        0        2   \n",
      "\n",
      "       VehPowerGLM VehAgeGLM DrivAgeGLM  BonusMalusGLM  DensityGLM  fold  \n",
      "0                5         1          6             50    7.104144     1  \n",
      "1                5         1          6             50    7.104144     4  \n",
      "2                6         2          6             50    3.988984     4  \n",
      "3                7         1          5             50    4.330733     3  \n",
      "4                7         1          5             50    4.330733     3  \n",
      "...            ...       ...        ...            ...         ...   ...  \n",
      "678008           4         1          6             50    8.106816     2  \n",
      "678009           4         1          5             95    9.195227     5  \n",
      "678010           6         2          5             50    7.187657     5  \n",
      "678011           4         1          6             50    4.553877     1  \n",
      "678012           7         2          3             54    4.174387     2  \n",
      "\n",
      "[678013 rows x 19 columns]\n"
     ]
    }
   ],
   "source": [
    "for part in (learn, test):\n",
    "    da = part[\"DrivAge\"].astype(float)\n",
    "    part[\"log_DrivAge\"] = np.log(da)\n",
    "    part[\"DrivAge2\"] = da**2\n",
    "    part[\"DrivAge3\"] = da**3\n",
    "    part[\"DrivAge4\"] = da**4\n",
    "\n",
    "cat_cols = [\"VehPowerGLM\",\"VehAgeGLM\",\"DrivAgeGLM\",\"VehBrand\",\"VehGas\",\"Region\"]\n",
    "num_cols = [\"BonusMalusGLM\",\"DensityGLM\",\"AreaGLM\",\"DrivAge\",\"log_DrivAge\",\"DrivAge2\",\"DrivAge3\",\"DrivAge4\"]\n",
    "\n",
    "for c in cat_cols:\n",
    "    learn[c] = learn[c].astype(\"category\")\n",
    "    test[c]  = test[c].astype(\"category\")\n",
    "\n",
    "from dask_ml.preprocessing import Categorizer\n",
    "X_learn = Categorizer(columns=cat_cols).fit_transform(learn[cat_cols + num_cols])\n",
    "X_test  = Categorizer(columns=cat_cols).fit(learn[cat_cols]).transform(test[cat_cols + num_cols])\n",
    "\n",
    "y_learn = (learn[\"ClaimNb\"] / learn[\"Exposure\"]).to_numpy()\n",
    "w_learn = learn[\"Exposure\"].to_numpy()\n",
    "y_test  = test[\"ClaimNb\"].to_numpy()\n",
    "w_test  = test[\"Exposure\"].to_numpy()"
   ]
  },
  {
   "cell_type": "code",
   "execution_count": 15,
   "id": "1cc515bd-edfb-483f-a26c-68fa36da42ec",
   "metadata": {
    "scrolled": true
   },
   "outputs": [
    {
     "name": "stderr",
     "output_type": "stream",
     "text": [
      "Iteration 0: |                                                                                                                                                                                         | 0/? [s/it, gradient norm=2.888437605802083e-17]\n"
     ]
    },
    {
     "name": "stdout",
     "output_type": "stream",
     "text": [
      "alpha=6.926e+04, time=0.07s, n_iter=0\n"
     ]
    },
    {
     "name": "stderr",
     "output_type": "stream",
     "text": [
      "Iteration 0:   7%|████████████                                                                                                                                                                | 0.07/1.0 [0.09s/it, gradient norm=0.0008458278398915753]\n"
     ]
    },
    {
     "name": "stdout",
     "output_type": "stream",
     "text": [
      "alpha=5.815e+04, time=0.29s, n_iter=1\n"
     ]
    },
    {
     "name": "stderr",
     "output_type": "stream",
     "text": [
      "Iteration 0:   1%|█▋                                                                                                                                                                          | 0.01/1.0 [0.10s/it, gradient norm=0.0009807553695776192]\n"
     ]
    },
    {
     "name": "stdout",
     "output_type": "stream",
     "text": [
      "alpha=4.882e+04, time=0.25s, n_iter=1\n"
     ]
    },
    {
     "name": "stderr",
     "output_type": "stream",
     "text": [
      "Iteration 0:   8%|█████████████▊                                                                                                                                                              | 0.08/1.0 [0.09s/it, gradient norm=0.0008317177202763902]\n"
     ]
    },
    {
     "name": "stdout",
     "output_type": "stream",
     "text": [
      "alpha=4.099e+04, time=0.24s, n_iter=1\n"
     ]
    },
    {
     "name": "stderr",
     "output_type": "stream",
     "text": [
      "Iteration 0:  16%|███████████████████████████▌                                                                                                                                                | 0.16/1.0 [0.09s/it, gradient norm=0.0006959829359559348]\n"
     ]
    },
    {
     "name": "stdout",
     "output_type": "stream",
     "text": [
      "alpha=3.441e+04, time=0.24s, n_iter=1\n"
     ]
    },
    {
     "name": "stderr",
     "output_type": "stream",
     "text": [
      "Iteration 0:  23%|███████████████████████████████████████▌                                                                                                                                    | 0.23/1.0 [0.17s/it, gradient norm=0.0005823534202817293]\n"
     ]
    },
    {
     "name": "stdout",
     "output_type": "stream",
     "text": [
      "alpha=2.889e+04, time=0.52s, n_iter=1\n"
     ]
    },
    {
     "name": "stderr",
     "output_type": "stream",
     "text": [
      "Iteration 0:  31%|█████████████████████████████████████████████████████▎                                                                                                                      | 0.31/1.0 [0.09s/it, gradient norm=0.0004874841180823492]\n"
     ]
    },
    {
     "name": "stdout",
     "output_type": "stream",
     "text": [
      "alpha=2.425e+04, time=0.24s, n_iter=1\n"
     ]
    },
    {
     "name": "stderr",
     "output_type": "stream",
     "text": [
      "Iteration 0:  39%|███████████████████████████████████████████████████████████████████                                                                                                         | 0.39/1.0 [0.20s/it, gradient norm=0.0004082337712128762]\n"
     ]
    },
    {
     "name": "stdout",
     "output_type": "stream",
     "text": [
      "alpha=2.036e+04, time=0.34s, n_iter=1\n"
     ]
    },
    {
     "name": "stderr",
     "output_type": "stream",
     "text": [
      "Iteration 0:  47%|████████████████████████████████████████████████████████████████████████████████▎                                                                                          | 0.47/1.0 [0.10s/it, gradient norm=0.00034198925767833793]\n"
     ]
    },
    {
     "name": "stdout",
     "output_type": "stream",
     "text": [
      "alpha=1.710e+04, time=0.36s, n_iter=1\n"
     ]
    },
    {
     "name": "stderr",
     "output_type": "stream",
     "text": [
      "Iteration 0:  54%|█████████████████████████████████████████████████████████████████████████████████████████████▍                                                                               | 0.54/1.0 [0.10s/it, gradient norm=0.000286584214082407]\n"
     ]
    },
    {
     "name": "stdout",
     "output_type": "stream",
     "text": [
      "alpha=1.435e+04, time=0.35s, n_iter=1\n"
     ]
    },
    {
     "name": "stderr",
     "output_type": "stream",
     "text": [
      "Iteration 0:  62%|██████████████████████████████████████████████████████████████████████████████████████████████████████████                                                                 | 0.62/1.0 [0.10s/it, gradient norm=0.00024022095533537808]\n"
     ]
    },
    {
     "name": "stdout",
     "output_type": "stream",
     "text": [
      "alpha=1.205e+04, time=0.26s, n_iter=1\n"
     ]
    },
    {
     "name": "stderr",
     "output_type": "stream",
     "text": [
      "Iteration 0:  70%|████████████████████████████████████████████████████████████████████████████████████████████████████████████████████████▍                                                   | 0.7/1.0 [0.10s/it, gradient norm=0.00020140603595412287]\n"
     ]
    },
    {
     "name": "stdout",
     "output_type": "stream",
     "text": [
      "alpha=1.012e+04, time=0.42s, n_iter=1\n"
     ]
    },
    {
     "name": "stderr",
     "output_type": "stream",
     "text": [
      "Iteration 0:  77%|████████████████████████████████████████████████████████████████████████████████████████████████████████████████████████████████████▍                                       | 0.77/1.0 [0.10s/it, gradient norm=0.0001688973482498813]\n"
     ]
    },
    {
     "name": "stdout",
     "output_type": "stream",
     "text": [
      "alpha=8.494e+03, time=0.24s, n_iter=1\n"
     ]
    },
    {
     "name": "stderr",
     "output_type": "stream",
     "text": [
      "Iteration 0:  85%|█████████████████████████████████████████████████████████████████████████████████████████████████████████████████████████████████████████████████▎                         | 0.85/1.0 [0.11s/it, gradient norm=0.00014179633247934695]\n"
     ]
    },
    {
     "name": "stdout",
     "output_type": "stream",
     "text": [
      "alpha=7.131e+03, time=0.28s, n_iter=1\n"
     ]
    },
    {
     "name": "stderr",
     "output_type": "stream",
     "text": [
      "Iteration 0:  92%|█████████████████████████████████████████████████████████████████████████████████████████████████████████████████████████████████████████████████████████████▎             | 0.92/1.0 [0.09s/it, gradient norm=0.00011895980568701893]\n"
     ]
    },
    {
     "name": "stdout",
     "output_type": "stream",
     "text": [
      "alpha=5.987e+03, time=0.34s, n_iter=1\n"
     ]
    },
    {
     "name": "stderr",
     "output_type": "stream",
     "text": [
      "Iteration 0: |                                                                                                                                                                                      | 0/-0.0 [s/it, gradient norm=9.981256962097593e-05]\n"
     ]
    },
    {
     "name": "stdout",
     "output_type": "stream",
     "text": [
      "alpha=5.026e+03, time=0.22s, n_iter=0\n"
     ]
    },
    {
     "name": "stderr",
     "output_type": "stream",
     "text": [
      "Iteration 0:  74%|███████████████████████████████████████████████████████████████████████████████████████████████████████████████████████████████▎                                            | 0.74/1.0 [0.19s/it, gradient norm=0.0001832020375023024]\n"
     ]
    },
    {
     "name": "stdout",
     "output_type": "stream",
     "text": [
      "alpha=4.220e+03, time=0.35s, n_iter=1\n"
     ]
    },
    {
     "name": "stderr",
     "output_type": "stream",
     "text": [
      "Iteration 0: |                                                                                                                                                                                      | 0/-0.0 [s/it, gradient norm=7.089786829173228e-05]\n"
     ]
    },
    {
     "name": "stdout",
     "output_type": "stream",
     "text": [
      "alpha=3.543e+03, time=0.09s, n_iter=0\n"
     ]
    },
    {
     "name": "stderr",
     "output_type": "stream",
     "text": [
      "Iteration 0:  89%|████████████████████████████████████████████████████████████████████████████████████████████████████████████████████████████████████████████████████████▏                  | 0.89/1.0 [0.11s/it, gradient norm=0.00012967555211391803]\n"
     ]
    },
    {
     "name": "stdout",
     "output_type": "stream",
     "text": [
      "alpha=2.974e+03, time=0.26s, n_iter=1\n"
     ]
    },
    {
     "name": "stderr",
     "output_type": "stream",
     "text": [
      "Iteration 0: |                                                                                                                                                                                      | 0/-0.0 [s/it, gradient norm=4.994075404581944e-05]\n"
     ]
    },
    {
     "name": "stdout",
     "output_type": "stream",
     "text": [
      "alpha=2.497e+03, time=0.10s, n_iter=0\n"
     ]
    },
    {
     "name": "stderr",
     "output_type": "stream",
     "text": [
      "Iteration 0: |                                                                                                                                                                                      | 0/-0.0 [s/it, gradient norm=9.137063965700322e-05]\n"
     ]
    },
    {
     "name": "stdout",
     "output_type": "stream",
     "text": [
      "alpha=2.097e+03, time=0.11s, n_iter=0\n"
     ]
    },
    {
     "name": "stderr",
     "output_type": "stream",
     "text": [
      "Iteration 0:  90%|██████████████████████████████████████████████████████████████████████████████████████████████████████████████████████████████████████████████████████████▊                 | 0.9/1.0 [0.19s/it, gradient norm=0.00012615342584361297]\n"
     ]
    },
    {
     "name": "stdout",
     "output_type": "stream",
     "text": [
      "alpha=1.760e+03, time=0.34s, n_iter=1\n"
     ]
    },
    {
     "name": "stderr",
     "output_type": "stream",
     "text": [
      "Iteration 0: |                                                                                                                                                                                      | 0/-0.0 [s/it, gradient norm=2.977936199682046e-05]\n"
     ]
    },
    {
     "name": "stdout",
     "output_type": "stream",
     "text": [
      "alpha=1.478e+03, time=0.09s, n_iter=0\n"
     ]
    },
    {
     "name": "stderr",
     "output_type": "stream",
     "text": [
      "Iteration 0: |                                                                                                                                                                                      | 0/-0.0 [s/it, gradient norm=5.429626635986003e-05]\n"
     ]
    },
    {
     "name": "stdout",
     "output_type": "stream",
     "text": [
      "alpha=1.241e+03, time=0.19s, n_iter=0\n"
     ]
    },
    {
     "name": "stderr",
     "output_type": "stream",
     "text": [
      "Iteration 0: |                                                                                                                                                                                      | 0/-0.0 [s/it, gradient norm=7.487962616973999e-05]\n"
     ]
    },
    {
     "name": "stdout",
     "output_type": "stream",
     "text": [
      "alpha=1.042e+03, time=0.10s, n_iter=0\n"
     ]
    },
    {
     "name": "stderr",
     "output_type": "stream",
     "text": [
      "Iteration 0: |                                                                                                                                                                                      | 0/-0.0 [s/it, gradient norm=9.216054772448958e-05]\n"
     ]
    },
    {
     "name": "stdout",
     "output_type": "stream",
     "text": [
      "alpha=8.745e+02, time=0.11s, n_iter=0\n"
     ]
    },
    {
     "name": "stderr",
     "output_type": "stream",
     "text": [
      "Iteration 0:  97%|█████████████████████████████████████████████████████████████████████████████████████████████████████████████████████████████████████████████████████████████████████▊     | 0.97/1.0 [0.10s/it, gradient norm=0.00010666888127837633]\n"
     ]
    },
    {
     "name": "stdout",
     "output_type": "stream",
     "text": [
      "alpha=7.342e+02, time=0.25s, n_iter=1\n"
     ]
    },
    {
     "name": "stderr",
     "output_type": "stream",
     "text": [
      "Iteration 0: |                                                                                                                                                                                     | 0/-0.0 [s/it, gradient norm=1.2623105478277255e-05]\n"
     ]
    },
    {
     "name": "stdout",
     "output_type": "stream",
     "text": [
      "alpha=6.164e+02, time=0.09s, n_iter=0\n"
     ]
    },
    {
     "name": "stderr",
     "output_type": "stream",
     "text": [
      "Iteration 0: |                                                                                                                                                                                      | 0/-0.0 [s/it, gradient norm=2.284941179828826e-05]\n"
     ]
    },
    {
     "name": "stdout",
     "output_type": "stream",
     "text": [
      "alpha=5.175e+02, time=0.20s, n_iter=0\n"
     ]
    },
    {
     "name": "stderr",
     "output_type": "stream",
     "text": [
      "Iteration 0: |                                                                                                                                                                                       | 0/-0.0 [s/it, gradient norm=3.14349876684688e-05]\n"
     ]
    },
    {
     "name": "stdout",
     "output_type": "stream",
     "text": [
      "alpha=4.345e+02, time=0.16s, n_iter=0\n"
     ]
    },
    {
     "name": "stderr",
     "output_type": "stream",
     "text": [
      "Iteration 0: |                                                                                                                                                                                       | 0/-0.0 [s/it, gradient norm=3.86430753900722e-05]\n"
     ]
    },
    {
     "name": "stdout",
     "output_type": "stream",
     "text": [
      "alpha=3.648e+02, time=0.11s, n_iter=0\n"
     ]
    },
    {
     "name": "stderr",
     "output_type": "stream",
     "text": [
      "Iteration 0: |                                                                                                                                                                                      | 0/-0.0 [s/it, gradient norm=4.469468210672644e-05]\n"
     ]
    },
    {
     "name": "stdout",
     "output_type": "stream",
     "text": [
      "alpha=3.062e+02, time=0.11s, n_iter=0\n"
     ]
    },
    {
     "name": "stderr",
     "output_type": "stream",
     "text": [
      "Iteration 0: |                                                                                                                                                                                      | 0/-0.0 [s/it, gradient norm=4.977535610342256e-05]\n"
     ]
    },
    {
     "name": "stdout",
     "output_type": "stream",
     "text": [
      "alpha=2.571e+02, time=0.09s, n_iter=0\n"
     ]
    },
    {
     "name": "stderr",
     "output_type": "stream",
     "text": [
      "Iteration 0: |                                                                                                                                                                                     | 0/-0.0 [s/it, gradient norm=5.4040875901605265e-05]\n"
     ]
    },
    {
     "name": "stdout",
     "output_type": "stream",
     "text": [
      "alpha=2.159e+02, time=0.11s, n_iter=0\n"
     ]
    },
    {
     "name": "stderr",
     "output_type": "stream",
     "text": [
      "Iteration 0: |                                                                                                                                                                                      | 0/-0.0 [s/it, gradient norm=5.762202658368412e-05]\n"
     ]
    },
    {
     "name": "stdout",
     "output_type": "stream",
     "text": [
      "alpha=1.812e+02, time=0.10s, n_iter=0\n"
     ]
    },
    {
     "name": "stderr",
     "output_type": "stream",
     "text": [
      "Iteration 0: |                                                                                                                                                                                      | 0/-0.0 [s/it, gradient norm=6.062860979382835e-05]\n"
     ]
    },
    {
     "name": "stdout",
     "output_type": "stream",
     "text": [
      "alpha=1.521e+02, time=0.11s, n_iter=0\n"
     ]
    },
    {
     "name": "stderr",
     "output_type": "stream",
     "text": [
      "Iteration 0: |                                                                                                                                                                                      | 0/-0.0 [s/it, gradient norm=7.363981973054865e-05]\n"
     ]
    },
    {
     "name": "stdout",
     "output_type": "stream",
     "text": [
      "alpha=1.277e+02, time=0.20s, n_iter=0\n"
     ]
    },
    {
     "name": "stderr",
     "output_type": "stream",
     "text": [
      "Iteration 0:  61%|████████████████████████████████████████████████████████████████████████████████████████████████████████▉                                                                   | 0.61/1.0 [0.13s/it, gradient norm=0.0002444707514751017]\n"
     ]
    },
    {
     "name": "stdout",
     "output_type": "stream",
     "text": [
      "alpha=1.072e+02, time=0.28s, n_iter=1\n"
     ]
    },
    {
     "name": "stderr",
     "output_type": "stream",
     "text": [
      "Iteration 0:  77%|███████████████████████████████████████████████████████████████████████████████████████████████████████████████████████████████████▋                                       | 0.77/1.0 [0.09s/it, gradient norm=0.00016928985872431316]\n"
     ]
    },
    {
     "name": "stdout",
     "output_type": "stream",
     "text": [
      "alpha=9.004e+01, time=0.21s, n_iter=1\n"
     ]
    },
    {
     "name": "stderr",
     "output_type": "stream",
     "text": [
      "Iteration 0:  82%|████████████████████████████████████████████████████████████████████████████████████████████████████████████████████████████████████████████▏                              | 0.82/1.0 [0.08s/it, gradient norm=0.00015094173610393408]\n"
     ]
    },
    {
     "name": "stdout",
     "output_type": "stream",
     "text": [
      "alpha=7.559e+01, time=0.20s, n_iter=1\n"
     ]
    },
    {
     "name": "stderr",
     "output_type": "stream",
     "text": [
      "Iteration 0:  88%|███████████████████████████████████████████████████████████████████████████████████████████████████████████████████████████████████████████████████████▎                    | 0.88/1.0 [0.09s/it, gradient norm=0.0001327877491504272]\n"
     ]
    },
    {
     "name": "stdout",
     "output_type": "stream",
     "text": [
      "alpha=6.346e+01, time=0.21s, n_iter=1\n"
     ]
    },
    {
     "name": "stderr",
     "output_type": "stream",
     "text": [
      "Iteration 0:  95%|██████████████████████████████████████████████████████████████████████████████████████████████████████████████████████████████████████████████████████████████████▍        | 0.95/1.0 [0.09s/it, gradient norm=0.00011159122817006912]\n"
     ]
    },
    {
     "name": "stdout",
     "output_type": "stream",
     "text": [
      "alpha=5.328e+01, time=0.25s, n_iter=1\n"
     ]
    },
    {
     "name": "stderr",
     "output_type": "stream",
     "text": [
      "Iteration 0: |                                                                                                                                                                                      | 0/-0.0 [s/it, gradient norm=9.467386398951866e-05]\n"
     ]
    },
    {
     "name": "stdout",
     "output_type": "stream",
     "text": [
      "alpha=4.473e+01, time=0.19s, n_iter=0\n"
     ]
    },
    {
     "name": "stderr",
     "output_type": "stream",
     "text": [
      "Iteration 0:  82%|████████████████████████████████████████████████████████████████████████████████████████████████████████████████████████████████████████████▏                              | 0.82/1.0 [0.15s/it, gradient norm=0.00015301290165878296]\n"
     ]
    },
    {
     "name": "stdout",
     "output_type": "stream",
     "text": [
      "alpha=3.755e+01, time=0.36s, n_iter=1\n"
     ]
    },
    {
     "name": "stderr",
     "output_type": "stream",
     "text": [
      "Iteration 0: |                                                                                                                                                                                      | 0/-0.0 [s/it, gradient norm=8.737665366093733e-05]\n"
     ]
    },
    {
     "name": "stdout",
     "output_type": "stream",
     "text": [
      "alpha=3.153e+01, time=0.10s, n_iter=0\n"
     ]
    },
    {
     "name": "stderr",
     "output_type": "stream",
     "text": [
      "Iteration 0:  89%|████████████████████████████████████████████████████████████████████████████████████████████████████████████████████████████████████████████████████████▏                  | 0.89/1.0 [0.10s/it, gradient norm=0.00012849735628365396]\n"
     ]
    },
    {
     "name": "stdout",
     "output_type": "stream",
     "text": [
      "alpha=2.647e+01, time=0.24s, n_iter=1\n"
     ]
    },
    {
     "name": "stderr",
     "output_type": "stream",
     "text": [
      "Iteration 0: |                                                                                                                                                                                      | 0/-0.0 [s/it, gradient norm=6.169509847501093e-05]\n"
     ]
    },
    {
     "name": "stdout",
     "output_type": "stream",
     "text": [
      "alpha=2.222e+01, time=0.13s, n_iter=0\n"
     ]
    },
    {
     "name": "stderr",
     "output_type": "stream",
     "text": [
      "Iteration 0: |                                                                                                                                                                                       | 0/-0.0 [s/it, gradient norm=9.06793301617249e-05]\n"
     ]
    },
    {
     "name": "stdout",
     "output_type": "stream",
     "text": [
      "alpha=1.866e+01, time=0.24s, n_iter=0\n"
     ]
    },
    {
     "name": "stderr",
     "output_type": "stream",
     "text": [
      "Iteration 0:  94%|████████████████████████████████████████████████████████████████████████████████████████████████████████████████████████████████████████████████████████████████▋          | 0.94/1.0 [0.20s/it, gradient norm=0.00011501326974832099]\n"
     ]
    },
    {
     "name": "stdout",
     "output_type": "stream",
     "text": [
      "alpha=1.566e+01, time=0.34s, n_iter=1\n"
     ]
    },
    {
     "name": "stderr",
     "output_type": "stream",
     "text": [
      "Iteration 0: |                                                                                                                                                                                     | 0/-0.0 [s/it, gradient norm=4.7446011121637424e-05]\n"
     ]
    },
    {
     "name": "stdout",
     "output_type": "stream",
     "text": [
      "alpha=1.315e+01, time=0.09s, n_iter=0\n"
     ]
    },
    {
     "name": "stderr",
     "output_type": "stream",
     "text": [
      "Iteration 0: |                                                                                                                                                                                      | 0/-0.0 [s/it, gradient norm=6.459796859910442e-05]\n"
     ]
    },
    {
     "name": "stdout",
     "output_type": "stream",
     "text": [
      "alpha=1.104e+01, time=0.10s, n_iter=0\n"
     ]
    },
    {
     "name": "stderr",
     "output_type": "stream",
     "text": [
      "Iteration 0: |                                                                                                                                                                                      | 0/-0.0 [s/it, gradient norm=7.899802934799317e-05]\n"
     ]
    },
    {
     "name": "stdout",
     "output_type": "stream",
     "text": [
      "alpha=9.270e+00, time=0.10s, n_iter=0\n"
     ]
    },
    {
     "name": "stderr",
     "output_type": "stream",
     "text": [
      "Iteration 0: |                                                                                                                                                                                      | 0/-0.0 [s/it, gradient norm=9.108771356299326e-05]\n"
     ]
    },
    {
     "name": "stdout",
     "output_type": "stream",
     "text": [
      "alpha=7.783e+00, time=0.10s, n_iter=0\n"
     ]
    },
    {
     "name": "stderr",
     "output_type": "stream",
     "text": [
      "Iteration 0:  99%|█████████████████████████████████████████████████████████████████████████████████████████████████████████████████████████████████████████████████████████████████████████▎ | 0.99/1.0 [0.18s/it, gradient norm=0.00010123770299478799]\n"
     ]
    },
    {
     "name": "stdout",
     "output_type": "stream",
     "text": [
      "alpha=6.534e+00, time=0.31s, n_iter=1\n"
     ]
    },
    {
     "name": "stderr",
     "output_type": "stream",
     "text": [
      "Iteration 0: |                                                                                                                                                                                      | 0/-0.0 [s/it, gradient norm=3.284347291273172e-05]\n"
     ]
    },
    {
     "name": "stdout",
     "output_type": "stream",
     "text": [
      "alpha=5.486e+00, time=0.09s, n_iter=0\n"
     ]
    },
    {
     "name": "stderr",
     "output_type": "stream",
     "text": [
      "Iteration 0: |                                                                                                                                                                                     | 0/-0.0 [s/it, gradient norm=3.9997768110652675e-05]\n"
     ]
    },
    {
     "name": "stdout",
     "output_type": "stream",
     "text": [
      "alpha=4.605e+00, time=0.10s, n_iter=0\n"
     ]
    },
    {
     "name": "stderr",
     "output_type": "stream",
     "text": [
      "Iteration 0: |                                                                                                                                                                                      | 0/-0.0 [s/it, gradient norm=4.600421289113256e-05]\n"
     ]
    },
    {
     "name": "stdout",
     "output_type": "stream",
     "text": [
      "alpha=3.867e+00, time=0.11s, n_iter=0\n"
     ]
    },
    {
     "name": "stderr",
     "output_type": "stream",
     "text": [
      "Iteration 0: |                                                                                                                                                                                      | 0/-0.0 [s/it, gradient norm=5.104697082925038e-05]\n"
     ]
    },
    {
     "name": "stdout",
     "output_type": "stream",
     "text": [
      "alpha=3.246e+00, time=0.09s, n_iter=0\n"
     ]
    },
    {
     "name": "stderr",
     "output_type": "stream",
     "text": [
      "Iteration 0: |                                                                                                                                                                                     | 0/-0.0 [s/it, gradient norm=5.5280657902357626e-05]\n"
     ]
    },
    {
     "name": "stdout",
     "output_type": "stream",
     "text": [
      "alpha=2.725e+00, time=0.09s, n_iter=0\n"
     ]
    },
    {
     "name": "stderr",
     "output_type": "stream",
     "text": [
      "Iteration 0: |                                                                                                                                                                                      | 0/-0.0 [s/it, gradient norm=5.883508316983057e-05]\n"
     ]
    },
    {
     "name": "stdout",
     "output_type": "stream",
     "text": [
      "alpha=2.288e+00, time=0.10s, n_iter=0\n"
     ]
    },
    {
     "name": "stderr",
     "output_type": "stream",
     "text": [
      "Iteration 0: |                                                                                                                                                                                      | 0/-0.0 [s/it, gradient norm=6.181922884802716e-05]\n"
     ]
    },
    {
     "name": "stdout",
     "output_type": "stream",
     "text": [
      "alpha=1.921e+00, time=0.09s, n_iter=0\n"
     ]
    },
    {
     "name": "stderr",
     "output_type": "stream",
     "text": [
      "Iteration 0: |                                                                                                                                                                                      | 0/-0.0 [s/it, gradient norm=6.432459181350895e-05]\n"
     ]
    },
    {
     "name": "stdout",
     "output_type": "stream",
     "text": [
      "alpha=1.613e+00, time=0.10s, n_iter=0\n"
     ]
    },
    {
     "name": "stderr",
     "output_type": "stream",
     "text": [
      "Iteration 0: |                                                                                                                                                                                      | 0/-0.0 [s/it, gradient norm=6.642798898834161e-05]\n"
     ]
    },
    {
     "name": "stdout",
     "output_type": "stream",
     "text": [
      "alpha=1.354e+00, time=0.09s, n_iter=0\n"
     ]
    },
    {
     "name": "stderr",
     "output_type": "stream",
     "text": [
      "Iteration 0: |                                                                                                                                                                                      | 0/-0.0 [s/it, gradient norm=6.819391262337993e-05]\n"
     ]
    },
    {
     "name": "stdout",
     "output_type": "stream",
     "text": [
      "alpha=1.137e+00, time=0.12s, n_iter=0\n"
     ]
    },
    {
     "name": "stderr",
     "output_type": "stream",
     "text": [
      "Iteration 0: |                                                                                                                                                                                      | 0/-0.0 [s/it, gradient norm=6.967650769486712e-05]\n"
     ]
    },
    {
     "name": "stdout",
     "output_type": "stream",
     "text": [
      "alpha=9.544e-01, time=0.04s, n_iter=0\n"
     ]
    },
    {
     "name": "stderr",
     "output_type": "stream",
     "text": [
      "Iteration 0: |                                                                                                                                                                                       | 0/-0.0 [s/it, gradient norm=7.09212320432959e-05]\n"
     ]
    },
    {
     "name": "stdout",
     "output_type": "stream",
     "text": [
      "alpha=8.013e-01, time=0.14s, n_iter=0\n"
     ]
    },
    {
     "name": "stderr",
     "output_type": "stream",
     "text": [
      "Iteration 0: |                                                                                                                                                                                       | 0/-0.0 [s/it, gradient norm=7.19662501560415e-05]\n"
     ]
    },
    {
     "name": "stdout",
     "output_type": "stream",
     "text": [
      "alpha=6.727e-01, time=0.10s, n_iter=0\n"
     ]
    },
    {
     "name": "stderr",
     "output_type": "stream",
     "text": [
      "Iteration 0: |                                                                                                                                                                                      | 0/-0.0 [s/it, gradient norm=8.006684489793135e-05]\n"
     ]
    },
    {
     "name": "stdout",
     "output_type": "stream",
     "text": [
      "alpha=5.648e-01, time=0.11s, n_iter=0\n"
     ]
    },
    {
     "name": "stderr",
     "output_type": "stream",
     "text": [
      "Iteration 0:  84%|████████████████████████████████████████████████████████████████████████████████████████████████████████████████████████████████████████████████▍                           | 0.84/1.0 [0.17s/it, gradient norm=0.0001429657393656772]\n"
     ]
    },
    {
     "name": "stdout",
     "output_type": "stream",
     "text": [
      "alpha=4.742e-01, time=0.34s, n_iter=1\n"
     ]
    },
    {
     "name": "stderr",
     "output_type": "stream",
     "text": [
      "Iteration 1:  83%|██████████████████████████████████████████████████████████████████████████████████████████████████████████████████████████████████████████████▊                             | 1.66/2.0 [0.18s/it, gradient norm=0.0002194666413143787]\n"
     ]
    },
    {
     "name": "stdout",
     "output_type": "stream",
     "text": [
      "alpha=3.981e-01, time=0.45s, n_iter=2\n"
     ]
    },
    {
     "name": "stderr",
     "output_type": "stream",
     "text": [
      "Iteration 1:  60%|███████████████████████████████████████████████████████████████████████████████████████████████████████▊                                                                     | 1.2/2.0 [0.13s/it, gradient norm=0.0006326693747575137]\n"
     ]
    },
    {
     "name": "stdout",
     "output_type": "stream",
     "text": [
      "alpha=3.342e-01, time=0.35s, n_iter=2\n"
     ]
    },
    {
     "name": "stderr",
     "output_type": "stream",
     "text": [
      "Iteration 1:  70%|██████████████████████████████████████████████████████████████████████████████████████████████████████████████████████▊                                                    | 1.39/2.0 [0.13s/it, gradient norm=0.00040492316939326814]\n"
     ]
    },
    {
     "name": "stdout",
     "output_type": "stream",
     "text": [
      "alpha=2.806e-01, time=0.40s, n_iter=2\n"
     ]
    },
    {
     "name": "stderr",
     "output_type": "stream",
     "text": [
      "Iteration 1:  78%|███████████████████████████████████████████████████████████████████████████████████████████████████████████████████████████████████████                                     | 1.57/2.0 [0.21s/it, gradient norm=0.0002684259672342582]\n"
     ]
    },
    {
     "name": "stdout",
     "output_type": "stream",
     "text": [
      "alpha=2.356e-01, time=0.42s, n_iter=2\n"
     ]
    },
    {
     "name": "stderr",
     "output_type": "stream",
     "text": [
      "Iteration 1:  87%|████████████████████████████████████████████████████████████████████████████████████████████████████████████████████████████████████████████████████▊                      | 1.74/2.0 [0.17s/it, gradient norm=0.00018282495870547232]\n"
     ]
    },
    {
     "name": "stdout",
     "output_type": "stream",
     "text": [
      "alpha=1.978e-01, time=0.45s, n_iter=2\n"
     ]
    },
    {
     "name": "stderr",
     "output_type": "stream",
     "text": [
      "Iteration 1:  95%|███████████████████████████████████████████████████████████████████████████████████████████████████████████████████████████████████████████████████████████████████▍        | 1.9/2.0 [0.14s/it, gradient norm=0.00012711677383989029]\n"
     ]
    },
    {
     "name": "stdout",
     "output_type": "stream",
     "text": [
      "alpha=1.660e-01, time=0.39s, n_iter=2\n"
     ]
    },
    {
     "name": "stderr",
     "output_type": "stream",
     "text": [
      "Iteration 0:  36%|██████████████████████████████████████████████████████████████▎                                                                                                              | 0.72/2.0 [0.09s/it, gradient norm=0.001896475473680261]\n"
     ]
    },
    {
     "name": "stdout",
     "output_type": "stream",
     "text": [
      "alpha=1.394e-01, time=0.23s, n_iter=1\n"
     ]
    },
    {
     "name": "stderr",
     "output_type": "stream",
     "text": [
      "Iteration 0:  40%|█████████████████████████████████████████████████████████████████████▏                                                                                                       | 0.8/2.0 [0.10s/it, gradient norm=0.0015832999655624948]\n"
     ]
    },
    {
     "name": "stdout",
     "output_type": "stream",
     "text": [
      "alpha=1.170e-01, time=0.27s, n_iter=1\n"
     ]
    },
    {
     "name": "stderr",
     "output_type": "stream",
     "text": [
      "Iteration 0:  44%|███████████████████████████████████████████████████████████████████████████▋                                                                                                | 0.88/2.0 [0.18s/it, gradient norm=0.0013328680145724948]\n"
     ]
    },
    {
     "name": "stdout",
     "output_type": "stream",
     "text": [
      "alpha=9.826e-02, time=0.34s, n_iter=1\n"
     ]
    },
    {
     "name": "stderr",
     "output_type": "stream",
     "text": [
      "Iteration 0:  47%|█████████████████████████████████████████████████████████████████████████████████▎                                                                                           | 0.94/2.0 [0.10s/it, gradient norm=0.001151883502281906]\n"
     ]
    },
    {
     "name": "stdout",
     "output_type": "stream",
     "text": [
      "alpha=8.250e-02, time=0.26s, n_iter=1\n"
     ]
    },
    {
     "name": "stderr",
     "output_type": "stream",
     "text": [
      "Iteration 0:   2%|███▍                                                                                                                                                                        | 0.02/1.0 [0.09s/it, gradient norm=0.0009635597960157317]\n"
     ]
    },
    {
     "name": "stdout",
     "output_type": "stream",
     "text": [
      "alpha=6.926e-02, time=0.37s, n_iter=1\n"
     ]
    },
    {
     "name": "stderr",
     "output_type": "stream",
     "text": [
      "Iteration 0: |                                                                                                                                                                                        | 0/? [s/it, gradient norm=1.7929500427833948e-17]\n"
     ]
    },
    {
     "name": "stdout",
     "output_type": "stream",
     "text": [
      "alpha=6.926e+04, time=0.09s, n_iter=0\n"
     ]
    },
    {
     "name": "stderr",
     "output_type": "stream",
     "text": [
      "Iteration 0:  29%|█████████████████████████████████████████████████▉                                                                                                                          | 0.29/1.0 [0.06s/it, gradient norm=0.0005139449625945243]\n"
     ]
    },
    {
     "name": "stdout",
     "output_type": "stream",
     "text": [
      "alpha=5.815e+04, time=0.21s, n_iter=1\n"
     ]
    },
    {
     "name": "stderr",
     "output_type": "stream",
     "text": [
      "Iteration 0:   2%|███▍                                                                                                                                                                        | 0.02/1.0 [0.20s/it, gradient norm=0.0009591436196051664]\n"
     ]
    },
    {
     "name": "stdout",
     "output_type": "stream",
     "text": [
      "alpha=4.882e+04, time=0.33s, n_iter=1\n"
     ]
    },
    {
     "name": "stderr",
     "output_type": "stream",
     "text": [
      "Iteration 0:   9%|███████████████▍                                                                                                                                                            | 0.09/1.0 [0.09s/it, gradient norm=0.0008206455970104762]\n"
     ]
    },
    {
     "name": "stdout",
     "output_type": "stream",
     "text": [
      "alpha=4.099e+04, time=0.25s, n_iter=1\n"
     ]
    },
    {
     "name": "stderr",
     "output_type": "stream",
     "text": [
      "Iteration 0:  16%|███████████████████████████▌                                                                                                                                                | 0.16/1.0 [0.09s/it, gradient norm=0.0006870419601538841]\n"
     ]
    },
    {
     "name": "stdout",
     "output_type": "stream",
     "text": [
      "alpha=3.441e+04, time=0.23s, n_iter=1\n"
     ]
    },
    {
     "name": "stderr",
     "output_type": "stream",
     "text": [
      "Iteration 0:  24%|█████████████████████████████████████████▎                                                                                                                                  | 0.24/1.0 [0.09s/it, gradient norm=0.0005749511923252305]\n"
     ]
    },
    {
     "name": "stdout",
     "output_type": "stream",
     "text": [
      "alpha=2.889e+04, time=0.25s, n_iter=1\n"
     ]
    },
    {
     "name": "stderr",
     "output_type": "stream",
     "text": [
      "Iteration 0:  32%|███████████████████████████████████████████████████████                                                                                                                     | 0.32/1.0 [0.09s/it, gradient norm=0.0004813475962435154]\n"
     ]
    },
    {
     "name": "stdout",
     "output_type": "stream",
     "text": [
      "alpha=2.425e+04, time=0.24s, n_iter=1\n"
     ]
    },
    {
     "name": "stderr",
     "output_type": "stream",
     "text": [
      "Iteration 0:  39%|██████████████████████████████████████████████████████████████████▋                                                                                                        | 0.39/1.0 [0.23s/it, gradient norm=0.00040313940021479317]\n"
     ]
    },
    {
     "name": "stdout",
     "output_type": "stream",
     "text": [
      "alpha=2.036e+04, time=0.43s, n_iter=1\n"
     ]
    },
    {
     "name": "stderr",
     "output_type": "stream",
     "text": [
      "Iteration 0:  47%|████████████████████████████████████████████████████████████████████████████████▎                                                                                          | 0.47/1.0 [0.13s/it, gradient norm=0.00033775441654937063]\n"
     ]
    },
    {
     "name": "stdout",
     "output_type": "stream",
     "text": [
      "alpha=1.710e+04, time=0.26s, n_iter=1\n"
     ]
    },
    {
     "name": "stderr",
     "output_type": "stream",
     "text": [
      "Iteration 0:  55%|██████████████████████████████████████████████████████████████████████████████████████████████                                                                             | 0.55/1.0 [0.08s/it, gradient norm=0.00028305950301658894]\n"
     ]
    },
    {
     "name": "stdout",
     "output_type": "stream",
     "text": [
      "alpha=1.435e+04, time=0.21s, n_iter=1\n"
     ]
    },
    {
     "name": "stderr",
     "output_type": "stream",
     "text": [
      "Iteration 0:  62%|██████████████████████████████████████████████████████████████████████████████████████████████████████████                                                                 | 0.62/1.0 [0.08s/it, gradient norm=0.00023728395470012535]\n"
     ]
    },
    {
     "name": "stdout",
     "output_type": "stream",
     "text": [
      "alpha=1.205e+04, time=0.29s, n_iter=1\n"
     ]
    },
    {
     "name": "stderr",
     "output_type": "stream",
     "text": [
      "Iteration 0:  70%|████████████████████████████████████████████████████████████████████████████████████████████████████████████████████████▍                                                   | 0.7/1.0 [0.10s/it, gradient norm=0.00019895624105115205]\n"
     ]
    },
    {
     "name": "stdout",
     "output_type": "stream",
     "text": [
      "alpha=1.012e+04, time=0.26s, n_iter=1\n"
     ]
    },
    {
     "name": "stderr",
     "output_type": "stream",
     "text": [
      "Iteration 0:  78%|█████████████████████████████████████████████████████████████████████████████████████████████████████████████████████████████████████▍                                     | 0.78/1.0 [0.09s/it, gradient norm=0.00016695634360227478]\n"
     ]
    },
    {
     "name": "stdout",
     "output_type": "stream",
     "text": [
      "alpha=8.494e+03, time=0.23s, n_iter=1\n"
     ]
    },
    {
     "name": "stderr",
     "output_type": "stream",
     "text": [
      "Iteration 0:  85%|██████████████████████████████████████████████████████████████████████████████████████████████████████████████████████████████████████████████████▏                         | 0.85/1.0 [0.12s/it, gradient norm=0.0001400511329602708]\n"
     ]
    },
    {
     "name": "stdout",
     "output_type": "stream",
     "text": [
      "alpha=7.131e+03, time=0.32s, n_iter=1\n"
     ]
    },
    {
     "name": "stderr",
     "output_type": "stream",
     "text": [
      "Iteration 0:  93%|███████████████████████████████████████████████████████████████████████████████████████████████████████████████████████████████████████████████████████████████            | 0.93/1.0 [0.17s/it, gradient norm=0.00011749741764393142]\n"
     ]
    },
    {
     "name": "stdout",
     "output_type": "stream",
     "text": [
      "alpha=5.987e+03, time=0.30s, n_iter=1\n"
     ]
    },
    {
     "name": "stderr",
     "output_type": "stream",
     "text": [
      "Iteration 0: |                                                                                                                                                                                      | 0/-0.0 [s/it, gradient norm=9.858698748106776e-05]\n"
     ]
    },
    {
     "name": "stdout",
     "output_type": "stream",
     "text": [
      "alpha=5.026e+03, time=0.09s, n_iter=0\n"
     ]
    },
    {
     "name": "stderr",
     "output_type": "stream",
     "text": [
      "Iteration 0:  74%|██████████████████████████████████████████████████████████████████████████████████████████████████████████████████████████████▌                                            | 0.74/1.0 [0.10s/it, gradient norm=0.00018099226679391846]\n"
     ]
    },
    {
     "name": "stdout",
     "output_type": "stream",
     "text": [
      "alpha=4.220e+03, time=0.24s, n_iter=1\n"
     ]
    },
    {
     "name": "stderr",
     "output_type": "stream",
     "text": [
      "Iteration 0: |                                                                                                                                                                                      | 0/-0.0 [s/it, gradient norm=7.015483609815564e-05]\n"
     ]
    },
    {
     "name": "stdout",
     "output_type": "stream",
     "text": [
      "alpha=3.543e+03, time=0.08s, n_iter=0\n"
     ]
    },
    {
     "name": "stderr",
     "output_type": "stream",
     "text": [
      "Iteration 0:  89%|████████████████████████████████████████████████████████████████████████████████████████████████████████████████████████████████████████████████████████▏                  | 0.89/1.0 [0.08s/it, gradient norm=0.00012823880732126827]\n"
     ]
    },
    {
     "name": "stdout",
     "output_type": "stream",
     "text": [
      "alpha=2.974e+03, time=0.23s, n_iter=1\n"
     ]
    },
    {
     "name": "stderr",
     "output_type": "stream",
     "text": [
      "Iteration 0: |                                                                                                                                                                                      | 0/-0.0 [s/it, gradient norm=4.929276117818096e-05]\n"
     ]
    },
    {
     "name": "stdout",
     "output_type": "stream",
     "text": [
      "alpha=2.497e+03, time=0.09s, n_iter=0\n"
     ]
    },
    {
     "name": "stderr",
     "output_type": "stream",
     "text": [
      "Iteration 0: |                                                                                                                                                                                      | 0/-0.0 [s/it, gradient norm=9.023367832790616e-05]\n"
     ]
    },
    {
     "name": "stdout",
     "output_type": "stream",
     "text": [
      "alpha=2.097e+03, time=0.08s, n_iter=0\n"
     ]
    },
    {
     "name": "stderr",
     "output_type": "stream",
     "text": [
      "Iteration 0:  90%|███████████████████████████████████████████████████████████████████████████████████████████████████████████████████████████████████████████████████████████▋                 | 0.9/1.0 [0.09s/it, gradient norm=0.0001246059471984285]\n"
     ]
    },
    {
     "name": "stdout",
     "output_type": "stream",
     "text": [
      "alpha=1.760e+03, time=0.21s, n_iter=1\n"
     ]
    },
    {
     "name": "stderr",
     "output_type": "stream",
     "text": [
      "Iteration 0: |                                                                                                                                                                                      | 0/-0.0 [s/it, gradient norm=2.936886552777785e-05]\n"
     ]
    },
    {
     "name": "stdout",
     "output_type": "stream",
     "text": [
      "alpha=1.478e+03, time=0.11s, n_iter=0\n"
     ]
    },
    {
     "name": "stderr",
     "output_type": "stream",
     "text": [
      "Iteration 0: |                                                                                                                                                                                      | 0/-0.0 [s/it, gradient norm=5.359641372124865e-05]\n"
     ]
    },
    {
     "name": "stdout",
     "output_type": "stream",
     "text": [
      "alpha=1.241e+03, time=0.09s, n_iter=0\n"
     ]
    },
    {
     "name": "stderr",
     "output_type": "stream",
     "text": [
      "Iteration 0: |                                                                                                                                                                                       | 0/-0.0 [s/it, gradient norm=7.39368422840491e-05]\n"
     ]
    },
    {
     "name": "stdout",
     "output_type": "stream",
     "text": [
      "alpha=1.042e+03, time=0.12s, n_iter=0\n"
     ]
    },
    {
     "name": "stderr",
     "output_type": "stream",
     "text": [
      "Iteration 0: |                                                                                                                                                                                      | 0/-0.0 [s/it, gradient norm=9.101380900038773e-05]\n"
     ]
    },
    {
     "name": "stdout",
     "output_type": "stream",
     "text": [
      "alpha=8.745e+02, time=0.10s, n_iter=0\n"
     ]
    },
    {
     "name": "stderr",
     "output_type": "stream",
     "text": [
      "Iteration 0:  98%|███████████████████████████████████████████████████████████████████████████████████████████████████████████████████████████████████████████████████████████████████████▌   | 0.98/1.0 [0.11s/it, gradient norm=0.00010535091066619373]\n"
     ]
    },
    {
     "name": "stdout",
     "output_type": "stream",
     "text": [
      "alpha=7.342e+02, time=0.26s, n_iter=1\n"
     ]
    },
    {
     "name": "stderr",
     "output_type": "stream",
     "text": [
      "Iteration 0: |                                                                                                                                                                                     | 0/-0.0 [s/it, gradient norm=1.2424951272015342e-05]\n"
     ]
    },
    {
     "name": "stdout",
     "output_type": "stream",
     "text": [
      "alpha=6.164e+02, time=0.10s, n_iter=0\n"
     ]
    },
    {
     "name": "stderr",
     "output_type": "stream",
     "text": [
      "Iteration 0: |                                                                                                                                                                                      | 0/-0.0 [s/it, gradient norm=2.253056352797248e-05]\n"
     ]
    },
    {
     "name": "stdout",
     "output_type": "stream",
     "text": [
      "alpha=5.175e+02, time=0.10s, n_iter=0\n"
     ]
    },
    {
     "name": "stderr",
     "output_type": "stream",
     "text": [
      "Iteration 0: |                                                                                                                                                                                      | 0/-0.0 [s/it, gradient norm=3.101480974777993e-05]\n"
     ]
    },
    {
     "name": "stdout",
     "output_type": "stream",
     "text": [
      "alpha=4.345e+02, time=0.12s, n_iter=0\n"
     ]
    },
    {
     "name": "stderr",
     "output_type": "stream",
     "text": [
      "Iteration 0: |                                                                                                                                                                                      | 0/-0.0 [s/it, gradient norm=3.813782536475894e-05]\n"
     ]
    },
    {
     "name": "stdout",
     "output_type": "stream",
     "text": [
      "alpha=3.648e+02, time=0.18s, n_iter=0\n"
     ]
    },
    {
     "name": "stderr",
     "output_type": "stream",
     "text": [
      "Iteration 0: |                                                                                                                                                                                     | 0/-0.0 [s/it, gradient norm=4.4118009127138925e-05]\n"
     ]
    },
    {
     "name": "stdout",
     "output_type": "stream",
     "text": [
      "alpha=3.062e+02, time=0.17s, n_iter=0\n"
     ]
    },
    {
     "name": "stderr",
     "output_type": "stream",
     "text": [
      "Iteration 0: |                                                                                                                                                                                      | 0/-0.0 [s/it, gradient norm=4.913871942104687e-05]\n"
     ]
    },
    {
     "name": "stdout",
     "output_type": "stream",
     "text": [
      "alpha=2.571e+02, time=0.09s, n_iter=0\n"
     ]
    },
    {
     "name": "stderr",
     "output_type": "stream",
     "text": [
      "Iteration 0: |                                                                                                                                                                                     | 0/-0.0 [s/it, gradient norm=5.3353896221119143e-05]\n"
     ]
    },
    {
     "name": "stdout",
     "output_type": "stream",
     "text": [
      "alpha=2.159e+02, time=0.09s, n_iter=0\n"
     ]
    },
    {
     "name": "stderr",
     "output_type": "stream",
     "text": [
      "Iteration 0: |                                                                                                                                                                                     | 0/-0.0 [s/it, gradient norm=5.6892781043337777e-05]\n"
     ]
    },
    {
     "name": "stdout",
     "output_type": "stream",
     "text": [
      "alpha=1.812e+02, time=0.10s, n_iter=0\n"
     ]
    },
    {
     "name": "stderr",
     "output_type": "stream",
     "text": [
      "Iteration 0: |                                                                                                                                                                                      | 0/-0.0 [s/it, gradient norm=5.986387961854218e-05]\n"
     ]
    },
    {
     "name": "stdout",
     "output_type": "stream",
     "text": [
      "alpha=1.521e+02, time=0.11s, n_iter=0\n"
     ]
    },
    {
     "name": "stderr",
     "output_type": "stream",
     "text": [
      "Iteration 0: |                                                                                                                                                                                      | 0/-0.0 [s/it, gradient norm=6.235828878613058e-05]\n"
     ]
    },
    {
     "name": "stdout",
     "output_type": "stream",
     "text": [
      "alpha=1.277e+02, time=0.09s, n_iter=0\n"
     ]
    },
    {
     "name": "stderr",
     "output_type": "stream",
     "text": [
      "Iteration 0:  66%|█████████████████████████████████████████████████████████████████████████████████████████████████████████████████▌                                                          | 0.66/1.0 [0.10s/it, gradient norm=0.0002168370158761995]\n"
     ]
    },
    {
     "name": "stdout",
     "output_type": "stream",
     "text": [
      "alpha=1.072e+02, time=0.24s, n_iter=1\n"
     ]
    },
    {
     "name": "stderr",
     "output_type": "stream",
     "text": [
      "Iteration 0:  79%|███████████████████████████████████████████████████████████████████████████████████████████████████████████████████████████████████████                                    | 0.79/1.0 [0.19s/it, gradient norm=0.00016267050394683707]\n"
     ]
    },
    {
     "name": "stdout",
     "output_type": "stream",
     "text": [
      "alpha=9.004e+01, time=0.46s, n_iter=1\n"
     ]
    },
    {
     "name": "stderr",
     "output_type": "stream",
     "text": [
      "Iteration 0:  83%|██████████████████████████████████████████████████████████████████████████████████████████████████████████████████████████████████████████████▊                             | 0.83/1.0 [0.21s/it, gradient norm=0.0001495507201141774]\n"
     ]
    },
    {
     "name": "stdout",
     "output_type": "stream",
     "text": [
      "alpha=7.559e+01, time=0.37s, n_iter=1\n"
     ]
    },
    {
     "name": "stderr",
     "output_type": "stream",
     "text": [
      "Iteration 0:  88%|██████████████████████████████████████████████████████████████████████████████████████████████████████████████████████████████████████████████████████▍                    | 0.88/1.0 [0.09s/it, gradient norm=0.00013129309809964399]\n"
     ]
    },
    {
     "name": "stdout",
     "output_type": "stream",
     "text": [
      "alpha=6.346e+01, time=0.23s, n_iter=1\n"
     ]
    },
    {
     "name": "stderr",
     "output_type": "stream",
     "text": [
      "Iteration 0:  96%|████████████████████████████████████████████████████████████████████████████████████████████████████████████████████████████████████████████████████████████████████▏      | 0.96/1.0 [0.09s/it, gradient norm=0.00011048269512033968]\n"
     ]
    },
    {
     "name": "stdout",
     "output_type": "stream",
     "text": [
      "alpha=5.328e+01, time=0.23s, n_iter=1\n"
     ]
    },
    {
     "name": "stderr",
     "output_type": "stream",
     "text": [
      "Iteration 0: |                                                                                                                                                                                      | 0/-0.0 [s/it, gradient norm=9.387045300220998e-05]\n"
     ]
    },
    {
     "name": "stdout",
     "output_type": "stream",
     "text": [
      "alpha=4.473e+01, time=0.08s, n_iter=0\n"
     ]
    },
    {
     "name": "stderr",
     "output_type": "stream",
     "text": [
      "Iteration 0:  82%|████████████████████████████████████████████████████████████████████████████████████████████████████████████████████████████████████████████▏                              | 0.82/1.0 [0.08s/it, gradient norm=0.00015158725451658024]\n"
     ]
    },
    {
     "name": "stdout",
     "output_type": "stream",
     "text": [
      "alpha=3.755e+01, time=0.25s, n_iter=1\n"
     ]
    },
    {
     "name": "stderr",
     "output_type": "stream",
     "text": [
      "Iteration 0: |                                                                                                                                                                                      | 0/-0.0 [s/it, gradient norm=8.623008022837121e-05]\n"
     ]
    },
    {
     "name": "stdout",
     "output_type": "stream",
     "text": [
      "alpha=3.153e+01, time=0.10s, n_iter=0\n"
     ]
    },
    {
     "name": "stderr",
     "output_type": "stream",
     "text": [
      "Iteration 0:  90%|██████████████████████████████████████████████████████████████████████████████████████████████████████████████████████████████████████████████████████████▊                 | 0.9/1.0 [0.10s/it, gradient norm=0.00012691219509049502]\n"
     ]
    },
    {
     "name": "stdout",
     "output_type": "stream",
     "text": [
      "alpha=2.647e+01, time=0.27s, n_iter=1\n"
     ]
    },
    {
     "name": "stderr",
     "output_type": "stream",
     "text": [
      "Iteration 0: |                                                                                                                                                                                      | 0/-0.0 [s/it, gradient norm=6.123323918925701e-05]\n"
     ]
    },
    {
     "name": "stdout",
     "output_type": "stream",
     "text": [
      "alpha=2.222e+01, time=0.08s, n_iter=0\n"
     ]
    },
    {
     "name": "stderr",
     "output_type": "stream",
     "text": [
      "Iteration 0: |                                                                                                                                                                                      | 0/-0.0 [s/it, gradient norm=8.990832904576902e-05]\n"
     ]
    },
    {
     "name": "stdout",
     "output_type": "stream",
     "text": [
      "alpha=1.866e+01, time=0.11s, n_iter=0\n"
     ]
    },
    {
     "name": "stderr",
     "output_type": "stream",
     "text": [
      "Iteration 0:  94%|████████████████████████████████████████████████████████████████████████████████████████████████████████████████████████████████████████████████████████████████▋          | 0.94/1.0 [0.13s/it, gradient norm=0.00011398272617834611]\n"
     ]
    },
    {
     "name": "stdout",
     "output_type": "stream",
     "text": [
      "alpha=1.566e+01, time=0.27s, n_iter=1\n"
     ]
    },
    {
     "name": "stderr",
     "output_type": "stream",
     "text": [
      "Iteration 0: |                                                                                                                                                                                      | 0/-0.0 [s/it, gradient norm=4.713803769235913e-05]\n"
     ]
    },
    {
     "name": "stdout",
     "output_type": "stream",
     "text": [
      "alpha=1.315e+01, time=0.09s, n_iter=0\n"
     ]
    },
    {
     "name": "stderr",
     "output_type": "stream",
     "text": [
      "Iteration 0: |                                                                                                                                                                                      | 0/-0.0 [s/it, gradient norm=6.410705474955058e-05]\n"
     ]
    },
    {
     "name": "stdout",
     "output_type": "stream",
     "text": [
      "alpha=1.104e+01, time=0.10s, n_iter=0\n"
     ]
    },
    {
     "name": "stderr",
     "output_type": "stream",
     "text": [
      "Iteration 0: |                                                                                                                                                                                      | 0/-0.0 [s/it, gradient norm=7.835352643031952e-05]\n"
     ]
    },
    {
     "name": "stdout",
     "output_type": "stream",
     "text": [
      "alpha=9.270e+00, time=0.09s, n_iter=0\n"
     ]
    },
    {
     "name": "stderr",
     "output_type": "stream",
     "text": [
      "Iteration 0: |                                                                                                                                                                                      | 0/-0.0 [s/it, gradient norm=9.031426373566245e-05]\n"
     ]
    },
    {
     "name": "stdout",
     "output_type": "stream",
     "text": [
      "alpha=7.783e+00, time=0.10s, n_iter=0\n"
     ]
    },
    {
     "name": "stderr",
     "output_type": "stream",
     "text": [
      "Iteration 0: 100%|████████████████████████████████████████████████████████████████████████████████████████████████████████████████████████████████████████████████████████████████████████████| 1.0/1.0 [0.08s/it, gradient norm=0.00010035599477567395]\n"
     ]
    },
    {
     "name": "stdout",
     "output_type": "stream",
     "text": [
      "alpha=6.534e+00, time=0.20s, n_iter=1\n"
     ]
    },
    {
     "name": "stderr",
     "output_type": "stream",
     "text": [
      "Iteration 0: |                                                                                                                                                                                     | 0/-0.0 [s/it, gradient norm=3.2796034030210665e-05]\n"
     ]
    },
    {
     "name": "stdout",
     "output_type": "stream",
     "text": [
      "alpha=5.486e+00, time=0.10s, n_iter=0\n"
     ]
    },
    {
     "name": "stderr",
     "output_type": "stream",
     "text": [
      "Iteration 0: |                                                                                                                                                                                      | 0/-0.0 [s/it, gradient norm=3.987402249917649e-05]\n"
     ]
    },
    {
     "name": "stdout",
     "output_type": "stream",
     "text": [
      "alpha=4.605e+00, time=0.10s, n_iter=0\n"
     ]
    },
    {
     "name": "stderr",
     "output_type": "stream",
     "text": [
      "Iteration 0: |                                                                                                                                                                                      | 0/-0.0 [s/it, gradient norm=4.581640336543864e-05]\n"
     ]
    },
    {
     "name": "stdout",
     "output_type": "stream",
     "text": [
      "alpha=3.867e+00, time=0.09s, n_iter=0\n"
     ]
    },
    {
     "name": "stderr",
     "output_type": "stream",
     "text": [
      "Iteration 0: |                                                                                                                                                                                     | 0/-0.0 [s/it, gradient norm=5.0805375940704496e-05]\n"
     ]
    },
    {
     "name": "stdout",
     "output_type": "stream",
     "text": [
      "alpha=3.246e+00, time=0.08s, n_iter=0\n"
     ]
    },
    {
     "name": "stderr",
     "output_type": "stream",
     "text": [
      "Iteration 0: |                                                                                                                                                                                     | 0/-0.0 [s/it, gradient norm=5.4993907089568884e-05]\n"
     ]
    },
    {
     "name": "stdout",
     "output_type": "stream",
     "text": [
      "alpha=2.725e+00, time=0.17s, n_iter=0\n"
     ]
    },
    {
     "name": "stderr",
     "output_type": "stream",
     "text": [
      "Iteration 0: |                                                                                                                                                                                      | 0/-0.0 [s/it, gradient norm=5.851042134582787e-05]\n"
     ]
    },
    {
     "name": "stdout",
     "output_type": "stream",
     "text": [
      "alpha=2.288e+00, time=0.11s, n_iter=0\n"
     ]
    },
    {
     "name": "stderr",
     "output_type": "stream",
     "text": [
      "Iteration 0: |                                                                                                                                                                                      | 0/-0.0 [s/it, gradient norm=6.146273853650343e-05]\n"
     ]
    },
    {
     "name": "stdout",
     "output_type": "stream",
     "text": [
      "alpha=1.921e+00, time=0.09s, n_iter=0\n"
     ]
    },
    {
     "name": "stderr",
     "output_type": "stream",
     "text": [
      "Iteration 0: |                                                                                                                                                                                       | 0/-0.0 [s/it, gradient norm=6.39413796450514e-05]\n"
     ]
    },
    {
     "name": "stdout",
     "output_type": "stream",
     "text": [
      "alpha=1.613e+00, time=0.12s, n_iter=0\n"
     ]
    },
    {
     "name": "stderr",
     "output_type": "stream",
     "text": [
      "Iteration 0: |                                                                                                                                                                                      | 0/-0.0 [s/it, gradient norm=6.602234227480804e-05]\n"
     ]
    },
    {
     "name": "stdout",
     "output_type": "stream",
     "text": [
      "alpha=1.354e+00, time=0.09s, n_iter=0\n"
     ]
    },
    {
     "name": "stderr",
     "output_type": "stream",
     "text": [
      "Iteration 0: |                                                                                                                                                                                       | 0/-0.0 [s/it, gradient norm=6.77694308111474e-05]\n"
     ]
    },
    {
     "name": "stdout",
     "output_type": "stream",
     "text": [
      "alpha=1.137e+00, time=0.11s, n_iter=0\n"
     ]
    },
    {
     "name": "stderr",
     "output_type": "stream",
     "text": [
      "Iteration 0: |                                                                                                                                                                                      | 0/-0.0 [s/it, gradient norm=6.923621272744034e-05]\n"
     ]
    },
    {
     "name": "stdout",
     "output_type": "stream",
     "text": [
      "alpha=9.544e-01, time=0.09s, n_iter=0\n"
     ]
    },
    {
     "name": "stderr",
     "output_type": "stream",
     "text": [
      "Iteration 0: |                                                                                                                                                                                      | 0/-0.0 [s/it, gradient norm=7.046766101710278e-05]\n"
     ]
    },
    {
     "name": "stdout",
     "output_type": "stream",
     "text": [
      "alpha=8.013e-01, time=0.11s, n_iter=0\n"
     ]
    },
    {
     "name": "stderr",
     "output_type": "stream",
     "text": [
      "Iteration 0: |                                                                                                                                                                                      | 0/-0.0 [s/it, gradient norm=7.150153311033472e-05]\n"
     ]
    },
    {
     "name": "stdout",
     "output_type": "stream",
     "text": [
      "alpha=6.727e-01, time=0.11s, n_iter=0\n"
     ]
    },
    {
     "name": "stderr",
     "output_type": "stream",
     "text": [
      "Iteration 0:  99%|██████████████████████████████████████████████████████████████████████████████████████████████████████████████████████████████████████████████████████████████████████████▎ | 0.99/1.0 [0.10s/it, gradient norm=0.0001020150652852332]\n"
     ]
    },
    {
     "name": "stdout",
     "output_type": "stream",
     "text": [
      "alpha=5.648e-01, time=0.25s, n_iter=1\n"
     ]
    },
    {
     "name": "stderr",
     "output_type": "stream",
     "text": [
      "Iteration 0: |                                                                                                                                                                                     | 0/-0.0 [s/it, gradient norm=2.1304864275316206e-05]\n"
     ]
    },
    {
     "name": "stdout",
     "output_type": "stream",
     "text": [
      "alpha=4.742e-01, time=0.10s, n_iter=0\n"
     ]
    },
    {
     "name": "stderr",
     "output_type": "stream",
     "text": [
      "Iteration 1:  56%|███████████████████████████████████████████████████████████████████████████████████████████████▍                                                                            | 1.11/2.0 [0.13s/it, gradient norm=0.0007688346579298335]\n"
     ]
    },
    {
     "name": "stdout",
     "output_type": "stream",
     "text": [
      "alpha=3.981e-01, time=0.38s, n_iter=2\n"
     ]
    },
    {
     "name": "stderr",
     "output_type": "stream",
     "text": [
      "Iteration 1:  62%|█████████████████████████████████████████████████████████████████████████████████████████████████████████▊                                                                  | 1.23/2.0 [0.14s/it, gradient norm=0.0005926972559375881]\n"
     ]
    },
    {
     "name": "stdout",
     "output_type": "stream",
     "text": [
      "alpha=3.342e-01, time=0.64s, n_iter=2\n"
     ]
    },
    {
     "name": "stderr",
     "output_type": "stream",
     "text": [
      "Iteration 1:  71%|██████████████████████████████████████████████████████████████████████████████████████████████████████████████████████████                                                  | 1.42/2.0 [0.14s/it, gradient norm=0.0003832106356657723]\n"
     ]
    },
    {
     "name": "stdout",
     "output_type": "stream",
     "text": [
      "alpha=2.806e-01, time=0.40s, n_iter=2\n"
     ]
    },
    {
     "name": "stderr",
     "output_type": "stream",
     "text": [
      "Iteration 1:  80%|███████████████████████████████████████████████████████████████████████████████████████████████████████████████████████████████████████▉                                   | 1.59/2.0 [0.08s/it, gradient norm=0.00025475090921918024]\n"
     ]
    },
    {
     "name": "stdout",
     "output_type": "stream",
     "text": [
      "alpha=2.356e-01, time=0.39s, n_iter=2\n"
     ]
    },
    {
     "name": "stderr",
     "output_type": "stream",
     "text": [
      "Iteration 1:  88%|██████████████████████████████████████████████████████████████████████████████████████████████████████████████████████████████████████████████████████▍                    | 1.76/2.0 [0.17s/it, gradient norm=0.00017491009459246322]\n"
     ]
    },
    {
     "name": "stdout",
     "output_type": "stream",
     "text": [
      "alpha=1.978e-01, time=0.44s, n_iter=2\n"
     ]
    },
    {
     "name": "stderr",
     "output_type": "stream",
     "text": [
      "Iteration 1:  96%|████████████████████████████████████████████████████████████████████████████████████████████████████████████████████████████████████████████████████████████████████▎       | 1.91/2.0 [0.13s/it, gradient norm=0.0001226389527936687]\n"
     ]
    },
    {
     "name": "stdout",
     "output_type": "stream",
     "text": [
      "alpha=1.660e-01, time=0.37s, n_iter=2\n"
     ]
    },
    {
     "name": "stderr",
     "output_type": "stream",
     "text": [
      "Iteration 0:  36%|█████████████████████████████████████████████████████████████▉                                                                                                              | 0.72/2.0 [0.06s/it, gradient norm=0.0018858085635327496]\n"
     ]
    },
    {
     "name": "stdout",
     "output_type": "stream",
     "text": [
      "alpha=1.394e-01, time=0.21s, n_iter=1\n"
     ]
    },
    {
     "name": "stderr",
     "output_type": "stream",
     "text": [
      "Iteration 0:  40%|█████████████████████████████████████████████████████████████████████▏                                                                                                       | 0.8/2.0 [0.11s/it, gradient norm=0.0015733530314588312]\n"
     ]
    },
    {
     "name": "stdout",
     "output_type": "stream",
     "text": [
      "alpha=1.170e-01, time=0.29s, n_iter=1\n"
     ]
    },
    {
     "name": "stderr",
     "output_type": "stream",
     "text": [
      "Iteration 0:  44%|██████████████████████████████████████████████████████████████████████████▊                                                                                                 | 0.87/2.0 [0.09s/it, gradient norm=0.0013447859360206564]\n"
     ]
    },
    {
     "name": "stdout",
     "output_type": "stream",
     "text": [
      "alpha=9.826e-02, time=0.28s, n_iter=1\n"
     ]
    },
    {
     "name": "stderr",
     "output_type": "stream",
     "text": [
      "Iteration 0:  47%|████████████████████████████████████████████████████████████████████████████████▊                                                                                           | 0.94/2.0 [0.09s/it, gradient norm=0.0011455708006356089]\n"
     ]
    },
    {
     "name": "stdout",
     "output_type": "stream",
     "text": [
      "alpha=8.250e-02, time=0.27s, n_iter=1\n"
     ]
    },
    {
     "name": "stderr",
     "output_type": "stream",
     "text": [
      "Iteration 0:   2%|███▍                                                                                                                                                                        | 0.02/1.0 [0.09s/it, gradient norm=0.0009591496215805012]\n"
     ]
    },
    {
     "name": "stdout",
     "output_type": "stream",
     "text": [
      "alpha=6.926e-02, time=0.30s, n_iter=1\n"
     ]
    },
    {
     "name": "stderr",
     "output_type": "stream",
     "text": [
      "Iteration 0:  41%|██████████████████████████████████████████████████████████████████████▌                                                                                                     | 0.41/1.0 [0.09s/it, gradient norm=0.0003891900059519814]\n"
     ]
    },
    {
     "name": "stdout",
     "output_type": "stream",
     "text": [
      "alpha=6.926e+04, time=0.25s, n_iter=1\n"
     ]
    },
    {
     "name": "stderr",
     "output_type": "stream",
     "text": [
      "Iteration 0:  47%|█████████████████████████████████████████████████████████████████████████████████▎                                                                                           | 0.94/2.0 [0.08s/it, gradient norm=0.001156250673134915]\n"
     ]
    },
    {
     "name": "stdout",
     "output_type": "stream",
     "text": [
      "alpha=5.815e+04, time=0.25s, n_iter=1\n"
     ]
    },
    {
     "name": "stderr",
     "output_type": "stream",
     "text": [
      "Iteration 0:   0%|                                                                                                                                                                             | 0.0/1.0 [0.11s/it, gradient norm=0.0009962903170939777]\n"
     ]
    },
    {
     "name": "stdout",
     "output_type": "stream",
     "text": [
      "alpha=4.882e+04, time=0.26s, n_iter=1\n"
     ]
    },
    {
     "name": "stderr",
     "output_type": "stream",
     "text": [
      "Iteration 0:   8%|█████████████▊                                                                                                                                                               | 0.08/1.0 [0.11s/it, gradient norm=0.000834046120122316]\n"
     ]
    },
    {
     "name": "stdout",
     "output_type": "stream",
     "text": [
      "alpha=4.099e+04, time=0.26s, n_iter=1\n"
     ]
    },
    {
     "name": "stderr",
     "output_type": "stream",
     "text": [
      "Iteration 0:  16%|███████████████████████████▌                                                                                                                                                | 0.16/1.0 [0.18s/it, gradient norm=0.0006976591808165018]\n"
     ]
    },
    {
     "name": "stdout",
     "output_type": "stream",
     "text": [
      "alpha=3.441e+04, time=0.32s, n_iter=1\n"
     ]
    },
    {
     "name": "stderr",
     "output_type": "stream",
     "text": [
      "Iteration 0:  23%|███████████████████████████████████████▌                                                                                                                                    | 0.23/1.0 [0.07s/it, gradient norm=0.0005838239427343203]\n"
     ]
    },
    {
     "name": "stdout",
     "output_type": "stream",
     "text": [
      "alpha=2.889e+04, time=0.27s, n_iter=1\n"
     ]
    },
    {
     "name": "stderr",
     "output_type": "stream",
     "text": [
      "Iteration 0:  31%|█████████████████████████████████████████████████████▎                                                                                                                      | 0.31/1.0 [0.18s/it, gradient norm=0.0004887750238273785]\n"
     ]
    },
    {
     "name": "stdout",
     "output_type": "stream",
     "text": [
      "alpha=2.425e+04, time=0.33s, n_iter=1\n"
     ]
    },
    {
     "name": "stderr",
     "output_type": "stream",
     "text": [
      "Iteration 0:  39%|██████████████████████████████████████████████████████████████████▋                                                                                                        | 0.39/1.0 [0.11s/it, gradient norm=0.00040935981566957033]\n"
     ]
    },
    {
     "name": "stdout",
     "output_type": "stream",
     "text": [
      "alpha=2.036e+04, time=0.28s, n_iter=1\n"
     ]
    },
    {
     "name": "stderr",
     "output_type": "stream",
     "text": [
      "Iteration 0:  46%|███████████████████████████████████████████████████████████████████████████████                                                                                             | 0.46/1.0 [0.09s/it, gradient norm=0.0003429658742457302]\n"
     ]
    },
    {
     "name": "stdout",
     "output_type": "stream",
     "text": [
      "alpha=1.710e+04, time=0.23s, n_iter=1\n"
     ]
    },
    {
     "name": "stderr",
     "output_type": "stream",
     "text": [
      "Iteration 0:  54%|████████████████████████████████████████████████████████████████████████████████████████████▉                                                                               | 0.54/1.0 [0.08s/it, gradient norm=0.0002874270459716655]\n"
     ]
    },
    {
     "name": "stdout",
     "output_type": "stream",
     "text": [
      "alpha=1.435e+04, time=0.25s, n_iter=1\n"
     ]
    },
    {
     "name": "stderr",
     "output_type": "stream",
     "text": [
      "Iteration 0:  62%|██████████████████████████████████████████████████████████████████████████████████████████████████████████                                                                 | 0.62/1.0 [0.12s/it, gradient norm=0.00024094524728783802]\n"
     ]
    },
    {
     "name": "stdout",
     "output_type": "stream",
     "text": [
      "alpha=1.205e+04, time=0.28s, n_iter=1\n"
     ]
    },
    {
     "name": "stderr",
     "output_type": "stream",
     "text": [
      "Iteration 0:  69%|█████████████████████████████████████████████████████████████████████████████████████████████████████████████████████▉                                                     | 0.69/1.0 [0.09s/it, gradient norm=0.00020202620924373408]\n"
     ]
    },
    {
     "name": "stdout",
     "output_type": "stream",
     "text": [
      "alpha=1.012e+04, time=0.34s, n_iter=1\n"
     ]
    },
    {
     "name": "stderr",
     "output_type": "stream",
     "text": [
      "Iteration 0:  77%|███████████████████████████████████████████████████████████████████████████████████████████████████████████████████████████████████▋                                       | 0.77/1.0 [0.12s/it, gradient norm=0.00016942673726844695]\n"
     ]
    },
    {
     "name": "stdout",
     "output_type": "stream",
     "text": [
      "alpha=8.494e+03, time=0.26s, n_iter=1\n"
     ]
    },
    {
     "name": "stderr",
     "output_type": "stream",
     "text": [
      "Iteration 0:  85%|█████████████████████████████████████████████████████████████████████████████████████████████████████████████████████████████████████████████████▎                         | 0.85/1.0 [0.09s/it, gradient norm=0.00014227225210089898]\n"
     ]
    },
    {
     "name": "stdout",
     "output_type": "stream",
     "text": [
      "alpha=7.131e+03, time=0.21s, n_iter=1\n"
     ]
    },
    {
     "name": "stderr",
     "output_type": "stream",
     "text": [
      "Iteration 0:  92%|█████████████████████████████████████████████████████████████████████████████████████████████████████████████████████████████████████████████████████████████▎             | 0.92/1.0 [0.08s/it, gradient norm=0.00011936462361352238]\n"
     ]
    },
    {
     "name": "stdout",
     "output_type": "stream",
     "text": [
      "alpha=5.987e+03, time=0.23s, n_iter=1\n"
     ]
    },
    {
     "name": "stderr",
     "output_type": "stream",
     "text": [
      "Iteration 0: 100%|██████████████████████████████████████████████████████████████████████████████████████████████████████████████████████████████████████████████████████████████████████████████| 1.0/1.0 [0.10s/it, gradient norm=0.000100156122842081]\n"
     ]
    },
    {
     "name": "stdout",
     "output_type": "stream",
     "text": [
      "alpha=5.026e+03, time=0.27s, n_iter=1\n"
     ]
    },
    {
     "name": "stderr",
     "output_type": "stream",
     "text": [
      "Iteration 0: |                                                                                                                                                                                      | 0/-0.0 [s/it, gradient norm=8.404649472444033e-05]\n"
     ]
    },
    {
     "name": "stdout",
     "output_type": "stream",
     "text": [
      "alpha=4.220e+03, time=0.09s, n_iter=0\n"
     ]
    },
    {
     "name": "stderr",
     "output_type": "stream",
     "text": [
      "Iteration 0:  81%|███████████████████████████████████████████████████████████████████████████████████████████████████████████████████████████████████████████▎                                | 0.81/1.0 [0.18s/it, gradient norm=0.0001542975862478841]\n"
     ]
    },
    {
     "name": "stdout",
     "output_type": "stream",
     "text": [
      "alpha=3.543e+03, time=0.31s, n_iter=1\n"
     ]
    },
    {
     "name": "stderr",
     "output_type": "stream",
     "text": [
      "Iteration 0: |                                                                                                                                                                                       | 0/-0.0 [s/it, gradient norm=5.97701080202539e-05]\n"
     ]
    },
    {
     "name": "stdout",
     "output_type": "stream",
     "text": [
      "alpha=2.974e+03, time=0.10s, n_iter=0\n"
     ]
    },
    {
     "name": "stderr",
     "output_type": "stream",
     "text": [
      "Iteration 0:  96%|████████████████████████████████████████████████████████████████████████████████████████████████████████████████████████████████████████████████████████████████████▏      | 0.96/1.0 [0.09s/it, gradient norm=0.00010928710999470911]\n"
     ]
    },
    {
     "name": "stdout",
     "output_type": "stream",
     "text": [
      "alpha=2.497e+03, time=0.26s, n_iter=1\n"
     ]
    },
    {
     "name": "stderr",
     "output_type": "stream",
     "text": [
      "Iteration 0: |                                                                                                                                                                                     | 0/-0.0 [s/it, gradient norm=4.2019695911196215e-05]\n"
     ]
    },
    {
     "name": "stdout",
     "output_type": "stream",
     "text": [
      "alpha=2.097e+03, time=0.07s, n_iter=0\n"
     ]
    },
    {
     "name": "stderr",
     "output_type": "stream",
     "text": [
      "Iteration 0: |                                                                                                                                                                                      | 0/-0.0 [s/it, gradient norm=7.692212135920446e-05]\n"
     ]
    },
    {
     "name": "stdout",
     "output_type": "stream",
     "text": [
      "alpha=1.760e+03, time=0.09s, n_iter=0\n"
     ]
    },
    {
     "name": "stderr",
     "output_type": "stream",
     "text": [
      "Iteration 0:  97%|█████████████████████████████████████████████████████████████████████████████████████████████████████████████████████████████████████████████████████████████████████▊     | 0.97/1.0 [0.11s/it, gradient norm=0.00010622472704693163]\n"
     ]
    },
    {
     "name": "stdout",
     "output_type": "stream",
     "text": [
      "alpha=1.478e+03, time=0.26s, n_iter=1\n"
     ]
    },
    {
     "name": "stderr",
     "output_type": "stream",
     "text": [
      "Iteration 0: |                                                                                                                                                                                      | 0/-0.0 [s/it, gradient norm=2.503688672567626e-05]\n"
     ]
    },
    {
     "name": "stdout",
     "output_type": "stream",
     "text": [
      "alpha=1.241e+03, time=0.08s, n_iter=0\n"
     ]
    },
    {
     "name": "stderr",
     "output_type": "stream",
     "text": [
      "Iteration 0: |                                                                                                                                                                                     | 0/-0.0 [s/it, gradient norm=4.5691045290766404e-05]\n"
     ]
    },
    {
     "name": "stdout",
     "output_type": "stream",
     "text": [
      "alpha=1.042e+03, time=0.10s, n_iter=0\n"
     ]
    },
    {
     "name": "stderr",
     "output_type": "stream",
     "text": [
      "Iteration 0: |                                                                                                                                                                                      | 0/-0.0 [s/it, gradient norm=6.303140649707248e-05]\n"
     ]
    },
    {
     "name": "stdout",
     "output_type": "stream",
     "text": [
      "alpha=8.745e+02, time=0.10s, n_iter=0\n"
     ]
    },
    {
     "name": "stderr",
     "output_type": "stream",
     "text": [
      "Iteration 0: |                                                                                                                                                                                      | 0/-0.0 [s/it, gradient norm=7.758964307773798e-05]\n"
     ]
    },
    {
     "name": "stdout",
     "output_type": "stream",
     "text": [
      "alpha=7.342e+02, time=0.09s, n_iter=0\n"
     ]
    },
    {
     "name": "stderr",
     "output_type": "stream",
     "text": [
      "Iteration 0: |                                                                                                                                                                                      | 0/-0.0 [s/it, gradient norm=8.981212505588459e-05]\n"
     ]
    },
    {
     "name": "stdout",
     "output_type": "stream",
     "text": [
      "alpha=6.164e+02, time=0.09s, n_iter=0\n"
     ]
    },
    {
     "name": "stderr",
     "output_type": "stream",
     "text": [
      "Iteration 0: 100%|████████████████████████████████████████████████████████████████████████████████████████████████████████████████████████████████████████████████████████████████████████████| 1.0/1.0 [0.12s/it, gradient norm=0.00010007360589378492]\n"
     ]
    },
    {
     "name": "stdout",
     "output_type": "stream",
     "text": [
      "alpha=5.175e+02, time=0.32s, n_iter=1\n"
     ]
    },
    {
     "name": "stderr",
     "output_type": "stream",
     "text": [
      "Iteration 0: |                                                                                                                                                                                         | 0/? [s/it, gradient norm=9.017929713318437e-06]\n"
     ]
    },
    {
     "name": "stdout",
     "output_type": "stream",
     "text": [
      "alpha=4.345e+02, time=0.09s, n_iter=0\n"
     ]
    },
    {
     "name": "stderr",
     "output_type": "stream",
     "text": [
      "Iteration 0: |                                                                                                                                                                                     | 0/-0.0 [s/it, gradient norm=1.6250810454275768e-05]\n"
     ]
    },
    {
     "name": "stdout",
     "output_type": "stream",
     "text": [
      "alpha=3.648e+02, time=0.12s, n_iter=0\n"
     ]
    },
    {
     "name": "stderr",
     "output_type": "stream",
     "text": [
      "Iteration 0: |                                                                                                                                                                                     | 0/-0.0 [s/it, gradient norm=2.2323232345251318e-05]\n"
     ]
    },
    {
     "name": "stdout",
     "output_type": "stream",
     "text": [
      "alpha=3.062e+02, time=0.22s, n_iter=0\n"
     ]
    },
    {
     "name": "stderr",
     "output_type": "stream",
     "text": [
      "Iteration 0: |                                                                                                                                                                                      | 0/-0.0 [s/it, gradient norm=2.742138188519777e-05]\n"
     ]
    },
    {
     "name": "stdout",
     "output_type": "stream",
     "text": [
      "alpha=2.571e+02, time=0.08s, n_iter=0\n"
     ]
    },
    {
     "name": "stderr",
     "output_type": "stream",
     "text": [
      "Iteration 0: |                                                                                                                                                                                      | 0/-0.0 [s/it, gradient norm=3.170157341310901e-05]\n"
     ]
    },
    {
     "name": "stdout",
     "output_type": "stream",
     "text": [
      "alpha=2.159e+02, time=0.09s, n_iter=0\n"
     ]
    },
    {
     "name": "stderr",
     "output_type": "stream",
     "text": [
      "Iteration 0: |                                                                                                                                                                                      | 0/-0.0 [s/it, gradient norm=3.529504186123059e-05]\n"
     ]
    },
    {
     "name": "stdout",
     "output_type": "stream",
     "text": [
      "alpha=1.812e+02, time=0.12s, n_iter=0\n"
     ]
    },
    {
     "name": "stderr",
     "output_type": "stream",
     "text": [
      "Iteration 0: |                                                                                                                                                                                      | 0/-0.0 [s/it, gradient norm=3.831196654869826e-05]\n"
     ]
    },
    {
     "name": "stdout",
     "output_type": "stream",
     "text": [
      "alpha=1.521e+02, time=0.09s, n_iter=0\n"
     ]
    },
    {
     "name": "stderr",
     "output_type": "stream",
     "text": [
      "Iteration 0: |                                                                                                                                                                                      | 0/-0.0 [s/it, gradient norm=5.531511251074098e-05]\n"
     ]
    },
    {
     "name": "stdout",
     "output_type": "stream",
     "text": [
      "alpha=1.277e+02, time=0.10s, n_iter=0\n"
     ]
    },
    {
     "name": "stderr",
     "output_type": "stream",
     "text": [
      "Iteration 0:  65%|███████████████████████████████████████████████████████████████████████████████████████████████████████████████▏                                                           | 0.65/1.0 [0.07s/it, gradient norm=0.00022627270287777998]\n"
     ]
    },
    {
     "name": "stdout",
     "output_type": "stream",
     "text": [
      "alpha=1.072e+02, time=0.20s, n_iter=1\n"
     ]
    },
    {
     "name": "stderr",
     "output_type": "stream",
     "text": [
      "Iteration 0:  75%|████████████████████████████████████████████████████████████████████████████████████████████████████████████████████████████████▎                                          | 0.75/1.0 [0.12s/it, gradient norm=0.00017691725970674462]\n"
     ]
    },
    {
     "name": "stdout",
     "output_type": "stream",
     "text": [
      "alpha=9.004e+01, time=0.32s, n_iter=1\n"
     ]
    },
    {
     "name": "stderr",
     "output_type": "stream",
     "text": [
      "Iteration 0:  82%|████████████████████████████████████████████████████████████████████████████████████████████████████████████████████████████████████████████▏                              | 0.82/1.0 [0.20s/it, gradient norm=0.00015021240045171803]\n"
     ]
    },
    {
     "name": "stdout",
     "output_type": "stream",
     "text": [
      "alpha=7.559e+01, time=0.33s, n_iter=1\n"
     ]
    },
    {
     "name": "stderr",
     "output_type": "stream",
     "text": [
      "Iteration 0:  88%|██████████████████████████████████████████████████████████████████████████████████████████████████████████████████████████████████████████████████████▍                    | 0.88/1.0 [0.09s/it, gradient norm=0.00013235644689396875]\n"
     ]
    },
    {
     "name": "stdout",
     "output_type": "stream",
     "text": [
      "alpha=6.346e+01, time=0.24s, n_iter=1\n"
     ]
    },
    {
     "name": "stderr",
     "output_type": "stream",
     "text": [
      "Iteration 0:  95%|██████████████████████████████████████████████████████████████████████████████████████████████████████████████████████████████████████████████████████████████████▍        | 0.95/1.0 [0.08s/it, gradient norm=0.00011150155025723413]\n"
     ]
    },
    {
     "name": "stdout",
     "output_type": "stream",
     "text": [
      "alpha=5.328e+01, time=0.24s, n_iter=1\n"
     ]
    },
    {
     "name": "stderr",
     "output_type": "stream",
     "text": [
      "Iteration 0: |                                                                                                                                                                                      | 0/-0.0 [s/it, gradient norm=9.485644222108289e-05]\n"
     ]
    },
    {
     "name": "stdout",
     "output_type": "stream",
     "text": [
      "alpha=4.473e+01, time=0.11s, n_iter=0\n"
     ]
    },
    {
     "name": "stderr",
     "output_type": "stream",
     "text": [
      "Iteration 0:  81%|██████████████████████████████████████████████████████████████████████████████████████████████████████████████████████████████████████████▌                                | 0.81/1.0 [0.15s/it, gradient norm=0.00015323472922180656]\n"
     ]
    },
    {
     "name": "stdout",
     "output_type": "stream",
     "text": [
      "alpha=3.755e+01, time=0.39s, n_iter=1\n"
     ]
    },
    {
     "name": "stderr",
     "output_type": "stream",
     "text": [
      "Iteration 0: |                                                                                                                                                                                       | 0/-0.0 [s/it, gradient norm=8.67492726000782e-05]\n"
     ]
    },
    {
     "name": "stdout",
     "output_type": "stream",
     "text": [
      "alpha=3.153e+01, time=0.09s, n_iter=0\n"
     ]
    },
    {
     "name": "stderr",
     "output_type": "stream",
     "text": [
      "Iteration 0:  89%|████████████████████████████████████████████████████████████████████████████████████████████████████████████████████████████████████████████████████████▏                  | 0.89/1.0 [0.11s/it, gradient norm=0.00012789764040466205]\n"
     ]
    },
    {
     "name": "stdout",
     "output_type": "stream",
     "text": [
      "alpha=2.647e+01, time=0.27s, n_iter=1\n"
     ]
    },
    {
     "name": "stderr",
     "output_type": "stream",
     "text": [
      "Iteration 0: |                                                                                                                                                                                      | 0/-0.0 [s/it, gradient norm=6.152794045940264e-05]\n"
     ]
    },
    {
     "name": "stdout",
     "output_type": "stream",
     "text": [
      "alpha=2.222e+01, time=0.18s, n_iter=0\n"
     ]
    },
    {
     "name": "stderr",
     "output_type": "stream",
     "text": [
      "Iteration 0: |                                                                                                                                                                                      | 0/-0.0 [s/it, gradient norm=9.053167215437895e-05]\n"
     ]
    },
    {
     "name": "stdout",
     "output_type": "stream",
     "text": [
      "alpha=1.866e+01, time=0.09s, n_iter=0\n"
     ]
    },
    {
     "name": "stderr",
     "output_type": "stream",
     "text": [
      "Iteration 0:  94%|████████████████████████████████████████████████████████████████████████████████████████████████████████████████████████████████████████████████████████████████▋          | 0.94/1.0 [0.11s/it, gradient norm=0.00011488198312622077]\n"
     ]
    },
    {
     "name": "stdout",
     "output_type": "stream",
     "text": [
      "alpha=1.566e+01, time=0.26s, n_iter=1\n"
     ]
    },
    {
     "name": "stderr",
     "output_type": "stream",
     "text": [
      "Iteration 0: |                                                                                                                                                                                      | 0/-0.0 [s/it, gradient norm=4.746798691833904e-05]\n"
     ]
    },
    {
     "name": "stdout",
     "output_type": "stream",
     "text": [
      "alpha=1.315e+01, time=0.11s, n_iter=0\n"
     ]
    },
    {
     "name": "stderr",
     "output_type": "stream",
     "text": [
      "Iteration 0: |                                                                                                                                                                                      | 0/-0.0 [s/it, gradient norm=6.463148388790441e-05]\n"
     ]
    },
    {
     "name": "stdout",
     "output_type": "stream",
     "text": [
      "alpha=1.104e+01, time=0.15s, n_iter=0\n"
     ]
    },
    {
     "name": "stderr",
     "output_type": "stream",
     "text": [
      "Iteration 0: |                                                                                                                                                                                      | 0/-0.0 [s/it, gradient norm=7.904123270810782e-05]\n"
     ]
    },
    {
     "name": "stdout",
     "output_type": "stream",
     "text": [
      "alpha=9.270e+00, time=0.16s, n_iter=0\n"
     ]
    },
    {
     "name": "stderr",
     "output_type": "stream",
     "text": [
      "Iteration 0: |                                                                                                                                                                                      | 0/-0.0 [s/it, gradient norm=9.113905061954776e-05]\n"
     ]
    },
    {
     "name": "stdout",
     "output_type": "stream",
     "text": [
      "alpha=7.783e+00, time=0.10s, n_iter=0\n"
     ]
    },
    {
     "name": "stderr",
     "output_type": "stream",
     "text": [
      "Iteration 0:  99%|█████████████████████████████████████████████████████████████████████████████████████████████████████████████████████████████████████████████████████████████████████████▎ | 0.99/1.0 [0.09s/it, gradient norm=0.00010129586876013567]\n"
     ]
    },
    {
     "name": "stdout",
     "output_type": "stream",
     "text": [
      "alpha=6.534e+00, time=0.24s, n_iter=1\n"
     ]
    },
    {
     "name": "stderr",
     "output_type": "stream",
     "text": [
      "Iteration 0: |                                                                                                                                                                                      | 0/-0.0 [s/it, gradient norm=3.289501886693143e-05]\n"
     ]
    },
    {
     "name": "stdout",
     "output_type": "stream",
     "text": [
      "alpha=5.486e+00, time=0.09s, n_iter=0\n"
     ]
    },
    {
     "name": "stderr",
     "output_type": "stream",
     "text": [
      "Iteration 0: |                                                                                                                                                                                     | 0/-0.0 [s/it, gradient norm=4.0054127330802585e-05]\n"
     ]
    },
    {
     "name": "stdout",
     "output_type": "stream",
     "text": [
      "alpha=4.605e+00, time=0.11s, n_iter=0\n"
     ]
    },
    {
     "name": "stderr",
     "output_type": "stream",
     "text": [
      "Iteration 0: |                                                                                                                                                                                      | 0/-0.0 [s/it, gradient norm=4.606461312655287e-05]\n"
     ]
    },
    {
     "name": "stdout",
     "output_type": "stream",
     "text": [
      "alpha=3.867e+00, time=0.12s, n_iter=0\n"
     ]
    },
    {
     "name": "stderr",
     "output_type": "stream",
     "text": [
      "Iteration 0: |                                                                                                                                                                                      | 0/-0.0 [s/it, gradient norm=5.111076373081141e-05]\n"
     ]
    },
    {
     "name": "stdout",
     "output_type": "stream",
     "text": [
      "alpha=3.246e+00, time=0.11s, n_iter=0\n"
     ]
    },
    {
     "name": "stderr",
     "output_type": "stream",
     "text": [
      "Iteration 0: |                                                                                                                                                                                      | 0/-0.0 [s/it, gradient norm=5.534729914345024e-05]\n"
     ]
    },
    {
     "name": "stdout",
     "output_type": "stream",
     "text": [
      "alpha=2.725e+00, time=0.16s, n_iter=0\n"
     ]
    },
    {
     "name": "stderr",
     "output_type": "stream",
     "text": [
      "Iteration 0: |                                                                                                                                                                                      | 0/-0.0 [s/it, gradient norm=5.890411575677056e-05]\n"
     ]
    },
    {
     "name": "stdout",
     "output_type": "stream",
     "text": [
      "alpha=2.288e+00, time=0.19s, n_iter=0\n"
     ]
    },
    {
     "name": "stderr",
     "output_type": "stream",
     "text": [
      "Iteration 0: |                                                                                                                                                                                      | 0/-0.0 [s/it, gradient norm=6.189026910817408e-05]\n"
     ]
    },
    {
     "name": "stdout",
     "output_type": "stream",
     "text": [
      "alpha=1.921e+00, time=0.15s, n_iter=0\n"
     ]
    },
    {
     "name": "stderr",
     "output_type": "stream",
     "text": [
      "Iteration 0: |                                                                                                                                                                                       | 0/-0.0 [s/it, gradient norm=6.43973176314811e-05]\n"
     ]
    },
    {
     "name": "stdout",
     "output_type": "stream",
     "text": [
      "alpha=1.613e+00, time=0.09s, n_iter=0\n"
     ]
    },
    {
     "name": "stderr",
     "output_type": "stream",
     "text": [
      "Iteration 0: |                                                                                                                                                                                      | 0/-0.0 [s/it, gradient norm=6.650212992963775e-05]\n"
     ]
    },
    {
     "name": "stdout",
     "output_type": "stream",
     "text": [
      "alpha=1.354e+00, time=0.09s, n_iter=0\n"
     ]
    },
    {
     "name": "stderr",
     "output_type": "stream",
     "text": [
      "Iteration 0: |                                                                                                                                                                                      | 0/-0.0 [s/it, gradient norm=6.826924164258845e-05]\n"
     ]
    },
    {
     "name": "stdout",
     "output_type": "stream",
     "text": [
      "alpha=1.137e+00, time=0.12s, n_iter=0\n"
     ]
    },
    {
     "name": "stderr",
     "output_type": "stream",
     "text": [
      "Iteration 0: |                                                                                                                                                                                      | 0/-0.0 [s/it, gradient norm=6.975283417422761e-05]\n"
     ]
    },
    {
     "name": "stdout",
     "output_type": "stream",
     "text": [
      "alpha=9.544e-01, time=0.11s, n_iter=0\n"
     ]
    },
    {
     "name": "stderr",
     "output_type": "stream",
     "text": [
      "Iteration 0: |                                                                                                                                                                                      | 0/-0.0 [s/it, gradient norm=7.099839594816904e-05]\n"
     ]
    },
    {
     "name": "stdout",
     "output_type": "stream",
     "text": [
      "alpha=8.013e-01, time=0.12s, n_iter=0\n"
     ]
    },
    {
     "name": "stderr",
     "output_type": "stream",
     "text": [
      "Iteration 0: |                                                                                                                                                                                      | 0/-0.0 [s/it, gradient norm=7.204411712808763e-05]\n"
     ]
    },
    {
     "name": "stdout",
     "output_type": "stream",
     "text": [
      "alpha=6.727e-01, time=0.12s, n_iter=0\n"
     ]
    },
    {
     "name": "stderr",
     "output_type": "stream",
     "text": [
      "Iteration 0:  93%|███████████████████████████████████████████████████████████████████████████████████████████████████████████████████████████████████████████████████████████████            | 0.93/1.0 [0.20s/it, gradient norm=0.00011851409105339093]\n"
     ]
    },
    {
     "name": "stdout",
     "output_type": "stream",
     "text": [
      "alpha=5.648e-01, time=0.37s, n_iter=1\n"
     ]
    },
    {
     "name": "stderr",
     "output_type": "stream",
     "text": [
      "Iteration 1:  88%|███████████████████████████████████████████████████████████████████████████████████████████████████████████████████████████████████████████████████████▎                   | 1.77/2.0 [0.23s/it, gradient norm=0.00017043684483092274]\n"
     ]
    },
    {
     "name": "stdout",
     "output_type": "stream",
     "text": [
      "alpha=4.742e-01, time=0.46s, n_iter=2\n"
     ]
    },
    {
     "name": "stderr",
     "output_type": "stream",
     "text": [
      "Iteration 1:  54%|████████████████████████████████████████████████████████████████████████████████████████████▉                                                                               | 1.08/2.0 [0.16s/it, gradient norm=0.0008319080010808109]\n"
     ]
    },
    {
     "name": "stdout",
     "output_type": "stream",
     "text": [
      "alpha=3.981e-01, time=0.38s, n_iter=2\n"
     ]
    },
    {
     "name": "stderr",
     "output_type": "stream",
     "text": [
      "Iteration 1:  64%|██████████████████████████████████████████████████████████████████████████████████████████████████████████████                                                              | 1.28/2.0 [0.14s/it, gradient norm=0.0005246019707252069]\n"
     ]
    },
    {
     "name": "stdout",
     "output_type": "stream",
     "text": [
      "alpha=3.342e-01, time=0.44s, n_iter=2\n"
     ]
    },
    {
     "name": "stderr",
     "output_type": "stream",
     "text": [
      "Iteration 1:  73%|█████████████████████████████████████████████████████████████████████████████████████████████████████████████████████████████▌                                              | 1.46/2.0 [0.16s/it, gradient norm=0.0003439339621701485]\n"
     ]
    },
    {
     "name": "stdout",
     "output_type": "stream",
     "text": [
      "alpha=2.806e-01, time=0.36s, n_iter=2\n"
     ]
    },
    {
     "name": "stderr",
     "output_type": "stream",
     "text": [
      "Iteration 1:  82%|█████████████████████████████████████████████████████████████████████████████████████████████████████████████████████████████████████████████                               | 1.64/2.0 [0.25s/it, gradient norm=0.0002308990569406654]\n"
     ]
    },
    {
     "name": "stdout",
     "output_type": "stream",
     "text": [
      "alpha=2.356e-01, time=0.46s, n_iter=2\n"
     ]
    },
    {
     "name": "stderr",
     "output_type": "stream",
     "text": [
      "Iteration 1:  90%|██████████████████████████████████████████████████████████████████████████████████████████████████████████████████████████████████████████████████████████▊                 | 1.8/2.0 [0.14s/it, gradient norm=0.00015979719331073497]\n"
     ]
    },
    {
     "name": "stdout",
     "output_type": "stream",
     "text": [
      "alpha=1.978e-01, time=0.34s, n_iter=2\n"
     ]
    },
    {
     "name": "stderr",
     "output_type": "stream",
     "text": [
      "Iteration 1:  98%|███████████████████████████████████████████████████████████████████████████████████████████████████████████████████████████████████████████████████████████████████████▋    | 1.95/2.0 [0.15s/it, gradient norm=0.0001129698436178011]\n"
     ]
    },
    {
     "name": "stdout",
     "output_type": "stream",
     "text": [
      "alpha=1.660e-01, time=0.37s, n_iter=2\n"
     ]
    },
    {
     "name": "stderr",
     "output_type": "stream",
     "text": [
      "Iteration 0:  36%|██████████████████████████████████████████████████████████████▊                                                                                                             | 0.73/2.0 [0.07s/it, gradient norm=0.0018690119930122057]\n"
     ]
    },
    {
     "name": "stdout",
     "output_type": "stream",
     "text": [
      "alpha=1.394e-01, time=0.21s, n_iter=1\n"
     ]
    },
    {
     "name": "stderr",
     "output_type": "stream",
     "text": [
      "Iteration 0:  40%|█████████████████████████████████████████████████████████████████████▋                                                                                                      | 0.81/2.0 [0.10s/it, gradient norm=0.0015627766608180829]\n"
     ]
    },
    {
     "name": "stdout",
     "output_type": "stream",
     "text": [
      "alpha=1.170e-01, time=0.25s, n_iter=1\n"
     ]
    },
    {
     "name": "stderr",
     "output_type": "stream",
     "text": [
      "Iteration 0:  44%|██████████████████████████████████████████████████████████████████████████▊                                                                                                 | 0.87/2.0 [0.08s/it, gradient norm=0.0013476534570605173]\n"
     ]
    },
    {
     "name": "stdout",
     "output_type": "stream",
     "text": [
      "alpha=9.826e-02, time=0.26s, n_iter=1\n"
     ]
    },
    {
     "name": "stderr",
     "output_type": "stream",
     "text": [
      "Iteration 0:  48%|█████████████████████████████████████████████████████████████████████████████████▋                                                                                          | 0.95/2.0 [0.12s/it, gradient norm=0.0011305770549747203]\n"
     ]
    },
    {
     "name": "stdout",
     "output_type": "stream",
     "text": [
      "alpha=8.250e-02, time=0.28s, n_iter=1\n"
     ]
    },
    {
     "name": "stderr",
     "output_type": "stream",
     "text": [
      "Iteration 0:   2%|███▍                                                                                                                                                                        | 0.02/1.0 [0.07s/it, gradient norm=0.0009452854372090686]\n"
     ]
    },
    {
     "name": "stdout",
     "output_type": "stream",
     "text": [
      "alpha=6.926e-02, time=0.23s, n_iter=1\n"
     ]
    },
    {
     "name": "stderr",
     "output_type": "stream",
     "text": [
      "Iteration 0: |                                                                                                                                                                                          | 0/? [s/it, gradient norm=4.54899441369616e-17]\n"
     ]
    },
    {
     "name": "stdout",
     "output_type": "stream",
     "text": [
      "alpha=6.926e+04, time=0.09s, n_iter=0\n"
     ]
    },
    {
     "name": "stderr",
     "output_type": "stream",
     "text": [
      "Iteration 0:  48%|███████████████████████████████████████████████████████████████████████████████████▉                                                                                         | 0.97/2.0 [0.08s/it, gradient norm=0.001059630797976371]\n"
     ]
    },
    {
     "name": "stdout",
     "output_type": "stream",
     "text": [
      "alpha=5.815e+04, time=0.25s, n_iter=1\n"
     ]
    },
    {
     "name": "stderr",
     "output_type": "stream",
     "text": [
      "Iteration 0:  50%|██████████████████████████████████████████████████████████████████████████████████████▌                                                                                      | 1.0/2.0 [0.10s/it, gradient norm=0.0010014866770993894]\n"
     ]
    },
    {
     "name": "stdout",
     "output_type": "stream",
     "text": [
      "alpha=4.882e+04, time=0.33s, n_iter=1\n"
     ]
    },
    {
     "name": "stderr",
     "output_type": "stream",
     "text": [
      "Iteration 0:   7%|████████████                                                                                                                                                                | 0.07/1.0 [0.08s/it, gradient norm=0.0008423834111541723]\n"
     ]
    },
    {
     "name": "stdout",
     "output_type": "stream",
     "text": [
      "alpha=4.099e+04, time=0.17s, n_iter=1\n"
     ]
    },
    {
     "name": "stderr",
     "output_type": "stream",
     "text": [
      "Iteration 0:  15%|█████████████████████████▊                                                                                                                                                  | 0.15/1.0 [0.15s/it, gradient norm=0.0007047361886822312]\n"
     ]
    },
    {
     "name": "stdout",
     "output_type": "stream",
     "text": [
      "alpha=3.441e+04, time=0.29s, n_iter=1\n"
     ]
    },
    {
     "name": "stderr",
     "output_type": "stream",
     "text": [
      "Iteration 0:  23%|███████████████████████████████████████▌                                                                                                                                    | 0.23/1.0 [0.09s/it, gradient norm=0.0005897270138575588]\n"
     ]
    },
    {
     "name": "stdout",
     "output_type": "stream",
     "text": [
      "alpha=2.889e+04, time=0.25s, n_iter=1\n"
     ]
    },
    {
     "name": "stderr",
     "output_type": "stream",
     "text": [
      "Iteration 0:  31%|█████████████████████████████████████████████████████▎                                                                                                                      | 0.31/1.0 [0.09s/it, gradient norm=0.0004936998232256344]\n"
     ]
    },
    {
     "name": "stdout",
     "output_type": "stream",
     "text": [
      "alpha=2.425e+04, time=0.22s, n_iter=1\n"
     ]
    },
    {
     "name": "stderr",
     "output_type": "stream",
     "text": [
      "Iteration 0:  38%|█████████████████████████████████████████████████████████████████▎                                                                                                          | 0.38/1.0 [0.11s/it, gradient norm=0.0004134716470836662]\n"
     ]
    },
    {
     "name": "stdout",
     "output_type": "stream",
     "text": [
      "alpha=2.036e+04, time=0.42s, n_iter=1\n"
     ]
    },
    {
     "name": "stderr",
     "output_type": "stream",
     "text": [
      "Iteration 0:  46%|███████████████████████████████████████████████████████████████████████████████                                                                                             | 0.46/1.0 [0.09s/it, gradient norm=0.0003464014195565272]\n"
     ]
    },
    {
     "name": "stdout",
     "output_type": "stream",
     "text": [
      "alpha=1.710e+04, time=0.31s, n_iter=1\n"
     ]
    },
    {
     "name": "stderr",
     "output_type": "stream",
     "text": [
      "Iteration 0:  54%|████████████████████████████████████████████████████████████████████████████████████████████▉                                                                               | 0.54/1.0 [0.09s/it, gradient norm=0.0002902994000552052]\n"
     ]
    },
    {
     "name": "stdout",
     "output_type": "stream",
     "text": [
      "alpha=1.435e+04, time=0.23s, n_iter=1\n"
     ]
    },
    {
     "name": "stderr",
     "output_type": "stream",
     "text": [
      "Iteration 0:  61%|████████████████████████████████████████████████████████████████████████████████████████████████████████▎                                                                  | 0.61/1.0 [0.12s/it, gradient norm=0.00024334812100315788]\n"
     ]
    },
    {
     "name": "stdout",
     "output_type": "stream",
     "text": [
      "alpha=1.205e+04, time=0.24s, n_iter=1\n"
     ]
    },
    {
     "name": "stderr",
     "output_type": "stream",
     "text": [
      "Iteration 0:  69%|█████████████████████████████████████████████████████████████████████████████████████████████████████████████████████▉                                                     | 0.69/1.0 [0.11s/it, gradient norm=0.00020403736124881416]\n"
     ]
    },
    {
     "name": "stdout",
     "output_type": "stream",
     "text": [
      "alpha=1.012e+04, time=0.32s, n_iter=1\n"
     ]
    },
    {
     "name": "stderr",
     "output_type": "stream",
     "text": [
      "Iteration 0:  77%|████████████████████████████████████████████████████████████████████████████████████████████████████████████████████████████████████▍                                       | 0.77/1.0 [0.09s/it, gradient norm=0.0001712530471182462]\n"
     ]
    },
    {
     "name": "stdout",
     "output_type": "stream",
     "text": [
      "alpha=8.494e+03, time=0.26s, n_iter=1\n"
     ]
    },
    {
     "name": "stderr",
     "output_type": "stream",
     "text": [
      "Iteration 0:  84%|████████████████████████████████████████████████████████████████████████████████████████████████████████████████████████████████████████████████▍                           | 0.84/1.0 [0.11s/it, gradient norm=0.0001436563469103712]\n"
     ]
    },
    {
     "name": "stdout",
     "output_type": "stream",
     "text": [
      "alpha=7.131e+03, time=0.24s, n_iter=1\n"
     ]
    },
    {
     "name": "stderr",
     "output_type": "stream",
     "text": [
      "Iteration 0:  92%|██████████████████████████████████████████████████████████████████████████████████████████████████████████████████████████████████████████████████████████████▏             | 0.92/1.0 [0.08s/it, gradient norm=0.0001205227037870649]\n"
     ]
    },
    {
     "name": "stdout",
     "output_type": "stream",
     "text": [
      "alpha=5.987e+03, time=0.32s, n_iter=1\n"
     ]
    },
    {
     "name": "stderr",
     "output_type": "stream",
     "text": [
      "Iteration 0: 100%|████████████████████████████████████████████████████████████████████████████████████████████████████████████████████████████████████████████████████████████████████████████| 1.0/1.0 [0.12s/it, gradient norm=0.00010112588171444036]\n"
     ]
    },
    {
     "name": "stdout",
     "output_type": "stream",
     "text": [
      "alpha=5.026e+03, time=0.32s, n_iter=1\n"
     ]
    },
    {
     "name": "stderr",
     "output_type": "stream",
     "text": [
      "Iteration 0: |                                                                                                                                                                                      | 0/-0.0 [s/it, gradient norm=8.485887139946827e-05]\n"
     ]
    },
    {
     "name": "stdout",
     "output_type": "stream",
     "text": [
      "alpha=4.220e+03, time=0.09s, n_iter=0\n"
     ]
    },
    {
     "name": "stderr",
     "output_type": "stream",
     "text": [
      "Iteration 0:  81%|██████████████████████████████████████████████████████████████████████████████████████████████████████████████████████████████████████████▌                                | 0.81/1.0 [0.11s/it, gradient norm=0.00015580263130553673]\n"
     ]
    },
    {
     "name": "stdout",
     "output_type": "stream",
     "text": [
      "alpha=3.543e+03, time=0.26s, n_iter=1\n"
     ]
    },
    {
     "name": "stderr",
     "output_type": "stream",
     "text": [
      "Iteration 0: |                                                                                                                                                                                      | 0/-0.0 [s/it, gradient norm=6.033625425642417e-05]\n"
     ]
    },
    {
     "name": "stdout",
     "output_type": "stream",
     "text": [
      "alpha=2.974e+03, time=0.08s, n_iter=0\n"
     ]
    },
    {
     "name": "stderr",
     "output_type": "stream",
     "text": [
      "Iteration 0:  96%|████████████████████████████████████████████████████████████████████████████████████████████████████████████████████████████████████████████████████████████████████▏      | 0.96/1.0 [0.10s/it, gradient norm=0.00011034148866864334]\n"
     ]
    },
    {
     "name": "stdout",
     "output_type": "stream",
     "text": [
      "alpha=2.497e+03, time=0.32s, n_iter=1\n"
     ]
    },
    {
     "name": "stderr",
     "output_type": "stream",
     "text": [
      "Iteration 0: |                                                                                                                                                                                     | 0/-0.0 [s/it, gradient norm=4.2414823612094836e-05]\n"
     ]
    },
    {
     "name": "stdout",
     "output_type": "stream",
     "text": [
      "alpha=2.097e+03, time=0.11s, n_iter=0\n"
     ]
    },
    {
     "name": "stderr",
     "output_type": "stream",
     "text": [
      "Iteration 0: |                                                                                                                                                                                      | 0/-0.0 [s/it, gradient norm=7.766138330856078e-05]\n"
     ]
    },
    {
     "name": "stdout",
     "output_type": "stream",
     "text": [
      "alpha=1.760e+03, time=0.12s, n_iter=0\n"
     ]
    },
    {
     "name": "stderr",
     "output_type": "stream",
     "text": [
      "Iteration 0:  97%|█████████████████████████████████████████████████████████████████████████████████████████████████████████████████████████████████████████████████████████████████████▊     | 0.97/1.0 [0.22s/it, gradient norm=0.00010725290961016389]\n"
     ]
    },
    {
     "name": "stdout",
     "output_type": "stream",
     "text": [
      "alpha=1.478e+03, time=0.41s, n_iter=1\n"
     ]
    },
    {
     "name": "stderr",
     "output_type": "stream",
     "text": [
      "Iteration 0: |                                                                                                                                                                                      | 0/-0.0 [s/it, gradient norm=2.526421389564932e-05]\n"
     ]
    },
    {
     "name": "stdout",
     "output_type": "stream",
     "text": [
      "alpha=1.241e+03, time=0.09s, n_iter=0\n"
     ]
    },
    {
     "name": "stderr",
     "output_type": "stream",
     "text": [
      "Iteration 0: |                                                                                                                                                                                      | 0/-0.0 [s/it, gradient norm=4.612202029449563e-05]\n"
     ]
    },
    {
     "name": "stdout",
     "output_type": "stream",
     "text": [
      "alpha=1.042e+03, time=0.10s, n_iter=0\n"
     ]
    },
    {
     "name": "stderr",
     "output_type": "stream",
     "text": [
      "Iteration 0: |                                                                                                                                                                                      | 0/-0.0 [s/it, gradient norm=6.363335564071087e-05]\n"
     ]
    },
    {
     "name": "stdout",
     "output_type": "stream",
     "text": [
      "alpha=8.745e+02, time=0.11s, n_iter=0\n"
     ]
    },
    {
     "name": "stderr",
     "output_type": "stream",
     "text": [
      "Iteration 0: |                                                                                                                                                                                      | 0/-0.0 [s/it, gradient norm=7.833513490473573e-05]\n"
     ]
    },
    {
     "name": "stdout",
     "output_type": "stream",
     "text": [
      "alpha=7.342e+02, time=0.10s, n_iter=0\n"
     ]
    },
    {
     "name": "stderr",
     "output_type": "stream",
     "text": [
      "Iteration 0: |                                                                                                                                                                                      | 0/-0.0 [s/it, gradient norm=9.067812927122917e-05]\n"
     ]
    },
    {
     "name": "stdout",
     "output_type": "stream",
     "text": [
      "alpha=6.164e+02, time=0.12s, n_iter=0\n"
     ]
    },
    {
     "name": "stderr",
     "output_type": "stream",
     "text": [
      "Iteration 0: 100%|████████████████████████████████████████████████████████████████████████████████████████████████████████████████████████████████████████████████████████████████████████████| 1.0/1.0 [0.09s/it, gradient norm=0.00010104078723223442]\n"
     ]
    },
    {
     "name": "stdout",
     "output_type": "stream",
     "text": [
      "alpha=5.175e+02, time=0.26s, n_iter=1\n"
     ]
    },
    {
     "name": "stderr",
     "output_type": "stream",
     "text": [
      "Iteration 0: |                                                                                                                                                                                         | 0/? [s/it, gradient norm=9.087522214654845e-06]\n"
     ]
    },
    {
     "name": "stdout",
     "output_type": "stream",
     "text": [
      "alpha=4.345e+02, time=0.14s, n_iter=0\n"
     ]
    },
    {
     "name": "stderr",
     "output_type": "stream",
     "text": [
      "Iteration 0: |                                                                                                                                                                                     | 0/-0.0 [s/it, gradient norm=1.6391718399912203e-05]\n"
     ]
    },
    {
     "name": "stdout",
     "output_type": "stream",
     "text": [
      "alpha=3.648e+02, time=0.17s, n_iter=0\n"
     ]
    },
    {
     "name": "stderr",
     "output_type": "stream",
     "text": [
      "Iteration 0: |                                                                                                                                                                                      | 0/-0.0 [s/it, gradient norm=2.252401373283183e-05]\n"
     ]
    },
    {
     "name": "stdout",
     "output_type": "stream",
     "text": [
      "alpha=3.062e+02, time=0.11s, n_iter=0\n"
     ]
    },
    {
     "name": "stderr",
     "output_type": "stream",
     "text": [
      "Iteration 0: |                                                                                                                                                                                     | 0/-0.0 [s/it, gradient norm=2.7672430491687405e-05]\n"
     ]
    },
    {
     "name": "stdout",
     "output_type": "stream",
     "text": [
      "alpha=2.571e+02, time=0.12s, n_iter=0\n"
     ]
    },
    {
     "name": "stderr",
     "output_type": "stream",
     "text": [
      "Iteration 0: |                                                                                                                                                                                     | 0/-0.0 [s/it, gradient norm=3.1994824258434644e-05]\n"
     ]
    },
    {
     "name": "stdout",
     "output_type": "stream",
     "text": [
      "alpha=2.159e+02, time=0.11s, n_iter=0\n"
     ]
    },
    {
     "name": "stderr",
     "output_type": "stream",
     "text": [
      "Iteration 0: |                                                                                                                                                                                      | 0/-0.0 [s/it, gradient norm=3.562372392796498e-05]\n"
     ]
    },
    {
     "name": "stdout",
     "output_type": "stream",
     "text": [
      "alpha=1.812e+02, time=0.20s, n_iter=0\n"
     ]
    },
    {
     "name": "stderr",
     "output_type": "stream",
     "text": [
      "Iteration 0: |                                                                                                                                                                                      | 0/-0.0 [s/it, gradient norm=3.867039517592661e-05]\n"
     ]
    },
    {
     "name": "stdout",
     "output_type": "stream",
     "text": [
      "alpha=1.521e+02, time=0.09s, n_iter=0\n"
     ]
    },
    {
     "name": "stderr",
     "output_type": "stream",
     "text": [
      "Iteration 0: |                                                                                                                                                                                     | 0/-0.0 [s/it, gradient norm=4.1228251975080645e-05]\n"
     ]
    },
    {
     "name": "stdout",
     "output_type": "stream",
     "text": [
      "alpha=1.277e+02, time=0.10s, n_iter=0\n"
     ]
    },
    {
     "name": "stderr",
     "output_type": "stream",
     "text": [
      "Iteration 0:  93%|███████████████████████████████████████████████████████████████████████████████████████████████████████████████████████████████████████████████████████████████▉            | 0.93/1.0 [0.13s/it, gradient norm=0.0001182474927565539]\n"
     ]
    },
    {
     "name": "stdout",
     "output_type": "stream",
     "text": [
      "alpha=1.072e+02, time=0.27s, n_iter=1\n"
     ]
    },
    {
     "name": "stderr",
     "output_type": "stream",
     "text": [
      "Iteration 0:  79%|███████████████████████████████████████████████████████████████████████████████████████████████████████████████████████████████████████▉                                    | 0.79/1.0 [0.16s/it, gradient norm=0.0001604499805231483]\n"
     ]
    },
    {
     "name": "stdout",
     "output_type": "stream",
     "text": [
      "alpha=9.004e+01, time=0.38s, n_iter=1\n"
     ]
    },
    {
     "name": "stderr",
     "output_type": "stream",
     "text": [
      "Iteration 0:  82%|█████████████████████████████████████████████████████████████████████████████████████████████████████████████████████████████████████████████                               | 0.82/1.0 [0.08s/it, gradient norm=0.0001525226285181728]\n"
     ]
    },
    {
     "name": "stdout",
     "output_type": "stream",
     "text": [
      "alpha=7.559e+01, time=0.23s, n_iter=1\n"
     ]
    },
    {
     "name": "stderr",
     "output_type": "stream",
     "text": [
      "Iteration 0:  87%|██████████████████████████████████████████████████████████████████████████████████████████████████████████████████████████████████████████████████████▌                      | 0.87/1.0 [0.10s/it, gradient norm=0.000133699936831008]\n"
     ]
    },
    {
     "name": "stdout",
     "output_type": "stream",
     "text": [
      "alpha=6.346e+01, time=0.26s, n_iter=1\n"
     ]
    },
    {
     "name": "stderr",
     "output_type": "stream",
     "text": [
      "Iteration 0:  95%|██████████████████████████████████████████████████████████████████████████████████████████████████████████████████████████████████████████████████████████████████▍        | 0.95/1.0 [0.10s/it, gradient norm=0.00011242039038889758]\n"
     ]
    },
    {
     "name": "stdout",
     "output_type": "stream",
     "text": [
      "alpha=5.328e+01, time=0.32s, n_iter=1\n"
     ]
    },
    {
     "name": "stderr",
     "output_type": "stream",
     "text": [
      "Iteration 0: |                                                                                                                                                                                      | 0/-0.0 [s/it, gradient norm=9.543800965471768e-05]\n"
     ]
    },
    {
     "name": "stdout",
     "output_type": "stream",
     "text": [
      "alpha=4.473e+01, time=0.08s, n_iter=0\n"
     ]
    },
    {
     "name": "stderr",
     "output_type": "stream",
     "text": [
      "Iteration 0:  81%|███████████████████████████████████████████████████████████████████████████████████████████████████████████████████████████████████████████▎                                | 0.81/1.0 [0.09s/it, gradient norm=0.0001542986373998814]\n"
     ]
    },
    {
     "name": "stdout",
     "output_type": "stream",
     "text": [
      "alpha=3.755e+01, time=0.31s, n_iter=1\n"
     ]
    },
    {
     "name": "stderr",
     "output_type": "stream",
     "text": [
      "Iteration 0: |                                                                                                                                                                                      | 0/-0.0 [s/it, gradient norm=8.777351320470161e-05]\n"
     ]
    },
    {
     "name": "stdout",
     "output_type": "stream",
     "text": [
      "alpha=3.153e+01, time=0.09s, n_iter=0\n"
     ]
    },
    {
     "name": "stderr",
     "output_type": "stream",
     "text": [
      "Iteration 0:  89%|████████████████████████████████████████████████████████████████████████████████████████████████████████████████████████████████████████████████████████▏                  | 0.89/1.0 [0.11s/it, gradient norm=0.00012926186245408377]\n"
     ]
    },
    {
     "name": "stdout",
     "output_type": "stream",
     "text": [
      "alpha=2.647e+01, time=0.25s, n_iter=1\n"
     ]
    },
    {
     "name": "stderr",
     "output_type": "stream",
     "text": [
      "Iteration 0: |                                                                                                                                                                                       | 0/-0.0 [s/it, gradient norm=6.21002777803234e-05]\n"
     ]
    },
    {
     "name": "stdout",
     "output_type": "stream",
     "text": [
      "alpha=2.222e+01, time=0.09s, n_iter=0\n"
     ]
    },
    {
     "name": "stderr",
     "output_type": "stream",
     "text": [
      "Iteration 0: |                                                                                                                                                                                      | 0/-0.0 [s/it, gradient norm=9.134364791376779e-05]\n"
     ]
    },
    {
     "name": "stdout",
     "output_type": "stream",
     "text": [
      "alpha=1.866e+01, time=0.09s, n_iter=0\n"
     ]
    },
    {
     "name": "stderr",
     "output_type": "stream",
     "text": [
      "Iteration 0:  94%|████████████████████████████████████████████████████████████████████████████████████████████████████████████████████████████████████████████████████████████████▋          | 0.94/1.0 [0.09s/it, gradient norm=0.00011589514922066276]\n"
     ]
    },
    {
     "name": "stdout",
     "output_type": "stream",
     "text": [
      "alpha=1.566e+01, time=0.24s, n_iter=1\n"
     ]
    },
    {
     "name": "stderr",
     "output_type": "stream",
     "text": [
      "Iteration 0: |                                                                                                                                                                                     | 0/-0.0 [s/it, gradient norm=4.7725815219693964e-05]\n"
     ]
    },
    {
     "name": "stdout",
     "output_type": "stream",
     "text": [
      "alpha=1.315e+01, time=0.10s, n_iter=0\n"
     ]
    },
    {
     "name": "stderr",
     "output_type": "stream",
     "text": [
      "Iteration 0: |                                                                                                                                                                                       | 0/-0.0 [s/it, gradient norm=6.50311226864634e-05]\n"
     ]
    },
    {
     "name": "stdout",
     "output_type": "stream",
     "text": [
      "alpha=1.104e+01, time=0.21s, n_iter=0\n"
     ]
    },
    {
     "name": "stderr",
     "output_type": "stream",
     "text": [
      "Iteration 0: |                                                                                                                                                                                      | 0/-0.0 [s/it, gradient norm=7.955992962450855e-05]\n"
     ]
    },
    {
     "name": "stdout",
     "output_type": "stream",
     "text": [
      "alpha=9.270e+00, time=0.19s, n_iter=0\n"
     ]
    },
    {
     "name": "stderr",
     "output_type": "stream",
     "text": [
      "Iteration 0: |                                                                                                                                                                                      | 0/-0.0 [s/it, gradient norm=9.175770371481738e-05]\n"
     ]
    },
    {
     "name": "stdout",
     "output_type": "stream",
     "text": [
      "alpha=7.783e+00, time=0.10s, n_iter=0\n"
     ]
    },
    {
     "name": "stderr",
     "output_type": "stream",
     "text": [
      "Iteration 0:  99%|█████████████████████████████████████████████████████████████████████████████████████████████████████████████████████████████████████████████████████████████████████████▎ | 0.99/1.0 [0.09s/it, gradient norm=0.00010199844085123011]\n"
     ]
    },
    {
     "name": "stdout",
     "output_type": "stream",
     "text": [
      "alpha=6.534e+00, time=0.22s, n_iter=1\n"
     ]
    },
    {
     "name": "stderr",
     "output_type": "stream",
     "text": [
      "Iteration 0: |                                                                                                                                                                                     | 0/-0.0 [s/it, gradient norm=3.3056978174265806e-05]\n"
     ]
    },
    {
     "name": "stdout",
     "output_type": "stream",
     "text": [
      "alpha=5.486e+00, time=0.08s, n_iter=0\n"
     ]
    },
    {
     "name": "stderr",
     "output_type": "stream",
     "text": [
      "Iteration 0: |                                                                                                                                                                                     | 0/-0.0 [s/it, gradient norm=4.0275237563650565e-05]\n"
     ]
    },
    {
     "name": "stdout",
     "output_type": "stream",
     "text": [
      "alpha=4.605e+00, time=0.09s, n_iter=0\n"
     ]
    },
    {
     "name": "stderr",
     "output_type": "stream",
     "text": [
      "Iteration 0: |                                                                                                                                                                                     | 0/-0.0 [s/it, gradient norm=4.6335383983960326e-05]\n"
     ]
    },
    {
     "name": "stdout",
     "output_type": "stream",
     "text": [
      "alpha=3.867e+00, time=0.19s, n_iter=0\n"
     ]
    },
    {
     "name": "stderr",
     "output_type": "stream",
     "text": [
      "Iteration 0: |                                                                                                                                                                                     | 0/-0.0 [s/it, gradient norm=5.1423227555999575e-05]\n"
     ]
    },
    {
     "name": "stdout",
     "output_type": "stream",
     "text": [
      "alpha=3.246e+00, time=0.12s, n_iter=0\n"
     ]
    },
    {
     "name": "stderr",
     "output_type": "stream",
     "text": [
      "Iteration 0: |                                                                                                                                                                                      | 0/-0.0 [s/it, gradient norm=5.569476662752881e-05]\n"
     ]
    },
    {
     "name": "stdout",
     "output_type": "stream",
     "text": [
      "alpha=2.725e+00, time=0.10s, n_iter=0\n"
     ]
    },
    {
     "name": "stderr",
     "output_type": "stream",
     "text": [
      "Iteration 0: |                                                                                                                                                                                     | 0/-0.0 [s/it, gradient norm=5.9280970837869306e-05]\n"
     ]
    },
    {
     "name": "stdout",
     "output_type": "stream",
     "text": [
      "alpha=2.288e+00, time=0.11s, n_iter=0\n"
     ]
    },
    {
     "name": "stderr",
     "output_type": "stream",
     "text": [
      "Iteration 0: |                                                                                                                                                                                      | 0/-0.0 [s/it, gradient norm=6.229179677739638e-05]\n"
     ]
    },
    {
     "name": "stdout",
     "output_type": "stream",
     "text": [
      "alpha=1.921e+00, time=0.11s, n_iter=0\n"
     ]
    },
    {
     "name": "stderr",
     "output_type": "stream",
     "text": [
      "Iteration 0: |                                                                                                                                                                                      | 0/-0.0 [s/it, gradient norm=6.481955936603841e-05]\n"
     ]
    },
    {
     "name": "stdout",
     "output_type": "stream",
     "text": [
      "alpha=1.613e+00, time=0.12s, n_iter=0\n"
     ]
    },
    {
     "name": "stderr",
     "output_type": "stream",
     "text": [
      "Iteration 0: |                                                                                                                                                                                      | 0/-0.0 [s/it, gradient norm=6.694176232060106e-05]\n"
     ]
    },
    {
     "name": "stdout",
     "output_type": "stream",
     "text": [
      "alpha=1.354e+00, time=0.12s, n_iter=0\n"
     ]
    },
    {
     "name": "stderr",
     "output_type": "stream",
     "text": [
      "Iteration 0: |                                                                                                                                                                                      | 0/-0.0 [s/it, gradient norm=6.872347449586273e-05]\n"
     ]
    },
    {
     "name": "stdout",
     "output_type": "stream",
     "text": [
      "alpha=1.137e+00, time=0.11s, n_iter=0\n"
     ]
    },
    {
     "name": "stderr",
     "output_type": "stream",
     "text": [
      "Iteration 0: |                                                                                                                                                                                      | 0/-0.0 [s/it, gradient norm=7.021932496042391e-05]\n"
     ]
    },
    {
     "name": "stdout",
     "output_type": "stream",
     "text": [
      "alpha=9.544e-01, time=0.19s, n_iter=0\n"
     ]
    },
    {
     "name": "stderr",
     "output_type": "stream",
     "text": [
      "Iteration 0: |                                                                                                                                                                                      | 0/-0.0 [s/it, gradient norm=7.147517797832186e-05]\n"
     ]
    },
    {
     "name": "stdout",
     "output_type": "stream",
     "text": [
      "alpha=8.013e-01, time=0.15s, n_iter=0\n"
     ]
    },
    {
     "name": "stderr",
     "output_type": "stream",
     "text": [
      "Iteration 0: |                                                                                                                                                                                       | 0/-0.0 [s/it, gradient norm=7.25295392530139e-05]\n"
     ]
    },
    {
     "name": "stdout",
     "output_type": "stream",
     "text": [
      "alpha=6.727e-01, time=0.20s, n_iter=0\n"
     ]
    },
    {
     "name": "stderr",
     "output_type": "stream",
     "text": [
      "Iteration 0: |                                                                                                                                                                                      | 0/-0.0 [s/it, gradient norm=7.919053999892896e-05]\n"
     ]
    },
    {
     "name": "stdout",
     "output_type": "stream",
     "text": [
      "alpha=5.648e-01, time=0.08s, n_iter=0\n"
     ]
    },
    {
     "name": "stderr",
     "output_type": "stream",
     "text": [
      "Iteration 0:  64%|█████████████████████████████████████████████████████████████████████████████████████████████████████████████▍                                                             | 0.64/1.0 [0.14s/it, gradient norm=0.00023125568988570266]\n"
     ]
    },
    {
     "name": "stdout",
     "output_type": "stream",
     "text": [
      "alpha=4.742e-01, time=0.31s, n_iter=1\n"
     ]
    },
    {
     "name": "stderr",
     "output_type": "stream",
     "text": [
      "Iteration 1:  52%|██████████████████████████████████████████████████████████████████████████████████████████▎                                                                                 | 1.05/2.0 [0.14s/it, gradient norm=0.0008812301584494565]\n"
     ]
    },
    {
     "name": "stdout",
     "output_type": "stream",
     "text": [
      "alpha=3.981e-01, time=0.42s, n_iter=2\n"
     ]
    },
    {
     "name": "stderr",
     "output_type": "stream",
     "text": [
      "Iteration 1:  62%|███████████████████████████████████████████████████████████████████████████████████████████████████████████▌                                                                | 1.25/2.0 [0.14s/it, gradient norm=0.0005687609335079215]\n"
     ]
    },
    {
     "name": "stdout",
     "output_type": "stream",
     "text": [
      "alpha=3.342e-01, time=0.50s, n_iter=2\n"
     ]
    },
    {
     "name": "stderr",
     "output_type": "stream",
     "text": [
      "Iteration 1:  72%|██████████████████████████████████████████████████████████████████████████████████████████████████████████████████████████▎                                                | 1.43/2.0 [0.19s/it, gradient norm=0.00036936682848701623]\n"
     ]
    },
    {
     "name": "stdout",
     "output_type": "stream",
     "text": [
      "alpha=2.806e-01, time=0.33s, n_iter=2\n"
     ]
    },
    {
     "name": "stderr",
     "output_type": "stream",
     "text": [
      "Iteration 1:  80%|██████████████████████████████████████████████████████████████████████████████████████████████████████████████████████████████████████████▍                                 | 1.61/2.0 [0.16s/it, gradient norm=0.0002464146499133881]\n"
     ]
    },
    {
     "name": "stdout",
     "output_type": "stream",
     "text": [
      "alpha=2.356e-01, time=0.49s, n_iter=2\n"
     ]
    },
    {
     "name": "stderr",
     "output_type": "stream",
     "text": [
      "Iteration 1:  88%|███████████████████████████████████████████████████████████████████████████████████████████████████████████████████████████████████████████████████████▎                   | 1.77/2.0 [0.17s/it, gradient norm=0.00016940762844161572]\n"
     ]
    },
    {
     "name": "stdout",
     "output_type": "stream",
     "text": [
      "alpha=1.978e-01, time=0.44s, n_iter=2\n"
     ]
    },
    {
     "name": "stderr",
     "output_type": "stream",
     "text": [
      "Iteration 1:  96%|████████████████████████████████████████████████████████████████████████████████████████████████████████████████████████████████████████████████████████████████████▏      | 1.92/2.0 [0.17s/it, gradient norm=0.00011906814437554435]\n"
     ]
    },
    {
     "name": "stdout",
     "output_type": "stream",
     "text": [
      "alpha=1.660e-01, time=0.47s, n_iter=2\n"
     ]
    },
    {
     "name": "stderr",
     "output_type": "stream",
     "text": [
      "Iteration 0:  36%|█████████████████████████████████████████████████████████████▉                                                                                                              | 0.72/2.0 [0.13s/it, gradient norm=0.0018949808630137795]\n"
     ]
    },
    {
     "name": "stdout",
     "output_type": "stream",
     "text": [
      "alpha=1.394e-01, time=0.28s, n_iter=1\n"
     ]
    },
    {
     "name": "stderr",
     "output_type": "stream",
     "text": [
      "Iteration 0:  40%|█████████████████████████████████████████████████████████████████████▏                                                                                                       | 0.8/2.0 [0.09s/it, gradient norm=0.0015842452725067793]\n"
     ]
    },
    {
     "name": "stdout",
     "output_type": "stream",
     "text": [
      "alpha=1.170e-01, time=0.27s, n_iter=1\n"
     ]
    },
    {
     "name": "stderr",
     "output_type": "stream",
     "text": [
      "Iteration 0:  43%|█████████████████████████████████████████████████████████████████████████▉                                                                                                  | 0.86/2.0 [0.11s/it, gradient norm=0.0013673260678084363]\n"
     ]
    },
    {
     "name": "stdout",
     "output_type": "stream",
     "text": [
      "alpha=9.826e-02, time=0.25s, n_iter=1\n"
     ]
    },
    {
     "name": "stderr",
     "output_type": "stream",
     "text": [
      "Iteration 0:  47%|████████████████████████████████████████████████████████████████████████████████▊                                                                                           | 0.94/2.0 [0.08s/it, gradient norm=0.0011438884540927825]\n"
     ]
    },
    {
     "name": "stdout",
     "output_type": "stream",
     "text": [
      "alpha=8.250e-02, time=0.26s, n_iter=1\n"
     ]
    },
    {
     "name": "stderr",
     "output_type": "stream",
     "text": [
      "Iteration 0:   2%|███▍                                                                                                                                                                        | 0.02/1.0 [0.17s/it, gradient norm=0.0009564756674636853]\n"
     ]
    },
    {
     "name": "stdout",
     "output_type": "stream",
     "text": [
      "alpha=6.926e-02, time=0.32s, n_iter=1\n"
     ]
    },
    {
     "name": "stderr",
     "output_type": "stream",
     "text": [
      "Iteration 0:  29%|█████████████████████████████████████████████████▉                                                                                                                          | 0.29/1.0 [0.10s/it, gradient norm=0.0005105634629750765]\n"
     ]
    },
    {
     "name": "stdout",
     "output_type": "stream",
     "text": [
      "alpha=6.926e+04, time=0.23s, n_iter=1\n"
     ]
    },
    {
     "name": "stderr",
     "output_type": "stream",
     "text": [
      "Iteration 0:  47%|████████████████████████████████████████████████████████████████████████████████▊                                                                                           | 0.94/2.0 [0.10s/it, gradient norm=0.0011546617824174223]\n"
     ]
    },
    {
     "name": "stdout",
     "output_type": "stream",
     "text": [
      "alpha=5.815e+04, time=0.33s, n_iter=1\n"
     ]
    },
    {
     "name": "stderr",
     "output_type": "stream",
     "text": [
      "Iteration 0:   0%|                                                                                                                                                                             | 0.0/1.0 [0.09s/it, gradient norm=0.0009932268224725263]\n"
     ]
    },
    {
     "name": "stdout",
     "output_type": "stream",
     "text": [
      "alpha=4.882e+04, time=0.22s, n_iter=1\n"
     ]
    },
    {
     "name": "stderr",
     "output_type": "stream",
     "text": [
      "Iteration 0:   8%|█████████████▊                                                                                                                                                              | 0.08/1.0 [0.09s/it, gradient norm=0.0008314046867986033]\n"
     ]
    },
    {
     "name": "stdout",
     "output_type": "stream",
     "text": [
      "alpha=4.099e+04, time=0.24s, n_iter=1\n"
     ]
    },
    {
     "name": "stderr",
     "output_type": "stream",
     "text": [
      "Iteration 0:  16%|███████████████████████████▌                                                                                                                                                | 0.16/1.0 [0.09s/it, gradient norm=0.0006954267862736828]\n"
     ]
    },
    {
     "name": "stdout",
     "output_type": "stream",
     "text": [
      "alpha=3.441e+04, time=0.35s, n_iter=1\n"
     ]
    },
    {
     "name": "stderr",
     "output_type": "stream",
     "text": [
      "Iteration 0:  24%|█████████████████████████████████████████▎                                                                                                                                  | 0.24/1.0 [0.20s/it, gradient norm=0.0005819390370534975]\n"
     ]
    },
    {
     "name": "stdout",
     "output_type": "stream",
     "text": [
      "alpha=2.889e+04, time=0.33s, n_iter=1\n"
     ]
    },
    {
     "name": "stderr",
     "output_type": "stream",
     "text": [
      "Iteration 0:  31%|█████████████████████████████████████████████████████                                                                                                                      | 0.31/1.0 [0.10s/it, gradient norm=0.00048718423590124704]\n"
     ]
    },
    {
     "name": "stdout",
     "output_type": "stream",
     "text": [
      "alpha=2.425e+04, time=0.44s, n_iter=1\n"
     ]
    },
    {
     "name": "stderr",
     "output_type": "stream",
     "text": [
      "Iteration 0:  39%|███████████████████████████████████████████████████████████████████                                                                                                         | 0.39/1.0 [0.13s/it, gradient norm=0.0004080179203649912]\n"
     ]
    },
    {
     "name": "stdout",
     "output_type": "stream",
     "text": [
      "alpha=2.036e+04, time=0.39s, n_iter=1\n"
     ]
    },
    {
     "name": "stderr",
     "output_type": "stream",
     "text": [
      "Iteration 0:  47%|████████████████████████████████████████████████████████████████████████████████▎                                                                                          | 0.47/1.0 [0.20s/it, gradient norm=0.00034183451357317504]\n"
     ]
    },
    {
     "name": "stdout",
     "output_type": "stream",
     "text": [
      "alpha=1.710e+04, time=0.46s, n_iter=1\n"
     ]
    },
    {
     "name": "stderr",
     "output_type": "stream",
     "text": [
      "Iteration 0:  54%|████████████████████████████████████████████████████████████████████████████████████████████▎                                                                              | 0.54/1.0 [0.10s/it, gradient norm=0.00028647366871903716]\n"
     ]
    },
    {
     "name": "stdout",
     "output_type": "stream",
     "text": [
      "alpha=1.435e+04, time=0.23s, n_iter=1\n"
     ]
    },
    {
     "name": "stderr",
     "output_type": "stream",
     "text": [
      "Iteration 0:  62%|██████████████████████████████████████████████████████████████████████████████████████████████████████████                                                                 | 0.62/1.0 [0.09s/it, gradient norm=0.00024014223390872967]\n"
     ]
    },
    {
     "name": "stdout",
     "output_type": "stream",
     "text": [
      "alpha=1.205e+04, time=0.24s, n_iter=1\n"
     ]
    },
    {
     "name": "stderr",
     "output_type": "stream",
     "text": [
      "Iteration 0:  70%|████████████████████████████████████████████████████████████████████████████████████████████████████████████████████████▍                                                   | 0.7/1.0 [0.16s/it, gradient norm=0.00020135013815623942]\n"
     ]
    },
    {
     "name": "stdout",
     "output_type": "stream",
     "text": [
      "alpha=1.012e+04, time=0.35s, n_iter=1\n"
     ]
    },
    {
     "name": "stderr",
     "output_type": "stream",
     "text": [
      "Iteration 0:  77%|████████████████████████████████████████████████████████████████████████████████████████████████████████████████████████████████████▍                                       | 0.77/1.0 [0.09s/it, gradient norm=0.0001688577629710692]\n"
     ]
    },
    {
     "name": "stdout",
     "output_type": "stream",
     "text": [
      "alpha=8.494e+03, time=0.24s, n_iter=1\n"
     ]
    },
    {
     "name": "stderr",
     "output_type": "stream",
     "text": [
      "Iteration 0:  85%|█████████████████████████████████████████████████████████████████████████████████████████████████████████████████████████████████████████████████▎                         | 0.85/1.0 [0.07s/it, gradient norm=0.00014180425369969042]\n"
     ]
    },
    {
     "name": "stdout",
     "output_type": "stream",
     "text": [
      "alpha=7.131e+03, time=0.23s, n_iter=1\n"
     ]
    },
    {
     "name": "stderr",
     "output_type": "stream",
     "text": [
      "Iteration 0:  92%|█████████████████████████████████████████████████████████████████████████████████████████████████████████████████████████████████████████████████████████████▎             | 0.92/1.0 [0.09s/it, gradient norm=0.00011897164128292227]\n"
     ]
    },
    {
     "name": "stdout",
     "output_type": "stream",
     "text": [
      "alpha=5.987e+03, time=0.26s, n_iter=1\n"
     ]
    },
    {
     "name": "stderr",
     "output_type": "stream",
     "text": [
      "Iteration 0: |                                                                                                                                                                                      | 0/-0.0 [s/it, gradient norm=9.982612852675599e-05]\n"
     ]
    },
    {
     "name": "stdout",
     "output_type": "stream",
     "text": [
      "alpha=5.026e+03, time=0.23s, n_iter=0\n"
     ]
    },
    {
     "name": "stderr",
     "output_type": "stream",
     "text": [
      "Iteration 0:  74%|██████████████████████████████████████████████████████████████████████████████████████████████████████████████████████████████▌                                            | 0.74/1.0 [0.11s/it, gradient norm=0.00018321568514230923]\n"
     ]
    },
    {
     "name": "stdout",
     "output_type": "stream",
     "text": [
      "alpha=4.220e+03, time=0.25s, n_iter=1\n"
     ]
    },
    {
     "name": "stderr",
     "output_type": "stream",
     "text": [
      "Iteration 0: |                                                                                                                                                                                      | 0/-0.0 [s/it, gradient norm=7.086453106548222e-05]\n"
     ]
    },
    {
     "name": "stdout",
     "output_type": "stream",
     "text": [
      "alpha=3.543e+03, time=0.10s, n_iter=0\n"
     ]
    },
    {
     "name": "stderr",
     "output_type": "stream",
     "text": [
      "Iteration 0:  89%|█████████████████████████████████████████████████████████████████████████████████████████████████████████████████████████████████████████████████████████                   | 0.89/1.0 [0.08s/it, gradient norm=0.0001296422774326446]\n"
     ]
    },
    {
     "name": "stdout",
     "output_type": "stream",
     "text": [
      "alpha=2.974e+03, time=0.24s, n_iter=1\n"
     ]
    },
    {
     "name": "stderr",
     "output_type": "stream",
     "text": [
      "Iteration 0: |                                                                                                                                                                                      | 0/-0.0 [s/it, gradient norm=4.995590550484252e-05]\n"
     ]
    },
    {
     "name": "stdout",
     "output_type": "stream",
     "text": [
      "alpha=2.497e+03, time=0.09s, n_iter=0\n"
     ]
    },
    {
     "name": "stderr",
     "output_type": "stream",
     "text": [
      "Iteration 0: |                                                                                                                                                                                      | 0/-0.0 [s/it, gradient norm=9.138583520131621e-05]\n"
     ]
    },
    {
     "name": "stdout",
     "output_type": "stream",
     "text": [
      "alpha=2.097e+03, time=0.10s, n_iter=0\n"
     ]
    },
    {
     "name": "stderr",
     "output_type": "stream",
     "text": [
      "Iteration 0:  90%|██████████████████████████████████████████████████████████████████████████████████████████████████████████████████████████████████████████████████████████▊                 | 0.9/1.0 [0.10s/it, gradient norm=0.00012616865840007766]\n"
     ]
    },
    {
     "name": "stdout",
     "output_type": "stream",
     "text": [
      "alpha=1.760e+03, time=0.25s, n_iter=1\n"
     ]
    },
    {
     "name": "stderr",
     "output_type": "stream",
     "text": [
      "Iteration 0: |                                                                                                                                                                                      | 0/-0.0 [s/it, gradient norm=2.979553326221221e-05]\n"
     ]
    },
    {
     "name": "stdout",
     "output_type": "stream",
     "text": [
      "alpha=1.478e+03, time=0.11s, n_iter=0\n"
     ]
    },
    {
     "name": "stderr",
     "output_type": "stream",
     "text": [
      "Iteration 0: |                                                                                                                                                                                      | 0/-0.0 [s/it, gradient norm=5.431246371354092e-05]\n"
     ]
    },
    {
     "name": "stdout",
     "output_type": "stream",
     "text": [
      "alpha=1.241e+03, time=0.09s, n_iter=0\n"
     ]
    },
    {
     "name": "stderr",
     "output_type": "stream",
     "text": [
      "Iteration 0: |                                                                                                                                                                                      | 0/-0.0 [s/it, gradient norm=7.489584542604918e-05]\n"
     ]
    },
    {
     "name": "stdout",
     "output_type": "stream",
     "text": [
      "alpha=1.042e+03, time=0.09s, n_iter=0\n"
     ]
    },
    {
     "name": "stderr",
     "output_type": "stream",
     "text": [
      "Iteration 0: |                                                                                                                                                                                      | 0/-0.0 [s/it, gradient norm=9.217678536932253e-05]\n"
     ]
    },
    {
     "name": "stdout",
     "output_type": "stream",
     "text": [
      "alpha=8.745e+02, time=0.09s, n_iter=0\n"
     ]
    },
    {
     "name": "stderr",
     "output_type": "stream",
     "text": [
      "Iteration 0:  97%|███████████████████████████████████████████████████████████████████████████████████████████████████████████████████████████████████████████████████████████████████████▊     | 0.97/1.0 [0.10s/it, gradient norm=0.000106685134361439]\n"
     ]
    },
    {
     "name": "stdout",
     "output_type": "stream",
     "text": [
      "alpha=7.342e+02, time=0.27s, n_iter=1\n"
     ]
    },
    {
     "name": "stderr",
     "output_type": "stream",
     "text": [
      "Iteration 0: |                                                                                                                                                                                     | 0/-0.0 [s/it, gradient norm=1.2639600249275888e-05]\n"
     ]
    },
    {
     "name": "stdout",
     "output_type": "stream",
     "text": [
      "alpha=6.164e+02, time=0.09s, n_iter=0\n"
     ]
    },
    {
     "name": "stderr",
     "output_type": "stream",
     "text": [
      "Iteration 0: |                                                                                                                                                                                     | 0/-0.0 [s/it, gradient norm=2.2865917451037395e-05]\n"
     ]
    },
    {
     "name": "stdout",
     "output_type": "stream",
     "text": [
      "alpha=5.175e+02, time=0.12s, n_iter=0\n"
     ]
    },
    {
     "name": "stderr",
     "output_type": "stream",
     "text": [
      "Iteration 0: |                                                                                                                                                                                     | 0/-0.0 [s/it, gradient norm=3.1451502457077126e-05]\n"
     ]
    },
    {
     "name": "stdout",
     "output_type": "stream",
     "text": [
      "alpha=4.345e+02, time=0.11s, n_iter=0\n"
     ]
    },
    {
     "name": "stderr",
     "output_type": "stream",
     "text": [
      "Iteration 0: |                                                                                                                                                                                      | 0/-0.0 [s/it, gradient norm=3.865959784876293e-05]\n"
     ]
    },
    {
     "name": "stdout",
     "output_type": "stream",
     "text": [
      "alpha=3.648e+02, time=0.21s, n_iter=0\n"
     ]
    },
    {
     "name": "stderr",
     "output_type": "stream",
     "text": [
      "Iteration 0: |                                                                                                                                                                                      | 0/-0.0 [s/it, gradient norm=4.471121100489516e-05]\n"
     ]
    },
    {
     "name": "stdout",
     "output_type": "stream",
     "text": [
      "alpha=3.062e+02, time=0.15s, n_iter=0\n"
     ]
    },
    {
     "name": "stderr",
     "output_type": "stream",
     "text": [
      "Iteration 0: |                                                                                                                                                                                      | 0/-0.0 [s/it, gradient norm=4.979189040790565e-05]\n"
     ]
    },
    {
     "name": "stdout",
     "output_type": "stream",
     "text": [
      "alpha=2.571e+02, time=0.11s, n_iter=0\n"
     ]
    },
    {
     "name": "stderr",
     "output_type": "stream",
     "text": [
      "Iteration 0: |                                                                                                                                                                                      | 0/-0.0 [s/it, gradient norm=5.405741474500209e-05]\n"
     ]
    },
    {
     "name": "stdout",
     "output_type": "stream",
     "text": [
      "alpha=2.159e+02, time=0.09s, n_iter=0\n"
     ]
    },
    {
     "name": "stderr",
     "output_type": "stream",
     "text": [
      "Iteration 0: |                                                                                                                                                                                      | 0/-0.0 [s/it, gradient norm=5.763856923776166e-05]\n"
     ]
    },
    {
     "name": "stdout",
     "output_type": "stream",
     "text": [
      "alpha=1.812e+02, time=0.12s, n_iter=0\n"
     ]
    },
    {
     "name": "stderr",
     "output_type": "stream",
     "text": [
      "Iteration 0: |                                                                                                                                                                                      | 0/-0.0 [s/it, gradient norm=6.064515564719285e-05]\n"
     ]
    },
    {
     "name": "stdout",
     "output_type": "stream",
     "text": [
      "alpha=1.521e+02, time=0.13s, n_iter=0\n"
     ]
    },
    {
     "name": "stderr",
     "output_type": "stream",
     "text": [
      "Iteration 0: |                                                                                                                                                                                      | 0/-0.0 [s/it, gradient norm=6.316935890501166e-05]\n"
     ]
    },
    {
     "name": "stdout",
     "output_type": "stream",
     "text": [
      "alpha=1.277e+02, time=0.21s, n_iter=0\n"
     ]
    },
    {
     "name": "stderr",
     "output_type": "stream",
     "text": [
      "Iteration 0:  83%|█████████████████████████████████████████████████████████████████████████████████████████████████████████████████████████████████████████████▉                             | 0.83/1.0 [0.11s/it, gradient norm=0.00014875277296393324]\n"
     ]
    },
    {
     "name": "stdout",
     "output_type": "stream",
     "text": [
      "alpha=1.072e+02, time=0.36s, n_iter=1\n"
     ]
    },
    {
     "name": "stderr",
     "output_type": "stream",
     "text": [
      "Iteration 0:  80%|██████████████████████████████████████████████████████████████████████████████████████████████████████████████████████████████████████████▍                                  | 0.8/1.0 [0.17s/it, gradient norm=0.0001586846599134217]\n"
     ]
    },
    {
     "name": "stdout",
     "output_type": "stream",
     "text": [
      "alpha=9.004e+01, time=0.31s, n_iter=1\n"
     ]
    },
    {
     "name": "stderr",
     "output_type": "stream",
     "text": [
      "Iteration 0:  85%|██████████████████████████████████████████████████████████████████████████████████████████████████████████████████████████████████████████████████▏                         | 0.85/1.0 [0.09s/it, gradient norm=0.0001407137363768973]\n"
     ]
    },
    {
     "name": "stdout",
     "output_type": "stream",
     "text": [
      "alpha=7.559e+01, time=0.23s, n_iter=1\n"
     ]
    },
    {
     "name": "stderr",
     "output_type": "stream",
     "text": [
      "Iteration 0:  89%|████████████████████████████████████████████████████████████████████████████████████████████████████████████████████████████████████████████████████████▏                  | 0.89/1.0 [0.11s/it, gradient norm=0.00012758916399816734]\n"
     ]
    },
    {
     "name": "stdout",
     "output_type": "stream",
     "text": [
      "alpha=6.346e+01, time=0.29s, n_iter=1\n"
     ]
    },
    {
     "name": "stderr",
     "output_type": "stream",
     "text": [
      "Iteration 0:  95%|███████████████████████████████████████████████████████████████████████████████████████████████████████████████████████████████████████████████████████████████████▍        | 0.95/1.0 [0.15s/it, gradient norm=0.0001111704518134537]\n"
     ]
    },
    {
     "name": "stdout",
     "output_type": "stream",
     "text": [
      "alpha=5.328e+01, time=0.33s, n_iter=1\n"
     ]
    },
    {
     "name": "stderr",
     "output_type": "stream",
     "text": [
      "Iteration 0: |                                                                                                                                                                                      | 0/-0.0 [s/it, gradient norm=9.453348516273178e-05]\n"
     ]
    },
    {
     "name": "stdout",
     "output_type": "stream",
     "text": [
      "alpha=4.473e+01, time=0.09s, n_iter=0\n"
     ]
    },
    {
     "name": "stderr",
     "output_type": "stream",
     "text": [
      "Iteration 0:  82%|████████████████████████████████████████████████████████████████████████████████████████████████████████████████████████████████████████████▏                              | 0.82/1.0 [0.09s/it, gradient norm=0.00015283356302215728]\n"
     ]
    },
    {
     "name": "stdout",
     "output_type": "stream",
     "text": [
      "alpha=3.755e+01, time=0.34s, n_iter=1\n"
     ]
    },
    {
     "name": "stderr",
     "output_type": "stream",
     "text": [
      "Iteration 0: |                                                                                                                                                                                      | 0/-0.0 [s/it, gradient norm=8.661171032534205e-05]\n"
     ]
    },
    {
     "name": "stdout",
     "output_type": "stream",
     "text": [
      "alpha=3.153e+01, time=0.08s, n_iter=0\n"
     ]
    },
    {
     "name": "stderr",
     "output_type": "stream",
     "text": [
      "Iteration 0:  89%|████████████████████████████████████████████████████████████████████████████████████████████████████████████████████████████████████████████████████████▏                  | 0.89/1.0 [0.09s/it, gradient norm=0.00012770495183764917]\n"
     ]
    },
    {
     "name": "stdout",
     "output_type": "stream",
     "text": [
      "alpha=2.647e+01, time=0.26s, n_iter=1\n"
     ]
    },
    {
     "name": "stderr",
     "output_type": "stream",
     "text": [
      "Iteration 0: |                                                                                                                                                                                       | 0/-0.0 [s/it, gradient norm=6.12464783072783e-05]\n"
     ]
    },
    {
     "name": "stdout",
     "output_type": "stream",
     "text": [
      "alpha=2.222e+01, time=0.21s, n_iter=0\n"
     ]
    },
    {
     "name": "stderr",
     "output_type": "stream",
     "text": [
      "Iteration 0: |                                                                                                                                                                                      | 0/-0.0 [s/it, gradient norm=9.021135382700785e-05]\n"
     ]
    },
    {
     "name": "stdout",
     "output_type": "stream",
     "text": [
      "alpha=1.866e+01, time=0.13s, n_iter=0\n"
     ]
    },
    {
     "name": "stderr",
     "output_type": "stream",
     "text": [
      "Iteration 0:  94%|████████████████████████████████████████████████████████████████████████████████████████████████████████████████████████████████████████████████████████████████▋          | 0.94/1.0 [0.09s/it, gradient norm=0.00011452904279143401]\n"
     ]
    },
    {
     "name": "stdout",
     "output_type": "stream",
     "text": [
      "alpha=1.566e+01, time=0.22s, n_iter=1\n"
     ]
    },
    {
     "name": "stderr",
     "output_type": "stream",
     "text": [
      "Iteration 0: |                                                                                                                                                                                     | 0/-0.0 [s/it, gradient norm=4.7279070089318104e-05]\n"
     ]
    },
    {
     "name": "stdout",
     "output_type": "stream",
     "text": [
      "alpha=1.315e+01, time=0.10s, n_iter=0\n"
     ]
    },
    {
     "name": "stderr",
     "output_type": "stream",
     "text": [
      "Iteration 0: |                                                                                                                                                                                      | 0/-0.0 [s/it, gradient norm=6.441957319543478e-05]\n"
     ]
    },
    {
     "name": "stdout",
     "output_type": "stream",
     "text": [
      "alpha=1.104e+01, time=0.10s, n_iter=0\n"
     ]
    },
    {
     "name": "stderr",
     "output_type": "stream",
     "text": [
      "Iteration 0: |                                                                                                                                                                                      | 0/-0.0 [s/it, gradient norm=7.881001733680209e-05]\n"
     ]
    },
    {
     "name": "stdout",
     "output_type": "stream",
     "text": [
      "alpha=9.270e+00, time=0.13s, n_iter=0\n"
     ]
    },
    {
     "name": "stderr",
     "output_type": "stream",
     "text": [
      "Iteration 0: |                                                                                                                                                                                      | 0/-0.0 [s/it, gradient norm=9.089162785335181e-05]\n"
     ]
    },
    {
     "name": "stdout",
     "output_type": "stream",
     "text": [
      "alpha=7.783e+00, time=0.09s, n_iter=0\n"
     ]
    },
    {
     "name": "stderr",
     "output_type": "stream",
     "text": [
      "Iteration 0: 100%|█████████████████████████████████████████████████████████████████████████████████████████████████████████████████████████████████████████████████████████████████████████████| 1.0/1.0 [0.09s/it, gradient norm=0.0001010348389481371]\n"
     ]
    },
    {
     "name": "stdout",
     "output_type": "stream",
     "text": [
      "alpha=6.534e+00, time=0.32s, n_iter=1\n"
     ]
    },
    {
     "name": "stderr",
     "output_type": "stream",
     "text": [
      "Iteration 0: |                                                                                                                                                                                     | 0/-0.0 [s/it, gradient norm=3.2649488188902625e-05]\n"
     ]
    },
    {
     "name": "stdout",
     "output_type": "stream",
     "text": [
      "alpha=5.486e+00, time=0.21s, n_iter=0\n"
     ]
    },
    {
     "name": "stderr",
     "output_type": "stream",
     "text": [
      "Iteration 0: |                                                                                                                                                                                      | 0/-0.0 [s/it, gradient norm=3.979900562579808e-05]\n"
     ]
    },
    {
     "name": "stdout",
     "output_type": "stream",
     "text": [
      "alpha=4.605e+00, time=0.09s, n_iter=0\n"
     ]
    },
    {
     "name": "stderr",
     "output_type": "stream",
     "text": [
      "Iteration 0: |                                                                                                                                                                                      | 0/-0.0 [s/it, gradient norm=4.580143919944625e-05]\n"
     ]
    },
    {
     "name": "stdout",
     "output_type": "stream",
     "text": [
      "alpha=3.867e+00, time=0.09s, n_iter=0\n"
     ]
    },
    {
     "name": "stderr",
     "output_type": "stream",
     "text": [
      "Iteration 0: |                                                                                                                                                                                     | 0/-0.0 [s/it, gradient norm=5.0840829497332395e-05]\n"
     ]
    },
    {
     "name": "stdout",
     "output_type": "stream",
     "text": [
      "alpha=3.246e+00, time=0.12s, n_iter=0\n"
     ]
    },
    {
     "name": "stderr",
     "output_type": "stream",
     "text": [
      "Iteration 0: |                                                                                                                                                                                      | 0/-0.0 [s/it, gradient norm=5.507168924160677e-05]\n"
     ]
    },
    {
     "name": "stdout",
     "output_type": "stream",
     "text": [
      "alpha=2.725e+00, time=0.11s, n_iter=0\n"
     ]
    },
    {
     "name": "stderr",
     "output_type": "stream",
     "text": [
      "Iteration 0: |                                                                                                                                                                                       | 0/-0.0 [s/it, gradient norm=5.86237408029296e-05]\n"
     ]
    },
    {
     "name": "stdout",
     "output_type": "stream",
     "text": [
      "alpha=2.288e+00, time=0.11s, n_iter=0\n"
     ]
    },
    {
     "name": "stderr",
     "output_type": "stream",
     "text": [
      "Iteration 0: |                                                                                                                                                                                      | 0/-0.0 [s/it, gradient norm=6.160589361746578e-05]\n"
     ]
    },
    {
     "name": "stdout",
     "output_type": "stream",
     "text": [
      "alpha=1.921e+00, time=0.12s, n_iter=0\n"
     ]
    },
    {
     "name": "stderr",
     "output_type": "stream",
     "text": [
      "Iteration 0: |                                                                                                                                                                                       | 0/-0.0 [s/it, gradient norm=6.41095834585936e-05]\n"
     ]
    },
    {
     "name": "stdout",
     "output_type": "stream",
     "text": [
      "alpha=1.613e+00, time=0.09s, n_iter=0\n"
     ]
    },
    {
     "name": "stderr",
     "output_type": "stream",
     "text": [
      "Iteration 0: |                                                                                                                                                                                      | 0/-0.0 [s/it, gradient norm=6.621157594872078e-05]\n"
     ]
    },
    {
     "name": "stdout",
     "output_type": "stream",
     "text": [
      "alpha=1.354e+00, time=0.22s, n_iter=0\n"
     ]
    },
    {
     "name": "stderr",
     "output_type": "stream",
     "text": [
      "Iteration 0: |                                                                                                                                                                                      | 0/-0.0 [s/it, gradient norm=6.797632026967097e-05]\n"
     ]
    },
    {
     "name": "stdout",
     "output_type": "stream",
     "text": [
      "alpha=1.137e+00, time=0.14s, n_iter=0\n"
     ]
    },
    {
     "name": "stderr",
     "output_type": "stream",
     "text": [
      "Iteration 0: |                                                                                                                                                                                       | 0/-0.0 [s/it, gradient norm=6.94579252387437e-05]\n"
     ]
    },
    {
     "name": "stdout",
     "output_type": "stream",
     "text": [
      "alpha=9.544e-01, time=0.18s, n_iter=0\n"
     ]
    },
    {
     "name": "stderr",
     "output_type": "stream",
     "text": [
      "Iteration 0: |                                                                                                                                                                                      | 0/-0.0 [s/it, gradient norm=7.070181833890625e-05]\n"
     ]
    },
    {
     "name": "stdout",
     "output_type": "stream",
     "text": [
      "alpha=8.013e-01, time=0.20s, n_iter=0\n"
     ]
    },
    {
     "name": "stderr",
     "output_type": "stream",
     "text": [
      "Iteration 0: |                                                                                                                                                                                      | 0/-0.0 [s/it, gradient norm=7.174613857063466e-05]\n"
     ]
    },
    {
     "name": "stdout",
     "output_type": "stream",
     "text": [
      "alpha=6.727e-01, time=0.09s, n_iter=0\n"
     ]
    },
    {
     "name": "stderr",
     "output_type": "stream",
     "text": [
      "Iteration 0: |                                                                                                                                                                                      | 0/-0.0 [s/it, gradient norm=9.785840771323424e-05]\n"
     ]
    },
    {
     "name": "stdout",
     "output_type": "stream",
     "text": [
      "alpha=5.648e-01, time=0.11s, n_iter=0\n"
     ]
    },
    {
     "name": "stderr",
     "output_type": "stream",
     "text": [
      "Iteration 1:  87%|█████████████████████████████████████████████████████████████████████████████████████████████████████████████████████████████████████████████████████▋                      | 1.74/2.0 [0.25s/it, gradient norm=0.0001814523444455556]\n"
     ]
    },
    {
     "name": "stdout",
     "output_type": "stream",
     "text": [
      "alpha=4.742e-01, time=0.50s, n_iter=2\n"
     ]
    },
    {
     "name": "stderr",
     "output_type": "stream",
     "text": [
      "Iteration 1:  52%|██████████████████████████████████████████████████████████████████████████████████████████▊                                                                                  | 1.05/2.0 [0.14s/it, gradient norm=0.000901547030917249]\n"
     ]
    },
    {
     "name": "stdout",
     "output_type": "stream",
     "text": [
      "alpha=3.981e-01, time=0.38s, n_iter=2\n"
     ]
    },
    {
     "name": "stderr",
     "output_type": "stream",
     "text": [
      "Iteration 1:  62%|███████████████████████████████████████████████████████████████████████████████████████████████████████████▌                                                                | 1.25/2.0 [0.15s/it, gradient norm=0.0005632491981020342]\n"
     ]
    },
    {
     "name": "stdout",
     "output_type": "stream",
     "text": [
      "alpha=3.342e-01, time=0.39s, n_iter=2\n"
     ]
    },
    {
     "name": "stderr",
     "output_type": "stream",
     "text": [
      "Iteration 1:  72%|███████████████████████████████████████████████████████████████████████████████████████████████████████████████████████████▊                                                | 1.44/2.0 [0.14s/it, gradient norm=0.0003657898918841107]\n"
     ]
    },
    {
     "name": "stdout",
     "output_type": "stream",
     "text": [
      "alpha=2.806e-01, time=0.49s, n_iter=2\n"
     ]
    },
    {
     "name": "stderr",
     "output_type": "stream",
     "text": [
      "Iteration 1:  80%|█████████████████████████████████████████████████████████████████████████████████████████████████████████████████████████████████████████▋                                 | 1.61/2.0 [0.15s/it, gradient norm=0.00024577201512876554]\n"
     ]
    },
    {
     "name": "stdout",
     "output_type": "stream",
     "text": [
      "alpha=2.356e-01, time=0.38s, n_iter=2\n"
     ]
    },
    {
     "name": "stderr",
     "output_type": "stream",
     "text": [
      "Iteration 1:  88%|████████████████████████████████████████████████████████████████████████████████████████████████████████████████████████████████████████████████████████▏                   | 1.77/2.0 [0.29s/it, gradient norm=0.0001686540082968418]\n"
     ]
    },
    {
     "name": "stdout",
     "output_type": "stream",
     "text": [
      "alpha=1.978e-01, time=0.52s, n_iter=2\n"
     ]
    },
    {
     "name": "stderr",
     "output_type": "stream",
     "text": [
      "Iteration 1:  96%|█████████████████████████████████████████████████████████████████████████████████████████████████████████████████████████████████████████████████████████████████████      | 1.93/2.0 [0.16s/it, gradient norm=0.00011848276287617573]\n"
     ]
    },
    {
     "name": "stdout",
     "output_type": "stream",
     "text": [
      "alpha=1.660e-01, time=0.47s, n_iter=2\n"
     ]
    },
    {
     "name": "stderr",
     "output_type": "stream",
     "text": [
      "Iteration 0:  36%|█████████████████████████████████████████████████████████████▉                                                                                                              | 0.72/2.0 [0.07s/it, gradient norm=0.0019265232860697411]\n"
     ]
    },
    {
     "name": "stdout",
     "output_type": "stream",
     "text": [
      "alpha=1.394e-01, time=0.23s, n_iter=1\n"
     ]
    },
    {
     "name": "stderr",
     "output_type": "stream",
     "text": [
      "Iteration 0:  40%|████████████████████████████████████████████████████████████████████▎                                                                                                        | 0.79/2.0 [0.10s/it, gradient norm=0.001608193957932946]\n"
     ]
    },
    {
     "name": "stdout",
     "output_type": "stream",
     "text": [
      "alpha=1.170e-01, time=0.36s, n_iter=1\n"
     ]
    },
    {
     "name": "stderr",
     "output_type": "stream",
     "text": [
      "Iteration 0:  43%|██████████████████████████████████████████████████████████████████████████▍                                                                                                  | 0.86/2.0 [0.09s/it, gradient norm=0.001384785893746907]\n"
     ]
    },
    {
     "name": "stdout",
     "output_type": "stream",
     "text": [
      "alpha=9.826e-02, time=0.25s, n_iter=1\n"
     ]
    },
    {
     "name": "stderr",
     "output_type": "stream",
     "text": [
      "Iteration 0:  47%|████████████████████████████████████████████████████████████████████████████████▊                                                                                           | 0.94/2.0 [0.09s/it, gradient norm=0.0011573389724536245]\n"
     ]
    },
    {
     "name": "stdout",
     "output_type": "stream",
     "text": [
      "alpha=8.250e-02, time=0.25s, n_iter=1\n"
     ]
    },
    {
     "name": "stderr",
     "output_type": "stream",
     "text": [
      "Iteration 0:   1%|█▋                                                                                                                                                                          | 0.01/1.0 [0.09s/it, gradient norm=0.0009683110660325098]\n"
     ]
    },
    {
     "name": "stdout",
     "output_type": "stream",
     "text": [
      "alpha=6.926e-02, time=0.25s, n_iter=1\n"
     ]
    },
    {
     "name": "stderr",
     "output_type": "stream",
     "text": [
      "Iteration 3:  71%|██████████████████████████████████████████████████████████████████████████████████████████████████████████████████████████                                                  | 2.13/3.0 [0.10s/it, gradient norm=0.0007498471399456418]\n"
     ]
    },
    {
     "name": "stdout",
     "output_type": "stream",
     "text": [
      "Claim Frequency LASSO(+DrivAge poly), Test (Actual/Pred): 7.38% / 7.36%\n",
      "Poisson Deviance LASSO(+DrivAge poly), Test: 29.97%\n",
      "alpha* = 0.06926091969209731 | non-zero (ohne Intercept): 4\n"
     ]
    }
   ],
   "source": [
    "from glum import GeneralizedLinearRegressorCV\n",
    "from metrics import pdw, cf2\n",
    "\n",
    "lasso_cv = GeneralizedLinearRegressorCV(\n",
    "    family=\"poisson\", l1_ratio=1.0, cv=5, n_alphas=80, random_state=42, verbose=1\n",
    ").fit(X_learn, y_learn, sample_weight=w_learn)\n",
    "\n",
    "rate_test = lasso_cv.predict(X_test)      # erwartete Rate\n",
    "pred_cnt  = rate_test * w_test            # erwartete Counts\n",
    "\n",
    "print(cf2(\"Claim Frequency LASSO(+DrivAge poly), Test (Actual/Pred)\",\n",
    "          y_test, w_test, pred_cnt, w_test))\n",
    "print(f\"Poisson Deviance LASSO(+DrivAge poly), Test: {pdw(pred_cnt, y_test, w_test):.2f}%\")\n",
    "\n",
    "nnz = int(np.sum(np.abs(np.asarray(lasso_cv.coef_, float)) > 0))\n",
    "print(\"alpha* =\", lasso_cv.alpha_, \"| non-zero (ohne Intercept):\", nnz)\n"
   ]
  },
  {
   "cell_type": "code",
   "execution_count": 19,
   "id": "e55de446-40d5-4d31-8d27-1cd3bbf9c27b",
   "metadata": {},
   "outputs": [],
   "source": [
    "learn = df_glm[df_glm[\"fold\"] != 5].copy()\n",
    "test  = df_glm[df_glm[\"fold\"] == 5].copy()\n",
    "\n",
    "# 2) Kategorien auf BASIS df_glm (nicht df!) harmonisieren\n",
    "cat_cols = [\"VehPowerGLM\",\"VehAgeGLM\",\"DrivAgeGLM\",\"VehBrand\",\"VehGas\",\"Region\"]\n",
    "missing = [c for c in cat_cols + [\"AreaGLM\",\"BonusMalusGLM\",\"DensityGLM\",\"VehAge\",\"DrivAge\"] if c not in df_glm.columns]\n",
    "assert not missing, f\"Fehlende Spalten in df_glm: {missing}\"\n",
    "\n",
    "for c in cat_cols:\n",
    "    cats = sorted(df_glm[c].astype(\"category\").cat.categories)\n",
    "    learn[c] = learn[c].astype(pd.CategoricalDtype(categories=cats))\n",
    "    test[c]  = test[c].astype(pd.CategoricalDtype(categories=cats))\n",
    "\n",
    "# 3) Designmatrix-Funktion auf df_glm-Spalten\n",
    "def make_X(part: pd.DataFrame) -> np.ndarray:\n",
    "    return np.column_stack([\n",
    "        part[\"VehAge\"].astype(float).to_numpy(),           # 0: s(VehAge)\n",
    "        part[\"DrivAge\"].astype(float).to_numpy(),          # 1: s(DrivAge)\n",
    "        part[\"BonusMalusGLM\"].astype(float).to_numpy(),    # 2: s(BonusMalusGLM)\n",
    "        part[\"VehPowerGLM\"].cat.codes.to_numpy(),          # 3: f(VehPowerGLM)\n",
    "        part[\"VehGas\"].cat.codes.to_numpy(),               # 4: f(VehGas)\n",
    "        part[\"VehBrand\"].cat.codes.to_numpy(),             # 5: f(VehBrand)\n",
    "        part[\"Region\"].cat.codes.to_numpy(),               # 6: f(Region)\n",
    "        part[\"AreaGLM\"].astype(float).to_numpy(),          # 7: l(AreaGLM)\n",
    "        part[\"DensityGLM\"].astype(float).to_numpy(),       # 8: l(DensityGLM)\n",
    "    ])\n",
    "\n",
    "X_learn = make_X(learn)\n",
    "X_test  = make_X(test)\n",
    "\n",
    "# 4) Ziel & Gewichte (Offset-äquivalent)\n",
    "y_learn = (learn[\"ClaimNb\"] / learn[\"Exposure\"]).to_numpy()\n",
    "w_learn = learn[\"Exposure\"].to_numpy()\n",
    "y_test_counts = test[\"ClaimNb\"].to_numpy()\n",
    "w_test = test[\"Exposure\"].to_numpy()"
   ]
  },
  {
   "cell_type": "code",
   "execution_count": 20,
   "id": "860074c7-3172-47a6-9abc-2c964affe743",
   "metadata": {},
   "outputs": [
    {
     "name": "stderr",
     "output_type": "stream",
     "text": [
      "/home/stephan/projects/freMTPL2sev-pricing/.venv/lib/python3.11/site-packages/pygam/utils.py:77: UserWarning: Could not import Scikit-Sparse or Suite-Sparse.\n",
      "This will slow down optimization for models with monotonicity/convexity penalties and many splines.\n",
      "See installation instructions for installing Scikit-Sparse and Suite-Sparse via Conda.\n",
      "  warnings.warn(msg)\n"
     ]
    }
   ],
   "source": [
    "from pygam import PoissonGAM, s, f, l\n",
    "\n",
    "terms = (\n",
    "    s(0) + s(1) + s(2) +      # VehAge, DrivAge, BonusMalusGLM\n",
    "    f(3) + f(4) + f(5) + f(6) # VehPowerGLM, VehGas, VehBrand, Region\n",
    "    + l(7) + l(8)             # AreaGLM, DensityGLM\n",
    ")\n",
    "\n",
    "gam = PoissonGAM(terms, verbose=True)\n",
    "# Wichtig: wir fitten auf die RATE und geben Exposure als weights mit (Offset-Äquivalenz)\n",
    "gam.fit(X_learn, y_learn, weights=w_learn)\n",
    "\n",
    "# Vorhersage der RATE auf Test, dann zurück zu Counts\n",
    "rate_test = gam.predict(X_test)        # E[Rate]\n",
    "pred_counts = rate_test * w_test       # E[ClaimNb]\n"
   ]
  },
  {
   "cell_type": "code",
   "execution_count": 21,
   "id": "3e238436-a070-4a48-85cd-01e6818b7ceb",
   "metadata": {},
   "outputs": [
    {
     "name": "stdout",
     "output_type": "stream",
     "text": [
      "Claim Frequency GAM, Test (Actual/Predicted): 7.38% / 7.36%\n",
      "Poisson Deviance GAM, Test: 29.16%\n"
     ]
    },
    {
     "name": "stderr",
     "output_type": "stream",
     "text": [
      "/tmp/ipykernel_55917/3271952469.py:11: FutureWarning: The default of observed=False is deprecated and will be changed to True in a future version of pandas. Pass observed=False to retain current behavior or observed=True to adopt the future default and silence this warning.\n",
      "  .groupby(\"dec\")\n"
     ]
    },
    {
     "data": {
      "image/png": "[encoded data removed]",
      "text/plain": [
       "<Figure size 640x480 with 1 Axes>"
      ]
     },
     "metadata": {},
     "output_type": "display_data"
    }
   ],
   "source": [
    "import numpy as np, pandas as pd, matplotlib.pyplot as plt\n",
    "\n",
    "print(cf2(\"Claim Frequency GAM, Test (Actual/Predicted)\",\n",
    "          y_test_counts, w_test, pred_counts, w_test))\n",
    "print(f\"Poisson Deviance GAM, Test: {pdw(pred_counts, y_test_counts, w_test):.2f}%\")\n",
    "\n",
    "# Optional: Reliability / Dezile\n",
    "pred_rate = pred_counts / w_test\n",
    "dec = pd.qcut(pred_rate, q=10, duplicates=\"drop\")\n",
    "cal = (pd.DataFrame({\"dec\":dec, \"expo\":w_test, \"claims\":y_test_counts, \"pred\":pred_counts})\n",
    "       .groupby(\"dec\")\n",
    "       .agg(expo=(\"expo\",\"sum\"), claims=(\"claims\",\"sum\"), pred=(\"pred\",\"sum\"))\n",
    "       .assign(obs_rate=lambda d: d[\"claims\"]/d[\"expo\"],\n",
    "               pred_rate=lambda d: d[\"pred\"]/d[\"expo\"])\n",
    "       .reset_index())\n",
    "\n",
    "plt.figure()\n",
    "plt.plot(range(1, len(cal)+1), cal[\"obs_rate\"], marker=\"o\", label=\"Observed\")\n",
    "plt.plot(range(1, len(cal)+1), cal[\"pred_rate\"], marker=\"s\", label=\"Predicted\")\n",
    "plt.xlabel(\"Decile of predicted rate (low → high)\")\n",
    "plt.ylabel(\"Claim rate\")\n",
    "plt.title(\"Calibration — Poisson GAM (Test)\")\n",
    "plt.legend(); plt.tight_layout(); plt.show()\n"
   ]
  },
  {
   "cell_type": "code",
   "execution_count": 22,
   "id": "7d7f081e-4b8e-40c5-8690-1d58bc42becd",
   "metadata": {},
   "outputs": [
    {
     "name": "stdout",
     "output_type": "stream",
     "text": [
      "Overall freq (dein aktuelles Target): 0.07368\n"
     ]
    }
   ],
   "source": [
    "import pandas as pd, numpy as np\n",
    "\n",
    "df = pd.read_parquet(\"../data/work/freMTPL2_joined_capped.parquet\")\n",
    "overall = df[\"ClaimNb\"].sum()/df[\"Exposure\"].sum()\n",
    "print(f\"Overall freq (dein aktuelles Target): {overall:.5f}\")  # ~0.1006?\n"
   ]
  },
  {
   "cell_type": "code",
   "execution_count": null,
   "id": "e4541ed8-1788-4427-bc77-c6c1f9680072",
   "metadata": {},
   "outputs": [],
   "source": [
    "# 1) Severity laden (Rohdaten; passe Pfad/Name ggf. an)\n",
    "sev = pd.read_csv(\"../data/raw/freMTPL2sev.csv\")  # hat mind.: IDpol, ClaimAmount\n",
    "# 2) pro Police Anzahl Schäden (Zeilen) zählen\n",
    "sev_agg = sev.groupby(\"IDpol\", as_index=False).size().rename(columns={\"size\":\"ClaimNb\"})\n",
    "# 3) Frequenzdaten laden\n",
    "freq = pd.read_csv(\"../data/raw/freMTPL2freq.csv\")\n",
    "# 4) Left join: alte ClaimNb aus freq verwerfen & durch sev-Counts ersetzen\n",
    "freq_wo_claim = freq.drop(columns=[\"ClaimNb\"])\n",
    "dat = freq_wo_claim.merge(sev_agg, on=\"IDpol\", how=\"left\")\n",
    "dat[\"ClaimNb\"] = dat[\"ClaimNb\"].fillna(0).astype(int)\n",
    "\n",
    "# 5) Kappungen wie Schelldorfer & Wüthrich (nach dem Join!)\n",
    "dat[\"ClaimNb\"]   = np.minimum(dat[\"ClaimNb\"], 4)\n",
    "dat[\"Exposure\"]  = np.minimum(dat[\"Exposure\"], 1.0)\n",
    "dat[\"DrivAge\"]   = np.minimum(dat[\"DrivAge\"], 90)\n",
    "dat[\"VehAge\"]    = np.minimum(dat[\"VehAge\"], 40)\n",
    "\n",
    "# Kontrolle: neues Frequenzniveau\n",
    "overall_new = dat[\"ClaimNb\"].sum()/dat[\"Exposure\"].sum()\n",
    "print(f\"Overall freq (Severity-Target): {overall_new:.5f}\")   # erwartung ~0.0738\n",
    "dat.to_parquet(\"../data/work/freMTPL2_joined_capped_from_sev.parquet\", index=False)\n"
   ]
  },
  {
   "cell_type": "code",
   "execution_count": null,
   "id": "d1cc4121-c223-430e-8ce6-d12667917ca4",
   "metadata": {},
   "outputs": [],
   "source": [
    "rng = np.random.RandomState(42)\n",
    "dat = pd.read_parquet(\"../data/work/freMTPL2_joined_capped_from_sev.parquet\").copy()\n",
    "dat[\"fold\"] = rng.randint(1, 6, size=len(dat))  # 1..5\n",
    "\n",
    "learn = dat[dat[\"fold\"] != 5].copy()\n",
    "test  = dat[dat[\"fold\"] == 5].copy()\n",
    "\n",
    "# INT: cf = Sum(ClaimNb)/Sum(Exposure) auf Learn\n",
    "cf = learn[\"ClaimNb\"].sum()/learn[\"Exposure\"].sum()\n",
    "pred_int_test = cf * test[\"Exposure\"]\n",
    "\n",
    "# PDW exakt wie R\n",
    "def pdw(pred, obs, ex):\n",
    "    pred = np.clip(np.asarray(pred, float), 1e-12, None)\n",
    "    obs  = np.asarray(obs, float)\n",
    "    ex   = np.asarray(ex, float)\n",
    "    term = pred - obs\n",
    "    mask = obs > 0\n",
    "    term[mask] += obs[mask] * np.log(obs[mask]/pred[mask])\n",
    "    return 200.0 * np.sum(ex * term) / np.sum(ex)\n",
    "\n",
    "print(f\"INT PDW(Test): {pdw(pred_int_test, test['ClaimNb'], test['Exposure']):.2f}%\")  # ~31%\n"
   ]
  }
 ],
 "metadata": {
  "kernelspec": {
   "display_name": "Python 3 (ipykernel)",
   "language": "python",
   "name": "python3"
  },
  "language_info": {
   "codemirror_mode": {
    "name": "ipython",
    "version": 3
   },
   "file_extension": ".py",
   "mimetype": "text/x-python",
   "name": "python",
   "nbconvert_exporter": "python",
   "pygments_lexer": "ipython3",
   "version": "3.11.13"
  }
 },
 "nbformat": 4,
 "nbformat_minor": 5
}
