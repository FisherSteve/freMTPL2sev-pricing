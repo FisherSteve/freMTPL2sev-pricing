{
 "cells": [
  {
   "cell_type": "code",
   "execution_count": 21,
   "id": "5d15ed5c-6917-461a-8979-cc4a0b9dc83b",
   "metadata": {},
   "outputs": [
    {
     "name": "stdout",
     "output_type": "stream",
     "text": [
      "   VehAge VehAgeGLM  DrivAge DrivAgeGLM  VehPower VehPowerGLM  BonusMalus  \\\n",
      "0       0         1       55          6         5           5          50   \n",
      "1       0         1       55          6         5           5          50   \n",
      "2       2         2       52          6         6           6          50   \n",
      "3       0         1       46          5         7           7          50   \n",
      "4       0         1       46          5         7           7          50   \n",
      "5       2         2       38          4         6           6          50   \n",
      "6       2         2       38          4         6           6          50   \n",
      "7       0         1       33          4         7           7          68   \n",
      "\n",
      "   BonusMalusGLM  DensityGLM                Region  \n",
      "0             50    7.104144           Rhone-Alpes  \n",
      "1             50    7.104144           Rhone-Alpes  \n",
      "2             50    3.988984              Picardie  \n",
      "3             50    4.330733             Aquitaine  \n",
      "4             50    4.330733             Aquitaine  \n",
      "5             50    8.007367    Nord-Pas-de-Calais  \n",
      "6             50    8.007367    Nord-Pas-de-Calais  \n",
      "7             68    4.919981  Languedoc-Roussillon  \n",
      "Saved ../data/work/freMTPL2_glm_ready.parquet rows: 678013\n"
     ]
    }
   ],
   "source": [
    "import sys, os\n",
    "sys.path.append(os.path.abspath(os.path.join(os.getcwd(), \"..\", \"src\")))\n",
    "from features_glm import build_glm_features\n",
    "\n",
    "df = pd.read_parquet(\"../data/work/freMTPL2_joined_capped.parquet\")\n",
    "df_glm = build_glm_features(df)\n",
    "\n",
    "# sanity check\n",
    "cols = [\"VehAge\",\"VehAgeGLM\",\"DrivAge\",\"DrivAgeGLM\",\"VehPower\",\"VehPowerGLM\",\"BonusMalus\",\"BonusMalusGLM\",\"DensityGLM\",\"Region\"]\n",
    "print(df_glm[cols].head(8))\n",
    "\n",
    "\n",
    "\n",
    "out = \"../data/work/freMTPL2_glm_ready.parquet\"\n",
    "df_glm.to_parquet(out, index=False)\n",
    "print(\"Saved\", out, \"rows:\", len(df_glm))\n"
   ]
  },
  {
   "cell_type": "code",
   "execution_count": 22,
   "id": "15a34ac7-4411-46aa-bd6a-afefaf944473",
   "metadata": {},
   "outputs": [
    {
     "name": "stdout",
     "output_type": "stream",
     "text": [
      "Overall freq: 0.10061\n",
      "Baseline (größte Exposure): Centre\n",
      "Baseline (freq ~ overall): Franche-Comte\n"
     ]
    }
   ],
   "source": [
    "# Laden\n",
    "df_glm = pd.read_parquet(\"../data/work/freMTPL2_glm_ready.parquet\").copy()\n",
    "\n",
    "# Region als Kategorie \n",
    "df_glm[\"Region\"] = df_glm[\"Region\"].astype(\"category\")\n",
    "\n",
    "# Overall-Frequenz\n",
    "overall_freq = df_glm[\"ClaimNb\"].sum() / df_glm[\"Exposure\"].sum()\n",
    "\n",
    "# Kennzahlen je Region\n",
    "reg = (df_glm.groupby(\"Region\", observed=False)\n",
    "       .agg(expo=(\"Exposure\",\"sum\"), claims=(\"ClaimNb\",\"sum\"))\n",
    "       .assign(freq=lambda x: x[\"claims\"] / x[\"expo\"])\n",
    "       .sort_values(\"expo\", ascending=False))\n",
    "\n",
    "# Zwei Kandidaten:\n",
    "baseline_by_expo = reg.index[0]  # größte Exposure\n",
    "baseline_by_overall = (reg.iloc[(reg[\"freq\"] - overall_freq).abs().argmin()].name)\n",
    "\n",
    "print(\"Overall freq:\", round(overall_freq, 5))\n",
    "print(\"Baseline (größte Exposure):\", baseline_by_expo)\n",
    "print(\"Baseline (freq ~ overall):\", baseline_by_overall)\n",
    "\n",
    "\n",
    "baseline_region = baseline_by_expo\n",
    "\n",
    "\n",
    "#cats = [baseline_region] + [c for c in df_glm[\"Region\"].cat.categories if c != baseline_region]\n",
    "#df_glm[\"Region\"] = df_glm[\"Region\"].cat.reorder_categories(cats, ordered=True)"
   ]
  },
  {
   "cell_type": "code",
   "execution_count": 28,
   "id": "9ee7704e-e0e8-41d8-8ae9-4ce8559327b9",
   "metadata": {},
   "outputs": [
    {
     "name": "stdout",
     "output_type": "stream",
     "text": [
      "Claim Frequency (Actual) Learn/Test: 10.07% / 10.03%\n",
      "Poisson Deviance INT, Learn/Test: 36.92% / 36.90%\n"
     ]
    }
   ],
   "source": [
    "from metrics import pdw, pdw2, cf2, make_folds\n",
    "\n",
    "import pandas as pd, numpy as np\n",
    "\n",
    "df = pd.read_parquet(\"../data/work/freMTPL2_glm_ready.parquet\").copy()\n",
    "df[\"fold\"] = make_folds(len(df), k=5, seed=42)\n",
    "learn, test = df[df[\"fold\"]!=5], df[df[\"fold\"]==5]\n",
    "\n",
    "print(cf2(\"Claim Frequency (Actual) Learn/Test\",\n",
    "          learn[\"ClaimNb\"], learn[\"Exposure\"],\n",
    "          test[\"ClaimNb\"],  test[\"Exposure\"]))\n",
    "\n",
    "cf = learn[\"ClaimNb\"].sum() / learn[\"Exposure\"].sum()\n",
    "learn_pred = cf * learn[\"Exposure\"]\n",
    "test_pred  = cf * test[\"Exposure\"]\n",
    "\n",
    "print(pdw2(\"Poisson Deviance INT\",\n",
    "           learn_pred, learn[\"ClaimNb\"], learn[\"Exposure\"],\n",
    "           test_pred,  test[\"ClaimNb\"],  test[\"Exposure\"]))\n"
   ]
  }
 ],
 "metadata": {
  "kernelspec": {
   "display_name": "Python 3 (ipykernel)",
   "language": "python",
   "name": "python3"
  },
  "language_info": {
   "codemirror_mode": {
    "name": "ipython",
    "version": 3
   },
   "file_extension": ".py",
   "mimetype": "text/x-python",
   "name": "python",
   "nbconvert_exporter": "python",
   "pygments_lexer": "ipython3",
   "version": "3.11.13"
  }
 },
 "nbformat": 4,
 "nbformat_minor": 5
}
